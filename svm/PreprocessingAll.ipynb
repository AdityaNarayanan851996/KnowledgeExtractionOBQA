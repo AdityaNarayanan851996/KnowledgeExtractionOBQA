{
 "cells": [
  {
   "cell_type": "code",
   "execution_count": 1,
   "metadata": {},
   "outputs": [],
   "source": [
    "import pandas as pd\n",
    "import numpy as np\n",
    "import matplotlib.pyplot as plt\n",
    "import json\n",
    "import pickle\n",
    "import joblib\n",
    "import time\n",
    "np.random.seed(42)"
   ]
  },
  {
   "cell_type": "code",
   "execution_count": 2,
   "metadata": {},
   "outputs": [],
   "source": [
    "path = \"/scratch/pbanerj6/sml-dataset/\""
   ]
  },
  {
   "cell_type": "code",
   "execution_count": 3,
   "metadata": {},
   "outputs": [],
   "source": [
    "def load_all(fname):\n",
    "    return joblib.load(fname)\n",
    "\n",
    "X_train_all = load_all(path+\"X_train_all.jblib\")\n",
    "X_val_all = load_all(path+\"X_val_all.jblib\")"
   ]
  },
  {
   "cell_type": "code",
   "execution_count": 4,
   "metadata": {},
   "outputs": [],
   "source": [
    "def load_y(fname):\n",
    "    return np.array(pickle.load(open(fname,\"rb\")))\n",
    "\n",
    "y_train = load_y(path+\"y_train.p\")\n",
    "y_val = load_y(path+\"y_val.p\")"
   ]
  },
  {
   "cell_type": "code",
   "execution_count": 5,
   "metadata": {},
   "outputs": [
    {
     "name": "stdout",
     "output_type": "stream",
     "text": [
      "(25344,)\n",
      "(75000, 25344)\n",
      "[ 1.423734 -0.114695 -0.154449 ...  0.        0.        0.      ]\n",
      "29.085083000000004\n",
      "(25344,)\n",
      "(15000, 25344)\n",
      "[ 0.372583 -1.620609  0.19897  ...  0.        0.        0.      ]\n",
      "29.021265\n"
     ]
    }
   ],
   "source": [
    "print (X_train_all[0].shape)\n",
    "print (X_train_all.shape)\n",
    "print (X_train_all[0])\n",
    "print (max(X_train_all[0]))\n",
    "print (X_val_all[0].shape)\n",
    "print (X_val_all.shape)\n",
    "print (X_val_all[0])\n",
    "print (max(X_val_all[0]))"
   ]
  },
  {
   "cell_type": "code",
   "execution_count": 6,
   "metadata": {},
   "outputs": [
    {
     "name": "stdout",
     "output_type": "stream",
     "text": [
      "Scaling Time: 49.07784366607666\n"
     ]
    }
   ],
   "source": [
    "from sklearn.preprocessing import StandardScaler\n",
    "stime = time.time()\n",
    "scaler = StandardScaler(with_mean=False)\n",
    "scaler.fit(X_train_all)\n",
    "X_train_all_s = scaler.transform(X_train_all)\n",
    "print (\"Scaling Time:\",time.time()-stime)"
   ]
  },
  {
   "cell_type": "code",
   "execution_count": 7,
   "metadata": {},
   "outputs": [
    {
     "name": "stdout",
     "output_type": "stream",
     "text": [
      "[ 2.89146681 -1.24230527  2.11252221 ...  0.          0.\n",
      "  0.        ]\n"
     ]
    }
   ],
   "source": [
    "print(X_train_all_s[1])"
   ]
  },
  {
   "cell_type": "code",
   "execution_count": 8,
   "metadata": {},
   "outputs": [],
   "source": [
    "from sklearn.decomposition import PCA\n",
    "n_pca_components = 6000\n",
    "pca = PCA(n_components=n_pca_components)"
   ]
  },
  {
   "cell_type": "code",
   "execution_count": 9,
   "metadata": {},
   "outputs": [
    {
     "name": "stdout",
     "output_type": "stream",
     "text": [
      "Train PCA Transform Time: 1525.8349928855896\n"
     ]
    }
   ],
   "source": [
    "stime = time.time()\n",
    "pca.fit(X_train_all_s)\n",
    "X_train_all_f = pca.transform(X_train_all_s)\n",
    "print  (\"Train PCA Transform Time:\",time.time()- stime)"
   ]
  },
  {
   "cell_type": "code",
   "execution_count": 10,
   "metadata": {},
   "outputs": [
    {
     "name": "stdout",
     "output_type": "stream",
     "text": [
      "[0.0556439  0.07233111 0.08771389 ... 0.90025426 0.9002738  0.90029332]\n"
     ]
    }
   ],
   "source": [
    "# print (pca.explained_variance_)\n",
    "# print (pca.explained_variance_ratio_)\n",
    "print (pca.explained_variance_ratio_.cumsum())"
   ]
  },
  {
   "cell_type": "code",
   "execution_count": 11,
   "metadata": {},
   "outputs": [
    {
     "name": "stdout",
     "output_type": "stream",
     "text": [
      "Val PCA Transform Time: 16.823256731033325\n"
     ]
    }
   ],
   "source": [
    "stime = time.time()\n",
    "X_val_all_s = scaler.transform(X_val_all)\n",
    "X_val_all_f = pca.transform(X_val_all_s)\n",
    "print  (\"Val PCA Transform Time:\",time.time()- stime)"
   ]
  },
  {
   "cell_type": "code",
   "execution_count": 12,
   "metadata": {},
   "outputs": [
    {
     "name": "stdout",
     "output_type": "stream",
     "text": [
      "(75000, 6000)\n",
      "(15000, 6000)\n",
      "(75000, 25344)\n",
      "(15000, 25344)\n"
     ]
    }
   ],
   "source": [
    "print (X_train_all_f.shape)\n",
    "print (X_val_all_f.shape)\n",
    "print (X_train_all_s.shape)\n",
    "print (X_val_all_s.shape)"
   ]
  },
  {
   "cell_type": "code",
   "execution_count": 13,
   "metadata": {},
   "outputs": [],
   "source": [
    "X_test_all = load_all(path+\"X_test_all.jblib\")\n",
    "y_test = load_y(path+\"y_test.p\")"
   ]
  },
  {
   "cell_type": "code",
   "execution_count": 14,
   "metadata": {},
   "outputs": [
    {
     "name": "stdout",
     "output_type": "stream",
     "text": [
      "Test PCA Transform Time: 17.070120334625244\n"
     ]
    }
   ],
   "source": [
    "stime = time.time()\n",
    "X_test_all_s = scaler.transform(X_test_all)\n",
    "X_test_all_f = pca.transform(X_test_all_s)\n",
    "print  (\"Test PCA Transform Time:\",time.time()- stime)"
   ]
  },
  {
   "cell_type": "code",
   "execution_count": 15,
   "metadata": {},
   "outputs": [],
   "source": [
    "with open('X_train_all_90.pkl','wb') as f:\n",
    "    pickle.dump(X_train_all_f, f)\n",
    "with open('X_test_all_90.pkl','wb') as f:\n",
    "    pickle.dump(X_test_all_f, f)\n",
    "with open('X_val_all_90.pkl','wb') as f:\n",
    "    pickle.dump(X_val_all_f, f)"
   ]
  },
  {
   "cell_type": "code",
   "execution_count": 16,
   "metadata": {},
   "outputs": [
    {
     "name": "stdout",
     "output_type": "stream",
     "text": [
      "(75000, 6000)\n"
     ]
    }
   ],
   "source": [
    "with open('X_train_all_90.pkl','rb') as f:\n",
    "    x = pickle.load(f)\n",
    "print (x.shape)"
   ]
  },
  {
   "cell_type": "code",
   "execution_count": 17,
   "metadata": {},
   "outputs": [
    {
     "name": "stdout",
     "output_type": "stream",
     "text": [
      "[[ 9.30213571e+00 -3.06563596e+01  2.24770751e+00 ...  9.95856520e-01\n",
      "   9.85469313e-01 -1.90689675e-01]\n",
      " [-2.65332967e+01  2.31557750e+01 -7.18460640e+00 ...  2.71980466e-01\n",
      "  -3.17796058e-02 -6.17022200e-01]\n",
      " [-2.79103498e+01  1.32009915e+01 -2.49362951e+01 ...  5.79407909e-01\n",
      "  -1.94363987e-02  6.49220205e-01]\n",
      " ...\n",
      " [-2.33798523e+01 -2.55154895e+00 -2.13243765e+01 ... -1.55786961e+00\n",
      "  -5.75050224e-02 -2.72268216e-01]\n",
      " [-2.33798523e+01 -2.55154895e+00 -2.13243765e+01 ... -1.55786961e+00\n",
      "  -5.75050224e-02 -2.72268216e-01]\n",
      " [-2.33798523e+01 -2.55154895e+00 -2.13243765e+01 ... -1.55786961e+00\n",
      "  -5.75050224e-02 -2.72268216e-01]]\n"
     ]
    }
   ],
   "source": [
    "print (x)"
   ]
  },
  {
   "cell_type": "code",
   "execution_count": null,
   "metadata": {},
   "outputs": [],
   "source": []
  }
 ],
 "metadata": {
  "kernelspec": {
   "display_name": "Python 3",
   "language": "python",
   "name": "python3"
  },
  "language_info": {
   "codemirror_mode": {
    "name": "ipython",
    "version": 3
   },
   "file_extension": ".py",
   "mimetype": "text/x-python",
   "name": "python",
   "nbconvert_exporter": "python",
   "pygments_lexer": "ipython3",
   "version": "3.6.7"
  }
 },
 "nbformat": 4,
 "nbformat_minor": 2
}
