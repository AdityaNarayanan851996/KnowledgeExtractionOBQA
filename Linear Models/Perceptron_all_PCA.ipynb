{
 "cells": [
  {
   "cell_type": "code",
   "execution_count": 1,
   "metadata": {},
   "outputs": [],
   "source": [
    "import pandas as pd\n",
    "import numpy as np\n",
    "import matplotlib.pyplot as plt\n",
    "import json\n",
    "import pickle\n",
    "import joblib\n",
    "import time\n",
    "np.random.seed(2)\n"
   ]
  },
  {
   "cell_type": "code",
   "execution_count": 2,
   "metadata": {},
   "outputs": [],
   "source": [
    "def load_all(fname):\n",
    "    return pickle.load(open(fname,\"rb\"))\n",
    "def load_y(fname):\n",
    "    return np.array(pickle.load(open(fname,\"rb\")))"
   ]
  },
  {
   "cell_type": "code",
   "execution_count": 3,
   "metadata": {},
   "outputs": [],
   "source": [
    "#path = \"D:/\"\n",
    "path = \"/scratch/pbanerj6/sml-dataset/\"\n",
    "trainSamples = 75000\n",
    "n_iter = 1000 \n",
    "#n_trainSamples = [100,250,500,750,1000,1250,1500]\n",
    "n_trainSamples = [100,500,1000,10000,20000,50000,75000]"
   ]
  },
  {
   "cell_type": "code",
   "execution_count": 4,
   "metadata": {},
   "outputs": [],
   "source": [
    "X_train_all = load_all(path+\"X_train_all_90.pkl\")[:trainSamples]\n",
    "X_val_all = load_all(path+\"X_val_all_90.pkl\")\n",
    "\n",
    "y_train = load_y(path+\"y_train.p\")[:trainSamples]\n",
    "y_val = load_y(path+\"y_val.p\")"
   ]
  },
  {
   "cell_type": "code",
   "execution_count": 5,
   "metadata": {},
   "outputs": [],
   "source": [
    "from sklearn.linear_model import Perceptron\n",
    "from sklearn.calibration import CalibratedClassifierCV"
   ]
  },
  {
   "cell_type": "code",
   "execution_count": 6,
   "metadata": {},
   "outputs": [],
   "source": [
    "from sklearn.model_selection import GridSearchCV\n",
    "parameters = {\n",
    "     'alpha': [0.001, 0.01, 0.1, 1,0.0001],\n",
    "    'tol': [0.001,0.0001],\n",
    "    'validation_fraction' : [0.05,0.1,0.2],\n",
    " }"
   ]
  },
  {
   "cell_type": "code",
   "execution_count": 12,
   "metadata": {},
   "outputs": [],
   "source": [
    "lr_clf = GridSearchCV(Perceptron(max_iter= n_iter, n_jobs=-1), \n",
    "                      parameters,n_jobs=1, verbose=4, iid=True,cv=5)"
   ]
  },
  {
   "cell_type": "code",
   "execution_count": 13,
   "metadata": {},
   "outputs": [
    {
     "name": "stdout",
     "output_type": "stream",
     "text": [
      "Fitting 5 folds for each of 30 candidates, totalling 150 fits\n",
      "[CV] validation_fraction=0.05, tol=0.001, alpha=0.001 ................\n"
     ]
    },
    {
     "name": "stderr",
     "output_type": "stream",
     "text": [
      "[Parallel(n_jobs=1)]: Using backend SequentialBackend with 1 concurrent workers.\n"
     ]
    },
    {
     "name": "stdout",
     "output_type": "stream",
     "text": [
      "[CV]  validation_fraction=0.05, tol=0.001, alpha=0.001, score=0.6266, total=  13.1s\n",
      "[CV] validation_fraction=0.05, tol=0.001, alpha=0.001 ................\n"
     ]
    },
    {
     "name": "stderr",
     "output_type": "stream",
     "text": [
      "[Parallel(n_jobs=1)]: Done   1 out of   1 | elapsed:   13.5s remaining:    0.0s\n"
     ]
    },
    {
     "name": "stdout",
     "output_type": "stream",
     "text": [
      "[CV]  validation_fraction=0.05, tol=0.001, alpha=0.001, score=0.6155333333333334, total=  13.0s\n",
      "[CV] validation_fraction=0.05, tol=0.001, alpha=0.001 ................\n"
     ]
    },
    {
     "name": "stderr",
     "output_type": "stream",
     "text": [
      "[Parallel(n_jobs=1)]: Done   2 out of   2 | elapsed:   27.0s remaining:    0.0s\n"
     ]
    },
    {
     "name": "stdout",
     "output_type": "stream",
     "text": [
      "[CV]  validation_fraction=0.05, tol=0.001, alpha=0.001, score=0.6362, total=  14.1s\n",
      "[CV] validation_fraction=0.05, tol=0.001, alpha=0.001 ................\n"
     ]
    },
    {
     "name": "stderr",
     "output_type": "stream",
     "text": [
      "[Parallel(n_jobs=1)]: Done   3 out of   3 | elapsed:   41.5s remaining:    0.0s\n"
     ]
    },
    {
     "name": "stdout",
     "output_type": "stream",
     "text": [
      "[CV]  validation_fraction=0.05, tol=0.001, alpha=0.001, score=0.6296, total=   9.4s\n",
      "[CV] validation_fraction=0.05, tol=0.001, alpha=0.001 ................\n",
      "[CV]  validation_fraction=0.05, tol=0.001, alpha=0.001, score=0.615, total=  12.5s\n",
      "[CV] validation_fraction=0.1, tol=0.001, alpha=0.001 .................\n",
      "[CV]  validation_fraction=0.1, tol=0.001, alpha=0.001, score=0.6266, total=  13.1s\n",
      "[CV] validation_fraction=0.1, tol=0.001, alpha=0.001 .................\n",
      "[CV]  validation_fraction=0.1, tol=0.001, alpha=0.001, score=0.6155333333333334, total=  13.0s\n",
      "[CV] validation_fraction=0.1, tol=0.001, alpha=0.001 .................\n",
      "[CV]  validation_fraction=0.1, tol=0.001, alpha=0.001, score=0.6362, total=  14.2s\n",
      "[CV] validation_fraction=0.1, tol=0.001, alpha=0.001 .................\n",
      "[CV]  validation_fraction=0.1, tol=0.001, alpha=0.001, score=0.6296, total=   9.5s\n",
      "[CV] validation_fraction=0.1, tol=0.001, alpha=0.001 .................\n",
      "[CV]  validation_fraction=0.1, tol=0.001, alpha=0.001, score=0.615, total=  14.0s\n",
      "[CV] validation_fraction=0.2, tol=0.001, alpha=0.001 .................\n",
      "[CV]  validation_fraction=0.2, tol=0.001, alpha=0.001, score=0.6266, total=  14.6s\n",
      "[CV] validation_fraction=0.2, tol=0.001, alpha=0.001 .................\n",
      "[CV]  validation_fraction=0.2, tol=0.001, alpha=0.001, score=0.6155333333333334, total=  13.3s\n",
      "[CV] validation_fraction=0.2, tol=0.001, alpha=0.001 .................\n",
      "[CV]  validation_fraction=0.2, tol=0.001, alpha=0.001, score=0.6362, total=  15.6s\n",
      "[CV] validation_fraction=0.2, tol=0.001, alpha=0.001 .................\n",
      "[CV]  validation_fraction=0.2, tol=0.001, alpha=0.001, score=0.6296, total=   9.5s\n",
      "[CV] validation_fraction=0.2, tol=0.001, alpha=0.001 .................\n",
      "[CV]  validation_fraction=0.2, tol=0.001, alpha=0.001, score=0.615, total=  12.5s\n",
      "[CV] validation_fraction=0.05, tol=0.0001, alpha=0.001 ...............\n",
      "[CV]  validation_fraction=0.05, tol=0.0001, alpha=0.001, score=0.6266, total=  13.1s\n",
      "[CV] validation_fraction=0.05, tol=0.0001, alpha=0.001 ...............\n",
      "[CV]  validation_fraction=0.05, tol=0.0001, alpha=0.001, score=0.6155333333333334, total=  13.0s\n",
      "[CV] validation_fraction=0.05, tol=0.0001, alpha=0.001 ...............\n",
      "[CV]  validation_fraction=0.05, tol=0.0001, alpha=0.001, score=0.6362, total=  14.1s\n",
      "[CV] validation_fraction=0.05, tol=0.0001, alpha=0.001 ...............\n",
      "[CV]  validation_fraction=0.05, tol=0.0001, alpha=0.001, score=0.6296, total=   9.4s\n",
      "[CV] validation_fraction=0.05, tol=0.0001, alpha=0.001 ...............\n",
      "[CV]  validation_fraction=0.05, tol=0.0001, alpha=0.001, score=0.615, total=  12.5s\n",
      "[CV] validation_fraction=0.1, tol=0.0001, alpha=0.001 ................\n",
      "[CV]  validation_fraction=0.1, tol=0.0001, alpha=0.001, score=0.6266, total=  13.0s\n",
      "[CV] validation_fraction=0.1, tol=0.0001, alpha=0.001 ................\n",
      "[CV]  validation_fraction=0.1, tol=0.0001, alpha=0.001, score=0.6155333333333334, total=  13.0s\n",
      "[CV] validation_fraction=0.1, tol=0.0001, alpha=0.001 ................\n",
      "[CV]  validation_fraction=0.1, tol=0.0001, alpha=0.001, score=0.6362, total=  14.1s\n",
      "[CV] validation_fraction=0.1, tol=0.0001, alpha=0.001 ................\n",
      "[CV]  validation_fraction=0.1, tol=0.0001, alpha=0.001, score=0.6296, total=   9.4s\n",
      "[CV] validation_fraction=0.1, tol=0.0001, alpha=0.001 ................\n",
      "[CV]  validation_fraction=0.1, tol=0.0001, alpha=0.001, score=0.615, total=  12.5s\n",
      "[CV] validation_fraction=0.2, tol=0.0001, alpha=0.001 ................\n",
      "[CV]  validation_fraction=0.2, tol=0.0001, alpha=0.001, score=0.6266, total=  13.1s\n",
      "[CV] validation_fraction=0.2, tol=0.0001, alpha=0.001 ................\n",
      "[CV]  validation_fraction=0.2, tol=0.0001, alpha=0.001, score=0.6155333333333334, total=  13.0s\n",
      "[CV] validation_fraction=0.2, tol=0.0001, alpha=0.001 ................\n",
      "[CV]  validation_fraction=0.2, tol=0.0001, alpha=0.001, score=0.6362, total=  14.1s\n",
      "[CV] validation_fraction=0.2, tol=0.0001, alpha=0.001 ................\n",
      "[CV]  validation_fraction=0.2, tol=0.0001, alpha=0.001, score=0.6296, total=   9.4s\n",
      "[CV] validation_fraction=0.2, tol=0.0001, alpha=0.001 ................\n",
      "[CV]  validation_fraction=0.2, tol=0.0001, alpha=0.001, score=0.615, total=  12.5s\n",
      "[CV] validation_fraction=0.05, tol=0.001, alpha=0.01 .................\n",
      "[CV]  validation_fraction=0.05, tol=0.001, alpha=0.01, score=0.6266, total=  13.1s\n",
      "[CV] validation_fraction=0.05, tol=0.001, alpha=0.01 .................\n",
      "[CV]  validation_fraction=0.05, tol=0.001, alpha=0.01, score=0.6155333333333334, total=  13.2s\n",
      "[CV] validation_fraction=0.05, tol=0.001, alpha=0.01 .................\n",
      "[CV]  validation_fraction=0.05, tol=0.001, alpha=0.01, score=0.6362, total=  15.4s\n",
      "[CV] validation_fraction=0.05, tol=0.001, alpha=0.01 .................\n",
      "[CV]  validation_fraction=0.05, tol=0.001, alpha=0.01, score=0.6296, total=   9.5s\n",
      "[CV] validation_fraction=0.05, tol=0.001, alpha=0.01 .................\n",
      "[CV]  validation_fraction=0.05, tol=0.001, alpha=0.01, score=0.615, total=  12.5s\n",
      "[CV] validation_fraction=0.1, tol=0.001, alpha=0.01 ..................\n",
      "[CV]  validation_fraction=0.1, tol=0.001, alpha=0.01, score=0.6266, total=  13.1s\n",
      "[CV] validation_fraction=0.1, tol=0.001, alpha=0.01 ..................\n",
      "[CV]  validation_fraction=0.1, tol=0.001, alpha=0.01, score=0.6155333333333334, total=  13.1s\n",
      "[CV] validation_fraction=0.1, tol=0.001, alpha=0.01 ..................\n",
      "[CV]  validation_fraction=0.1, tol=0.001, alpha=0.01, score=0.6362, total=  14.1s\n",
      "[CV] validation_fraction=0.1, tol=0.001, alpha=0.01 ..................\n",
      "[CV]  validation_fraction=0.1, tol=0.001, alpha=0.01, score=0.6296, total=   9.4s\n",
      "[CV] validation_fraction=0.1, tol=0.001, alpha=0.01 ..................\n",
      "[CV]  validation_fraction=0.1, tol=0.001, alpha=0.01, score=0.615, total=  12.5s\n",
      "[CV] validation_fraction=0.2, tol=0.001, alpha=0.01 ..................\n",
      "[CV]  validation_fraction=0.2, tol=0.001, alpha=0.01, score=0.6266, total=  13.1s\n",
      "[CV] validation_fraction=0.2, tol=0.001, alpha=0.01 ..................\n",
      "[CV]  validation_fraction=0.2, tol=0.001, alpha=0.01, score=0.6155333333333334, total=  14.8s\n",
      "[CV] validation_fraction=0.2, tol=0.001, alpha=0.01 ..................\n",
      "[CV]  validation_fraction=0.2, tol=0.001, alpha=0.01, score=0.6362, total=  14.3s\n",
      "[CV] validation_fraction=0.2, tol=0.001, alpha=0.01 ..................\n",
      "[CV]  validation_fraction=0.2, tol=0.001, alpha=0.01, score=0.6296, total=   9.5s\n",
      "[CV] validation_fraction=0.2, tol=0.001, alpha=0.01 ..................\n",
      "[CV]  validation_fraction=0.2, tol=0.001, alpha=0.01, score=0.615, total=  12.7s\n",
      "[CV] validation_fraction=0.05, tol=0.0001, alpha=0.01 ................\n",
      "[CV]  validation_fraction=0.05, tol=0.0001, alpha=0.01, score=0.6266, total=  13.3s\n",
      "[CV] validation_fraction=0.05, tol=0.0001, alpha=0.01 ................\n",
      "[CV]  validation_fraction=0.05, tol=0.0001, alpha=0.01, score=0.6155333333333334, total=  13.2s\n",
      "[CV] validation_fraction=0.05, tol=0.0001, alpha=0.01 ................\n",
      "[CV]  validation_fraction=0.05, tol=0.0001, alpha=0.01, score=0.6362, total=  14.3s\n",
      "[CV] validation_fraction=0.05, tol=0.0001, alpha=0.01 ................\n",
      "[CV]  validation_fraction=0.05, tol=0.0001, alpha=0.01, score=0.6296, total=   9.5s\n",
      "[CV] validation_fraction=0.05, tol=0.0001, alpha=0.01 ................\n",
      "[CV]  validation_fraction=0.05, tol=0.0001, alpha=0.01, score=0.615, total=  12.7s\n",
      "[CV] validation_fraction=0.1, tol=0.0001, alpha=0.01 .................\n",
      "[CV]  validation_fraction=0.1, tol=0.0001, alpha=0.01, score=0.6266, total=  13.3s\n",
      "[CV] validation_fraction=0.1, tol=0.0001, alpha=0.01 .................\n",
      "[CV]  validation_fraction=0.1, tol=0.0001, alpha=0.01, score=0.6155333333333334, total=  13.2s\n",
      "[CV] validation_fraction=0.1, tol=0.0001, alpha=0.01 .................\n",
      "[CV]  validation_fraction=0.1, tol=0.0001, alpha=0.01, score=0.6362, total=  14.3s\n",
      "[CV] validation_fraction=0.1, tol=0.0001, alpha=0.01 .................\n",
      "[CV]  validation_fraction=0.1, tol=0.0001, alpha=0.01, score=0.6296, total=   9.5s\n",
      "[CV] validation_fraction=0.1, tol=0.0001, alpha=0.01 .................\n",
      "[CV]  validation_fraction=0.1, tol=0.0001, alpha=0.01, score=0.615, total=  12.6s\n",
      "[CV] validation_fraction=0.2, tol=0.0001, alpha=0.01 .................\n",
      "[CV]  validation_fraction=0.2, tol=0.0001, alpha=0.01, score=0.6266, total=  13.1s\n",
      "[CV] validation_fraction=0.2, tol=0.0001, alpha=0.01 .................\n",
      "[CV]  validation_fraction=0.2, tol=0.0001, alpha=0.01, score=0.6155333333333334, total=  13.1s\n",
      "[CV] validation_fraction=0.2, tol=0.0001, alpha=0.01 .................\n",
      "[CV]  validation_fraction=0.2, tol=0.0001, alpha=0.01, score=0.6362, total=  14.1s\n",
      "[CV] validation_fraction=0.2, tol=0.0001, alpha=0.01 .................\n",
      "[CV]  validation_fraction=0.2, tol=0.0001, alpha=0.01, score=0.6296, total=   9.4s\n",
      "[CV] validation_fraction=0.2, tol=0.0001, alpha=0.01 .................\n",
      "[CV]  validation_fraction=0.2, tol=0.0001, alpha=0.01, score=0.615, total=  12.5s\n",
      "[CV] validation_fraction=0.05, tol=0.001, alpha=0.1 ..................\n",
      "[CV]  validation_fraction=0.05, tol=0.001, alpha=0.1, score=0.6266, total=  13.0s\n",
      "[CV] validation_fraction=0.05, tol=0.001, alpha=0.1 ..................\n",
      "[CV]  validation_fraction=0.05, tol=0.001, alpha=0.1, score=0.6155333333333334, total=  13.1s\n",
      "[CV] validation_fraction=0.05, tol=0.001, alpha=0.1 ..................\n",
      "[CV]  validation_fraction=0.05, tol=0.001, alpha=0.1, score=0.6362, total=  14.1s\n",
      "[CV] validation_fraction=0.05, tol=0.001, alpha=0.1 ..................\n",
      "[CV]  validation_fraction=0.05, tol=0.001, alpha=0.1, score=0.6296, total=   9.4s\n",
      "[CV] validation_fraction=0.05, tol=0.001, alpha=0.1 ..................\n",
      "[CV]  validation_fraction=0.05, tol=0.001, alpha=0.1, score=0.615, total=  12.5s\n",
      "[CV] validation_fraction=0.1, tol=0.001, alpha=0.1 ...................\n",
      "[CV]  validation_fraction=0.1, tol=0.001, alpha=0.1, score=0.6266, total=  13.2s\n",
      "[CV] validation_fraction=0.1, tol=0.001, alpha=0.1 ...................\n",
      "[CV]  validation_fraction=0.1, tol=0.001, alpha=0.1, score=0.6155333333333334, total=  13.2s\n",
      "[CV] validation_fraction=0.1, tol=0.001, alpha=0.1 ...................\n",
      "[CV]  validation_fraction=0.1, tol=0.001, alpha=0.1, score=0.6362, total=  16.2s\n",
      "[CV] validation_fraction=0.1, tol=0.001, alpha=0.1 ...................\n",
      "[CV]  validation_fraction=0.1, tol=0.001, alpha=0.1, score=0.6296, total=   9.6s\n",
      "[CV] validation_fraction=0.1, tol=0.001, alpha=0.1 ...................\n",
      "[CV]  validation_fraction=0.1, tol=0.001, alpha=0.1, score=0.615, total=  12.7s\n",
      "[CV] validation_fraction=0.2, tol=0.001, alpha=0.1 ...................\n",
      "[CV]  validation_fraction=0.2, tol=0.001, alpha=0.1, score=0.6266, total=  13.2s\n",
      "[CV] validation_fraction=0.2, tol=0.001, alpha=0.1 ...................\n",
      "[CV]  validation_fraction=0.2, tol=0.001, alpha=0.1, score=0.6155333333333334, total=  13.2s\n",
      "[CV] validation_fraction=0.2, tol=0.001, alpha=0.1 ...................\n",
      "[CV]  validation_fraction=0.2, tol=0.001, alpha=0.1, score=0.6362, total=  14.3s\n",
      "[CV] validation_fraction=0.2, tol=0.001, alpha=0.1 ...................\n",
      "[CV]  validation_fraction=0.2, tol=0.001, alpha=0.1, score=0.6296, total=   9.6s\n",
      "[CV] validation_fraction=0.2, tol=0.001, alpha=0.1 ...................\n",
      "[CV]  validation_fraction=0.2, tol=0.001, alpha=0.1, score=0.615, total=  12.7s\n",
      "[CV] validation_fraction=0.05, tol=0.0001, alpha=0.1 .................\n",
      "[CV]  validation_fraction=0.05, tol=0.0001, alpha=0.1, score=0.6266, total=  13.2s\n",
      "[CV] validation_fraction=0.05, tol=0.0001, alpha=0.1 .................\n",
      "[CV]  validation_fraction=0.05, tol=0.0001, alpha=0.1, score=0.6155333333333334, total=  13.0s\n",
      "[CV] validation_fraction=0.05, tol=0.0001, alpha=0.1 .................\n",
      "[CV]  validation_fraction=0.05, tol=0.0001, alpha=0.1, score=0.6362, total=  14.1s\n",
      "[CV] validation_fraction=0.05, tol=0.0001, alpha=0.1 .................\n",
      "[CV]  validation_fraction=0.05, tol=0.0001, alpha=0.1, score=0.6296, total=   9.4s\n",
      "[CV] validation_fraction=0.05, tol=0.0001, alpha=0.1 .................\n",
      "[CV]  validation_fraction=0.05, tol=0.0001, alpha=0.1, score=0.615, total=  12.5s\n",
      "[CV] validation_fraction=0.1, tol=0.0001, alpha=0.1 ..................\n",
      "[CV]  validation_fraction=0.1, tol=0.0001, alpha=0.1, score=0.6266, total=  13.0s\n",
      "[CV] validation_fraction=0.1, tol=0.0001, alpha=0.1 ..................\n",
      "[CV]  validation_fraction=0.1, tol=0.0001, alpha=0.1, score=0.6155333333333334, total=  13.1s\n",
      "[CV] validation_fraction=0.1, tol=0.0001, alpha=0.1 ..................\n",
      "[CV]  validation_fraction=0.1, tol=0.0001, alpha=0.1, score=0.6362, total=  14.1s\n",
      "[CV] validation_fraction=0.1, tol=0.0001, alpha=0.1 ..................\n",
      "[CV]  validation_fraction=0.1, tol=0.0001, alpha=0.1, score=0.6296, total=   9.4s\n",
      "[CV] validation_fraction=0.1, tol=0.0001, alpha=0.1 ..................\n",
      "[CV]  validation_fraction=0.1, tol=0.0001, alpha=0.1, score=0.615, total=  12.5s\n",
      "[CV] validation_fraction=0.2, tol=0.0001, alpha=0.1 ..................\n",
      "[CV]  validation_fraction=0.2, tol=0.0001, alpha=0.1, score=0.6266, total=  13.0s\n",
      "[CV] validation_fraction=0.2, tol=0.0001, alpha=0.1 ..................\n",
      "[CV]  validation_fraction=0.2, tol=0.0001, alpha=0.1, score=0.6155333333333334, total=  13.0s\n",
      "[CV] validation_fraction=0.2, tol=0.0001, alpha=0.1 ..................\n",
      "[CV]  validation_fraction=0.2, tol=0.0001, alpha=0.1, score=0.6362, total=  14.1s\n",
      "[CV] validation_fraction=0.2, tol=0.0001, alpha=0.1 ..................\n",
      "[CV]  validation_fraction=0.2, tol=0.0001, alpha=0.1, score=0.6296, total=   9.4s\n",
      "[CV] validation_fraction=0.2, tol=0.0001, alpha=0.1 ..................\n",
      "[CV]  validation_fraction=0.2, tol=0.0001, alpha=0.1, score=0.615, total=  12.5s\n",
      "[CV] validation_fraction=0.05, tol=0.001, alpha=1 ....................\n",
      "[CV]  validation_fraction=0.05, tol=0.001, alpha=1, score=0.6266, total=  13.0s\n",
      "[CV] validation_fraction=0.05, tol=0.001, alpha=1 ....................\n",
      "[CV]  validation_fraction=0.05, tol=0.001, alpha=1, score=0.6155333333333334, total=  13.0s\n",
      "[CV] validation_fraction=0.05, tol=0.001, alpha=1 ....................\n",
      "[CV]  validation_fraction=0.05, tol=0.001, alpha=1, score=0.6362, total=  14.1s\n",
      "[CV] validation_fraction=0.05, tol=0.001, alpha=1 ....................\n",
      "[CV]  validation_fraction=0.05, tol=0.001, alpha=1, score=0.6296, total=   9.4s\n",
      "[CV] validation_fraction=0.05, tol=0.001, alpha=1 ....................\n",
      "[CV]  validation_fraction=0.05, tol=0.001, alpha=1, score=0.615, total=  12.5s\n",
      "[CV] validation_fraction=0.1, tol=0.001, alpha=1 .....................\n",
      "[CV]  validation_fraction=0.1, tol=0.001, alpha=1, score=0.6266, total=  13.0s\n",
      "[CV] validation_fraction=0.1, tol=0.001, alpha=1 .....................\n",
      "[CV]  validation_fraction=0.1, tol=0.001, alpha=1, score=0.6155333333333334, total=  13.0s\n",
      "[CV] validation_fraction=0.1, tol=0.001, alpha=1 .....................\n",
      "[CV]  validation_fraction=0.1, tol=0.001, alpha=1, score=0.6362, total=  14.1s\n",
      "[CV] validation_fraction=0.1, tol=0.001, alpha=1 .....................\n",
      "[CV]  validation_fraction=0.1, tol=0.001, alpha=1, score=0.6296, total=   9.4s\n",
      "[CV] validation_fraction=0.1, tol=0.001, alpha=1 .....................\n",
      "[CV]  validation_fraction=0.1, tol=0.001, alpha=1, score=0.615, total=  12.7s\n",
      "[CV] validation_fraction=0.2, tol=0.001, alpha=1 .....................\n",
      "[CV]  validation_fraction=0.2, tol=0.001, alpha=1, score=0.6266, total=  13.2s\n",
      "[CV] validation_fraction=0.2, tol=0.001, alpha=1 .....................\n",
      "[CV]  validation_fraction=0.2, tol=0.001, alpha=1, score=0.6155333333333334, total=  13.2s\n",
      "[CV] validation_fraction=0.2, tol=0.001, alpha=1 .....................\n",
      "[CV]  validation_fraction=0.2, tol=0.001, alpha=1, score=0.6362, total=  14.1s\n",
      "[CV] validation_fraction=0.2, tol=0.001, alpha=1 .....................\n",
      "[CV]  validation_fraction=0.2, tol=0.001, alpha=1, score=0.6296, total=   9.4s\n",
      "[CV] validation_fraction=0.2, tol=0.001, alpha=1 .....................\n",
      "[CV]  validation_fraction=0.2, tol=0.001, alpha=1, score=0.615, total=  12.5s\n",
      "[CV] validation_fraction=0.05, tol=0.0001, alpha=1 ...................\n",
      "[CV]  validation_fraction=0.05, tol=0.0001, alpha=1, score=0.6266, total=  13.1s\n",
      "[CV] validation_fraction=0.05, tol=0.0001, alpha=1 ...................\n",
      "[CV]  validation_fraction=0.05, tol=0.0001, alpha=1, score=0.6155333333333334, total=  13.0s\n",
      "[CV] validation_fraction=0.05, tol=0.0001, alpha=1 ...................\n",
      "[CV]  validation_fraction=0.05, tol=0.0001, alpha=1, score=0.6362, total=  14.1s\n",
      "[CV] validation_fraction=0.05, tol=0.0001, alpha=1 ...................\n",
      "[CV]  validation_fraction=0.05, tol=0.0001, alpha=1, score=0.6296, total=   9.4s\n",
      "[CV] validation_fraction=0.05, tol=0.0001, alpha=1 ...................\n",
      "[CV]  validation_fraction=0.05, tol=0.0001, alpha=1, score=0.615, total=  12.5s\n",
      "[CV] validation_fraction=0.1, tol=0.0001, alpha=1 ....................\n",
      "[CV]  validation_fraction=0.1, tol=0.0001, alpha=1, score=0.6266, total=  13.0s\n",
      "[CV] validation_fraction=0.1, tol=0.0001, alpha=1 ....................\n",
      "[CV]  validation_fraction=0.1, tol=0.0001, alpha=1, score=0.6155333333333334, total=  13.0s\n",
      "[CV] validation_fraction=0.1, tol=0.0001, alpha=1 ....................\n",
      "[CV]  validation_fraction=0.1, tol=0.0001, alpha=1, score=0.6362, total=  14.1s\n",
      "[CV] validation_fraction=0.1, tol=0.0001, alpha=1 ....................\n",
      "[CV]  validation_fraction=0.1, tol=0.0001, alpha=1, score=0.6296, total=   9.4s\n",
      "[CV] validation_fraction=0.1, tol=0.0001, alpha=1 ....................\n",
      "[CV]  validation_fraction=0.1, tol=0.0001, alpha=1, score=0.615, total=  12.5s\n",
      "[CV] validation_fraction=0.2, tol=0.0001, alpha=1 ....................\n",
      "[CV]  validation_fraction=0.2, tol=0.0001, alpha=1, score=0.6266, total=  13.0s\n",
      "[CV] validation_fraction=0.2, tol=0.0001, alpha=1 ....................\n",
      "[CV]  validation_fraction=0.2, tol=0.0001, alpha=1, score=0.6155333333333334, total=  13.1s\n",
      "[CV] validation_fraction=0.2, tol=0.0001, alpha=1 ....................\n",
      "[CV]  validation_fraction=0.2, tol=0.0001, alpha=1, score=0.6362, total=  14.1s\n",
      "[CV] validation_fraction=0.2, tol=0.0001, alpha=1 ....................\n",
      "[CV]  validation_fraction=0.2, tol=0.0001, alpha=1, score=0.6296, total=   9.4s\n",
      "[CV] validation_fraction=0.2, tol=0.0001, alpha=1 ....................\n",
      "[CV]  validation_fraction=0.2, tol=0.0001, alpha=1, score=0.615, total=  12.5s\n",
      "[CV] validation_fraction=0.05, tol=0.001, alpha=0.0001 ...............\n",
      "[CV]  validation_fraction=0.05, tol=0.001, alpha=0.0001, score=0.6266, total=  13.0s\n",
      "[CV] validation_fraction=0.05, tol=0.001, alpha=0.0001 ...............\n",
      "[CV]  validation_fraction=0.05, tol=0.001, alpha=0.0001, score=0.6155333333333334, total=  13.0s\n",
      "[CV] validation_fraction=0.05, tol=0.001, alpha=0.0001 ...............\n",
      "[CV]  validation_fraction=0.05, tol=0.001, alpha=0.0001, score=0.6362, total=  14.2s\n",
      "[CV] validation_fraction=0.05, tol=0.001, alpha=0.0001 ...............\n",
      "[CV]  validation_fraction=0.05, tol=0.001, alpha=0.0001, score=0.6296, total=   9.4s\n",
      "[CV] validation_fraction=0.05, tol=0.001, alpha=0.0001 ...............\n",
      "[CV]  validation_fraction=0.05, tol=0.001, alpha=0.0001, score=0.615, total=  14.3s\n",
      "[CV] validation_fraction=0.1, tol=0.001, alpha=0.0001 ................\n",
      "[CV]  validation_fraction=0.1, tol=0.001, alpha=0.0001, score=0.6266, total=  14.8s\n",
      "[CV] validation_fraction=0.1, tol=0.001, alpha=0.0001 ................\n",
      "[CV]  validation_fraction=0.1, tol=0.001, alpha=0.0001, score=0.6155333333333334, total=  13.1s\n",
      "[CV] validation_fraction=0.1, tol=0.001, alpha=0.0001 ................\n",
      "[CV]  validation_fraction=0.1, tol=0.001, alpha=0.0001, score=0.6362, total=  14.1s\n",
      "[CV] validation_fraction=0.1, tol=0.001, alpha=0.0001 ................\n",
      "[CV]  validation_fraction=0.1, tol=0.001, alpha=0.0001, score=0.6296, total=   9.4s\n",
      "[CV] validation_fraction=0.1, tol=0.001, alpha=0.0001 ................\n",
      "[CV]  validation_fraction=0.1, tol=0.001, alpha=0.0001, score=0.615, total=  12.5s\n",
      "[CV] validation_fraction=0.2, tol=0.001, alpha=0.0001 ................\n",
      "[CV]  validation_fraction=0.2, tol=0.001, alpha=0.0001, score=0.6266, total=  13.3s\n",
      "[CV] validation_fraction=0.2, tol=0.001, alpha=0.0001 ................\n",
      "[CV]  validation_fraction=0.2, tol=0.001, alpha=0.0001, score=0.6155333333333334, total=  13.2s\n",
      "[CV] validation_fraction=0.2, tol=0.001, alpha=0.0001 ................\n",
      "[CV]  validation_fraction=0.2, tol=0.001, alpha=0.0001, score=0.6362, total=  14.3s\n",
      "[CV] validation_fraction=0.2, tol=0.001, alpha=0.0001 ................\n",
      "[CV]  validation_fraction=0.2, tol=0.001, alpha=0.0001, score=0.6296, total=  10.4s\n",
      "[CV] validation_fraction=0.2, tol=0.001, alpha=0.0001 ................\n",
      "[CV]  validation_fraction=0.2, tol=0.001, alpha=0.0001, score=0.615, total=  12.7s\n",
      "[CV] validation_fraction=0.05, tol=0.0001, alpha=0.0001 ..............\n",
      "[CV]  validation_fraction=0.05, tol=0.0001, alpha=0.0001, score=0.6266, total=  13.3s\n",
      "[CV] validation_fraction=0.05, tol=0.0001, alpha=0.0001 ..............\n",
      "[CV]  validation_fraction=0.05, tol=0.0001, alpha=0.0001, score=0.6155333333333334, total=  13.2s\n",
      "[CV] validation_fraction=0.05, tol=0.0001, alpha=0.0001 ..............\n",
      "[CV]  validation_fraction=0.05, tol=0.0001, alpha=0.0001, score=0.6362, total=  14.3s\n",
      "[CV] validation_fraction=0.05, tol=0.0001, alpha=0.0001 ..............\n",
      "[CV]  validation_fraction=0.05, tol=0.0001, alpha=0.0001, score=0.6296, total=   9.5s\n",
      "[CV] validation_fraction=0.05, tol=0.0001, alpha=0.0001 ..............\n",
      "[CV]  validation_fraction=0.05, tol=0.0001, alpha=0.0001, score=0.615, total=  12.7s\n",
      "[CV] validation_fraction=0.1, tol=0.0001, alpha=0.0001 ...............\n",
      "[CV]  validation_fraction=0.1, tol=0.0001, alpha=0.0001, score=0.6266, total=  13.3s\n",
      "[CV] validation_fraction=0.1, tol=0.0001, alpha=0.0001 ...............\n",
      "[CV]  validation_fraction=0.1, tol=0.0001, alpha=0.0001, score=0.6155333333333334, total=  14.9s\n",
      "[CV] validation_fraction=0.1, tol=0.0001, alpha=0.0001 ...............\n",
      "[CV]  validation_fraction=0.1, tol=0.0001, alpha=0.0001, score=0.6362, total=  14.3s\n",
      "[CV] validation_fraction=0.1, tol=0.0001, alpha=0.0001 ...............\n",
      "[CV]  validation_fraction=0.1, tol=0.0001, alpha=0.0001, score=0.6296, total=   9.5s\n",
      "[CV] validation_fraction=0.1, tol=0.0001, alpha=0.0001 ...............\n",
      "[CV]  validation_fraction=0.1, tol=0.0001, alpha=0.0001, score=0.615, total=  12.7s\n",
      "[CV] validation_fraction=0.2, tol=0.0001, alpha=0.0001 ...............\n",
      "[CV]  validation_fraction=0.2, tol=0.0001, alpha=0.0001, score=0.6266, total=  14.1s\n",
      "[CV] validation_fraction=0.2, tol=0.0001, alpha=0.0001 ...............\n",
      "[CV]  validation_fraction=0.2, tol=0.0001, alpha=0.0001, score=0.6155333333333334, total=  13.2s\n",
      "[CV] validation_fraction=0.2, tol=0.0001, alpha=0.0001 ...............\n",
      "[CV]  validation_fraction=0.2, tol=0.0001, alpha=0.0001, score=0.6362, total=  14.2s\n",
      "[CV] validation_fraction=0.2, tol=0.0001, alpha=0.0001 ...............\n",
      "[CV]  validation_fraction=0.2, tol=0.0001, alpha=0.0001, score=0.6296, total=   9.5s\n",
      "[CV] validation_fraction=0.2, tol=0.0001, alpha=0.0001 ...............\n",
      "[CV]  validation_fraction=0.2, tol=0.0001, alpha=0.0001, score=0.615, total=  12.5s\n"
     ]
    },
    {
     "name": "stderr",
     "output_type": "stream",
     "text": [
      "[Parallel(n_jobs=1)]: Done 150 out of 150 | elapsed: 32.5min finished\n"
     ]
    },
    {
     "name": "stdout",
     "output_type": "stream",
     "text": [
      "The Total Training Time Taken :  1961.8122050762177\n"
     ]
    }
   ],
   "source": [
    "gridtime = time.time()\n",
    "model = lr_clf.fit(X_train_all, y_train)\n",
    "print(\"The Total Training Time Taken : \",time.time() - gridtime)"
   ]
  },
  {
   "cell_type": "code",
   "execution_count": 14,
   "metadata": {},
   "outputs": [
    {
     "data": {
      "text/plain": [
       "0.6245866666666666"
      ]
     },
     "execution_count": 14,
     "metadata": {},
     "output_type": "execute_result"
    }
   ],
   "source": [
    "model.best_score_"
   ]
  },
  {
   "cell_type": "code",
   "execution_count": 15,
   "metadata": {},
   "outputs": [
    {
     "name": "stdout",
     "output_type": "stream",
     "text": [
      "{'validation_fraction': 0.05, 'tol': 0.001, 'alpha': 0.001}\n",
      "alpha: 0.001\n",
      "tol: 0.001\n",
      "validation_fraction: 0.05\n"
     ]
    }
   ],
   "source": [
    "print(model.best_params_)\n",
    "for param_name in sorted(parameters.keys()):\n",
    "    print(\"%s: %r\" % (param_name, model.best_params_[param_name]))"
   ]
  },
  {
   "cell_type": "code",
   "execution_count": 16,
   "metadata": {},
   "outputs": [],
   "source": [
    "pickle.dump(model,open(\"Perceptron_all_\"+str(trainSamples)+\"_\"+str(n_iter)+\".pkl\",'wb'))"
   ]
  },
  {
   "cell_type": "code",
   "execution_count": 17,
   "metadata": {},
   "outputs": [],
   "source": [
    "X_test_all = load_all(path+\"X_test_all_90.pkl\")\n",
    "y_test = load_y(path+\"y_test.p\")"
   ]
  },
  {
   "cell_type": "code",
   "execution_count": 18,
   "metadata": {},
   "outputs": [],
   "source": [
    "from scipy.stats import rankdata\n",
    "\n",
    "def mrrs(out, labels):\n",
    "#     print(out,labels)\n",
    "    outputs = np.argmax(out,axis=1)\n",
    "    mrr = 0.0 \n",
    "    for label,ranks in zip(labels,out):\n",
    "        ranks = rankdata(ranks*-1)\n",
    "        rank = ranks[label]\n",
    "#         print(rank,ranks)\n",
    "        mrr+=1/rank\n",
    "    return mrr/len(labels)\n",
    "\n",
    "def precision_at(out,labels,prank=1):\n",
    "    count = 0\n",
    "    for label,ranks in zip(labels,out):\n",
    "        ranks = rankdata(ranks*-1)\n",
    "        rank = ranks[label]\n",
    "#         print(rank,ranks)\n",
    "        if rank <= prank:\n",
    "            count+=1\n",
    "    return count/len(labels)\n",
    "\n",
    "def mrrwrapper(qid2c,qid2indexmap,preds_prob):\n",
    "    labels = []\n",
    "    out = []\n",
    "    for qid in qid2c.keys():\n",
    "        scores = []\n",
    "        for ix in qid2indexmap[qid]:\n",
    "            if len(scores) < 6:\n",
    "                scores.append(preds_prob[ix][1])\n",
    "        if len(scores) < 6:\n",
    "            continue\n",
    "        out.append(scores)\n",
    "        labels.append(int(qid2c[qid]))\n",
    "    return mrrs(np.array(out),labels),precision_at(np.array(out),labels,1),precision_at(np.array(out),labels,3)\n",
    "\n",
    "def load_ranking(fname):\n",
    "    return pickle.load(open(path+\"ranking_\"+fname+\".p\",\"rb\"))"
   ]
  },
  {
   "cell_type": "code",
   "execution_count": 19,
   "metadata": {},
   "outputs": [],
   "source": [
    "from sklearn.metrics import accuracy_score"
   ]
  },
  {
   "cell_type": "code",
   "execution_count": 20,
   "metadata": {},
   "outputs": [
    {
     "name": "stdout",
     "output_type": "stream",
     "text": [
      "SampleSize: 100\n",
      "Train Time:0.13 sec\n"
     ]
    },
    {
     "name": "stderr",
     "output_type": "stream",
     "text": [
      "/home/psukhapa/.conda/envs/sukha/lib/python3.5/site-packages/sklearn/model_selection/_split.py:2053: FutureWarning: You should specify a value for 'cv' instead of relying on the default value. The default value will change from 3 to 5 in version 0.22.\n",
      "  warnings.warn(CV_WARNING, FutureWarning)\n",
      "/home/psukhapa/.conda/envs/sukha/lib/python3.5/site-packages/sklearn/calibration.py:445: RuntimeWarning: overflow encountered in exp\n",
      "  E = np.exp(AB[0] * F + AB[1])\n",
      "/home/psukhapa/.conda/envs/sukha/lib/python3.5/site-packages/sklearn/calibration.py:455: RuntimeWarning: overflow encountered in exp\n",
      "  E = np.exp(AB[0] * F + AB[1])\n",
      "/home/psukhapa/.conda/envs/sukha/lib/python3.5/site-packages/sklearn/calibration.py:457: RuntimeWarning: invalid value encountered in multiply\n",
      "  TEP_minus_T1P = P * (T * E - T1)\n",
      "/home/psukhapa/.conda/envs/sukha/lib/python3.5/site-packages/sklearn/calibration.py:445: RuntimeWarning: overflow encountered in exp\n",
      "  E = np.exp(AB[0] * F + AB[1])\n",
      "/home/psukhapa/.conda/envs/sukha/lib/python3.5/site-packages/sklearn/calibration.py:445: RuntimeWarning: overflow encountered in exp\n",
      "  E = np.exp(AB[0] * F + AB[1])\n",
      "/home/psukhapa/.conda/envs/sukha/lib/python3.5/site-packages/sklearn/calibration.py:455: RuntimeWarning: overflow encountered in exp\n",
      "  E = np.exp(AB[0] * F + AB[1])\n",
      "/home/psukhapa/.conda/envs/sukha/lib/python3.5/site-packages/sklearn/calibration.py:457: RuntimeWarning: invalid value encountered in multiply\n",
      "  TEP_minus_T1P = P * (T * E - T1)\n",
      "/home/psukhapa/.conda/envs/sukha/lib/python3.5/site-packages/sklearn/calibration.py:445: RuntimeWarning: overflow encountered in exp\n",
      "  E = np.exp(AB[0] * F + AB[1])\n",
      "/home/psukhapa/.conda/envs/sukha/lib/python3.5/site-packages/sklearn/calibration.py:445: RuntimeWarning: overflow encountered in exp\n",
      "  E = np.exp(AB[0] * F + AB[1])\n",
      "/home/psukhapa/.conda/envs/sukha/lib/python3.5/site-packages/sklearn/calibration.py:455: RuntimeWarning: overflow encountered in exp\n",
      "  E = np.exp(AB[0] * F + AB[1])\n",
      "/home/psukhapa/.conda/envs/sukha/lib/python3.5/site-packages/sklearn/calibration.py:457: RuntimeWarning: invalid value encountered in multiply\n",
      "  TEP_minus_T1P = P * (T * E - T1)\n",
      "/home/psukhapa/.conda/envs/sukha/lib/python3.5/site-packages/sklearn/calibration.py:445: RuntimeWarning: overflow encountered in exp\n",
      "  E = np.exp(AB[0] * F + AB[1])\n"
     ]
    },
    {
     "name": "stdout",
     "output_type": "stream",
     "text": [
      "Validation Accuracy: 52.81%\n",
      "Validation Time:0.47 sec\n",
      "Test Accuracy: 52.47%\n",
      "Test Time:0.49 sec\n",
      "(0.4362814814814816, 0.19866666666666666, 0.5426666666666666)\n",
      "MRR: 0.4362814814814816\n",
      "MRR Time:1.06 sec\n",
      "SampleSize: 500\n"
     ]
    },
    {
     "name": "stderr",
     "output_type": "stream",
     "text": [
      "/home/psukhapa/.conda/envs/sukha/lib/python3.5/site-packages/sklearn/model_selection/_split.py:2053: FutureWarning: You should specify a value for 'cv' instead of relying on the default value. The default value will change from 3 to 5 in version 0.22.\n",
      "  warnings.warn(CV_WARNING, FutureWarning)\n",
      "/home/psukhapa/.conda/envs/sukha/lib/python3.5/site-packages/sklearn/calibration.py:445: RuntimeWarning: overflow encountered in exp\n",
      "  E = np.exp(AB[0] * F + AB[1])\n",
      "/home/psukhapa/.conda/envs/sukha/lib/python3.5/site-packages/sklearn/calibration.py:455: RuntimeWarning: overflow encountered in exp\n",
      "  E = np.exp(AB[0] * F + AB[1])\n",
      "/home/psukhapa/.conda/envs/sukha/lib/python3.5/site-packages/sklearn/calibration.py:457: RuntimeWarning: invalid value encountered in multiply\n",
      "  TEP_minus_T1P = P * (T * E - T1)\n",
      "/home/psukhapa/.conda/envs/sukha/lib/python3.5/site-packages/sklearn/calibration.py:445: RuntimeWarning: overflow encountered in exp\n",
      "  E = np.exp(AB[0] * F + AB[1])\n",
      "/home/psukhapa/.conda/envs/sukha/lib/python3.5/site-packages/sklearn/calibration.py:445: RuntimeWarning: overflow encountered in exp\n",
      "  E = np.exp(AB[0] * F + AB[1])\n",
      "/home/psukhapa/.conda/envs/sukha/lib/python3.5/site-packages/sklearn/calibration.py:455: RuntimeWarning: overflow encountered in exp\n",
      "  E = np.exp(AB[0] * F + AB[1])\n",
      "/home/psukhapa/.conda/envs/sukha/lib/python3.5/site-packages/sklearn/calibration.py:457: RuntimeWarning: invalid value encountered in multiply\n",
      "  TEP_minus_T1P = P * (T * E - T1)\n",
      "/home/psukhapa/.conda/envs/sukha/lib/python3.5/site-packages/sklearn/calibration.py:445: RuntimeWarning: overflow encountered in exp\n",
      "  E = np.exp(AB[0] * F + AB[1])\n",
      "/home/psukhapa/.conda/envs/sukha/lib/python3.5/site-packages/sklearn/calibration.py:445: RuntimeWarning: overflow encountered in exp\n",
      "  E = np.exp(AB[0] * F + AB[1])\n",
      "/home/psukhapa/.conda/envs/sukha/lib/python3.5/site-packages/sklearn/calibration.py:455: RuntimeWarning: overflow encountered in exp\n",
      "  E = np.exp(AB[0] * F + AB[1])\n",
      "/home/psukhapa/.conda/envs/sukha/lib/python3.5/site-packages/sklearn/calibration.py:457: RuntimeWarning: invalid value encountered in multiply\n",
      "  TEP_minus_T1P = P * (T * E - T1)\n",
      "/home/psukhapa/.conda/envs/sukha/lib/python3.5/site-packages/sklearn/calibration.py:445: RuntimeWarning: overflow encountered in exp\n",
      "  E = np.exp(AB[0] * F + AB[1])\n"
     ]
    },
    {
     "name": "stdout",
     "output_type": "stream",
     "text": [
      "Train Time:0.33 sec\n",
      "Validation Accuracy: 52.33%\n",
      "Validation Time:0.51 sec\n",
      "Test Accuracy: 51.42%\n",
      "Test Time:0.48 sec\n",
      "(0.44201269841269875, 0.19933333333333333, 0.5613333333333334)\n",
      "MRR: 0.44201269841269875\n",
      "MRR Time:1.17 sec\n",
      "SampleSize: 1000\n"
     ]
    },
    {
     "name": "stderr",
     "output_type": "stream",
     "text": [
      "/home/psukhapa/.conda/envs/sukha/lib/python3.5/site-packages/sklearn/model_selection/_split.py:2053: FutureWarning: You should specify a value for 'cv' instead of relying on the default value. The default value will change from 3 to 5 in version 0.22.\n",
      "  warnings.warn(CV_WARNING, FutureWarning)\n",
      "/home/psukhapa/.conda/envs/sukha/lib/python3.5/site-packages/sklearn/calibration.py:445: RuntimeWarning: overflow encountered in exp\n",
      "  E = np.exp(AB[0] * F + AB[1])\n",
      "/home/psukhapa/.conda/envs/sukha/lib/python3.5/site-packages/sklearn/calibration.py:455: RuntimeWarning: overflow encountered in exp\n",
      "  E = np.exp(AB[0] * F + AB[1])\n",
      "/home/psukhapa/.conda/envs/sukha/lib/python3.5/site-packages/sklearn/calibration.py:457: RuntimeWarning: invalid value encountered in multiply\n",
      "  TEP_minus_T1P = P * (T * E - T1)\n",
      "/home/psukhapa/.conda/envs/sukha/lib/python3.5/site-packages/sklearn/calibration.py:445: RuntimeWarning: overflow encountered in exp\n",
      "  E = np.exp(AB[0] * F + AB[1])\n",
      "/home/psukhapa/.conda/envs/sukha/lib/python3.5/site-packages/sklearn/calibration.py:445: RuntimeWarning: overflow encountered in exp\n",
      "  E = np.exp(AB[0] * F + AB[1])\n",
      "/home/psukhapa/.conda/envs/sukha/lib/python3.5/site-packages/sklearn/calibration.py:455: RuntimeWarning: overflow encountered in exp\n",
      "  E = np.exp(AB[0] * F + AB[1])\n",
      "/home/psukhapa/.conda/envs/sukha/lib/python3.5/site-packages/sklearn/calibration.py:457: RuntimeWarning: invalid value encountered in multiply\n",
      "  TEP_minus_T1P = P * (T * E - T1)\n",
      "/home/psukhapa/.conda/envs/sukha/lib/python3.5/site-packages/sklearn/calibration.py:445: RuntimeWarning: overflow encountered in exp\n",
      "  E = np.exp(AB[0] * F + AB[1])\n",
      "/home/psukhapa/.conda/envs/sukha/lib/python3.5/site-packages/sklearn/calibration.py:445: RuntimeWarning: overflow encountered in exp\n",
      "  E = np.exp(AB[0] * F + AB[1])\n",
      "/home/psukhapa/.conda/envs/sukha/lib/python3.5/site-packages/sklearn/calibration.py:455: RuntimeWarning: overflow encountered in exp\n",
      "  E = np.exp(AB[0] * F + AB[1])\n",
      "/home/psukhapa/.conda/envs/sukha/lib/python3.5/site-packages/sklearn/calibration.py:457: RuntimeWarning: invalid value encountered in multiply\n",
      "  TEP_minus_T1P = P * (T * E - T1)\n",
      "/home/psukhapa/.conda/envs/sukha/lib/python3.5/site-packages/sklearn/calibration.py:445: RuntimeWarning: overflow encountered in exp\n",
      "  E = np.exp(AB[0] * F + AB[1])\n"
     ]
    },
    {
     "name": "stdout",
     "output_type": "stream",
     "text": [
      "Train Time:0.46 sec\n",
      "Validation Accuracy: 50.00%\n",
      "Validation Time:0.56 sec\n",
      "Test Accuracy: 50.00%\n",
      "Test Time:0.54 sec\n",
      "(0.2857142857142808, 0.0, 0.0)\n",
      "MRR: 0.2857142857142808\n",
      "MRR Time:1.14 sec\n",
      "SampleSize: 10000\n"
     ]
    },
    {
     "name": "stderr",
     "output_type": "stream",
     "text": [
      "/home/psukhapa/.conda/envs/sukha/lib/python3.5/site-packages/sklearn/model_selection/_split.py:2053: FutureWarning: You should specify a value for 'cv' instead of relying on the default value. The default value will change from 3 to 5 in version 0.22.\n",
      "  warnings.warn(CV_WARNING, FutureWarning)\n",
      "/home/psukhapa/.conda/envs/sukha/lib/python3.5/site-packages/sklearn/calibration.py:445: RuntimeWarning: overflow encountered in exp\n",
      "  E = np.exp(AB[0] * F + AB[1])\n",
      "/home/psukhapa/.conda/envs/sukha/lib/python3.5/site-packages/sklearn/calibration.py:455: RuntimeWarning: overflow encountered in exp\n",
      "  E = np.exp(AB[0] * F + AB[1])\n",
      "/home/psukhapa/.conda/envs/sukha/lib/python3.5/site-packages/sklearn/calibration.py:457: RuntimeWarning: invalid value encountered in multiply\n",
      "  TEP_minus_T1P = P * (T * E - T1)\n",
      "/home/psukhapa/.conda/envs/sukha/lib/python3.5/site-packages/sklearn/calibration.py:445: RuntimeWarning: overflow encountered in exp\n",
      "  E = np.exp(AB[0] * F + AB[1])\n",
      "/home/psukhapa/.conda/envs/sukha/lib/python3.5/site-packages/sklearn/calibration.py:445: RuntimeWarning: overflow encountered in exp\n",
      "  E = np.exp(AB[0] * F + AB[1])\n",
      "/home/psukhapa/.conda/envs/sukha/lib/python3.5/site-packages/sklearn/calibration.py:455: RuntimeWarning: overflow encountered in exp\n",
      "  E = np.exp(AB[0] * F + AB[1])\n",
      "/home/psukhapa/.conda/envs/sukha/lib/python3.5/site-packages/sklearn/calibration.py:457: RuntimeWarning: invalid value encountered in multiply\n",
      "  TEP_minus_T1P = P * (T * E - T1)\n",
      "/home/psukhapa/.conda/envs/sukha/lib/python3.5/site-packages/sklearn/calibration.py:445: RuntimeWarning: overflow encountered in exp\n",
      "  E = np.exp(AB[0] * F + AB[1])\n",
      "/home/psukhapa/.conda/envs/sukha/lib/python3.5/site-packages/sklearn/calibration.py:445: RuntimeWarning: overflow encountered in exp\n",
      "  E = np.exp(AB[0] * F + AB[1])\n",
      "/home/psukhapa/.conda/envs/sukha/lib/python3.5/site-packages/sklearn/calibration.py:455: RuntimeWarning: overflow encountered in exp\n",
      "  E = np.exp(AB[0] * F + AB[1])\n",
      "/home/psukhapa/.conda/envs/sukha/lib/python3.5/site-packages/sklearn/calibration.py:457: RuntimeWarning: invalid value encountered in multiply\n",
      "  TEP_minus_T1P = P * (T * E - T1)\n",
      "/home/psukhapa/.conda/envs/sukha/lib/python3.5/site-packages/sklearn/calibration.py:445: RuntimeWarning: overflow encountered in exp\n",
      "  E = np.exp(AB[0] * F + AB[1])\n"
     ]
    },
    {
     "name": "stdout",
     "output_type": "stream",
     "text": [
      "Train Time:4.77 sec\n",
      "Validation Accuracy: 57.89%\n",
      "Validation Time:0.53 sec\n",
      "Test Accuracy: 57.19%\n",
      "Test Time:0.54 sec\n",
      "(0.528325925925928, 0.3006666666666667, 0.672)\n",
      "MRR: 0.528325925925928\n",
      "MRR Time:1.15 sec\n",
      "SampleSize: 20000\n"
     ]
    },
    {
     "name": "stderr",
     "output_type": "stream",
     "text": [
      "/home/psukhapa/.conda/envs/sukha/lib/python3.5/site-packages/sklearn/model_selection/_split.py:2053: FutureWarning: You should specify a value for 'cv' instead of relying on the default value. The default value will change from 3 to 5 in version 0.22.\n",
      "  warnings.warn(CV_WARNING, FutureWarning)\n",
      "/home/psukhapa/.conda/envs/sukha/lib/python3.5/site-packages/sklearn/calibration.py:445: RuntimeWarning: overflow encountered in exp\n",
      "  E = np.exp(AB[0] * F + AB[1])\n",
      "/home/psukhapa/.conda/envs/sukha/lib/python3.5/site-packages/sklearn/calibration.py:455: RuntimeWarning: overflow encountered in exp\n",
      "  E = np.exp(AB[0] * F + AB[1])\n",
      "/home/psukhapa/.conda/envs/sukha/lib/python3.5/site-packages/sklearn/calibration.py:457: RuntimeWarning: invalid value encountered in multiply\n",
      "  TEP_minus_T1P = P * (T * E - T1)\n",
      "/home/psukhapa/.conda/envs/sukha/lib/python3.5/site-packages/sklearn/calibration.py:445: RuntimeWarning: overflow encountered in exp\n",
      "  E = np.exp(AB[0] * F + AB[1])\n",
      "/home/psukhapa/.conda/envs/sukha/lib/python3.5/site-packages/sklearn/calibration.py:445: RuntimeWarning: overflow encountered in exp\n",
      "  E = np.exp(AB[0] * F + AB[1])\n",
      "/home/psukhapa/.conda/envs/sukha/lib/python3.5/site-packages/sklearn/calibration.py:455: RuntimeWarning: overflow encountered in exp\n",
      "  E = np.exp(AB[0] * F + AB[1])\n",
      "/home/psukhapa/.conda/envs/sukha/lib/python3.5/site-packages/sklearn/calibration.py:457: RuntimeWarning: invalid value encountered in multiply\n",
      "  TEP_minus_T1P = P * (T * E - T1)\n",
      "/home/psukhapa/.conda/envs/sukha/lib/python3.5/site-packages/sklearn/calibration.py:445: RuntimeWarning: overflow encountered in exp\n",
      "  E = np.exp(AB[0] * F + AB[1])\n",
      "/home/psukhapa/.conda/envs/sukha/lib/python3.5/site-packages/sklearn/calibration.py:445: RuntimeWarning: overflow encountered in exp\n",
      "  E = np.exp(AB[0] * F + AB[1])\n",
      "/home/psukhapa/.conda/envs/sukha/lib/python3.5/site-packages/sklearn/calibration.py:455: RuntimeWarning: overflow encountered in exp\n",
      "  E = np.exp(AB[0] * F + AB[1])\n",
      "/home/psukhapa/.conda/envs/sukha/lib/python3.5/site-packages/sklearn/calibration.py:457: RuntimeWarning: invalid value encountered in multiply\n",
      "  TEP_minus_T1P = P * (T * E - T1)\n",
      "/home/psukhapa/.conda/envs/sukha/lib/python3.5/site-packages/sklearn/calibration.py:445: RuntimeWarning: overflow encountered in exp\n",
      "  E = np.exp(AB[0] * F + AB[1])\n"
     ]
    },
    {
     "name": "stdout",
     "output_type": "stream",
     "text": [
      "Train Time:14.91 sec\n",
      "Validation Accuracy: 60.02%\n",
      "Validation Time:0.55 sec\n",
      "Test Accuracy: 59.85%\n",
      "Test Time:0.52 sec\n",
      "(0.538281481481483, 0.302, 0.71)\n",
      "MRR: 0.538281481481483\n",
      "MRR Time:1.27 sec\n",
      "SampleSize: 50000\n"
     ]
    },
    {
     "name": "stderr",
     "output_type": "stream",
     "text": [
      "/home/psukhapa/.conda/envs/sukha/lib/python3.5/site-packages/sklearn/model_selection/_split.py:2053: FutureWarning: You should specify a value for 'cv' instead of relying on the default value. The default value will change from 3 to 5 in version 0.22.\n",
      "  warnings.warn(CV_WARNING, FutureWarning)\n",
      "/home/psukhapa/.conda/envs/sukha/lib/python3.5/site-packages/sklearn/calibration.py:445: RuntimeWarning: overflow encountered in exp\n",
      "  E = np.exp(AB[0] * F + AB[1])\n",
      "/home/psukhapa/.conda/envs/sukha/lib/python3.5/site-packages/sklearn/calibration.py:455: RuntimeWarning: overflow encountered in exp\n",
      "  E = np.exp(AB[0] * F + AB[1])\n",
      "/home/psukhapa/.conda/envs/sukha/lib/python3.5/site-packages/sklearn/calibration.py:457: RuntimeWarning: invalid value encountered in multiply\n",
      "  TEP_minus_T1P = P * (T * E - T1)\n",
      "/home/psukhapa/.conda/envs/sukha/lib/python3.5/site-packages/sklearn/calibration.py:445: RuntimeWarning: overflow encountered in exp\n",
      "  E = np.exp(AB[0] * F + AB[1])\n",
      "/home/psukhapa/.conda/envs/sukha/lib/python3.5/site-packages/sklearn/calibration.py:445: RuntimeWarning: overflow encountered in exp\n",
      "  E = np.exp(AB[0] * F + AB[1])\n",
      "/home/psukhapa/.conda/envs/sukha/lib/python3.5/site-packages/sklearn/calibration.py:455: RuntimeWarning: overflow encountered in exp\n",
      "  E = np.exp(AB[0] * F + AB[1])\n",
      "/home/psukhapa/.conda/envs/sukha/lib/python3.5/site-packages/sklearn/calibration.py:457: RuntimeWarning: invalid value encountered in multiply\n",
      "  TEP_minus_T1P = P * (T * E - T1)\n",
      "/home/psukhapa/.conda/envs/sukha/lib/python3.5/site-packages/sklearn/calibration.py:445: RuntimeWarning: overflow encountered in exp\n",
      "  E = np.exp(AB[0] * F + AB[1])\n",
      "/home/psukhapa/.conda/envs/sukha/lib/python3.5/site-packages/sklearn/calibration.py:445: RuntimeWarning: overflow encountered in exp\n",
      "  E = np.exp(AB[0] * F + AB[1])\n",
      "/home/psukhapa/.conda/envs/sukha/lib/python3.5/site-packages/sklearn/calibration.py:455: RuntimeWarning: overflow encountered in exp\n",
      "  E = np.exp(AB[0] * F + AB[1])\n",
      "/home/psukhapa/.conda/envs/sukha/lib/python3.5/site-packages/sklearn/calibration.py:457: RuntimeWarning: invalid value encountered in multiply\n",
      "  TEP_minus_T1P = P * (T * E - T1)\n",
      "/home/psukhapa/.conda/envs/sukha/lib/python3.5/site-packages/sklearn/calibration.py:445: RuntimeWarning: overflow encountered in exp\n",
      "  E = np.exp(AB[0] * F + AB[1])\n"
     ]
    },
    {
     "name": "stdout",
     "output_type": "stream",
     "text": [
      "Train Time:82.74 sec\n",
      "Validation Accuracy: 61.91%\n",
      "Validation Time:0.45 sec\n",
      "Test Accuracy: 61.73%\n",
      "Test Time:0.57 sec\n",
      "(0.5523904761904784, 0.32266666666666666, 0.7226666666666667)\n",
      "MRR: 0.5523904761904784\n",
      "MRR Time:1.12 sec\n",
      "SampleSize: 75000\n"
     ]
    },
    {
     "name": "stderr",
     "output_type": "stream",
     "text": [
      "/home/psukhapa/.conda/envs/sukha/lib/python3.5/site-packages/sklearn/model_selection/_split.py:2053: FutureWarning: You should specify a value for 'cv' instead of relying on the default value. The default value will change from 3 to 5 in version 0.22.\n",
      "  warnings.warn(CV_WARNING, FutureWarning)\n",
      "/home/psukhapa/.conda/envs/sukha/lib/python3.5/site-packages/sklearn/calibration.py:445: RuntimeWarning: overflow encountered in exp\n",
      "  E = np.exp(AB[0] * F + AB[1])\n",
      "/home/psukhapa/.conda/envs/sukha/lib/python3.5/site-packages/sklearn/calibration.py:455: RuntimeWarning: overflow encountered in exp\n",
      "  E = np.exp(AB[0] * F + AB[1])\n",
      "/home/psukhapa/.conda/envs/sukha/lib/python3.5/site-packages/sklearn/calibration.py:457: RuntimeWarning: invalid value encountered in multiply\n",
      "  TEP_minus_T1P = P * (T * E - T1)\n",
      "/home/psukhapa/.conda/envs/sukha/lib/python3.5/site-packages/sklearn/calibration.py:445: RuntimeWarning: overflow encountered in exp\n",
      "  E = np.exp(AB[0] * F + AB[1])\n",
      "/home/psukhapa/.conda/envs/sukha/lib/python3.5/site-packages/sklearn/calibration.py:445: RuntimeWarning: overflow encountered in exp\n",
      "  E = np.exp(AB[0] * F + AB[1])\n",
      "/home/psukhapa/.conda/envs/sukha/lib/python3.5/site-packages/sklearn/calibration.py:455: RuntimeWarning: overflow encountered in exp\n",
      "  E = np.exp(AB[0] * F + AB[1])\n",
      "/home/psukhapa/.conda/envs/sukha/lib/python3.5/site-packages/sklearn/calibration.py:457: RuntimeWarning: invalid value encountered in multiply\n",
      "  TEP_minus_T1P = P * (T * E - T1)\n",
      "/home/psukhapa/.conda/envs/sukha/lib/python3.5/site-packages/sklearn/calibration.py:445: RuntimeWarning: overflow encountered in exp\n",
      "  E = np.exp(AB[0] * F + AB[1])\n",
      "/home/psukhapa/.conda/envs/sukha/lib/python3.5/site-packages/sklearn/calibration.py:445: RuntimeWarning: overflow encountered in exp\n",
      "  E = np.exp(AB[0] * F + AB[1])\n",
      "/home/psukhapa/.conda/envs/sukha/lib/python3.5/site-packages/sklearn/calibration.py:455: RuntimeWarning: overflow encountered in exp\n",
      "  E = np.exp(AB[0] * F + AB[1])\n",
      "/home/psukhapa/.conda/envs/sukha/lib/python3.5/site-packages/sklearn/calibration.py:457: RuntimeWarning: invalid value encountered in multiply\n",
      "  TEP_minus_T1P = P * (T * E - T1)\n",
      "/home/psukhapa/.conda/envs/sukha/lib/python3.5/site-packages/sklearn/calibration.py:445: RuntimeWarning: overflow encountered in exp\n",
      "  E = np.exp(AB[0] * F + AB[1])\n"
     ]
    },
    {
     "name": "stdout",
     "output_type": "stream",
     "text": [
      "Train Time:66.73 sec\n",
      "Validation Accuracy: 61.00%\n",
      "Validation Time:0.52 sec\n",
      "Test Accuracy: 61.11%\n",
      "Test Time:0.59 sec\n",
      "(0.5557571428571451, 0.33, 0.712)\n",
      "MRR: 0.5557571428571451\n",
      "MRR Time:1.10 sec\n",
      "[0.5281, 0.5233, 0.5, 0.5789, 0.6002, 0.6191, 0.61]\n",
      "[0.5247, 0.5142, 0.5, 0.5719, 0.5985, 0.6173, 0.6111]\n",
      "[0.4362814814814816, 0.44201269841269875, 0.2857142857142808, 0.528325925925928, 0.538281481481483, 0.5523904761904784, 0.5557571428571451]\n",
      "[0.19866666666666666, 0.19933333333333333, 0.0, 0.3006666666666667, 0.302, 0.32266666666666666, 0.33]\n",
      "[0.5426666666666666, 0.5613333333333334, 0.0, 0.672, 0.71, 0.7226666666666667, 0.712]\n"
     ]
    }
   ],
   "source": [
    "valAccuracy = []\n",
    "testAccuracy = []\n",
    "mrrScore = []\n",
    "precisionAt1 = []\n",
    "precisionAt3 = []\n",
    "\n",
    "# For each of training sample sizes\n",
    "for eachTrain in n_trainSamples:\n",
    "    \n",
    "    # Model with best values from grid search\n",
    "    bestModel = CalibratedClassifierCV(Perceptron(max_iter= n_iter, n_jobs=-1,alpha=model.best_params_['alpha'],tol=model.best_params_['tol'],\n",
    "                          validation_fraction=model.best_params_['validation_fraction']))\n",
    "\n",
    "    print(\"SampleSize:\",eachTrain)\n",
    "    \n",
    "    stime=time.time()\n",
    "    bestModel.fit(X_train_all[:eachTrain],y_train[:eachTrain])   \n",
    "    print(\"Train Time:%.2f sec\"%(time.time()-stime))\n",
    "    \n",
    "    stime=time.time()\n",
    "    preds_val = bestModel.predict(X_val_all)\n",
    "    accuracy = round(accuracy_score(y_val, preds_val),4)\n",
    "    valAccuracy.append(accuracy)\n",
    "    print(\"Validation Accuracy: %.2f%%\" % (accuracy * 100.0))\n",
    "    print(\"Validation Time:%.2f sec\"%(time.time()-stime))\n",
    "\n",
    "    stime=time.time()\n",
    "    preds_test = bestModel.predict(X_test_all)\n",
    "    accuracy = round(accuracy_score(y_test, preds_test),4)\n",
    "    testAccuracy.append(accuracy)\n",
    "    print(\"Test Accuracy: %.2f%%\" % (accuracy * 100.0))\n",
    "    print(\"Test Time:%.2f sec\"%(time.time()-stime))\n",
    "    \n",
    "    stime=time.time()\n",
    "    preds_test_probs = bestModel.predict_proba(X_test_all)\n",
    "    qid2c,qid2indexmap = load_ranking(\"test\")\n",
    "    print (mrrwrapper(qid2c,qid2indexmap,preds_test_probs))\n",
    "    mrr, pAt1, pAt3 = mrrwrapper(qid2c,qid2indexmap,preds_test_probs)\n",
    "    mrrScore.append(mrr)\n",
    "    print(\"MRR:\",mrr)\n",
    "    print(\"MRR Time:%.2f sec\"%(time.time()-stime))\n",
    "    \n",
    "    precisionAt1.append(pAt1)\n",
    "    precisionAt3.append(pAt3)\n",
    "    \n",
    "    #input()\n",
    "print (valAccuracy)\n",
    "print (testAccuracy)\n",
    "print (mrrScore)\n",
    "print (precisionAt1)\n",
    "print (precisionAt3)"
   ]
  },
  {
   "cell_type": "code",
   "execution_count": 21,
   "metadata": {},
   "outputs": [],
   "source": [
    "def accuracyVisualization():\n",
    "    ''' Plots the data points with the centroids\n",
    "    '''\n",
    "    fig = plt.figure()\n",
    "    ax = plt.axes()\n",
    "    ax.plot(n_trainSamples,testAccuracy,label='TestAccuracy vs TrainData',marker='o')\n",
    "    ax.plot(n_trainSamples,valAccuracy,label='ValAccuracy vs TrainData',marker='.')\n",
    "    plt.title(\"Scores vs TrainData\")\n",
    "    plt.legend()\n",
    "    plt.xlabel(\"TrainData\")\n",
    "    plt.ylabel(\"Scores\")\n",
    "    fig.savefig(\"Perceptron_Accuracy_all.png\")\n",
    "    plt.show()"
   ]
  },
  {
   "cell_type": "code",
   "execution_count": 22,
   "metadata": {},
   "outputs": [
    {
     "data": {
      "image/png": "[encoded data removed]",
      "text/plain": [
       "<Figure size 432x288 with 1 Axes>"
      ]
     },
     "metadata": {
      "needs_background": "light"
     },
     "output_type": "display_data"
    }
   ],
   "source": [
    "accuracyVisualization()"
   ]
  },
  {
   "cell_type": "code",
   "execution_count": 23,
   "metadata": {},
   "outputs": [],
   "source": [
    "def mrrVisualization():\n",
    "    ''' Plots the data points with the centroids\n",
    "    '''\n",
    "    fig = plt.figure()\n",
    "    ax = plt.axes()\n",
    "    ax.plot(n_trainSamples,mrrScore,label='MRR vs TrainData',marker='x')\n",
    "    plt.title(\"Scores vs TrainData\")\n",
    "    plt.legend()\n",
    "    plt.xlabel(\"TrainData\")\n",
    "    plt.ylabel(\"Scores\")\n",
    "    fig.savefig(\"Perceptron_Mrr_all.png\")\n",
    "    plt.show()"
   ]
  },
  {
   "cell_type": "code",
   "execution_count": 24,
   "metadata": {},
   "outputs": [
    {
     "data": {
      "image/png": "[encoded data removed]",
      "text/plain": [
       "<Figure size 432x288 with 1 Axes>"
      ]
     },
     "metadata": {
      "needs_background": "light"
     },
     "output_type": "display_data"
    }
   ],
   "source": [
    "mrrVisualization()"
   ]
  },
  {
   "cell_type": "code",
   "execution_count": 25,
   "metadata": {},
   "outputs": [],
   "source": [
    "#Precision @1 and Precision @2 Visualizations\n",
    "def precisionVisualization():\n",
    "    ''' Plots the data points with the centroids\n",
    "    '''\n",
    "    fig = plt.figure()\n",
    "    ax = plt.axes()\n",
    "    ax.plot(n_trainSamples,precisionAt1,label='Precision@1 vs TrainData',marker='x')\n",
    "    ax.plot(n_trainSamples,precisionAt3,label='Precision@3 vs TrainData',marker='o')\n",
    "    plt.title(\"Precision Scores vs TrainData\")\n",
    "    plt.legend()\n",
    "    plt.xlabel(\"TrainData\")\n",
    "    plt.ylabel(\"Scores\")\n",
    "    fig.savefig(\"Perceptron_Precision_all.png\")\n",
    "    plt.show()"
   ]
  },
  {
   "cell_type": "code",
   "execution_count": 26,
   "metadata": {},
   "outputs": [
    {
     "data": {
      "image/png": "[encoded data removed]",
      "text/plain": [
       "<Figure size 432x288 with 1 Axes>"
      ]
     },
     "metadata": {
      "needs_background": "light"
     },
     "output_type": "display_data"
    }
   ],
   "source": [
    "precisionVisualization()"
   ]
  },
  {
   "cell_type": "code",
   "execution_count": null,
   "metadata": {},
   "outputs": [],
   "source": []
  }
 ],
 "metadata": {
  "kernelspec": {
   "display_name": "Python 3",
   "language": "python",
   "name": "python3"
  },
  "language_info": {
   "codemirror_mode": {
    "name": "ipython",
    "version": 3
   },
   "file_extension": ".py",
   "mimetype": "text/x-python",
   "name": "python",
   "nbconvert_exporter": "python",
   "pygments_lexer": "ipython3",
   "version": "3.5.6"
  }
 },
 "nbformat": 4,
 "nbformat_minor": 2
}
