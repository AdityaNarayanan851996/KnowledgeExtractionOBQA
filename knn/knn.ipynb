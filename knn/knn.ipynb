{
 "cells": [
  {
   "cell_type": "code",
   "execution_count": 4,
   "metadata": {},
   "outputs": [],
   "source": [
    "import xgboost as xbg\n",
    "import pandas as pd\n",
    "import numpy as np\n",
    "import matplotlib.pyplot as plt\n",
    "import json\n",
    "import pickle\n",
    "import joblib\n",
    "\n",
    "%matplotlib inline\n",
    "# comment 1"
   ]
  },
  {
   "cell_type": "code",
   "execution_count": 5,
   "metadata": {},
   "outputs": [],
   "source": [
    "def load_cls(fname):\n",
    "    return np.array(pickle.load(open(fname,\"rb\")))\n",
    "# add path to .p file\n",
    "path = \"/scratch/pbanerj6/sml-dataset/\"\n",
    "\n",
    "X_train_cls = load_cls(path+\"X_train_cls.p\")\n",
    "X_val_cls = load_cls(path+\"X_val_cls.p\")"
   ]
  },
  {
   "cell_type": "code",
   "execution_count": 6,
   "metadata": {},
   "outputs": [],
   "source": [
    "y_train = load_cls(path+\"y_train.p\")\n",
    "y_val = load_cls(path+\"y_val.p\")"
   ]
  },
  {
   "cell_type": "code",
   "execution_count": 7,
   "metadata": {},
   "outputs": [],
   "source": [
    "from xgboost import XGBClassifier\n",
    "\n",
    "model = XGBClassifier(n_jobs=-1,verbosity=2)"
   ]
  },
  {
   "cell_type": "code",
   "execution_count": 8,
   "metadata": {},
   "outputs": [
    {
     "name": "stdout",
     "output_type": "stream",
     "text": [
      "[0]\tvalidation_0-error:0.4378\n",
      "[1]\tvalidation_0-error:0.4322\n",
      "[2]\tvalidation_0-error:0.429\n",
      "[3]\tvalidation_0-error:0.417933\n",
      "[4]\tvalidation_0-error:0.416933\n",
      "[5]\tvalidation_0-error:0.410267\n",
      "[6]\tvalidation_0-error:0.407267\n",
      "[7]\tvalidation_0-error:0.408467\n",
      "[8]\tvalidation_0-error:0.405267\n",
      "[9]\tvalidation_0-error:0.400933\n",
      "[10]\tvalidation_0-error:0.398467\n",
      "[11]\tvalidation_0-error:0.405867\n",
      "[12]\tvalidation_0-error:0.399733\n",
      "[13]\tvalidation_0-error:0.400067\n",
      "[14]\tvalidation_0-error:0.397467\n",
      "[15]\tvalidation_0-error:0.398533\n",
      "[16]\tvalidation_0-error:0.398533\n",
      "[17]\tvalidation_0-error:0.399667\n",
      "[18]\tvalidation_0-error:0.397933\n",
      "[19]\tvalidation_0-error:0.398133\n",
      "[20]\tvalidation_0-error:0.394933\n",
      "[21]\tvalidation_0-error:0.392133\n",
      "[22]\tvalidation_0-error:0.388867\n",
      "[23]\tvalidation_0-error:0.391867\n",
      "[24]\tvalidation_0-error:0.391667\n",
      "[25]\tvalidation_0-error:0.3908\n",
      "[26]\tvalidation_0-error:0.3898\n",
      "[27]\tvalidation_0-error:0.3882\n",
      "[28]\tvalidation_0-error:0.3858\n",
      "[29]\tvalidation_0-error:0.3858\n",
      "[30]\tvalidation_0-error:0.382\n",
      "[31]\tvalidation_0-error:0.383667\n",
      "[32]\tvalidation_0-error:0.381133\n",
      "[33]\tvalidation_0-error:0.382133\n",
      "[34]\tvalidation_0-error:0.382533\n",
      "[35]\tvalidation_0-error:0.383667\n",
      "[36]\tvalidation_0-error:0.383867\n",
      "[37]\tvalidation_0-error:0.381133\n",
      "[38]\tvalidation_0-error:0.3806\n",
      "[39]\tvalidation_0-error:0.383333\n",
      "[40]\tvalidation_0-error:0.385867\n",
      "[41]\tvalidation_0-error:0.385867\n",
      "[42]\tvalidation_0-error:0.384067\n",
      "[43]\tvalidation_0-error:0.383267\n",
      "[44]\tvalidation_0-error:0.382733\n",
      "[45]\tvalidation_0-error:0.382533\n",
      "[46]\tvalidation_0-error:0.3842\n",
      "[47]\tvalidation_0-error:0.383133\n",
      "[48]\tvalidation_0-error:0.384533\n",
      "[49]\tvalidation_0-error:0.381\n",
      "[50]\tvalidation_0-error:0.3808\n",
      "[51]\tvalidation_0-error:0.3808\n",
      "[52]\tvalidation_0-error:0.380933\n",
      "[53]\tvalidation_0-error:0.380933\n",
      "[54]\tvalidation_0-error:0.379133\n",
      "[55]\tvalidation_0-error:0.378133\n",
      "[56]\tvalidation_0-error:0.379\n",
      "[57]\tvalidation_0-error:0.381\n",
      "[58]\tvalidation_0-error:0.3794\n",
      "[59]\tvalidation_0-error:0.379333\n",
      "[60]\tvalidation_0-error:0.3796\n",
      "[61]\tvalidation_0-error:0.379333\n",
      "[62]\tvalidation_0-error:0.376333\n",
      "[63]\tvalidation_0-error:0.3748\n",
      "[64]\tvalidation_0-error:0.376733\n",
      "[65]\tvalidation_0-error:0.374467\n",
      "[66]\tvalidation_0-error:0.374333\n",
      "[67]\tvalidation_0-error:0.375\n",
      "[68]\tvalidation_0-error:0.373867\n",
      "[69]\tvalidation_0-error:0.377933\n",
      "[70]\tvalidation_0-error:0.375667\n",
      "[71]\tvalidation_0-error:0.3742\n",
      "[72]\tvalidation_0-error:0.375067\n",
      "[73]\tvalidation_0-error:0.3752\n",
      "[74]\tvalidation_0-error:0.376733\n",
      "[75]\tvalidation_0-error:0.377133\n",
      "[76]\tvalidation_0-error:0.377133\n",
      "[77]\tvalidation_0-error:0.376267\n",
      "[78]\tvalidation_0-error:0.378067\n",
      "[79]\tvalidation_0-error:0.376333\n",
      "[80]\tvalidation_0-error:0.377267\n",
      "[81]\tvalidation_0-error:0.3792\n",
      "[82]\tvalidation_0-error:0.378733\n",
      "[83]\tvalidation_0-error:0.3784\n",
      "[84]\tvalidation_0-error:0.3774\n",
      "[85]\tvalidation_0-error:0.376333\n",
      "[86]\tvalidation_0-error:0.377067\n",
      "[87]\tvalidation_0-error:0.3774\n",
      "[88]\tvalidation_0-error:0.377\n",
      "[89]\tvalidation_0-error:0.375267\n",
      "[90]\tvalidation_0-error:0.376067\n",
      "[91]\tvalidation_0-error:0.375867\n",
      "[92]\tvalidation_0-error:0.375333\n",
      "[93]\tvalidation_0-error:0.3774\n",
      "[94]\tvalidation_0-error:0.375733\n",
      "[95]\tvalidation_0-error:0.375533\n",
      "[96]\tvalidation_0-error:0.3754\n",
      "[97]\tvalidation_0-error:0.375267\n",
      "[98]\tvalidation_0-error:0.3752\n",
      "[99]\tvalidation_0-error:0.3752\n"
     ]
    },
    {
     "data": {
      "text/plain": [
       "XGBClassifier(base_score=0.5, booster='gbtree', colsample_bylevel=1,\n",
       "       colsample_bytree=1, gamma=0, learning_rate=0.1, max_delta_step=0,\n",
       "       max_depth=3, min_child_weight=1, missing=None, n_estimators=100,\n",
       "       n_jobs=-1, nthread=None, objective='binary:logistic',\n",
       "       random_state=0, reg_alpha=0, reg_lambda=1, scale_pos_weight=1,\n",
       "       seed=None, silent=True, subsample=1, verbosity=2)"
      ]
     },
     "execution_count": 8,
     "metadata": {},
     "output_type": "execute_result"
    }
   ],
   "source": [
    "model.fit(X_train_cls,y_train,verbose=True,eval_set=[(X_val_cls,y_val)])"
   ]
  },
  {
   "cell_type": "code",
   "execution_count": null,
   "metadata": {},
   "outputs": [],
   "source": []
  },
  {
   "cell_type": "code",
   "execution_count": null,
   "metadata": {},
   "outputs": [],
   "source": []
  },
  {
   "cell_type": "code",
   "execution_count": 9,
   "metadata": {},
   "outputs": [],
   "source": [
    "from sklearn.metrics import accuracy_score"
   ]
  },
  {
   "cell_type": "code",
   "execution_count": 13,
   "metadata": {},
   "outputs": [],
   "source": [
    "preds_val = model.predict(X_val_cls)"
   ]
  },
  {
   "cell_type": "code",
   "execution_count": 14,
   "metadata": {},
   "outputs": [
    {
     "name": "stdout",
     "output_type": "stream",
     "text": [
      "Accuracy: 62.48%\n"
     ]
    }
   ],
   "source": [
    "accuracy = accuracy_score(y_val, preds_val)\n",
    "print(\"Accuracy: %.2f%%\" % (accuracy * 100.0))"
   ]
  },
  {
   "cell_type": "code",
   "execution_count": 15,
   "metadata": {},
   "outputs": [],
   "source": [
    "X_test_cls = load_cls(path+\"X_test_cls.p\")\n",
    "y_test = load_cls(path+\"y_test.p\")"
   ]
  },
  {
   "cell_type": "code",
   "execution_count": 18,
   "metadata": {},
   "outputs": [
    {
     "name": "stdout",
     "output_type": "stream",
     "text": [
      "75000 15000 15000\n"
     ]
    }
   ],
   "source": [
    "print(len(X_train_cls), len(X_test_cls), len(X_val_cls))"
   ]
  },
  {
   "cell_type": "code",
   "execution_count": 16,
   "metadata": {},
   "outputs": [
    {
     "name": "stdout",
     "output_type": "stream",
     "text": [
      "Accuracy: 62.13%\n"
     ]
    }
   ],
   "source": [
    "preds_test = model.predict(X_test_cls)\n",
    "accuracy = accuracy_score(y_test, preds_test)\n",
    "print(\"Accuracy: %.2f%%\" % (accuracy * 100.0))"
   ]
  },
  {
   "cell_type": "code",
   "execution_count": 40,
   "metadata": {},
   "outputs": [
    {
     "data": {
      "text/plain": [
       "768"
      ]
     },
     "execution_count": 40,
     "metadata": {},
     "output_type": "execute_result"
    }
   ],
   "source": [
    "X_test_cls[0].shape[0]"
   ]
  },
  {
   "cell_type": "code",
   "execution_count": 39,
   "metadata": {},
   "outputs": [],
   "source": [
    "from scipy.stats import rankdata\n",
    "\n",
    "def mrrs(out, labels):\n",
    "#     print(out,labels)\n",
    "    outputs = np.argmax(out,axis=1)\n",
    "    mrr = 0.0 \n",
    "    for label,ranks in zip(labels,out):\n",
    "        ranks = rankdata(ranks*-1)\n",
    "        rank = ranks[label]\n",
    "#         print(rank,ranks)\n",
    "        mrr+=1/rank\n",
    "    return mrr/len(labels)\n",
    "\n",
    "def mrrwrapper(qid2c,qid2indexmap,preds_prob):\n",
    "    labels = []\n",
    "    out = []\n",
    "    for qid in qid2c.keys():\n",
    "        scores = []\n",
    "        for ix in qid2indexmap[qid]:\n",
    "            if len(scores) < 6:\n",
    "                scores.append(preds_prob[ix][1])\n",
    "        if len(scores) < 6:\n",
    "            continue\n",
    "        out.append(scores)\n",
    "        labels.append(int(qid2c[qid]))\n",
    "    return mrrs(np.array(out),labels)\n",
    "\n",
    "def load_ranking(fname):\n",
    "    return pickle.load(open(path+\"ranking_\"+fname+\".p\",\"rb\"))"
   ]
  },
  {
   "cell_type": "code",
   "execution_count": 41,
   "metadata": {},
   "outputs": [],
   "source": [
    "preds_test_probs = model.predict_proba(X_test_cls)"
   ]
  },
  {
   "cell_type": "code",
   "execution_count": 42,
   "metadata": {},
   "outputs": [],
   "source": [
    "qid2c,qid2indexmap = load_ranking(\"test\")"
   ]
  },
  {
   "cell_type": "code",
   "execution_count": 43,
   "metadata": {},
   "outputs": [
    {
     "data": {
      "text/plain": [
       "0.5720777777777807"
      ]
     },
     "execution_count": 43,
     "metadata": {},
     "output_type": "execute_result"
    }
   ],
   "source": [
    "mrrwrapper(qid2c,qid2indexmap,preds_test_probs)"
   ]
  },
  {
   "cell_type": "code",
   "execution_count": null,
   "metadata": {},
   "outputs": [],
   "source": []
  }
 ],
 "metadata": {
  "kernelspec": {
   "display_name": "Python 3",
   "language": "python",
   "name": "python3"
  },
  "language_info": {
   "codemirror_mode": {
    "name": "ipython",
    "version": 3
   },
   "file_extension": ".py",
   "mimetype": "text/x-python",
   "name": "python",
   "nbconvert_exporter": "python",
   "pygments_lexer": "ipython3",
   "version": "3.6.8"
  }
 },
 "nbformat": 4,
 "nbformat_minor": 2
}
