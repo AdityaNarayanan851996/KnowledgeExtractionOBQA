{
 "cells": [
  {
   "cell_type": "code",
   "execution_count": 117,
   "metadata": {},
   "outputs": [],
   "source": [
    "import pandas as pd\n",
    "import numpy as np\n",
    "import matplotlib.pyplot as plt\n",
    "import json\n",
    "import pickle\n",
    "import joblib\n",
    "import time\n",
    "np.random.seed(42)"
   ]
  },
  {
   "cell_type": "code",
   "execution_count": 118,
   "metadata": {},
   "outputs": [],
   "source": [
    "def load_cls(fname):\n",
    "    return np.array(pickle.load(open(fname,\"rb\")))"
   ]
  },
  {
   "cell_type": "code",
   "execution_count": 119,
   "metadata": {},
   "outputs": [],
   "source": [
    "path = \"/scratch/pbanerj6/sml-dataset/\"\n",
    "trainSamples = 75000\n",
    "n_iter = 1000\n",
    "n_trainSamples = [100,500,1000,10000,20000,50000,75000]"
   ]
  },
  {
   "cell_type": "code",
   "execution_count": 120,
   "metadata": {},
   "outputs": [],
   "source": [
    "X_train = load_cls(path+\"X_train_tokens.p\")[:trainSamples]\n",
    "X_val_cls = load_cls(path+\"X_val_tokens.p\")"
   ]
  },
  {
   "cell_type": "code",
   "execution_count": 121,
   "metadata": {},
   "outputs": [
    {
     "name": "stdout",
     "output_type": "stream",
     "text": [
      "75000\n"
     ]
    }
   ],
   "source": [
    "print(len(X_train))"
   ]
  },
  {
   "cell_type": "code",
   "execution_count": 122,
   "metadata": {},
   "outputs": [],
   "source": [
    "y_train = load_cls(path+\"y_train.p\")[:trainSamples]\n",
    "y_val = load_cls(path+\"y_val.p\")"
   ]
  },
  {
   "cell_type": "code",
   "execution_count": 123,
   "metadata": {},
   "outputs": [],
   "source": [
    "from sklearn.feature_extraction.text import CountVectorizer\n",
    "\n",
    "def my_preprocessor(doc):\n",
    "    return doc\n",
    "\n",
    "# tokenize the doc and lemmatize its tokens\n",
    "def my_tokenizer(doc):\n",
    "    return doc\n",
    "\n",
    "custom_vec = CountVectorizer(preprocessor=my_preprocessor, tokenizer=my_tokenizer)\n",
    "cwm = custom_vec.fit_transform(X_train)\n",
    "tokens = custom_vec.get_feature_names()"
   ]
  },
  {
   "cell_type": "code",
   "execution_count": 124,
   "metadata": {},
   "outputs": [],
   "source": [
    "from sklearn.feature_extraction.text import TfidfVectorizer,TfidfTransformer\n",
    "from sklearn.pipeline import Pipeline\n",
    "from sklearn import svm"
   ]
  },
  {
   "cell_type": "code",
   "execution_count": 125,
   "metadata": {},
   "outputs": [],
   "source": [
    "feature_pipeline = Pipeline([\n",
    "('vect',  CountVectorizer(min_df=.0025, max_df=0.25, ngram_range=(1,3),preprocessor=my_preprocessor, tokenizer=my_tokenizer)),\n",
    "('tfidf', TfidfTransformer()),\n",
    "])"
   ]
  },
  {
   "cell_type": "code",
   "execution_count": 126,
   "metadata": {},
   "outputs": [],
   "source": [
    "X_train_f = feature_pipeline.fit_transform(X_train)\n",
    "X_val_f =feature_pipeline.transform(X_val_cls)"
   ]
  },
  {
   "cell_type": "code",
   "execution_count": 127,
   "metadata": {},
   "outputs": [],
   "source": [
    "'''\n",
    "from sklearn.model_selection import GridSearchCV\n",
    "parameters = {\n",
    "     'C': [0.001, 0.01, 0.1, 1,10],\n",
    "     'gamma': [0.001, 0.01, 0.1, 1]\n",
    " }\n",
    "'''\n",
    "from sklearn.model_selection import GridSearchCV\n",
    "from sklearn.neighbors import KNeighborsClassifier\n",
    "\n",
    "# cv=3 [1,3,5,7,9,11], [25,39,99,149], [199, 249, 349, 449, 549, 649, 999] done\n",
    "# cv= 5 [1,3,5,7,9,11], [11, 149, 649, 1299] , [1299, 1599, 1999, 2399] done\n",
    "parameters = {\n",
    "     'n_neighbors':[11, 149,1299, 2399]\n",
    " }"
   ]
  },
  {
   "cell_type": "code",
   "execution_count": 128,
   "metadata": {},
   "outputs": [],
   "source": [
    "#gs_clf = GridSearchCV(svm.SVC(verbose=True,probability=True,cache_size=7000,max_iter=n_iter,gamma='auto',kernel='linear'), \n",
    "#                      parameters, cv=5, iid=True, n_jobs=-1, verbose=4)\n",
    "\n",
    "knn = KNeighborsClassifier()\n",
    "\n",
    "gs_clf = GridSearchCV(knn, parameters, cv = 5, n_jobs=-1, verbose=20)  # scoring = 'accuracy'"
   ]
  },
  {
   "cell_type": "code",
   "execution_count": 129,
   "metadata": {},
   "outputs": [
    {
     "name": "stdout",
     "output_type": "stream",
     "text": [
      "Fitting 5 folds for each of 4 candidates, totalling 20 fits\n"
     ]
    },
    {
     "name": "stderr",
     "output_type": "stream",
     "text": [
      "[Parallel(n_jobs=-1)]: Using backend LokyBackend with 20 concurrent workers.\n",
      "[Parallel(n_jobs=-1)]: Done   1 tasks      | elapsed:  3.3min\n",
      "[Parallel(n_jobs=-1)]: Done   3 out of  20 | elapsed:  3.3min remaining: 18.6min\n",
      "[Parallel(n_jobs=-1)]: Done   5 out of  20 | elapsed:  3.3min remaining: 10.0min\n",
      "[Parallel(n_jobs=-1)]: Done   7 out of  20 | elapsed:  3.4min remaining:  6.2min\n",
      "[Parallel(n_jobs=-1)]: Done   9 out of  20 | elapsed:  3.4min remaining:  4.1min\n",
      "[Parallel(n_jobs=-1)]: Done  11 out of  20 | elapsed:  3.5min remaining:  2.8min\n",
      "[Parallel(n_jobs=-1)]: Done  13 out of  20 | elapsed:  3.6min remaining:  1.9min\n",
      "[Parallel(n_jobs=-1)]: Done  15 out of  20 | elapsed:  3.6min remaining:  1.2min\n",
      "[Parallel(n_jobs=-1)]: Done  17 out of  20 | elapsed:  3.7min remaining:   39.3s\n",
      "[Parallel(n_jobs=-1)]: Done  20 out of  20 | elapsed:  3.9min finished\n"
     ]
    }
   ],
   "source": [
    "model = gs_clf.fit(X_train_f, y_train)"
   ]
  },
  {
   "cell_type": "code",
   "execution_count": 130,
   "metadata": {},
   "outputs": [
    {
     "name": "stdout",
     "output_type": "stream",
     "text": [
      "{'mean_fit_time': array([0.06505842, 0.0655117 , 0.0653275 , 0.08417382]), 'std_fit_time': array([0.00039418, 0.00080478, 0.00127651, 0.02924114]), 'mean_score_time': array([39.91837134, 40.29998322, 42.83437505, 45.88284354]), 'std_score_time': array([0.43640255, 0.47351292, 0.5087516 , 0.35165435]), 'param_n_neighbors': masked_array(data=[11, 149, 1299, 2399],\n",
      "             mask=[False, False, False, False],\n",
      "       fill_value='?',\n",
      "            dtype=object), 'params': [{'n_neighbors': 11}, {'n_neighbors': 149}, {'n_neighbors': 1299}, {'n_neighbors': 2399}], 'split0_test_score': array([0.58126667, 0.59353333, 0.60093333, 0.5946    ]), 'split1_test_score': array([0.55853333, 0.57973333, 0.59213333, 0.59453333]), 'split2_test_score': array([0.56246667, 0.59486667, 0.60713333, 0.60413333]), 'split3_test_score': array([0.5562    , 0.5824    , 0.61293333, 0.6222    ]), 'split4_test_score': array([0.56466667, 0.57686667, 0.59946667, 0.59766667]), 'mean_test_score': array([0.56462667, 0.58548   , 0.60252   , 0.60262667]), 'std_test_score': array([0.0088283 , 0.00734392, 0.00706319, 0.0103915 ]), 'rank_test_score': array([4, 3, 2, 1], dtype=int32), 'split0_train_score': array([0.64896667, 0.59875   , 0.61216667, 0.60746667]), 'split1_train_score': array([0.65545   , 0.59923333, 0.61006667, 0.61101667]), 'split2_train_score': array([0.64771667, 0.59598333, 0.60308333, 0.60466667]), 'split3_train_score': array([0.64546667, 0.59923333, 0.60025   , 0.59978333]), 'split4_train_score': array([0.64955   , 0.60385   , 0.60911667, 0.6067    ]), 'mean_train_score': array([0.64943   , 0.59941   , 0.60693667, 0.60592667]), 'std_train_score': array([0.00332003, 0.00252799, 0.00450471, 0.0036934 ])}\n",
      "0.6026266666666666\n",
      "{'n_neighbors': 2399}\n",
      "KNeighborsClassifier(algorithm='auto', leaf_size=30, metric='minkowski',\n",
      "           metric_params=None, n_jobs=None, n_neighbors=2399, p=2,\n",
      "           weights='uniform')\n"
     ]
    }
   ],
   "source": [
    "print (model.cv_results_)\n",
    "\n",
    "print (model.best_score_)\n",
    "print (model.best_params_)\n",
    "print (model.best_estimator_)"
   ]
  },
  {
   "cell_type": "code",
   "execution_count": 16,
   "metadata": {},
   "outputs": [],
   "source": [
    "pickle.dump(model,open(\"knn_\"+str(trainSamples)+\"_\"+str(n_iter)+\".pkl\",'wb'))"
   ]
  },
  {
   "cell_type": "code",
   "execution_count": 108,
   "metadata": {},
   "outputs": [],
   "source": [
    "# plot k vs mean_test_score from  GridSearchCV\n",
    "def GridSearchCV_result():\n",
    "    k_vector= [1,3,5,7,9, 11, 25,39,99,149,649, 1299,1599, 1999, 2399];\n",
    "    accuracy_vector= [  0.53366667, 0.55422667, 0.56184   , 0.56152   , 0.56281333,\n",
    "       0.56462667, # 1,3,5,7,9,11\n",
    "                       0.57049333, 0.57313333, 0.58334667, 0.58548, # 25,39,99, 149\n",
    "                        0.59865333, 0.60252, 0.60024, # 649, 1299,1599\n",
    "                        0.60077333, 0.60262667]; # 1999, 2399\n",
    "        \n",
    "        \n",
    "    fig = plt.figure()\n",
    "    ax = plt.axes()\n",
    "    ax.plot(k_vector,accuracy_vector,label='Accuracy vs k',marker='o')\n",
    "    \n",
    "    plt.title(\"Accuracy vs K\")\n",
    "    plt.legend()\n",
    "    plt.xlabel(\"k\")\n",
    "    plt.ylabel(\"Accuracy\")\n",
    "    fig.savefig(\"knn_k_vs_Acc_plot.png\")\n",
    "    print(\"Best accuracy= %.4f\"%max(accuracy_vector))\n",
    "    #print(accuracy_vector.index(max(accuracy_vector)))\n",
    "    print(\"For k= %d\"%k_vector[accuracy_vector.index(max(accuracy_vector))])\n",
    "\n"
   ]
  },
  {
   "cell_type": "code",
   "execution_count": 109,
   "metadata": {},
   "outputs": [
    {
     "name": "stdout",
     "output_type": "stream",
     "text": [
      "Best accuracy= 0.6026\n",
      "For k= 2399\n"
     ]
    },
    {
     "data": {
      "image/png": "[encoded data removed]",
      "text/plain": [
       "<Figure size 432x288 with 1 Axes>"
      ]
     },
     "metadata": {
      "needs_background": "light"
     },
     "output_type": "display_data"
    }
   ],
   "source": [
    "#GridSearchCV_result()\n"
   ]
  },
  {
   "cell_type": "code",
   "execution_count": 131,
   "metadata": {},
   "outputs": [],
   "source": [
    "X_test = load_cls(path+\"X_test_tokens.p\")\n",
    "y_test = load_cls(path+\"y_test.p\")"
   ]
  },
  {
   "cell_type": "code",
   "execution_count": 132,
   "metadata": {},
   "outputs": [],
   "source": [
    "from scipy.stats import rankdata\n",
    "\n",
    "def mrrs(out, labels):\n",
    "#     print(out,labels)\n",
    "    outputs = np.argmax(out,axis=1)\n",
    "    mrr = 0.0 \n",
    "    for label,ranks in zip(labels,out):\n",
    "        ranks = rankdata(ranks*-1)\n",
    "        rank = ranks[label]\n",
    "#         print(rank,ranks)\n",
    "        mrr+=1/rank\n",
    "    return mrr/len(labels)\n",
    "\n",
    "def precision_at(out,labels,prank=1):\n",
    "    count = 0\n",
    "    for label,ranks in zip(labels,out):\n",
    "        ranks = rankdata(ranks*-1)\n",
    "        rank = ranks[label]\n",
    "#         print(rank,ranks)\n",
    "        if rank <= prank:\n",
    "            count+=1\n",
    "    return count/len(labels)\n",
    "\n",
    "def mrrwrapper(qid2c,qid2indexmap,preds_prob):\n",
    "    labels = []\n",
    "    out = []\n",
    "    for qid in qid2c.keys():\n",
    "        scores = []\n",
    "        for ix in qid2indexmap[qid]:\n",
    "            if len(scores) < 6:\n",
    "                scores.append(preds_prob[ix][1])\n",
    "        if len(scores) < 6:\n",
    "            continue\n",
    "        out.append(scores)\n",
    "        labels.append(int(qid2c[qid]))\n",
    "    return mrrs(np.array(out),labels),precision_at(np.array(out),labels,1),precision_at(np.array(out),labels,3)\n",
    "\n",
    "def load_ranking(fname):\n",
    "    return pickle.load(open(path+\"ranking_\"+fname+\".p\",\"rb\"))"
   ]
  },
  {
   "cell_type": "code",
   "execution_count": 133,
   "metadata": {},
   "outputs": [],
   "source": [
    "from sklearn.metrics import accuracy_score"
   ]
  },
  {
   "cell_type": "code",
   "execution_count": 135,
   "metadata": {},
   "outputs": [
    {
     "name": "stdout",
     "output_type": "stream",
     "text": [
      "SampleSize: 10000\n",
      "Train Time:3.26 sec\n",
      "Validation Accuracy: 54.85%\n",
      "Validation Time:11.14 sec\n",
      "Test Accuracy: 55.55%\n",
      "Test Time:11.03 sec\n",
      "(0.4918338143338158, 0.24466666666666667, 0.6406666666666667)\n",
      "MRR: 0.4918338143338158\n",
      "MRR Time:9.61 sec\n",
      "------------------------------------\n",
      "SampleSize: 20000\n",
      "Train Time:5.83 sec\n",
      "Validation Accuracy: 56.15%\n",
      "Validation Time:16.10 sec\n",
      "Test Accuracy: 56.11%\n",
      "Test Time:16.14 sec\n",
      "(0.4927012987013, 0.25, 0.6426666666666667)\n",
      "MRR: 0.4927012987013\n",
      "MRR Time:15.12 sec\n",
      "------------------------------------\n",
      "SampleSize: 50000\n",
      "Train Time:14.72 sec\n",
      "Validation Accuracy: 56.93%\n",
      "Validation Time:27.34 sec\n",
      "Test Accuracy: 56.93%\n",
      "Test Time:30.46 sec\n",
      "(0.5045356421356427, 0.264, 0.648)\n",
      "MRR: 0.5045356421356427\n",
      "MRR Time:28.34 sec\n",
      "------------------------------------\n",
      "SampleSize: 75000\n",
      "Train Time:21.82 sec\n",
      "Validation Accuracy: 57.31%\n",
      "Validation Time:39.07 sec\n",
      "Test Accuracy: 56.67%\n",
      "Test Time:39.04 sec\n",
      "(0.5033464165464173, 0.266, 0.6466666666666666)\n",
      "MRR: 0.5033464165464173\n",
      "MRR Time:42.41 sec\n",
      "------------------------------------\n"
     ]
    }
   ],
   "source": [
    "\n",
    "n_trainSamples = [10000,20000,50000,75000] # edited to have size> 2399 (best k)\n",
    "\n",
    "valAccuracy = []\n",
    "testAccuracy = []\n",
    "mrrScore = []\n",
    "precisionAt1 = []\n",
    "precisionAt3 = []\n",
    "\n",
    "# For each of training sample sizes\n",
    "for eachTrain in n_trainSamples:\n",
    "    \n",
    "    # Model with best values from grid search\n",
    "    '''\n",
    "    bestModel = svm.SVC(verbose=True,\n",
    "                        probability=True,\n",
    "                        cache_size=7000,\n",
    "                        max_iter=n_iter,\n",
    "                        gamma=model.best_params_['gamma'],\n",
    "                        kernel='linear',\n",
    "                        C=model.best_params_['C'])\n",
    "    '''\n",
    "    bestModel = KNeighborsClassifier(n_neighbors= model.best_params_['n_neighbors'],  algorithm='auto',n_jobs=-1)\n",
    "\n",
    "    print(\"SampleSize:\",eachTrain)\n",
    "    \n",
    "    stime=time.time()\n",
    "    X_train_f = feature_pipeline.fit_transform(X_train[:eachTrain])\n",
    "    bestModel.fit(X_train_f,y_train[:eachTrain])   \n",
    "    print(\"Train Time:%.2f sec\"%(time.time()-stime))\n",
    "    \n",
    "    stime=time.time()\n",
    "    X_val_f = feature_pipeline.transform(X_val_cls)\n",
    "    preds_val = bestModel.predict(X_val_f)\n",
    "    accuracy = round(accuracy_score(y_val, preds_val),4)\n",
    "    valAccuracy.append(accuracy)\n",
    "    print(\"Validation Accuracy: %.2f%%\" % (accuracy * 100.0))\n",
    "    print(\"Validation Time:%.2f sec\"%(time.time()-stime))\n",
    "\n",
    "    stime=time.time()\n",
    "    X_test_f = feature_pipeline.transform(X_test)\n",
    "    preds_test = bestModel.predict(X_test_f)\n",
    "    accuracy = round(accuracy_score(y_test, preds_test),4)\n",
    "    testAccuracy.append(accuracy)\n",
    "    print(\"Test Accuracy: %.2f%%\" % (accuracy * 100.0))\n",
    "    print(\"Test Time:%.2f sec\"%(time.time()-stime))\n",
    "    \n",
    "    stime=time.time()\n",
    "    preds_test_probs = bestModel.predict_proba(X_test_f)\n",
    "    qid2c,qid2indexmap = load_ranking(\"test\")\n",
    "    print (mrrwrapper(qid2c,qid2indexmap,preds_test_probs))\n",
    "    mrr, pAt1, pAt3 = mrrwrapper(qid2c,qid2indexmap,preds_test_probs)\n",
    "    mrrScore.append(mrr)\n",
    "    print(\"MRR:\",mrr)\n",
    "    print(\"MRR Time:%.2f sec\"%(time.time()-stime))\n",
    "    print(\"------------------------------------\")\n",
    "    precisionAt1.append(pAt1)\n",
    "    precisionAt3.append(pAt3)\n",
    "    "
   ]
  },
  {
   "cell_type": "code",
   "execution_count": 143,
   "metadata": {},
   "outputs": [
    {
     "name": "stdout",
     "output_type": "stream",
     "text": [
      "Val accuracy:\n",
      "[0.5485, 0.5615, 0.5693, 0.5731]\n",
      "Test accuracy:\n",
      "[0.5555, 0.5611, 0.5693, 0.5667]\n",
      "MRR score:\n",
      "[0.4918338143338158, 0.4927012987013, 0.5045356421356427, 0.5033464165464173]\n",
      "precision At1:\n",
      "[0.24466666666666667, 0.25, 0.264, 0.266]\n",
      "precision At3:\n",
      "[0.6406666666666667, 0.6426666666666667, 0.648, 0.6466666666666666]\n"
     ]
    }
   ],
   "source": [
    "\n",
    "print (\"Val accuracy:\")\n",
    "print (valAccuracy)\n",
    "print (\"Test accuracy:\")\n",
    "print (testAccuracy)\n",
    "print (\"MRR score:\")\n",
    "print (mrrScore)\n",
    "print (\"precision At1:\")\n",
    "print (precisionAt1)\n",
    "print (\"precision At3:\")\n",
    "print (precisionAt3)"
   ]
  },
  {
   "cell_type": "code",
   "execution_count": 137,
   "metadata": {},
   "outputs": [],
   "source": [
    "def accuracyVisualization():\n",
    "    ''' Plots the data points with the centroids\n",
    "    '''\n",
    "    fig = plt.figure()\n",
    "    ax = plt.axes()\n",
    "    ax.plot(n_trainSamples,testAccuracy,label='TestAccuracy vs TrainData',marker='o')\n",
    "    ax.plot(n_trainSamples,valAccuracy,label='ValAccuracy vs TrainData',marker='.')\n",
    "    plt.title(\"Accuracy vs TrainData size\")\n",
    "    plt.legend()\n",
    "    plt.xlabel(\"TrainData size\")\n",
    "    plt.ylabel(\"Accuracy\")\n",
    "    fig.savefig(\"knn2399_Tokens_Accuracy.png\")\n",
    "    #plt.show()"
   ]
  },
  {
   "cell_type": "code",
   "execution_count": 138,
   "metadata": {},
   "outputs": [
    {
     "data": {
      "image/png": "[encoded data removed]",
      "text/plain": [
       "<Figure size 432x288 with 1 Axes>"
      ]
     },
     "metadata": {
      "needs_background": "light"
     },
     "output_type": "display_data"
    }
   ],
   "source": [
    "accuracyVisualization()"
   ]
  },
  {
   "cell_type": "code",
   "execution_count": 139,
   "metadata": {},
   "outputs": [],
   "source": [
    "def mrrVisualization():\n",
    "    ''' Plots the data points with the centroids\n",
    "    '''\n",
    "    fig = plt.figure()\n",
    "    ax = plt.axes()\n",
    "    ax.plot(n_trainSamples,mrrScore,label='MRR vs TrainData',marker='x')\n",
    "    plt.title(\"MRR vs TrainData size\")\n",
    "    plt.legend()\n",
    "    plt.xlabel(\"TrainData size\")\n",
    "    plt.ylabel(\"MRR\")\n",
    "    fig.savefig(\"knn2399_Tokens_Mrr.png\")\n",
    "    plt.show()"
   ]
  },
  {
   "cell_type": "code",
   "execution_count": 140,
   "metadata": {},
   "outputs": [
    {
     "data": {
      "image/png": "[encoded data removed]",
      "text/plain": [
       "<Figure size 432x288 with 1 Axes>"
      ]
     },
     "metadata": {
      "needs_background": "light"
     },
     "output_type": "display_data"
    }
   ],
   "source": [
    "mrrVisualization()"
   ]
  },
  {
   "cell_type": "code",
   "execution_count": 141,
   "metadata": {},
   "outputs": [],
   "source": [
    "def precisionVisualization():\n",
    "    fig = plt.figure()\n",
    "    ax = plt.axes()\n",
    "    ax.plot(n_trainSamples,precisionAt1,label='Precision@1 vs TrainData',marker='o')\n",
    "    ax.plot(n_trainSamples,precisionAt3,label='Precision@3 vs TrainData',marker='x')\n",
    "    plt.title(\"Precision vs TrainData size\")\n",
    "    plt.legend()\n",
    "    plt.xlabel(\"TrainData size\")\n",
    "    plt.ylabel(\"Precision\")\n",
    "    fig.savefig(\"knn2399_Tokens_Precision.png\")\n",
    "    #plt.show()"
   ]
  },
  {
   "cell_type": "code",
   "execution_count": 142,
   "metadata": {},
   "outputs": [
    {
     "data": {
      "image/png": "[encoded data removed]",
      "text/plain": [
       "<Figure size 432x288 with 1 Axes>"
      ]
     },
     "metadata": {
      "needs_background": "light"
     },
     "output_type": "display_data"
    }
   ],
   "source": [
    "precisionVisualization()"
   ]
  },
  {
   "cell_type": "code",
   "execution_count": null,
   "metadata": {},
   "outputs": [],
   "source": []
  }
 ],
 "metadata": {
  "kernelspec": {
   "display_name": "Python 3",
   "language": "python",
   "name": "python3"
  },
  "language_info": {
   "codemirror_mode": {
    "name": "ipython",
    "version": 3
   },
   "file_extension": ".py",
   "mimetype": "text/x-python",
   "name": "python",
   "nbconvert_exporter": "python",
   "pygments_lexer": "ipython3",
   "version": "3.6.8"
  }
 },
 "nbformat": 4,
 "nbformat_minor": 2
}
