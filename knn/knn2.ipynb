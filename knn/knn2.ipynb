{
 "cells": [
  {
   "cell_type": "code",
   "execution_count": 1,
   "metadata": {},
   "outputs": [],
   "source": [
    "import pandas as pd\n",
    "import numpy as np\n",
    "import matplotlib.pyplot as plt\n",
    "import json\n",
    "import pickle\n",
    "import joblib\n",
    "import time\n",
    "np.random.seed(42)"
   ]
  },
  {
   "cell_type": "code",
   "execution_count": 2,
   "metadata": {},
   "outputs": [],
   "source": [
    "def load_cls(fname):\n",
    "    return np.array(pickle.load(open(fname,\"rb\")))"
   ]
  },
  {
   "cell_type": "code",
   "execution_count": 3,
   "metadata": {},
   "outputs": [],
   "source": [
    "path = \"/scratch/pbanerj6/sml-dataset/\"\n",
    "trainSamples = 75000\n",
    "n_iter = 1000\n",
    "n_trainSamples = [100,500,1000,10000,20000,50000,75000]"
   ]
  },
  {
   "cell_type": "code",
   "execution_count": 4,
   "metadata": {},
   "outputs": [],
   "source": [
    "X_train = load_cls(path+\"X_train_tokens.p\")[:trainSamples]\n",
    "X_val_cls = load_cls(path+\"X_val_tokens.p\")"
   ]
  },
  {
   "cell_type": "code",
   "execution_count": 5,
   "metadata": {},
   "outputs": [
    {
     "name": "stdout",
     "output_type": "stream",
     "text": [
      "75000\n"
     ]
    }
   ],
   "source": [
    "print(len(X_train))"
   ]
  },
  {
   "cell_type": "code",
   "execution_count": 6,
   "metadata": {},
   "outputs": [],
   "source": [
    "y_train = load_cls(path+\"y_train.p\")[:trainSamples]\n",
    "y_val = load_cls(path+\"y_val.p\")"
   ]
  },
  {
   "cell_type": "code",
   "execution_count": 7,
   "metadata": {},
   "outputs": [],
   "source": [
    "from sklearn.feature_extraction.text import CountVectorizer\n",
    "\n",
    "def my_preprocessor(doc):\n",
    "    return doc\n",
    "\n",
    "# tokenize the doc and lemmatize its tokens\n",
    "def my_tokenizer(doc):\n",
    "    return doc\n",
    "\n",
    "custom_vec = CountVectorizer(preprocessor=my_preprocessor, tokenizer=my_tokenizer)\n",
    "cwm = custom_vec.fit_transform(X_train)\n",
    "tokens = custom_vec.get_feature_names()"
   ]
  },
  {
   "cell_type": "code",
   "execution_count": 8,
   "metadata": {},
   "outputs": [],
   "source": [
    "from sklearn.feature_extraction.text import TfidfVectorizer,TfidfTransformer\n",
    "from sklearn.pipeline import Pipeline\n",
    "from sklearn import svm"
   ]
  },
  {
   "cell_type": "code",
   "execution_count": 9,
   "metadata": {},
   "outputs": [],
   "source": [
    "feature_pipeline = Pipeline([\n",
    "('vect',  CountVectorizer(min_df=.0025, max_df=0.25, ngram_range=(1,3),preprocessor=my_preprocessor, tokenizer=my_tokenizer)),\n",
    "('tfidf', TfidfTransformer()),\n",
    "])"
   ]
  },
  {
   "cell_type": "code",
   "execution_count": 10,
   "metadata": {},
   "outputs": [],
   "source": [
    "X_train_f = feature_pipeline.fit_transform(X_train)\n",
    "X_val_f =feature_pipeline.transform(X_val_cls)"
   ]
  },
  {
   "cell_type": "code",
   "execution_count": 82,
   "metadata": {},
   "outputs": [],
   "source": [
    "'''\n",
    "from sklearn.model_selection import GridSearchCV\n",
    "parameters = {\n",
    "     'C': [0.001, 0.01, 0.1, 1,10],\n",
    "     'gamma': [0.001, 0.01, 0.1, 1]\n",
    " }\n",
    "'''\n",
    "from sklearn.model_selection import GridSearchCV\n",
    "from sklearn.neighbors import KNeighborsClassifier\n",
    "\n",
    "# cv=3 [1,3,5,7,9,11], [25,39,99,149], [199, 249, 349, 449, 549, 649, 999] done\n",
    "# cv= 5 [1,3,5,7,9,11], [11, 149, 649, 1299] , [1299, 1599, 1999, 2399] done\n",
    "parameters = {\n",
    "     'n_neighbors':[1,3,5,7,9,11]\n",
    " }"
   ]
  },
  {
   "cell_type": "code",
   "execution_count": 83,
   "metadata": {},
   "outputs": [],
   "source": [
    "#gs_clf = GridSearchCV(svm.SVC(verbose=True,probability=True,cache_size=7000,max_iter=n_iter,gamma='auto',kernel='linear'), \n",
    "#                      parameters, cv=5, iid=True, n_jobs=-1, verbose=4)\n",
    "\n",
    "knn = KNeighborsClassifier()\n",
    "\n",
    "gs_clf = GridSearchCV(knn, parameters, cv = 5, n_jobs=-1, verbose=20)  # scoring = 'accuracy'"
   ]
  },
  {
   "cell_type": "code",
   "execution_count": 84,
   "metadata": {},
   "outputs": [
    {
     "name": "stdout",
     "output_type": "stream",
     "text": [
      "Fitting 5 folds for each of 6 candidates, totalling 30 fits\n"
     ]
    },
    {
     "name": "stderr",
     "output_type": "stream",
     "text": [
      "[Parallel(n_jobs=-1)]: Using backend LokyBackend with 20 concurrent workers.\n",
      "[Parallel(n_jobs=-1)]: Done   1 tasks      | elapsed:  2.8min\n",
      "[Parallel(n_jobs=-1)]: Done   3 out of  30 | elapsed:  3.0min remaining: 27.0min\n",
      "[Parallel(n_jobs=-1)]: Done   5 out of  30 | elapsed:  3.1min remaining: 15.4min\n",
      "[Parallel(n_jobs=-1)]: Done   7 out of  30 | elapsed:  3.1min remaining: 10.2min\n",
      "[Parallel(n_jobs=-1)]: Done   9 out of  30 | elapsed:  3.2min remaining:  7.6min\n",
      "[Parallel(n_jobs=-1)]: Done  11 out of  30 | elapsed:  3.3min remaining:  5.7min\n",
      "[Parallel(n_jobs=-1)]: Done  13 out of  30 | elapsed:  3.3min remaining:  4.4min\n",
      "[Parallel(n_jobs=-1)]: Done  15 out of  30 | elapsed:  3.4min remaining:  3.4min\n",
      "[Parallel(n_jobs=-1)]: Done  17 out of  30 | elapsed:  3.4min remaining:  2.6min\n",
      "[Parallel(n_jobs=-1)]: Done  19 out of  30 | elapsed:  3.5min remaining:  2.1min\n",
      "[Parallel(n_jobs=-1)]: Done  21 out of  30 | elapsed:  5.8min remaining:  2.5min\n",
      "[Parallel(n_jobs=-1)]: Done  23 out of  30 | elapsed:  6.0min remaining:  1.8min\n",
      "[Parallel(n_jobs=-1)]: Done  25 out of  30 | elapsed:  6.1min remaining:  1.2min\n",
      "[Parallel(n_jobs=-1)]: Done  27 out of  30 | elapsed:  6.1min remaining:   40.8s\n",
      "[Parallel(n_jobs=-1)]: Done  30 out of  30 | elapsed:  6.2min finished\n"
     ]
    }
   ],
   "source": [
    "model = gs_clf.fit(X_train_f, y_train)"
   ]
  },
  {
   "cell_type": "code",
   "execution_count": 85,
   "metadata": {},
   "outputs": [
    {
     "name": "stdout",
     "output_type": "stream",
     "text": [
      "{'mean_fit_time': array([0.06924853, 0.06816459, 0.06591125, 0.06491127, 0.06932025,\n",
      "       0.07154546]), 'std_fit_time': array([0.00266715, 0.00335584, 0.00125224, 0.00126522, 0.00417524,\n",
      "       0.00632631]), 'mean_score_time': array([36.57488112, 38.07897406, 41.80879498, 41.32656112, 37.31197934,\n",
      "       37.14704642]), 'std_score_time': array([1.37064061, 1.27924699, 1.17841473, 0.68314205, 0.5714651 ,\n",
      "       0.69325667]), 'param_n_neighbors': masked_array(data=[1, 3, 5, 7, 9, 11],\n",
      "             mask=[False, False, False, False, False, False],\n",
      "       fill_value='?',\n",
      "            dtype=object), 'params': [{'n_neighbors': 1}, {'n_neighbors': 3}, {'n_neighbors': 5}, {'n_neighbors': 7}, {'n_neighbors': 9}, {'n_neighbors': 11}], 'split0_test_score': array([0.553     , 0.5674    , 0.57473333, 0.5754    , 0.574     ,\n",
      "       0.58126667]), 'split1_test_score': array([0.54333333, 0.56193333, 0.56353333, 0.55873333, 0.5598    ,\n",
      "       0.55853333]), 'split2_test_score': array([0.52133333, 0.55386667, 0.56413333, 0.57186667, 0.5718    ,\n",
      "       0.56246667]), 'split3_test_score': array([0.52246667, 0.5362    , 0.55206667, 0.5494    , 0.55066667,\n",
      "       0.5562    ]), 'split4_test_score': array([0.5282    , 0.55173333, 0.55473333, 0.5522    , 0.5578    ,\n",
      "       0.56466667]), 'mean_test_score': array([0.53366667, 0.55422667, 0.56184   , 0.56152   , 0.56281333,\n",
      "       0.56462667]), 'std_test_score': array([0.01244715, 0.01062296, 0.00800484, 0.01040414, 0.00880519,\n",
      "       0.0088283 ]), 'rank_test_score': array([6, 5, 3, 4, 2, 1], dtype=int32), 'split0_train_score': array([0.99875   , 0.89003333, 0.8029    , 0.7366    , 0.68505   ,\n",
      "       0.64896667]), 'split1_train_score': array([0.99858333, 0.89308333, 0.80378333, 0.73945   , 0.68906667,\n",
      "       0.65545   ]), 'split2_train_score': array([0.99891667, 0.89185   , 0.8042    , 0.73943333, 0.6886    ,\n",
      "       0.64771667]), 'split3_train_score': array([0.999     , 0.89123333, 0.806     , 0.74146667, 0.6909    ,\n",
      "       0.64546667]), 'split4_train_score': array([0.99875   , 0.89153333, 0.80441667, 0.74013333, 0.68926667,\n",
      "       0.64955   ]), 'mean_train_score': array([0.9988    , 0.89154667, 0.80426   , 0.73941667, 0.68857667,\n",
      "       0.64943   ]), 'std_train_score': array([0.0001453 , 0.00098406, 0.00101317, 0.00159067, 0.00192624,\n",
      "       0.00332003])}\n",
      "0.5646266666666667\n",
      "{'n_neighbors': 11}\n",
      "KNeighborsClassifier(algorithm='auto', leaf_size=30, metric='minkowski',\n",
      "           metric_params=None, n_jobs=None, n_neighbors=11, p=2,\n",
      "           weights='uniform')\n"
     ]
    }
   ],
   "source": [
    "print (model.cv_results_)\n",
    "\n",
    "print (model.best_score_)\n",
    "print (model.best_params_)\n",
    "print (model.best_estimator_)"
   ]
  },
  {
   "cell_type": "code",
   "execution_count": 16,
   "metadata": {},
   "outputs": [],
   "source": [
    "pickle.dump(model,open(\"knn_\"+str(trainSamples)+\"_\"+str(n_iter)+\".pkl\",'wb'))"
   ]
  },
  {
   "cell_type": "code",
   "execution_count": 108,
   "metadata": {},
   "outputs": [],
   "source": [
    "# plot k vs mean_test_score from  GridSearchCV\n",
    "def GridSearchCV_result():\n",
    "    k_vector= [1,3,5,7,9, 11, 25,39,99,149,649, 1299,1599, 1999, 2399];\n",
    "    accuracy_vector= [  0.53366667, 0.55422667, 0.56184   , 0.56152   , 0.56281333,\n",
    "       0.56462667, # 1,3,5,7,9,11\n",
    "                       0.57049333, 0.57313333, 0.58334667, 0.58548, # 25,39,99, 149\n",
    "                        0.59865333, 0.60252, 0.60024, # 649, 1299,1599\n",
    "                        0.60077333, 0.60262667]; # 1999, 2399\n",
    "        \n",
    "        \n",
    "    fig = plt.figure()\n",
    "    ax = plt.axes()\n",
    "    ax.plot(k_vector,accuracy_vector,label='Accuracy vs k',marker='o')\n",
    "    \n",
    "    plt.title(\"Accuracy vs K\")\n",
    "    plt.legend()\n",
    "    plt.xlabel(\"k\")\n",
    "    plt.ylabel(\"Accuracy\")\n",
    "    fig.savefig(\"knn_k_vs_Acc_plot.png\")\n",
    "    print(\"Best accuracy= %.4f\"%max(accuracy_vector))\n",
    "    #print(accuracy_vector.index(max(accuracy_vector)))\n",
    "    print(\"For k= %d\"%k_vector[accuracy_vector.index(max(accuracy_vector))])\n",
    "\n"
   ]
  },
  {
   "cell_type": "code",
   "execution_count": 109,
   "metadata": {},
   "outputs": [
    {
     "name": "stdout",
     "output_type": "stream",
     "text": [
      "Best accuracy= 0.6026\n",
      "For k= 2399\n"
     ]
    },
    {
     "data": {
      "image/png": "[encoded data removed]",
      "text/plain": [
       "<Figure size 432x288 with 1 Axes>"
      ]
     },
     "metadata": {
      "needs_background": "light"
     },
     "output_type": "display_data"
    }
   ],
   "source": [
    "GridSearchCV_result()\n"
   ]
  },
  {
   "cell_type": "code",
   "execution_count": 17,
   "metadata": {},
   "outputs": [],
   "source": [
    "X_test = load_cls(path+\"X_test_tokens.p\")\n",
    "y_test = load_cls(path+\"y_test.p\")"
   ]
  },
  {
   "cell_type": "code",
   "execution_count": 18,
   "metadata": {},
   "outputs": [],
   "source": [
    "from scipy.stats import rankdata\n",
    "\n",
    "def mrrs(out, labels):\n",
    "#     print(out,labels)\n",
    "    outputs = np.argmax(out,axis=1)\n",
    "    mrr = 0.0 \n",
    "    for label,ranks in zip(labels,out):\n",
    "        ranks = rankdata(ranks*-1)\n",
    "        rank = ranks[label]\n",
    "#         print(rank,ranks)\n",
    "        mrr+=1/rank\n",
    "    return mrr/len(labels)\n",
    "\n",
    "def precision_at(out,labels,prank=1):\n",
    "    count = 0\n",
    "    for label,ranks in zip(labels,out):\n",
    "        ranks = rankdata(ranks*-1)\n",
    "        rank = ranks[label]\n",
    "#         print(rank,ranks)\n",
    "        if rank <= prank:\n",
    "            count+=1\n",
    "    return count/len(labels)\n",
    "\n",
    "def mrrwrapper(qid2c,qid2indexmap,preds_prob):\n",
    "    labels = []\n",
    "    out = []\n",
    "    for qid in qid2c.keys():\n",
    "        scores = []\n",
    "        for ix in qid2indexmap[qid]:\n",
    "            if len(scores) < 6:\n",
    "                scores.append(preds_prob[ix][1])\n",
    "        if len(scores) < 6:\n",
    "            continue\n",
    "        out.append(scores)\n",
    "        labels.append(int(qid2c[qid]))\n",
    "    return mrrs(np.array(out),labels),precision_at(np.array(out),labels,1),precision_at(np.array(out),labels,3)\n",
    "\n",
    "def load_ranking(fname):\n",
    "    return pickle.load(open(path+\"ranking_\"+fname+\".p\",\"rb\"))"
   ]
  },
  {
   "cell_type": "code",
   "execution_count": 19,
   "metadata": {},
   "outputs": [],
   "source": [
    "from sklearn.metrics import accuracy_score"
   ]
  },
  {
   "cell_type": "code",
   "execution_count": 32,
   "metadata": {},
   "outputs": [
    {
     "name": "stdout",
     "output_type": "stream",
     "text": [
      "SampleSize: 100\n",
      "Train Time:0.76 sec\n",
      "Validation Accuracy: 51.38%\n",
      "Validation Time:4.40 sec\n",
      "Test Accuracy: 51.53%\n",
      "Test Time:2.31 sec\n",
      "(0.40136709956709904, 0.12666666666666668, 0.4826666666666667)\n",
      "MRR: 0.40136709956709904\n",
      "MRR Time:0.61 sec\n",
      "------------------------------------\n",
      "SampleSize: 500\n",
      "Train Time:0.13 sec\n",
      "Validation Accuracy: 50.33%\n",
      "Validation Time:2.51 sec\n",
      "Test Accuracy: 50.49%\n",
      "Test Time:2.46 sec\n",
      "(0.3905025012024993, 0.09533333333333334, 0.474)\n",
      "MRR: 0.3905025012024993\n",
      "MRR Time:0.92 sec\n",
      "------------------------------------\n",
      "SampleSize: 1000\n",
      "Train Time:0.26 sec\n",
      "Validation Accuracy: 50.25%\n",
      "Validation Time:2.70 sec\n",
      "Test Accuracy: 50.43%\n",
      "Test Time:2.78 sec\n",
      "(0.3888444925444908, 0.1, 0.418)\n",
      "MRR: 0.3888444925444908\n",
      "MRR Time:1.20 sec\n",
      "------------------------------------\n",
      "SampleSize: 10000\n",
      "Train Time:2.72 sec\n",
      "Validation Accuracy: 54.09%\n",
      "Validation Time:6.85 sec\n",
      "Test Accuracy: 54.51%\n",
      "Test Time:6.88 sec\n",
      "(0.4374924482924472, 0.16266666666666665, 0.514)\n",
      "MRR: 0.4374924482924472\n",
      "MRR Time:5.06 sec\n",
      "------------------------------------\n",
      "SampleSize: 20000\n",
      "Train Time:5.42 sec\n",
      "Validation Accuracy: 54.01%\n",
      "Validation Time:11.91 sec\n",
      "Test Accuracy: 53.81%\n",
      "Test Time:11.80 sec\n",
      "(0.42186507936507844, 0.14133333333333334, 0.49866666666666665)\n",
      "MRR: 0.42186507936507844\n",
      "MRR Time:9.91 sec\n",
      "------------------------------------\n",
      "SampleSize: 50000\n",
      "Train Time:13.83 sec\n",
      "Validation Accuracy: 54.88%\n",
      "Validation Time:25.43 sec\n",
      "Test Accuracy: 53.73%\n",
      "Test Time:25.23 sec\n",
      "(0.4319627224627211, 0.15733333333333333, 0.5186666666666667)\n",
      "MRR: 0.4319627224627211\n",
      "MRR Time:24.00 sec\n",
      "------------------------------------\n",
      "SampleSize: 75000\n",
      "Train Time:20.65 sec\n",
      "Validation Accuracy: 55.35%\n",
      "Validation Time:38.18 sec\n",
      "Test Accuracy: 54.27%\n",
      "Test Time:37.78 sec\n",
      "(0.43009860509860454, 0.14933333333333335, 0.5273333333333333)\n",
      "MRR: 0.43009860509860454\n",
      "MRR Time:36.63 sec\n",
      "------------------------------------\n"
     ]
    }
   ],
   "source": [
    "valAccuracy = []\n",
    "testAccuracy = []\n",
    "mrrScore = []\n",
    "precisionAt1 = []\n",
    "precisionAt3 = []\n",
    "\n",
    "# For each of training sample sizes\n",
    "for eachTrain in n_trainSamples:\n",
    "    \n",
    "    # Model with best values from grid search\n",
    "    '''\n",
    "    bestModel = svm.SVC(verbose=True,\n",
    "                        probability=True,\n",
    "                        cache_size=7000,\n",
    "                        max_iter=n_iter,\n",
    "                        gamma=model.best_params_['gamma'],\n",
    "                        kernel='linear',\n",
    "                        C=model.best_params_['C'])\n",
    "    '''\n",
    "    bestModel = KNeighborsClassifier(n_neighbors= model.best_params_['n_neighbors'],  algorithm='auto',n_jobs=-1)\n",
    "\n",
    "    print(\"SampleSize:\",eachTrain)\n",
    "    \n",
    "    stime=time.time()\n",
    "    X_train_f = feature_pipeline.fit_transform(X_train[:eachTrain])\n",
    "    bestModel.fit(X_train_f,y_train[:eachTrain])   \n",
    "    print(\"Train Time:%.2f sec\"%(time.time()-stime))\n",
    "    \n",
    "    stime=time.time()\n",
    "    X_val_f = feature_pipeline.transform(X_val_cls)\n",
    "    preds_val = bestModel.predict(X_val_f)\n",
    "    accuracy = round(accuracy_score(y_val, preds_val),4)\n",
    "    valAccuracy.append(accuracy)\n",
    "    print(\"Validation Accuracy: %.2f%%\" % (accuracy * 100.0))\n",
    "    print(\"Validation Time:%.2f sec\"%(time.time()-stime))\n",
    "\n",
    "    stime=time.time()\n",
    "    X_test_f = feature_pipeline.transform(X_test)\n",
    "    preds_test = bestModel.predict(X_test_f)\n",
    "    accuracy = round(accuracy_score(y_test, preds_test),4)\n",
    "    testAccuracy.append(accuracy)\n",
    "    print(\"Test Accuracy: %.2f%%\" % (accuracy * 100.0))\n",
    "    print(\"Test Time:%.2f sec\"%(time.time()-stime))\n",
    "    \n",
    "    stime=time.time()\n",
    "    preds_test_probs = bestModel.predict_proba(X_test_f)\n",
    "    qid2c,qid2indexmap = load_ranking(\"test\")\n",
    "    print (mrrwrapper(qid2c,qid2indexmap,preds_test_probs))\n",
    "    mrr, pAt1, pAt3 = mrrwrapper(qid2c,qid2indexmap,preds_test_probs)\n",
    "    mrrScore.append(mrr)\n",
    "    print(\"MRR:\",mrr)\n",
    "    print(\"MRR Time:%.2f sec\"%(time.time()-stime))\n",
    "    print(\"------------------------------------\")\n",
    "    precisionAt1.append(pAt1)\n",
    "    precisionAt3.append(pAt3)\n",
    "    "
   ]
  },
  {
   "cell_type": "code",
   "execution_count": 31,
   "metadata": {},
   "outputs": [
    {
     "name": "stdout",
     "output_type": "stream",
     "text": [
      "Val accuracy:\n",
      "[0.5138, 0.5033, 0.5025, 0.5409, 0.5401, 0.5488, 0.5535]\n",
      "Test accuracy:\n",
      "[0.5153, 0.5049, 0.5043, 0.5451, 0.5381, 0.5373, 0.5427]\n",
      "MRR score:\n",
      "[0.40136709956709904, 0.3905025012024993, 0.3888444925444908, 0.4374924482924472, 0.42186507936507844, 0.4319627224627211, 0.43009860509860454]\n",
      "precision At1:\n",
      "[0.12666666666666668, 0.09533333333333334, 0.1, 0.16266666666666665, 0.14133333333333334, 0.15733333333333333, 0.14933333333333335]\n",
      "precision At3:\n",
      "[0.4826666666666667, 0.474, 0.418, 0.514, 0.49866666666666665, 0.5186666666666667, 0.5273333333333333]\n"
     ]
    }
   ],
   "source": [
    "\n",
    "print (\"Val accuracy:\")\n",
    "print (valAccuracy)\n",
    "print (\"Test accuracy:\")\n",
    "print (testAccuracy)\n",
    "print (\"MRR score:\")\n",
    "print (mrrScore)\n",
    "print (\"precision At1:\")\n",
    "print (precisionAt1)\n",
    "print (\"precision At3:\")\n",
    "print (precisionAt3)"
   ]
  },
  {
   "cell_type": "code",
   "execution_count": 33,
   "metadata": {},
   "outputs": [],
   "source": [
    "def accuracyVisualization():\n",
    "    ''' Plots the data points with the centroids\n",
    "    '''\n",
    "    fig = plt.figure()\n",
    "    ax = plt.axes()\n",
    "    ax.plot(n_trainSamples,testAccuracy,label='TestAccuracy vs TrainData',marker='o')\n",
    "    ax.plot(n_trainSamples,valAccuracy,label='ValAccuracy vs TrainData',marker='.')\n",
    "    plt.title(\"Accuracy vs TrainData size\")\n",
    "    plt.legend()\n",
    "    plt.xlabel(\"TrainData size\")\n",
    "    plt.ylabel(\"Accuracy\")\n",
    "    fig.savefig(\"knn_Tokens_Accuracy.png\")\n",
    "    #plt.show()"
   ]
  },
  {
   "cell_type": "code",
   "execution_count": 34,
   "metadata": {},
   "outputs": [
    {
     "data": {
      "image/png": "[encoded data removed]",
      "text/plain": [
       "<Figure size 432x288 with 1 Axes>"
      ]
     },
     "metadata": {
      "needs_background": "light"
     },
     "output_type": "display_data"
    }
   ],
   "source": [
    "accuracyVisualization()"
   ]
  },
  {
   "cell_type": "code",
   "execution_count": 35,
   "metadata": {},
   "outputs": [],
   "source": [
    "def mrrVisualization():\n",
    "    ''' Plots the data points with the centroids\n",
    "    '''\n",
    "    fig = plt.figure()\n",
    "    ax = plt.axes()\n",
    "    ax.plot(n_trainSamples,mrrScore,label='MRR vs TrainData',marker='x')\n",
    "    plt.title(\"MRR vs TrainData size\")\n",
    "    plt.legend()\n",
    "    plt.xlabel(\"TrainData size\")\n",
    "    plt.ylabel(\"MRR\")\n",
    "    fig.savefig(\"knn_Tokens_Mrr.png\")\n",
    "    plt.show()"
   ]
  },
  {
   "cell_type": "code",
   "execution_count": 36,
   "metadata": {},
   "outputs": [
    {
     "data": {
      "image/png": "[encoded data removed]",
      "text/plain": [
       "<Figure size 432x288 with 1 Axes>"
      ]
     },
     "metadata": {
      "needs_background": "light"
     },
     "output_type": "display_data"
    }
   ],
   "source": [
    "mrrVisualization()"
   ]
  },
  {
   "cell_type": "code",
   "execution_count": 37,
   "metadata": {},
   "outputs": [],
   "source": [
    "def precisionVisualization():\n",
    "    fig = plt.figure()\n",
    "    ax = plt.axes()\n",
    "    ax.plot(n_trainSamples,precisionAt1,label='Precision@1 vs TrainData',marker='o')\n",
    "    ax.plot(n_trainSamples,precisionAt3,label='Precision@3 vs TrainData',marker='x')\n",
    "    plt.title(\"Precision vs TrainData size\")\n",
    "    plt.legend()\n",
    "    plt.xlabel(\"TrainData size\")\n",
    "    plt.ylabel(\"Precision\")\n",
    "    fig.savefig(\"knn_Tokens_Precision.png\")\n",
    "    #plt.show()"
   ]
  },
  {
   "cell_type": "code",
   "execution_count": 38,
   "metadata": {},
   "outputs": [
    {
     "data": {
      "image/png": "[encoded data removed]",
      "text/plain": [
       "<Figure size 432x288 with 1 Axes>"
      ]
     },
     "metadata": {
      "needs_background": "light"
     },
     "output_type": "display_data"
    }
   ],
   "source": [
    "precisionVisualization()"
   ]
  },
  {
   "cell_type": "code",
   "execution_count": null,
   "metadata": {},
   "outputs": [],
   "source": []
  }
 ],
 "metadata": {
  "kernelspec": {
   "display_name": "Python 3",
   "language": "python",
   "name": "python3"
  },
  "language_info": {
   "codemirror_mode": {
    "name": "ipython",
    "version": 3
   },
   "file_extension": ".py",
   "mimetype": "text/x-python",
   "name": "python",
   "nbconvert_exporter": "python",
   "pygments_lexer": "ipython3",
   "version": "3.6.8"
  }
 },
 "nbformat": 4,
 "nbformat_minor": 2
}
