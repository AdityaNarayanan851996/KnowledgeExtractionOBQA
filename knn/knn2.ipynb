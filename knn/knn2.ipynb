{
 "cells": [
  {
   "cell_type": "code",
   "execution_count": 117,
   "metadata": {},
   "outputs": [],
   "source": [
    "import pandas as pd\n",
    "import numpy as np\n",
    "import matplotlib.pyplot as plt\n",
    "import json\n",
    "import pickle\n",
    "import joblib\n",
    "import time\n",
    "np.random.seed(42)"
   ]
  },
  {
   "cell_type": "code",
   "execution_count": 118,
   "metadata": {},
   "outputs": [],
   "source": [
    "def load_cls(fname):\n",
    "    return np.array(pickle.load(open(fname,\"rb\")))"
   ]
  },
  {
   "cell_type": "code",
   "execution_count": 119,
   "metadata": {},
   "outputs": [],
   "source": [
    "path = \"/scratch/pbanerj6/sml-dataset/\"\n",
    "trainSamples = 75000\n",
    "n_iter = 1000\n",
    "n_trainSamples = [100,500,1000,10000,20000,50000,75000]"
   ]
  },
  {
   "cell_type": "code",
   "execution_count": 120,
   "metadata": {},
   "outputs": [],
   "source": [
    "X_train = load_cls(path+\"X_train_tokens.p\")[:trainSamples]\n",
    "X_val_cls = load_cls(path+\"X_val_tokens.p\")"
   ]
  },
  {
   "cell_type": "code",
   "execution_count": 121,
   "metadata": {},
   "outputs": [
    {
     "name": "stdout",
     "output_type": "stream",
     "text": [
      "75000\n"
     ]
    }
   ],
   "source": [
    "print(len(X_train))"
   ]
  },
  {
   "cell_type": "code",
   "execution_count": 122,
   "metadata": {},
   "outputs": [],
   "source": [
    "y_train = load_cls(path+\"y_train.p\")[:trainSamples]\n",
    "y_val = load_cls(path+\"y_val.p\")"
   ]
  },
  {
   "cell_type": "code",
   "execution_count": 123,
   "metadata": {},
   "outputs": [],
   "source": [
    "from sklearn.feature_extraction.text import CountVectorizer\n",
    "\n",
    "def my_preprocessor(doc):\n",
    "    return doc\n",
    "\n",
    "# tokenize the doc and lemmatize its tokens\n",
    "def my_tokenizer(doc):\n",
    "    return doc\n",
    "\n",
    "custom_vec = CountVectorizer(preprocessor=my_preprocessor, tokenizer=my_tokenizer)\n",
    "cwm = custom_vec.fit_transform(X_train)\n",
    "tokens = custom_vec.get_feature_names()"
   ]
  },
  {
   "cell_type": "code",
   "execution_count": 124,
   "metadata": {},
   "outputs": [],
   "source": [
    "from sklearn.feature_extraction.text import TfidfVectorizer,TfidfTransformer\n",
    "from sklearn.pipeline import Pipeline\n",
    "from sklearn import svm"
   ]
  },
  {
   "cell_type": "code",
   "execution_count": 125,
   "metadata": {},
   "outputs": [],
   "source": [
    "feature_pipeline = Pipeline([\n",
    "('vect',  CountVectorizer(min_df=.0025, max_df=0.25, ngram_range=(1,3),preprocessor=my_preprocessor, tokenizer=my_tokenizer)),\n",
    "('tfidf', TfidfTransformer()),\n",
    "])"
   ]
  },
  {
   "cell_type": "code",
   "execution_count": 126,
   "metadata": {},
   "outputs": [],
   "source": [
    "X_train_f = feature_pipeline.fit_transform(X_train)\n",
    "X_val_f =feature_pipeline.transform(X_val_cls)"
   ]
  },
  {
   "cell_type": "code",
   "execution_count": 144,
   "metadata": {},
   "outputs": [],
   "source": [
    "\n",
    "from sklearn.model_selection import GridSearchCV\n",
    "from sklearn.neighbors import KNeighborsClassifier\n",
    "\n",
    "# cv=3 [1,3,5,7,9,11], [25,39,99,149], [199, 249, 349, 449, 549, 649, 999] done\n",
    "# cv= 5 [1,3,5,7,9,11], [11, 149, 649, 1299] , [1299, 1599, 1999, 2399] done\n",
    "parameters = {\n",
    "     'n_neighbors':[649,749, 849,949,1299]\n",
    " }"
   ]
  },
  {
   "cell_type": "code",
   "execution_count": 145,
   "metadata": {},
   "outputs": [],
   "source": [
    "#gs_clf = GridSearchCV(svm.SVC(verbose=True,probability=True,cache_size=7000,max_iter=n_iter,gamma='auto',kernel='linear'), \n",
    "#                      parameters, cv=5, iid=True, n_jobs=-1, verbose=4)\n",
    "\n",
    "knn = KNeighborsClassifier()\n",
    "\n",
    "gs_clf = GridSearchCV(knn, parameters, cv = 5, n_jobs=-1, verbose=20)  # scoring = 'accuracy'"
   ]
  },
  {
   "cell_type": "code",
   "execution_count": 146,
   "metadata": {},
   "outputs": [
    {
     "name": "stdout",
     "output_type": "stream",
     "text": [
      "Fitting 5 folds for each of 5 candidates, totalling 25 fits\n"
     ]
    },
    {
     "name": "stderr",
     "output_type": "stream",
     "text": [
      "[Parallel(n_jobs=-1)]: Using backend LokyBackend with 20 concurrent workers.\n",
      "[Parallel(n_jobs=-1)]: Done   1 tasks      | elapsed:  3.4min\n",
      "[Parallel(n_jobs=-1)]: Done   2 out of  25 | elapsed:  3.4min remaining: 39.1min\n",
      "[Parallel(n_jobs=-1)]: Done   4 out of  25 | elapsed:  3.4min remaining: 18.0min\n",
      "[Parallel(n_jobs=-1)]: Done   6 out of  25 | elapsed:  3.4min remaining: 10.9min\n",
      "[Parallel(n_jobs=-1)]: Done   8 out of  25 | elapsed:  3.5min remaining:  7.4min\n",
      "[Parallel(n_jobs=-1)]: Done  10 out of  25 | elapsed:  3.5min remaining:  5.2min\n",
      "[Parallel(n_jobs=-1)]: Done  12 out of  25 | elapsed:  3.5min remaining:  3.8min\n",
      "[Parallel(n_jobs=-1)]: Done  14 out of  25 | elapsed:  3.5min remaining:  2.8min\n",
      "[Parallel(n_jobs=-1)]: Done  16 out of  25 | elapsed:  3.5min remaining:  2.0min\n",
      "[Parallel(n_jobs=-1)]: Done  18 out of  25 | elapsed:  3.5min remaining:  1.4min\n",
      "[Parallel(n_jobs=-1)]: Done  20 out of  25 | elapsed:  3.5min remaining:   53.1s\n",
      "[Parallel(n_jobs=-1)]: Done  22 out of  25 | elapsed:  6.5min remaining:   52.8s\n",
      "[Parallel(n_jobs=-1)]: Done  25 out of  25 | elapsed:  6.6min finished\n"
     ]
    }
   ],
   "source": [
    "model = gs_clf.fit(X_train_f, y_train)"
   ]
  },
  {
   "cell_type": "code",
   "execution_count": 147,
   "metadata": {},
   "outputs": [
    {
     "name": "stdout",
     "output_type": "stream",
     "text": [
      "{'mean_fit_time': array([0.07162852, 0.0716341 , 0.07205629, 0.07098885, 0.06713796]), 'std_fit_time': array([0.00104244, 0.00059905, 0.0012879 , 0.00042689, 0.00086048]), 'mean_score_time': array([43.11147146, 43.73487368, 43.83716054, 44.12730036, 37.36135621]), 'std_score_time': array([0.97783671, 0.33061684, 0.88761611, 0.41312061, 0.44754867]), 'param_n_neighbors': masked_array(data=[649, 749, 849, 949, 1299],\n",
      "             mask=[False, False, False, False, False],\n",
      "       fill_value='?',\n",
      "            dtype=object), 'params': [{'n_neighbors': 649}, {'n_neighbors': 749}, {'n_neighbors': 849}, {'n_neighbors': 949}, {'n_neighbors': 1299}], 'split0_test_score': array([0.59526667, 0.5932    , 0.5936    , 0.59573333, 0.60093333]), 'split1_test_score': array([0.5948    , 0.5968    , 0.59313333, 0.5958    , 0.59213333]), 'split2_test_score': array([0.60933333, 0.6094    , 0.61466667, 0.612     , 0.60713333]), 'split3_test_score': array([0.60313333, 0.6064    , 0.61533333, 0.61513333, 0.61293333]), 'split4_test_score': array([0.59073333, 0.59186667, 0.59633333, 0.596     , 0.59946667]), 'mean_test_score': array([0.59865333, 0.59953333, 0.60261333, 0.60293333, 0.60252   ]), 'std_test_score': array([0.00668097, 0.00708325, 0.01017477, 0.00873888, 0.00706319]), 'rank_test_score': array([5, 4, 2, 1, 3], dtype=int32), 'split0_train_score': array([0.60855   , 0.61065   , 0.61255   , 0.61318333, 0.61216667]), 'split1_train_score': array([0.6075    , 0.6076    , 0.60946667, 0.61036667, 0.61006667]), 'split2_train_score': array([0.60623333, 0.60613333, 0.60471667, 0.60276667, 0.60308333]), 'split3_train_score': array([0.60058333, 0.60088333, 0.60218333, 0.60111667, 0.60025   ]), 'split4_train_score': array([0.61226667, 0.6125    , 0.6136    , 0.61135   , 0.60911667]), 'mean_train_score': array([0.60702667, 0.60755333, 0.60850333, 0.60775667, 0.60693667]), 'std_train_score': array([0.00379863, 0.00401413, 0.00441726, 0.00486133, 0.00450471])}\n",
      "0.6029333333333333\n",
      "{'n_neighbors': 949}\n",
      "KNeighborsClassifier(algorithm='auto', leaf_size=30, metric='minkowski',\n",
      "           metric_params=None, n_jobs=None, n_neighbors=949, p=2,\n",
      "           weights='uniform')\n"
     ]
    }
   ],
   "source": [
    "print (model.cv_results_)\n",
    "\n",
    "print (model.best_score_)\n",
    "print (model.best_params_)\n",
    "print (model.best_estimator_)"
   ]
  },
  {
   "cell_type": "code",
   "execution_count": 16,
   "metadata": {},
   "outputs": [],
   "source": [
    "#pickle.dump(model,open(\"knn_\"+str(trainSamples)+\"_\"+str(n_iter)+\".pkl\",'wb'))"
   ]
  },
  {
   "cell_type": "code",
   "execution_count": 148,
   "metadata": {},
   "outputs": [],
   "source": [
    "def GridSearchCV_result_temp():\n",
    "    k_vector= [649,749, 849,949,1299];\n",
    "    accuracy_vector= [  0.59865333, 0.59953333, 0.60261333, 0.60293333, 0.60252]; \n",
    "        \n",
    "        \n",
    "    fig = plt.figure()\n",
    "    ax = plt.axes()\n",
    "    ax.plot(k_vector,accuracy_vector,label='Accuracy vs k',marker='o')\n",
    "    \n",
    "    plt.title(\"Accuracy vs K\")\n",
    "    plt.legend()\n",
    "    plt.xlabel(\"k\")\n",
    "    plt.ylabel(\"Accuracy\")\n",
    "    #fig.savefig(\"knn_k_vs_Acc_plot.png\")\n",
    "    print(\"Best accuracy= %.4f\"%max(accuracy_vector))\n",
    "    #print(accuracy_vector.index(max(accuracy_vector)))\n",
    "    print(\"For k= %d\"%k_vector[accuracy_vector.index(max(accuracy_vector))])"
   ]
  },
  {
   "cell_type": "code",
   "execution_count": 149,
   "metadata": {},
   "outputs": [
    {
     "name": "stdout",
     "output_type": "stream",
     "text": [
      "Best accuracy= 0.6029\n",
      "For k= 949\n"
     ]
    },
    {
     "data": {
      "image/png": "[encoded data removed]",
      "text/plain": [
       "<Figure size 432x288 with 1 Axes>"
      ]
     },
     "metadata": {
      "needs_background": "light"
     },
     "output_type": "display_data"
    }
   ],
   "source": [
    "    \n",
    "GridSearchCV_result_temp()"
   ]
  },
  {
   "cell_type": "code",
   "execution_count": 154,
   "metadata": {},
   "outputs": [],
   "source": [
    "# plot k vs mean_test_score from  GridSearchCV\n",
    "def GridSearchCV_result():\n",
    "    k_vector= [1,3,5,7,9, 11, 25,39,99,149,649, 749, 849,949, 1299,1599, 1999, 2399];\n",
    "    accuracy_vector= [  0.53366667, 0.55422667, 0.56184   , 0.56152   , 0.56281333,\n",
    "       0.56462667, # 1,3,5,7,9,11\n",
    "                       0.57049333, 0.57313333, 0.58334667, 0.58548, # 25,39,99, 149\n",
    "                      \n",
    "                        0.59865333,0.59953333, 0.60261333, 0.60293333,  # 649, 749, 849,949\n",
    "                        0.60252, 0.60024, 0.60077333, 0.60262667]; # 1299,1599, 1999, 2399\n",
    "        \n",
    "        \n",
    "    fig = plt.figure()\n",
    "    ax = plt.axes()\n",
    "    ax.plot(k_vector,accuracy_vector,label='Accuracy vs k',marker='o')\n",
    "    \n",
    "    plt.title(\"Accuracy vs K\")\n",
    "    plt.legend()\n",
    "    plt.xlabel(\"k\")\n",
    "    plt.ylabel(\"Accuracy\")\n",
    "    fig.savefig(\"knn_k_vs_Acc_plot.png\")\n",
    "    print(\"Best accuracy= %.4f\"%max(accuracy_vector))\n",
    "    #print(accuracy_vector.index(max(accuracy_vector)))\n",
    "    print(\"For k= %d\"%k_vector[accuracy_vector.index(max(accuracy_vector))])\n",
    "\n"
   ]
  },
  {
   "cell_type": "code",
   "execution_count": 155,
   "metadata": {},
   "outputs": [
    {
     "name": "stdout",
     "output_type": "stream",
     "text": [
      "Best accuracy= 0.6029\n",
      "For k= 949\n"
     ]
    },
    {
     "data": {
      "image/png": "[encoded data removed]",
      "text/plain": [
       "<Figure size 432x288 with 1 Axes>"
      ]
     },
     "metadata": {
      "needs_background": "light"
     },
     "output_type": "display_data"
    }
   ],
   "source": [
    "GridSearchCV_result()\n"
   ]
  },
  {
   "cell_type": "code",
   "execution_count": 156,
   "metadata": {},
   "outputs": [],
   "source": [
    "X_test = load_cls(path+\"X_test_tokens.p\")\n",
    "y_test = load_cls(path+\"y_test.p\")"
   ]
  },
  {
   "cell_type": "code",
   "execution_count": 157,
   "metadata": {},
   "outputs": [],
   "source": [
    "from scipy.stats import rankdata\n",
    "\n",
    "def mrrs(out, labels):\n",
    "#     print(out,labels)\n",
    "    outputs = np.argmax(out,axis=1)\n",
    "    mrr = 0.0 \n",
    "    for label,ranks in zip(labels,out):\n",
    "        ranks = rankdata(ranks*-1)\n",
    "        rank = ranks[label]\n",
    "#         print(rank,ranks)\n",
    "        mrr+=1/rank\n",
    "    return mrr/len(labels)\n",
    "\n",
    "def precision_at(out,labels,prank=1):\n",
    "    count = 0\n",
    "    for label,ranks in zip(labels,out):\n",
    "        ranks = rankdata(ranks*-1)\n",
    "        rank = ranks[label]\n",
    "#         print(rank,ranks)\n",
    "        if rank <= prank:\n",
    "            count+=1\n",
    "    return count/len(labels)\n",
    "\n",
    "def mrrwrapper(qid2c,qid2indexmap,preds_prob):\n",
    "    labels = []\n",
    "    out = []\n",
    "    for qid in qid2c.keys():\n",
    "        scores = []\n",
    "        for ix in qid2indexmap[qid]:\n",
    "            if len(scores) < 6:\n",
    "                scores.append(preds_prob[ix][1])\n",
    "        if len(scores) < 6:\n",
    "            continue\n",
    "        out.append(scores)\n",
    "        labels.append(int(qid2c[qid]))\n",
    "    return mrrs(np.array(out),labels),precision_at(np.array(out),labels,1),precision_at(np.array(out),labels,3)\n",
    "\n",
    "def load_ranking(fname):\n",
    "    return pickle.load(open(path+\"ranking_\"+fname+\".p\",\"rb\"))"
   ]
  },
  {
   "cell_type": "code",
   "execution_count": 158,
   "metadata": {},
   "outputs": [],
   "source": [
    "from sklearn.metrics import accuracy_score"
   ]
  },
  {
   "cell_type": "code",
   "execution_count": 159,
   "metadata": {},
   "outputs": [
    {
     "name": "stdout",
     "output_type": "stream",
     "text": [
      "SampleSize: 10000\n",
      "Train Time:4.21 sec\n",
      "Validation Accuracy: 56.19%\n",
      "Validation Time:10.83 sec\n",
      "Test Accuracy: 55.90%\n",
      "Test Time:9.14 sec\n",
      "(0.48901938431938513, 0.24133333333333334, 0.6286666666666667)\n",
      "MRR: 0.48901938431938513\n",
      "MRR Time:7.38 sec\n",
      "------------------------------------\n",
      "SampleSize: 20000\n",
      "Train Time:6.61 sec\n",
      "Validation Accuracy: 56.80%\n",
      "Validation Time:14.29 sec\n",
      "Test Accuracy: 56.31%\n",
      "Test Time:13.97 sec\n",
      "(0.49585603655603766, 0.25333333333333335, 0.6313333333333333)\n",
      "MRR: 0.49585603655603766\n",
      "MRR Time:12.47 sec\n",
      "------------------------------------\n",
      "SampleSize: 50000\n",
      "Train Time:16.23 sec\n",
      "Validation Accuracy: 57.57%\n",
      "Validation Time:28.99 sec\n",
      "Test Accuracy: 56.47%\n",
      "Test Time:28.74 sec\n",
      "(0.5049839826839831, 0.2633333333333333, 0.6513333333333333)\n",
      "MRR: 0.5049839826839831\n",
      "MRR Time:26.66 sec\n",
      "------------------------------------\n",
      "SampleSize: 75000\n",
      "Train Time:24.48 sec\n",
      "Validation Accuracy: 57.39%\n",
      "Validation Time:41.62 sec\n",
      "Test Accuracy: 56.71%\n",
      "Test Time:41.78 sec\n",
      "(0.5111142857142867, 0.2733333333333333, 0.6466666666666666)\n",
      "MRR: 0.5111142857142867\n",
      "MRR Time:40.03 sec\n",
      "------------------------------------\n"
     ]
    }
   ],
   "source": [
    "\n",
    "n_trainSamples = [10000,20000,50000,75000] # edited to have size > 949 (best k)\n",
    "\n",
    "valAccuracy = []\n",
    "testAccuracy = []\n",
    "mrrScore = []\n",
    "precisionAt1 = []\n",
    "precisionAt3 = []\n",
    "\n",
    "# For each of training sample sizes\n",
    "for eachTrain in n_trainSamples:\n",
    "\n",
    "    # Choose optimum K from GridSearchCV results\n",
    "    bestModel = KNeighborsClassifier(n_neighbors= model.best_params_['n_neighbors'],  algorithm='auto',n_jobs=-1)\n",
    "\n",
    "    print(\"SampleSize:\",eachTrain)\n",
    "    \n",
    "    stime=time.time()\n",
    "    X_train_f = feature_pipeline.fit_transform(X_train[:eachTrain])\n",
    "    bestModel.fit(X_train_f,y_train[:eachTrain])   \n",
    "    print(\"Train Time:%.2f sec\"%(time.time()-stime))\n",
    "    \n",
    "    stime=time.time()\n",
    "    X_val_f = feature_pipeline.transform(X_val_cls)\n",
    "    preds_val = bestModel.predict(X_val_f)\n",
    "    accuracy = round(accuracy_score(y_val, preds_val),4)\n",
    "    valAccuracy.append(accuracy)\n",
    "    print(\"Validation Accuracy: %.2f%%\" % (accuracy * 100.0))\n",
    "    print(\"Validation Time:%.2f sec\"%(time.time()-stime))\n",
    "\n",
    "    stime=time.time()\n",
    "    X_test_f = feature_pipeline.transform(X_test)\n",
    "    preds_test = bestModel.predict(X_test_f)\n",
    "    accuracy = round(accuracy_score(y_test, preds_test),4)\n",
    "    testAccuracy.append(accuracy)\n",
    "    print(\"Test Accuracy: %.2f%%\" % (accuracy * 100.0))\n",
    "    print(\"Test Time:%.2f sec\"%(time.time()-stime))\n",
    "    \n",
    "    stime=time.time()\n",
    "    preds_test_probs = bestModel.predict_proba(X_test_f)\n",
    "    qid2c,qid2indexmap = load_ranking(\"test\")\n",
    "    print (mrrwrapper(qid2c,qid2indexmap,preds_test_probs))\n",
    "    mrr, pAt1, pAt3 = mrrwrapper(qid2c,qid2indexmap,preds_test_probs)\n",
    "    mrrScore.append(mrr)\n",
    "    print(\"MRR:\",mrr)\n",
    "    print(\"MRR Time:%.2f sec\"%(time.time()-stime))\n",
    "    print(\"------------------------------------\")\n",
    "    precisionAt1.append(pAt1)\n",
    "    precisionAt3.append(pAt3)\n",
    "    "
   ]
  },
  {
   "cell_type": "code",
   "execution_count": 161,
   "metadata": {},
   "outputs": [
    {
     "name": "stdout",
     "output_type": "stream",
     "text": [
      "Val accuracy:\n",
      "[0.5619, 0.568, 0.5757, 0.5739]\n",
      "Test accuracy:\n",
      "[0.559, 0.5631, 0.5647, 0.5671]\n",
      "MRR score:\n",
      "[0.48901938431938513, 0.49585603655603766, 0.5049839826839831, 0.5111142857142867]\n",
      "precision At1:\n",
      "[0.24133333333333334, 0.25333333333333335, 0.2633333333333333, 0.2733333333333333]\n",
      "precision At3:\n",
      "[0.6286666666666667, 0.6313333333333333, 0.6513333333333333, 0.6466666666666666]\n"
     ]
    }
   ],
   "source": [
    "\n",
    "print (\"Val accuracy:\")\n",
    "print (valAccuracy)\n",
    "print (\"Test accuracy:\")\n",
    "print (testAccuracy)\n",
    "print (\"MRR score:\")\n",
    "print (mrrScore)\n",
    "print (\"precision At1:\")\n",
    "print (precisionAt1)\n",
    "print (\"precision At3:\")\n",
    "print (precisionAt3)"
   ]
  },
  {
   "cell_type": "code",
   "execution_count": 137,
   "metadata": {},
   "outputs": [],
   "source": [
    "def accuracyVisualization():\n",
    "    ''' Plots the data points with the centroids\n",
    "    '''\n",
    "    fig = plt.figure()\n",
    "    ax = plt.axes()\n",
    "    ax.plot(n_trainSamples,testAccuracy,label='TestAccuracy vs TrainData',marker='o')\n",
    "    ax.plot(n_trainSamples,valAccuracy,label='ValAccuracy vs TrainData',marker='x')\n",
    "    plt.title(\"Accuracy vs TrainData size\")\n",
    "    plt.legend()\n",
    "    plt.xlabel(\"TrainData size\")\n",
    "    plt.ylabel(\"Accuracy\")\n",
    "    fig.savefig(\"knn949_Tokens_Accuracy.png\")\n",
    "    #plt.show()"
   ]
  },
  {
   "cell_type": "code",
   "execution_count": 138,
   "metadata": {},
   "outputs": [
    {
     "data": {
      "image/png": "[encoded data removed]",
      "text/plain": [
       "<Figure size 432x288 with 1 Axes>"
      ]
     },
     "metadata": {
      "needs_background": "light"
     },
     "output_type": "display_data"
    }
   ],
   "source": [
    "accuracyVisualization()"
   ]
  },
  {
   "cell_type": "code",
   "execution_count": 139,
   "metadata": {},
   "outputs": [],
   "source": [
    "def mrrVisualization():\n",
    "    ''' Plots the data points with the centroids\n",
    "    '''\n",
    "    fig = plt.figure()\n",
    "    ax = plt.axes()\n",
    "    ax.plot(n_trainSamples,mrrScore,label='MRR vs TrainData',marker='x')\n",
    "    plt.title(\"MRR vs TrainData size\")\n",
    "    plt.legend()\n",
    "    plt.xlabel(\"TrainData size\")\n",
    "    plt.ylabel(\"MRR\")\n",
    "    fig.savefig(\"knn949_Tokens_Mrr.png\")\n",
    "    plt.show()"
   ]
  },
  {
   "cell_type": "code",
   "execution_count": 140,
   "metadata": {},
   "outputs": [
    {
     "data": {
      "image/png": "[encoded data removed]",
      "text/plain": [
       "<Figure size 432x288 with 1 Axes>"
      ]
     },
     "metadata": {
      "needs_background": "light"
     },
     "output_type": "display_data"
    }
   ],
   "source": [
    "mrrVisualization()"
   ]
  },
  {
   "cell_type": "code",
   "execution_count": 141,
   "metadata": {},
   "outputs": [],
   "source": [
    "def precisionVisualization():\n",
    "    fig = plt.figure()\n",
    "    ax = plt.axes()\n",
    "    ax.plot(n_trainSamples,precisionAt1,label='Precision@1 vs TrainData',marker='o')\n",
    "    ax.plot(n_trainSamples,precisionAt3,label='Precision@3 vs TrainData',marker='x')\n",
    "    plt.title(\"Precision vs TrainData size\")\n",
    "    plt.legend()\n",
    "    plt.xlabel(\"TrainData size\")\n",
    "    plt.ylabel(\"Precision\")\n",
    "    fig.savefig(\"knn949_Tokens_Precision.png\")\n",
    "    #plt.show()"
   ]
  },
  {
   "cell_type": "code",
   "execution_count": 142,
   "metadata": {},
   "outputs": [
    {
     "data": {
      "image/png": "[encoded data removed]",
      "text/plain": [
       "<Figure size 432x288 with 1 Axes>"
      ]
     },
     "metadata": {
      "needs_background": "light"
     },
     "output_type": "display_data"
    }
   ],
   "source": [
    "precisionVisualization()"
   ]
  },
  {
   "cell_type": "code",
   "execution_count": null,
   "metadata": {},
   "outputs": [],
   "source": []
  }
 ],
 "metadata": {
  "kernelspec": {
   "display_name": "Python 3",
   "language": "python",
   "name": "python3"
  },
  "language_info": {
   "codemirror_mode": {
    "name": "ipython",
    "version": 3
   },
   "file_extension": ".py",
   "mimetype": "text/x-python",
   "name": "python",
   "nbconvert_exporter": "python",
   "pygments_lexer": "ipython3",
   "version": "3.6.8"
  }
 },
 "nbformat": 4,
 "nbformat_minor": 2
}
