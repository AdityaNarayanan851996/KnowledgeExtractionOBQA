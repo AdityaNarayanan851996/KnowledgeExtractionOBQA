{
 "cells": [
  {
   "cell_type": "code",
   "execution_count": 1,
   "metadata": {},
   "outputs": [],
   "source": [
    "import xgboost as xbg\n",
    "import pandas as pd\n",
    "import numpy as np\n",
    "import matplotlib.pyplot as plt\n",
    "import json\n",
    "import pickle\n",
    "import joblib\n",
    "from tqdm import tqdm\n",
    "\n",
    "%matplotlib inline"
   ]
  },
  {
   "cell_type": "code",
   "execution_count": 2,
   "metadata": {},
   "outputs": [],
   "source": [
    "def load_all(fname):\n",
    "    return joblib.load(fname)\n",
    "\n",
    "X_train_all = load_all(\"X_train_all.jblib\")\n",
    "X_val_all = load_all(\"X_val_all.jblib\")"
   ]
  },
  {
   "cell_type": "code",
   "execution_count": 3,
   "metadata": {},
   "outputs": [],
   "source": [
    "def load_y(fname):\n",
    "    return np.array(pickle.load(open(fname,\"rb\")))\n",
    "\n",
    "y_train = load_y(\"y_train.p\")\n",
    "y_val = load_y(\"y_val.p\")"
   ]
  },
  {
   "cell_type": "code",
   "execution_count": 4,
   "metadata": {},
   "outputs": [],
   "source": [
    "from xgboost import XGBClassifier\n",
    "\n",
    "model = XGBClassifier(n_jobs=-1,verbosity=2,n_estimators=100)"
   ]
  },
  {
   "cell_type": "code",
   "execution_count": 5,
   "metadata": {},
   "outputs": [
    {
     "name": "stdout",
     "output_type": "stream",
     "text": [
      "[0]\tvalidation_0-error:0.4328\n",
      "[1]\tvalidation_0-error:0.428733\n",
      "[2]\tvalidation_0-error:0.421067\n",
      "[3]\tvalidation_0-error:0.423733\n",
      "[4]\tvalidation_0-error:0.4168\n",
      "[5]\tvalidation_0-error:0.410667\n",
      "[6]\tvalidation_0-error:0.411933\n",
      "[7]\tvalidation_0-error:0.412733\n",
      "[8]\tvalidation_0-error:0.4022\n",
      "[9]\tvalidation_0-error:0.400333\n",
      "[10]\tvalidation_0-error:0.4004\n",
      "[11]\tvalidation_0-error:0.3972\n",
      "[12]\tvalidation_0-error:0.3958\n",
      "[13]\tvalidation_0-error:0.394533\n",
      "[14]\tvalidation_0-error:0.396333\n",
      "[15]\tvalidation_0-error:0.3954\n",
      "[16]\tvalidation_0-error:0.393333\n",
      "[17]\tvalidation_0-error:0.3902\n",
      "[18]\tvalidation_0-error:0.388133\n",
      "[19]\tvalidation_0-error:0.39\n",
      "[20]\tvalidation_0-error:0.390467\n",
      "[21]\tvalidation_0-error:0.3908\n",
      "[22]\tvalidation_0-error:0.3858\n",
      "[23]\tvalidation_0-error:0.3848\n",
      "[24]\tvalidation_0-error:0.3868\n",
      "[25]\tvalidation_0-error:0.3864\n",
      "[26]\tvalidation_0-error:0.382067\n",
      "[27]\tvalidation_0-error:0.383467\n",
      "[28]\tvalidation_0-error:0.382267\n",
      "[29]\tvalidation_0-error:0.383533\n",
      "[30]\tvalidation_0-error:0.380467\n",
      "[31]\tvalidation_0-error:0.379133\n",
      "[32]\tvalidation_0-error:0.376533\n",
      "[33]\tvalidation_0-error:0.375267\n",
      "[34]\tvalidation_0-error:0.3726\n",
      "[35]\tvalidation_0-error:0.370533\n",
      "[36]\tvalidation_0-error:0.373\n",
      "[37]\tvalidation_0-error:0.373667\n",
      "[38]\tvalidation_0-error:0.372267\n",
      "[39]\tvalidation_0-error:0.373933\n",
      "[40]\tvalidation_0-error:0.373667\n",
      "[41]\tvalidation_0-error:0.370867\n",
      "[42]\tvalidation_0-error:0.370933\n",
      "[43]\tvalidation_0-error:0.369333\n",
      "[44]\tvalidation_0-error:0.369\n",
      "[45]\tvalidation_0-error:0.371733\n",
      "[46]\tvalidation_0-error:0.371933\n",
      "[47]\tvalidation_0-error:0.3708\n",
      "[48]\tvalidation_0-error:0.3688\n",
      "[49]\tvalidation_0-error:0.370333\n",
      "[50]\tvalidation_0-error:0.369467\n",
      "[51]\tvalidation_0-error:0.368933\n",
      "[52]\tvalidation_0-error:0.3688\n",
      "[53]\tvalidation_0-error:0.3672\n",
      "[54]\tvalidation_0-error:0.3676\n",
      "[55]\tvalidation_0-error:0.365867\n",
      "[56]\tvalidation_0-error:0.3652\n",
      "[57]\tvalidation_0-error:0.364467\n",
      "[58]\tvalidation_0-error:0.363\n",
      "[59]\tvalidation_0-error:0.363\n",
      "[60]\tvalidation_0-error:0.3642\n",
      "[61]\tvalidation_0-error:0.366267\n",
      "[62]\tvalidation_0-error:0.365333\n",
      "[63]\tvalidation_0-error:0.3604\n",
      "[64]\tvalidation_0-error:0.360733\n",
      "[65]\tvalidation_0-error:0.361533\n",
      "[66]\tvalidation_0-error:0.359867\n",
      "[67]\tvalidation_0-error:0.3594\n",
      "[68]\tvalidation_0-error:0.359733\n",
      "[69]\tvalidation_0-error:0.3606\n",
      "[70]\tvalidation_0-error:0.360533\n",
      "[71]\tvalidation_0-error:0.360467\n",
      "[72]\tvalidation_0-error:0.3604\n",
      "[73]\tvalidation_0-error:0.360533\n",
      "[74]\tvalidation_0-error:0.357933\n",
      "[75]\tvalidation_0-error:0.3564\n",
      "[76]\tvalidation_0-error:0.357\n",
      "[77]\tvalidation_0-error:0.359267\n",
      "[78]\tvalidation_0-error:0.358333\n",
      "[79]\tvalidation_0-error:0.358\n",
      "[80]\tvalidation_0-error:0.355267\n",
      "[81]\tvalidation_0-error:0.3558\n",
      "[82]\tvalidation_0-error:0.357533\n",
      "[83]\tvalidation_0-error:0.356733\n",
      "[84]\tvalidation_0-error:0.354733\n",
      "[85]\tvalidation_0-error:0.353533\n",
      "[86]\tvalidation_0-error:0.355267\n",
      "[87]\tvalidation_0-error:0.3554\n",
      "[88]\tvalidation_0-error:0.354733\n",
      "[89]\tvalidation_0-error:0.3546\n",
      "[90]\tvalidation_0-error:0.355267\n",
      "[91]\tvalidation_0-error:0.3558\n",
      "[92]\tvalidation_0-error:0.3546\n",
      "[93]\tvalidation_0-error:0.355733\n",
      "[94]\tvalidation_0-error:0.355467\n",
      "[95]\tvalidation_0-error:0.358533\n",
      "[96]\tvalidation_0-error:0.3556\n",
      "[97]\tvalidation_0-error:0.355867\n",
      "[98]\tvalidation_0-error:0.356\n",
      "[99]\tvalidation_0-error:0.356467\n"
     ]
    },
    {
     "data": {
      "text/plain": [
       "XGBClassifier(base_score=0.5, booster='gbtree', colsample_bylevel=1,\n",
       "       colsample_bytree=1, gamma=0, learning_rate=0.1, max_delta_step=0,\n",
       "       max_depth=3, min_child_weight=1, missing=None, n_estimators=100,\n",
       "       n_jobs=-1, nthread=None, objective='binary:logistic',\n",
       "       random_state=0, reg_alpha=0, reg_lambda=1, scale_pos_weight=1,\n",
       "       seed=None, silent=True, subsample=1, verbosity=2)"
      ]
     },
     "execution_count": 5,
     "metadata": {},
     "output_type": "execute_result"
    }
   ],
   "source": [
    "model.fit(X_train_all,y_train,verbose=True,eval_set=[(X_val_all,y_val)])"
   ]
  },
  {
   "cell_type": "code",
   "execution_count": null,
   "metadata": {},
   "outputs": [],
   "source": []
  },
  {
   "cell_type": "code",
   "execution_count": null,
   "metadata": {},
   "outputs": [],
   "source": []
  },
  {
   "cell_type": "code",
   "execution_count": 6,
   "metadata": {},
   "outputs": [],
   "source": [
    "from sklearn.metrics import accuracy_score"
   ]
  },
  {
   "cell_type": "code",
   "execution_count": 7,
   "metadata": {},
   "outputs": [],
   "source": [
    "preds_val = model.predict(X_val_all)"
   ]
  },
  {
   "cell_type": "code",
   "execution_count": 8,
   "metadata": {},
   "outputs": [
    {
     "name": "stdout",
     "output_type": "stream",
     "text": [
      "Accuracy: 64.35%\n"
     ]
    }
   ],
   "source": [
    "accuracy = accuracy_score(y_val, preds_val)\n",
    "print(\"Accuracy: %.2f%%\" % (accuracy * 100.0))"
   ]
  },
  {
   "cell_type": "code",
   "execution_count": 9,
   "metadata": {},
   "outputs": [],
   "source": [
    "X_test_all = load_all(\"X_test_all.jblib\")\n",
    "y_test = load_y(\"y_test.p\")"
   ]
  },
  {
   "cell_type": "code",
   "execution_count": 10,
   "metadata": {},
   "outputs": [
    {
     "name": "stdout",
     "output_type": "stream",
     "text": [
      "Accuracy: 63.76%\n"
     ]
    }
   ],
   "source": [
    "preds_test = model.predict(X_test_all)\n",
    "accuracy = accuracy_score(y_test, preds_test)\n",
    "print(\"Accuracy: %.2f%%\" % (accuracy * 100.0))"
   ]
  },
  {
   "cell_type": "code",
   "execution_count": 17,
   "metadata": {},
   "outputs": [],
   "source": [
    "preds_test_probs = model.predict_proba(X_test_all)"
   ]
  },
  {
   "cell_type": "code",
   "execution_count": 18,
   "metadata": {},
   "outputs": [
    {
     "data": {
      "text/plain": [
       "array([[0.5215562 , 0.4784438 ],\n",
       "       [0.7793901 , 0.22060989],\n",
       "       [0.5297859 , 0.4702141 ],\n",
       "       ...,\n",
       "       [0.43529493, 0.5647051 ],\n",
       "       [0.43529493, 0.5647051 ],\n",
       "       [0.43529493, 0.5647051 ]], dtype=float32)"
      ]
     },
     "execution_count": 18,
     "metadata": {},
     "output_type": "execute_result"
    }
   ],
   "source": [
    "preds_test_probs"
   ]
  },
  {
   "cell_type": "code",
   "execution_count": 19,
   "metadata": {},
   "outputs": [],
   "source": [
    "def load_ranking(fname):\n",
    "    return pickle.load(open(\"ranking_\"+fname+\".p\",\"rb\"))"
   ]
  },
  {
   "cell_type": "code",
   "execution_count": 21,
   "metadata": {},
   "outputs": [],
   "source": [
    "qid2c,qid2indexmap = load_ranking(\"test\")"
   ]
  },
  {
   "cell_type": "code",
   "execution_count": 47,
   "metadata": {},
   "outputs": [],
   "source": [
    "from scipy.stats import rankdata\n",
    "\n",
    "def mrrs(out, labels):\n",
    "#     print(out,labels)\n",
    "    outputs = np.argmax(out,axis=1)\n",
    "    mrr = 0.0 \n",
    "    for label,ranks in zip(labels,out):\n",
    "        ranks = rankdata(ranks*-1)\n",
    "        rank = ranks[label]\n",
    "#         print(rank,ranks)\n",
    "        mrr+=1/rank\n",
    "    return mrr/len(labels)\n",
    "\n",
    "def mrrwrapper(qid2c,qid2indexmap,preds_prob):\n",
    "    labels = []\n",
    "    out = []\n",
    "    for qid in qid2c.keys():\n",
    "        scores = []\n",
    "        for ix in qid2indexmap[qid]:\n",
    "            if len(scores) < 6:\n",
    "                scores.append(preds_prob[ix][1])\n",
    "        if len(scores) < 6:\n",
    "            continue\n",
    "        out.append(scores)\n",
    "        labels.append(int(qid2c[qid]))\n",
    "    return mrrs(np.array(out),labels)"
   ]
  },
  {
   "cell_type": "code",
   "execution_count": 48,
   "metadata": {},
   "outputs": [
    {
     "data": {
      "text/plain": [
       "0.6008222222222246"
      ]
     },
     "execution_count": 48,
     "metadata": {},
     "output_type": "execute_result"
    }
   ],
   "source": [
    "mrrwrapper(qid2c,qid2indexmap,preds_test_probs)"
   ]
  },
  {
   "cell_type": "code",
   "execution_count": null,
   "metadata": {},
   "outputs": [],
   "source": []
  }
 ],
 "metadata": {
  "kernelspec": {
   "display_name": "Python 3",
   "language": "python",
   "name": "python3"
  },
  "language_info": {
   "codemirror_mode": {
    "name": "ipython",
    "version": 3
   },
   "file_extension": ".py",
   "mimetype": "text/x-python",
   "name": "python",
   "nbconvert_exporter": "python",
   "pygments_lexer": "ipython3",
   "version": "3.6.8"
  }
 },
 "nbformat": 4,
 "nbformat_minor": 2
}
