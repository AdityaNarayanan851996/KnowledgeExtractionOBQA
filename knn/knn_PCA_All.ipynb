{
 "cells": [
  {
   "cell_type": "code",
   "execution_count": 18,
   "metadata": {},
   "outputs": [],
   "source": [
    "import pandas as pd\n",
    "import numpy as np\n",
    "import matplotlib.pyplot as plt\n",
    "import json\n",
    "import pickle\n",
    "import joblib\n",
    "import time\n",
    "np.random.seed(42)"
   ]
  },
  {
   "cell_type": "code",
   "execution_count": 19,
   "metadata": {},
   "outputs": [],
   "source": [
    "path = \"/scratch/pbanerj6/sml-dataset/\"\n",
    "trainSamples = 50000\n",
    "n_iter = 1000\n",
    "n_trainSamples = [100,500,1000,10000,20000,50000,75000]"
   ]
  },
  {
   "cell_type": "code",
   "execution_count": 20,
   "metadata": {},
   "outputs": [],
   "source": [
    "def load_all(fname):\n",
    "    return pickle.load(open(fname,\"rb\"))\n",
    "\n",
    "X_train_all = load_all(path+\"X_train_all_90.pkl\")\n",
    "X_val_all = load_all(path+\"X_val_all_90.pkl\")"
   ]
  },
  {
   "cell_type": "code",
   "execution_count": 21,
   "metadata": {},
   "outputs": [],
   "source": [
    "def load_y(fname):\n",
    "    return np.array(pickle.load(open(fname,\"rb\")))\n",
    "\n",
    "y_train = load_y(path+\"y_train.p\")\n",
    "y_val = load_y(path+\"y_val.p\")"
   ]
  },
  {
   "cell_type": "code",
   "execution_count": 22,
   "metadata": {},
   "outputs": [],
   "source": [
    "# truncate train data\n",
    "\n",
    "X_train_all = X_train_all[0:trainSamples,:]\n",
    "y_train = y_train[0:trainSamples]\n"
   ]
  },
  {
   "cell_type": "code",
   "execution_count": 23,
   "metadata": {},
   "outputs": [
    {
     "name": "stdout",
     "output_type": "stream",
     "text": [
      "(50000, 6000)\n",
      "(50000,)\n",
      "(15000, 6000)\n",
      "(15000,)\n"
     ]
    }
   ],
   "source": [
    "#print (X_train_all[0].shape)\n",
    "print (X_train_all.shape)\n",
    "print (y_train.shape)\n",
    "#print (X_train_all[0])\n",
    "#print (max(X_train_all[0]))\n",
    "#print (X_val_all[0].shape)\n",
    "print (X_val_all.shape)\n",
    "print (y_val.shape)\n",
    "#print (X_val_all[0])\n",
    "#print (max(X_val_all[0]))"
   ]
  },
  {
   "cell_type": "code",
   "execution_count": 24,
   "metadata": {},
   "outputs": [],
   "source": [
    "from sklearn.model_selection import GridSearchCV\n",
    "from sklearn.neighbors import KNeighborsClassifier\n",
    "\n",
    "# cv=3 [1,99, 349, 649 ,949] , [1, 1599, 1999, 2499]  done\n",
    "\n",
    "parameters = {\n",
    "     'n_neighbors':[1, 99, 949, 1999, 2499]\n",
    " }"
   ]
  },
  {
   "cell_type": "code",
   "execution_count": 25,
   "metadata": {},
   "outputs": [],
   "source": [
    "#gs_clf = GridSearchCV(svm.SVC(verbose=True,probability=True,cache_size=7000,max_iter=n_iter,gamma='auto',kernel='linear'), \n",
    "#                      parameters, cv=3, iid=True, n_jobs=10, verbose=2)\n",
    "knn = KNeighborsClassifier()\n",
    "\n",
    "gs_clf = GridSearchCV(knn, parameters, cv = 3, n_jobs=-1, verbose=50)\n"
   ]
  },
  {
   "cell_type": "code",
   "execution_count": 26,
   "metadata": {},
   "outputs": [
    {
     "name": "stdout",
     "output_type": "stream",
     "text": [
      "Fitting 3 folds for each of 5 candidates, totalling 15 fits\n",
      "[Parallel(n_jobs=-1)]: Using backend LokyBackend with 20 concurrent workers.\n",
      "[Parallel(n_jobs=-1)]: Done   1 tasks      | elapsed: 111.6min\n",
      "[Parallel(n_jobs=-1)]: Done   2 out of  15 | elapsed: 111.7min remaining: 725.8min\n",
      "[Parallel(n_jobs=-1)]: Done   3 out of  15 | elapsed: 112.4min remaining: 449.6min\n",
      "[Parallel(n_jobs=-1)]: Done   4 out of  15 | elapsed: 334.9min remaining: 921.1min\n",
      "[Parallel(n_jobs=-1)]: Done   5 out of  15 | elapsed: 335.0min remaining: 670.0min\n",
      "[Parallel(n_jobs=-1)]: Done   6 out of  15 | elapsed: 335.1min remaining: 502.6min\n",
      "[Parallel(n_jobs=-1)]: Done   7 out of  15 | elapsed: 336.0min remaining: 384.0min\n",
      "[Parallel(n_jobs=-1)]: Done   8 out of  15 | elapsed: 336.0min remaining: 294.0min\n",
      "[Parallel(n_jobs=-1)]: Done   9 out of  15 | elapsed: 339.9min remaining: 226.6min\n",
      "[Parallel(n_jobs=-1)]: Done  10 out of  15 | elapsed: 340.3min remaining: 170.1min\n",
      "[Parallel(n_jobs=-1)]: Done  11 out of  15 | elapsed: 341.1min remaining: 124.0min\n",
      "[Parallel(n_jobs=-1)]: Done  12 out of  15 | elapsed: 341.7min remaining: 85.4min\n",
      "[Parallel(n_jobs=-1)]: Done  13 out of  15 | elapsed: 341.8min remaining: 52.6min\n",
      "[Parallel(n_jobs=-1)]: Done  15 out of  15 | elapsed: 346.0min remaining:    0.0s\n",
      "[Parallel(n_jobs=-1)]: Done  15 out of  15 | elapsed: 346.0min finished\n",
      "GridSearchTime: 20775.957208395004\n"
     ]
    }
   ],
   "source": [
    "stime=time.time()\n",
    "model = gs_clf.fit(X_train_all, y_train)\n",
    "print (\"GridSearchTime:\",time.time()-stime)"
   ]
  },
  {
   "cell_type": "code",
   "execution_count": 27,
   "metadata": {},
   "outputs": [
    {
     "name": "stdout",
     "output_type": "stream",
     "text": [
      "{'mean_fit_time': array([13.87108191, 13.85423732, 13.82490627, 13.89418077, 14.00236893]), 'std_fit_time': array([0.02496982, 0.02544732, 0.07826314, 0.06024647, 0.06083567]), 'mean_score_time': array([6636.14934882, 6707.02929274, 6722.56296039, 6739.77130834,\n",
      "       6753.38292519]), 'std_score_time': array([22.64435291, 33.80183914, 17.0446047 , 25.46469287, 20.8423264 ]), 'param_n_neighbors': masked_array(data=[1, 99, 949, 1999, 2499],\n",
      "             mask=[False, False, False, False, False],\n",
      "       fill_value='?',\n",
      "            dtype=object), 'params': [{'n_neighbors': 1}, {'n_neighbors': 99}, {'n_neighbors': 949}, {'n_neighbors': 1999}, {'n_neighbors': 2499}], 'split0_test_score': array([0.52825774, 0.53431725, 0.51967843, 0.50215983, 0.49994   ]), 'split1_test_score': array([0.53918157, 0.54638186, 0.51920077, 0.50162006, 0.50018001]), 'split2_test_score': array([0.53372135, 0.55616225, 0.50708028, 0.5       , 0.5       ]), 'mean_test_score': array([0.53372, 0.54562, 0.51532, 0.50126, 0.50004]), 'std_test_score': array([0.00445968, 0.00893452, 0.00582945, 0.00091777, 0.00010198]), 'rank_test_score': array([2, 1, 3, 4, 5], dtype=int32), 'split0_train_score': array([0.99988   , 0.59852394, 0.52826113, 0.50174007, 0.50018001]), 'split1_train_score': array([0.99985   , 0.59776804, 0.53821924, 0.50830983, 0.50155997]), 'split2_train_score': array([0.99985   , 0.58264835, 0.50839983, 0.50029999, 0.5       ]), 'mean_train_score': array([0.99986   , 0.59298011, 0.52496007, 0.50344997, 0.50057999]), 'std_train_score': array([1.41384586e-05, 7.31217491e-03, 1.23954824e-02, 3.48637273e-03,\n",
      "       6.96834052e-04])}\n",
      "0.54562\n",
      "{'n_neighbors': 99}\n",
      "KNeighborsClassifier(algorithm='auto', leaf_size=30, metric='minkowski',\n",
      "           metric_params=None, n_jobs=None, n_neighbors=99, p=2,\n",
      "           weights='uniform')\n"
     ]
    }
   ],
   "source": [
    "print (model.cv_results_)\n",
    "\n",
    "print (model.best_score_)\n",
    "print (model.best_params_)\n",
    "print (model.best_estimator_)"
   ]
  },
  {
   "cell_type": "code",
   "execution_count": 28,
   "metadata": {},
   "outputs": [],
   "source": [
    "def GridSearchCV_result_temp():\n",
    "    k_vector= [1, 99, 949, 1999, 2499]\n",
    "    accuracy_vector= [0.53372, 0.54562, 0.51532, 0.50126, 0.50004]\n",
    "        \n",
    "        \n",
    "    fig = plt.figure()\n",
    "    ax = plt.axes()\n",
    "    ax.plot(k_vector,accuracy_vector,label='Accuracy vs k',marker='o')\n",
    "    \n",
    "    plt.title(\"Accuracy vs K\")\n",
    "    plt.legend()\n",
    "    plt.xlabel(\"k\")\n",
    "    plt.ylabel(\"Accuracy\")\n",
    "    #fig.savefig(\"knn_k_vs_Acc_plot.png\")\n",
    "    print(\"Best accuracy= %.4f\"%max(accuracy_vector))\n",
    "    #print(accuracy_vector.index(max(accuracy_vector)))\n",
    "    print(\"For k= %d\"%k_vector[accuracy_vector.index(max(accuracy_vector))])"
   ]
  },
  {
   "cell_type": "code",
   "execution_count": 29,
   "metadata": {},
   "outputs": [
    {
     "name": "stdout",
     "output_type": "stream",
     "text": [
      "Best accuracy= 0.5456\n",
      "For k= 99\n"
     ]
    },
    {
     "data": {
      "image/png": "[encoded data removed]",
      "text/plain": [
       "<Figure size 432x288 with 1 Axes>"
      ]
     },
     "metadata": {
      "needs_background": "light"
     },
     "output_type": "display_data"
    }
   ],
   "source": [
    "GridSearchCV_result_temp()\n"
   ]
  },
  {
   "cell_type": "code",
   "execution_count": 30,
   "metadata": {},
   "outputs": [],
   "source": [
    "#pickle.dump(model,open(\"SVM_All_Linear_\"+str(trainSamples)+\"_\"+str(n_iter)+\".pkl\",'wb'))\n",
    "pickle.dump(model,open(\"knn_PCA_All_1_99_949_1999_2499\"+str(trainSamples)+\".pkl\",'wb'))"
   ]
  },
  {
   "cell_type": "code",
   "execution_count": 31,
   "metadata": {},
   "outputs": [],
   "source": [
    "\n",
    "def GridSearchCV_result():\n",
    "    \n",
    "    k_vector= [1, 99, 949, 1999, 2499]\n",
    "    accuracy_vector= [0.53372, 0.54562, 0.51532, 0.50126, 0.50004]\n",
    "        \n",
    "        \n",
    "    fig = plt.figure()\n",
    "    ax = plt.axes()\n",
    "    ax.plot(k_vector,accuracy_vector,label='Accuracy vs k',marker='o')\n",
    "    \n",
    "    plt.title(\"Accuracy vs K\")\n",
    "    plt.legend()\n",
    "    plt.xlabel(\"k\")\n",
    "    plt.ylabel(\"Accuracy\")\n",
    "    #fig.savefig(\"knn_k_vs_Acc_plot.png\")\n",
    "    print(\"Best accuracy= %.4f\"%max(accuracy_vector))\n",
    "    #print(accuracy_vector.index(max(accuracy_vector)))\n",
    "    print(\"For k= %d\"%k_vector[accuracy_vector.index(max(accuracy_vector))])"
   ]
  },
  {
   "cell_type": "code",
   "execution_count": 32,
   "metadata": {},
   "outputs": [
    {
     "name": "stdout",
     "output_type": "stream",
     "text": [
      "Best accuracy= 0.5456\n",
      "For k= 99\n"
     ]
    },
    {
     "data": {
      "image/png": "[encoded data removed]",
      "text/plain": [
       "<Figure size 432x288 with 1 Axes>"
      ]
     },
     "metadata": {
      "needs_background": "light"
     },
     "output_type": "display_data"
    }
   ],
   "source": [
    "GridSearchCV_result()"
   ]
  },
  {
   "cell_type": "code",
   "execution_count": 33,
   "metadata": {},
   "outputs": [],
   "source": [
    "X_test_all = load_all(path+\"X_test_all_90.pkl\")\n",
    "y_test = load_y(path+\"y_test.p\")"
   ]
  },
  {
   "cell_type": "code",
   "execution_count": 34,
   "metadata": {},
   "outputs": [],
   "source": [
    "from scipy.stats import rankdata\n",
    "\n",
    "def mrrs(out, labels):\n",
    "#     print(out,labels)\n",
    "    outputs = np.argmax(out,axis=1)\n",
    "    mrr = 0.0 \n",
    "    for label,ranks in zip(labels,out):\n",
    "        ranks = rankdata(ranks*-1)\n",
    "        rank = ranks[label]\n",
    "#         print(rank,ranks)\n",
    "        mrr+=1/rank\n",
    "    return mrr/len(labels)\n",
    "\n",
    "def precision_at(out,labels,prank=1):\n",
    "    count = 0\n",
    "    for label,ranks in zip(labels,out):\n",
    "        ranks = rankdata(ranks*-1)\n",
    "        rank = ranks[label]\n",
    "#         print(rank,ranks)\n",
    "        if rank <= prank:\n",
    "            count+=1\n",
    "    return count/len(labels)\n",
    "\n",
    "def mrrwrapper(qid2c,qid2indexmap,preds_prob):\n",
    "    labels = []\n",
    "    out = []\n",
    "    for qid in qid2c.keys():\n",
    "        scores = []\n",
    "        for ix in qid2indexmap[qid]:\n",
    "            if len(scores) < 6:\n",
    "                scores.append(preds_prob[ix][1])\n",
    "        if len(scores) < 6:\n",
    "            continue\n",
    "        out.append(scores)\n",
    "        labels.append(int(qid2c[qid]))\n",
    "    return mrrs(np.array(out),labels),precision_at(np.array(out),labels,1),precision_at(np.array(out),labels,3)\n",
    "\n",
    "def load_ranking(fname):\n",
    "    return pickle.load(open(path+\"ranking_\"+fname+\".p\",\"rb\"))"
   ]
  },
  {
   "cell_type": "code",
   "execution_count": 35,
   "metadata": {},
   "outputs": [],
   "source": [
    "from sklearn.metrics import accuracy_score"
   ]
  },
  {
   "cell_type": "code",
   "execution_count": 36,
   "metadata": {},
   "outputs": [
    {
     "name": "stdout",
     "output_type": "stream",
     "text": [
      "SampleSize: 10000\n",
      "Train Time:2.19 sec\n",
      "Validation Accuracy: 52.07%\n",
      "Validation Time:116.68 sec\n",
      "Test Accuracy: 51.83%\n",
      "Test Time:117.47 sec\n",
      "(0.48490533910533773, 0.212, 0.6086666666666667)\n",
      "MRR: 0.48490533910533773\n",
      "MRR Time:117.23 sec\n",
      "------------------------------------\n",
      "SampleSize: 20000\n",
      "Train Time:4.88 sec\n",
      "Validation Accuracy: 53.09%\n",
      "Validation Time:234.32 sec\n",
      "Test Accuracy: 52.51%\n",
      "Test Time:235.82 sec\n",
      "(0.48188956228956137, 0.21333333333333335, 0.604)\n",
      "MRR: 0.48188956228956137\n",
      "MRR Time:237.84 sec\n",
      "------------------------------------\n",
      "SampleSize: 50000\n",
      "Train Time:14.05 sec\n",
      "Validation Accuracy: 54.98%\n",
      "Validation Time:544.82 sec\n",
      "Test Accuracy: 53.94%\n",
      "Test Time:541.23 sec\n",
      "(0.5055394901394894, 0.252, 0.634)\n",
      "MRR: 0.5055394901394894\n",
      "MRR Time:544.80 sec\n",
      "------------------------------------\n",
      "SampleSize: 75000\n",
      "Train Time:13.66 sec\n",
      "Validation Accuracy: 54.98%\n",
      "Validation Time:541.21 sec\n",
      "Test Accuracy: 53.94%\n",
      "Test Time:548.58 sec\n",
      "(0.5055394901394894, 0.252, 0.634)\n",
      "MRR: 0.5055394901394894\n",
      "MRR Time:552.44 sec\n",
      "------------------------------------\n",
      "Val accuracy:\n",
      "[0.5207, 0.5309, 0.5498, 0.5498]\n",
      "Test accuracy:\n",
      "[0.5183, 0.5251, 0.5394, 0.5394]\n",
      "MRR score:\n",
      "[0.48490533910533773, 0.48188956228956137, 0.5055394901394894, 0.5055394901394894]\n",
      "precision At1:\n",
      "[0.212, 0.21333333333333335, 0.252, 0.252]\n",
      "precision At3:\n",
      "[0.6086666666666667, 0.604, 0.634, 0.634]\n"
     ]
    }
   ],
   "source": [
    "valAccuracy = []\n",
    "testAccuracy = []\n",
    "mrrScore = []\n",
    "precisionAt1 = []\n",
    "precisionAt3 = []\n",
    "\n",
    "# redefine n_trainSamples[] and remove low values\n",
    "n_trainSamples = [10000,20000,50000,75000]\n",
    "\n",
    "# For each of training sample sizes\n",
    "for eachTrain in n_trainSamples:\n",
    "    \n",
    "     # Choose optimum K from GridSearchCV results\n",
    "    bestModel = KNeighborsClassifier(n_neighbors= model.best_params_['n_neighbors'],  algorithm='auto',n_jobs=-1)\n",
    "\n",
    "\n",
    "    print(\"SampleSize:\",eachTrain)\n",
    "    \n",
    "    stime=time.time()\n",
    "    bestModel.fit(X_train_all[:eachTrain],y_train[:eachTrain])   \n",
    "    print(\"Train Time:%.2f sec\"%(time.time()-stime))\n",
    "    \n",
    "    stime=time.time()\n",
    "    preds_val = bestModel.predict(X_val_all)\n",
    "    accuracy = round(accuracy_score(y_val, preds_val),4)\n",
    "    valAccuracy.append(accuracy)\n",
    "    print(\"Validation Accuracy: %.2f%%\" % (accuracy * 100.0))\n",
    "    print(\"Validation Time:%.2f sec\"%(time.time()-stime))\n",
    "\n",
    "    stime=time.time()\n",
    "    preds_test = bestModel.predict(X_test_all)\n",
    "    accuracy = round(accuracy_score(y_test, preds_test),4)\n",
    "    testAccuracy.append(accuracy)\n",
    "    print(\"Test Accuracy: %.2f%%\" % (accuracy * 100.0))\n",
    "    print(\"Test Time:%.2f sec\"%(time.time()-stime))\n",
    "    \n",
    "    stime=time.time()\n",
    "    preds_test_probs = bestModel.predict_proba(X_test_all)\n",
    "    qid2c,qid2indexmap = load_ranking(\"test\")\n",
    "    print (mrrwrapper(qid2c,qid2indexmap,preds_test_probs))\n",
    "    mrr, pAt1, pAt3 = mrrwrapper(qid2c,qid2indexmap,preds_test_probs)\n",
    "    mrrScore.append(mrr)\n",
    "    print(\"MRR:\",mrr)\n",
    "    print(\"MRR Time:%.2f sec\"%(time.time()-stime))\n",
    "    print(\"------------------------------------\")\n",
    "    precisionAt1.append(pAt1)\n",
    "    precisionAt3.append(pAt3)\n",
    "    \n",
    "\n",
    "print (\"Val accuracy:\")\n",
    "print (valAccuracy)\n",
    "print (\"Test accuracy:\")\n",
    "print (testAccuracy)\n",
    "print (\"MRR score:\")\n",
    "print (mrrScore)\n",
    "print (\"precision At1:\")\n",
    "print (precisionAt1)\n",
    "print (\"precision At3:\")\n",
    "print (precisionAt3)"
   ]
  },
  {
   "cell_type": "code",
   "execution_count": 37,
   "metadata": {},
   "outputs": [],
   "source": [
    "def accuracyVisualization():\n",
    "    ''' Plots the data points with the centroids\n",
    "    '''\n",
    "    fig = plt.figure()\n",
    "    ax = plt.axes()\n",
    "    ax.plot(n_trainSamples,testAccuracy,label='TestAccuracy vs TrainData',marker='o')\n",
    "    ax.plot(n_trainSamples,valAccuracy,label='ValAccuracy vs TrainData',marker='x')\n",
    "    plt.title(\"Accuracy vs TrainData size\")\n",
    "    plt.legend()\n",
    "    plt.xlabel(\"TrainData size\")\n",
    "    plt.ylabel(\"Accuracy\")\n",
    "    fig.savefig(\"knn99_PCA_All_Accuracy.png\")\n",
    "    #plt.show()"
   ]
  },
  {
   "cell_type": "code",
   "execution_count": 38,
   "metadata": {},
   "outputs": [
    {
     "data": {
      "image/png": "[encoded data removed]",
      "text/plain": [
       "<Figure size 432x288 with 1 Axes>"
      ]
     },
     "metadata": {
      "needs_background": "light"
     },
     "output_type": "display_data"
    }
   ],
   "source": [
    "accuracyVisualization()"
   ]
  },
  {
   "cell_type": "code",
   "execution_count": 39,
   "metadata": {},
   "outputs": [],
   "source": [
    "def mrrVisualization():\n",
    "    ''' Plots the data points with the centroids\n",
    "    '''\n",
    "    fig = plt.figure()\n",
    "    ax = plt.axes()\n",
    "    ax.plot(n_trainSamples,mrrScore,label='MRR vs TrainData',marker='x')\n",
    "    plt.title(\"MRR vs TrainData size\")\n",
    "    plt.legend()\n",
    "    plt.xlabel(\"TrainData size\")\n",
    "    plt.ylabel(\"MRR\")\n",
    "    fig.savefig(\"knn99_PCA_All_Mrr.png\")\n",
    "    #plt.show()"
   ]
  },
  {
   "cell_type": "code",
   "execution_count": 40,
   "metadata": {},
   "outputs": [
    {
     "data": {
      "image/png": "[encoded data removed]",
      "text/plain": [
       "<Figure size 432x288 with 1 Axes>"
      ]
     },
     "metadata": {
      "needs_background": "light"
     },
     "output_type": "display_data"
    }
   ],
   "source": [
    "mrrVisualization()"
   ]
  },
  {
   "cell_type": "code",
   "execution_count": 41,
   "metadata": {},
   "outputs": [],
   "source": [
    "def precisionVisualization():\n",
    "    fig = plt.figure()\n",
    "    ax = plt.axes()\n",
    "    ax.plot(n_trainSamples,precisionAt1,label='Precision@1 vs TrainData',marker='o')\n",
    "    ax.plot(n_trainSamples,precisionAt3,label='Precision@3 vs TrainData',marker='x')\n",
    "    plt.title(\"Precision vs TrainData size\")\n",
    "    plt.legend()\n",
    "    plt.xlabel(\"TrainData size\")\n",
    "    plt.ylabel(\"Precision\")\n",
    "    fig.savefig(\"knn99_PCA_All_Precision.png\")\n",
    "    #plt.show()"
   ]
  },
  {
   "cell_type": "code",
   "execution_count": 42,
   "metadata": {},
   "outputs": [
    {
     "data": {
      "image/png": "[encoded data removed]",
      "text/plain": [
       "<Figure size 432x288 with 1 Axes>"
      ]
     },
     "metadata": {
      "needs_background": "light"
     },
     "output_type": "display_data"
    }
   ],
   "source": [
    "precisionVisualization()"
   ]
  },
  {
   "cell_type": "code",
   "execution_count": null,
   "metadata": {},
   "outputs": [],
   "source": []
  }
 ],
 "metadata": {
  "kernelspec": {
   "display_name": "Python 3",
   "language": "python",
   "name": "python3"
  },
  "language_info": {
   "codemirror_mode": {
    "name": "ipython",
    "version": 3
   },
   "file_extension": ".py",
   "mimetype": "text/x-python",
   "name": "python",
   "nbconvert_exporter": "python",
   "pygments_lexer": "ipython3",
   "version": "3.6.8"
  }
 },
 "nbformat": 4,
 "nbformat_minor": 2
}
