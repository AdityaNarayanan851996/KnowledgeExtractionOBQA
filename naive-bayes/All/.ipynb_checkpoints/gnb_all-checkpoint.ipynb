{
 "cells": [
  {
   "cell_type": "code",
   "execution_count": 1,
   "metadata": {},
   "outputs": [],
   "source": [
    "import pandas as pd\n",
    "import numpy as np\n",
    "import matplotlib.pyplot as plt\n",
    "import json\n",
    "import pickle\n",
    "import joblib\n",
    "import time\n",
    "np.random.seed(2)"
   ]
  },
  {
   "cell_type": "code",
   "execution_count": 2,
   "metadata": {},
   "outputs": [],
   "source": [
    "def load_all(fname):\n",
    "    return joblib.load(fname)\n",
    "\n",
    "def load_cls(fname):\n",
    "    return np.array(pickle.load(open(fname,\"rb\")))"
   ]
  },
  {
   "cell_type": "code",
   "execution_count": 3,
   "metadata": {},
   "outputs": [],
   "source": [
    "trainSamples = 75000\n",
    "path = \"/scratch/pbanerj6/sml-dataset/\"\n",
    "n_iter = 1000 \n",
    "n_trainSamples = [100,500,1000,10000,20000,50000,75000]"
   ]
  },
  {
   "cell_type": "code",
   "execution_count": 4,
   "metadata": {},
   "outputs": [],
   "source": [
    "X_train_all = load_all(path+\"X_train_all.jblib\")[:trainSamples]\n",
    "X_val_all = load_all(path+\"X_val_all.jblib\")\n",
    "\n",
    "y_train = load_cls(path+\"y_train.p\")[:trainSamples]\n",
    "y_val = load_cls(path+\"y_val.p\")"
   ]
  },
  {
   "cell_type": "code",
   "execution_count": 5,
   "metadata": {},
   "outputs": [
    {
     "name": "stdout",
     "output_type": "stream",
     "text": [
      "(25344,)\n",
      "(75000, 25344)\n",
      "[ 1.423734 -0.114695 -0.154449 ...  0.        0.        0.      ]\n",
      "29.085083000000004\n",
      "(25344,)\n",
      "(15000, 25344)\n",
      "[ 0.372583 -1.620609  0.19897  ...  0.        0.        0.      ]\n",
      "29.021265\n"
     ]
    }
   ],
   "source": [
    "print (X_train_all[0].shape)\n",
    "print (X_train_all.shape)\n",
    "print (X_train_all[0])\n",
    "print (max(X_train_all[0]))\n",
    "print (X_val_all[0].shape)\n",
    "print (X_val_all.shape)\n",
    "print (X_val_all[0])\n",
    "print (max(X_val_all[0]))"
   ]
  },
  {
   "cell_type": "code",
   "execution_count": 6,
   "metadata": {},
   "outputs": [
    {
     "name": "stdout",
     "output_type": "stream",
     "text": [
      "[[0.7659044  0.70855075 0.39920816 ... 0.48818811 0.53466314 0.45362774]\n",
      " [0.77855699 0.59108994 0.6831954  ... 0.48818811 0.53466314 0.45362774]\n",
      " [0.66231604 0.68651978 0.21004461 ... 0.48818811 0.53466314 0.45362774]\n",
      " ...\n",
      " [0.68410026 0.50661388 0.22069108 ... 0.48818811 0.53466314 0.45362774]\n",
      " [0.68410026 0.50661388 0.22069108 ... 0.48818811 0.53466314 0.45362774]\n",
      " [0.68410026 0.50661388 0.22069108 ... 0.48818811 0.53466314 0.45362774]]\n"
     ]
    }
   ],
   "source": [
    "from sklearn.preprocessing import MinMaxScaler\n",
    "scaler = MinMaxScaler()\n",
    "scaler.fit(X_train_all)\n",
    "X_train_all = scaler.transform(X_train_all)\n",
    "print(X_train_all)"
   ]
  },
  {
   "cell_type": "code",
   "execution_count": 7,
   "metadata": {},
   "outputs": [
    {
     "data": {
      "text/plain": [
       "dict_keys(['priors', 'var_smoothing'])"
      ]
     },
     "execution_count": 7,
     "metadata": {},
     "output_type": "execute_result"
    }
   ],
   "source": [
    "from sklearn.naive_bayes import GaussianNB\n",
    "gnb = GaussianNB()\n",
    "gnb.get_params().keys()"
   ]
  },
  {
   "cell_type": "code",
   "execution_count": 8,
   "metadata": {},
   "outputs": [],
   "source": [
    "model = gnb.fit(X_train_all, y_train)"
   ]
  },
  {
   "cell_type": "code",
   "execution_count": 9,
   "metadata": {},
   "outputs": [],
   "source": [
    "pickle.dump(model,open(\"GNB_ALL_\"+str(trainSamples)+\"_\"+str(n_iter)+\".pkl\",'wb'))"
   ]
  },
  {
   "cell_type": "code",
   "execution_count": 10,
   "metadata": {},
   "outputs": [],
   "source": [
    "X_test_all = load_all(path+\"X_test_all.jblib\")\n",
    "y_test = load_cls(path+\"y_test.p\")"
   ]
  },
  {
   "cell_type": "code",
   "execution_count": 11,
   "metadata": {},
   "outputs": [],
   "source": [
    "from scipy.stats import rankdata\n",
    "\n",
    "def mrrs(out, labels):\n",
    "#     print(out,labels)\n",
    "    outputs = np.argmax(out,axis=1)\n",
    "    mrr = 0.0 \n",
    "    for label,ranks in zip(labels,out):\n",
    "        ranks = rankdata(ranks*-1)\n",
    "        rank = ranks[label]\n",
    "#         print(rank,ranks)\n",
    "        mrr+=1/rank\n",
    "    return mrr/len(labels)\n",
    "\n",
    "def precision_at(out,labels,prank=1):\n",
    "    count = 0\n",
    "    for label,ranks in zip(labels,out):\n",
    "        ranks = rankdata(ranks*-1)\n",
    "        rank = ranks[label]\n",
    "#         print(rank,ranks)\n",
    "        if rank <= prank:\n",
    "            count+=1\n",
    "    return count/len(labels)\n",
    "\n",
    "def mrrwrapper(qid2c,qid2indexmap,preds_prob):\n",
    "    labels = []\n",
    "    out = []\n",
    "    for qid in qid2c.keys():\n",
    "        scores = []\n",
    "        for ix in qid2indexmap[qid]:\n",
    "            if len(scores) < 6:\n",
    "                scores.append(preds_prob[ix][1])\n",
    "        if len(scores) < 6:\n",
    "            continue\n",
    "        out.append(scores)\n",
    "        labels.append(int(qid2c[qid]))\n",
    "    return mrrs(np.array(out),labels),precision_at(np.array(out),labels,1),precision_at(np.array(out),labels,3)\n",
    "\n",
    "def load_ranking(fname):\n",
    "    return pickle.load(open(path+\"ranking_\"+fname+\".p\",\"rb\"))"
   ]
  },
  {
   "cell_type": "code",
   "execution_count": 12,
   "metadata": {},
   "outputs": [],
   "source": [
    "from sklearn.metrics import accuracy_score"
   ]
  },
  {
   "cell_type": "code",
   "execution_count": 13,
   "metadata": {},
   "outputs": [
    {
     "name": "stdout",
     "output_type": "stream",
     "text": [
      "SampleSize: 100\n",
      "Train Time:0.06 sec\n",
      "Validation Accuracy: 50.00%\n",
      "Validation Time:4.90 sec\n",
      "Test Accuracy: 50.00%\n",
      "Test Time:5.16 sec\n",
      "(0.2857142857142808, 0.0, 0.0)\n",
      "MRR: 0.2857142857142808\n",
      "MRR Time:5.38 sec\n",
      "------------------------------------\n",
      "SampleSize: 500\n",
      "Train Time:0.21 sec\n",
      "Validation Accuracy: 52.99%\n",
      "Validation Time:4.74 sec\n",
      "Test Accuracy: 52.33%\n",
      "Test Time:4.81 sec\n",
      "(0.3540399711399695, 0.066, 0.23533333333333334)\n",
      "MRR: 0.3540399711399695\n",
      "MRR Time:5.27 sec\n",
      "------------------------------------\n",
      "SampleSize: 1000\n",
      "Train Time:0.42 sec\n",
      "Validation Accuracy: 53.43%\n",
      "Validation Time:4.75 sec\n",
      "Test Accuracy: 53.44%\n",
      "Test Time:4.77 sec\n",
      "(0.3628839826839815, 0.08066666666666666, 0.21333333333333335)\n",
      "MRR: 0.3628839826839815\n",
      "MRR Time:5.29 sec\n",
      "------------------------------------\n",
      "SampleSize: 10000\n",
      "Train Time:4.38 sec\n",
      "Validation Accuracy: 51.37%\n",
      "Validation Time:4.87 sec\n",
      "Test Accuracy: 51.03%\n",
      "Test Time:5.19 sec\n",
      "(0.2944396344396296, 0.0, 0.17533333333333334)\n",
      "MRR: 0.2944396344396296\n",
      "MRR Time:5.77 sec\n",
      "------------------------------------\n",
      "SampleSize: 20000\n",
      "Train Time:9.11 sec\n",
      "Validation Accuracy: 51.66%\n",
      "Validation Time:4.83 sec\n",
      "Test Accuracy: 51.63%\n",
      "Test Time:4.97 sec\n",
      "(0.30087272727272263, 0.0, 0.2653333333333333)\n",
      "MRR: 0.30087272727272263\n",
      "MRR Time:5.42 sec\n",
      "------------------------------------\n",
      "SampleSize: 50000\n",
      "Train Time:23.04 sec\n",
      "Validation Accuracy: 50.00%\n",
      "Validation Time:4.83 sec\n",
      "Test Accuracy: 50.00%\n",
      "Test Time:4.76 sec\n",
      "(0.2857142857142808, 0.0, 0.0)\n",
      "MRR: 0.2857142857142808\n",
      "MRR Time:5.47 sec\n",
      "------------------------------------\n",
      "SampleSize: 75000\n",
      "Train Time:35.38 sec\n",
      "Validation Accuracy: 50.00%\n",
      "Validation Time:4.82 sec\n",
      "Test Accuracy: 50.00%\n",
      "Test Time:4.88 sec\n",
      "(0.2857142857142808, 0.0, 0.0)\n",
      "MRR: 0.2857142857142808\n",
      "MRR Time:5.33 sec\n",
      "------------------------------------\n",
      "[0.5, 0.5299, 0.5343, 0.5137, 0.5166, 0.5, 0.5]\n",
      "[0.5, 0.5233, 0.5344, 0.5103, 0.5163, 0.5, 0.5]\n",
      "[0.2857142857142808, 0.3540399711399695, 0.3628839826839815, 0.2944396344396296, 0.30087272727272263, 0.2857142857142808, 0.2857142857142808]\n",
      "[0.0, 0.066, 0.08066666666666666, 0.0, 0.0, 0.0, 0.0]\n",
      "[0.0, 0.23533333333333334, 0.21333333333333335, 0.17533333333333334, 0.2653333333333333, 0.0, 0.0]\n"
     ]
    }
   ],
   "source": [
    "valAccuracy = []\n",
    "testAccuracy = []\n",
    "mrrScore = []\n",
    "precisionAt1 = []\n",
    "precisionAt3 = []\n",
    "\n",
    "# For each of training sample sizes\n",
    "for eachTrain in n_trainSamples:\n",
    "    \n",
    "    # Model with best values from grid search\n",
    "    bestModel = GaussianNB()\n",
    "\n",
    "    print(\"SampleSize:\",eachTrain)\n",
    "    \n",
    "    stime=time.time()\n",
    "    bestModel.fit(X_train_all[:eachTrain],y_train[:eachTrain])   \n",
    "    print(\"Train Time:%.2f sec\"%(time.time()-stime))\n",
    "    \n",
    "    stime=time.time()\n",
    "    preds_val = bestModel.predict(X_val_all)\n",
    "    accuracy = round(accuracy_score(y_val, preds_val),4)\n",
    "    valAccuracy.append(accuracy)\n",
    "    print(\"Validation Accuracy: %.2f%%\" % (accuracy * 100.0))\n",
    "    print(\"Validation Time:%.2f sec\"%(time.time()-stime))\n",
    "\n",
    "    stime=time.time()\n",
    "    preds_test = bestModel.predict(X_test_all)\n",
    "    accuracy = round(accuracy_score(y_test, preds_test),4)\n",
    "    testAccuracy.append(accuracy)\n",
    "    print(\"Test Accuracy: %.2f%%\" % (accuracy * 100.0))\n",
    "    print(\"Test Time:%.2f sec\"%(time.time()-stime))\n",
    "    \n",
    "    stime=time.time()\n",
    "    preds_test_probs = bestModel.predict_proba(X_test_all)\n",
    "    qid2c,qid2indexmap = load_ranking(\"test\")\n",
    "    print (mrrwrapper(qid2c,qid2indexmap,preds_test_probs))\n",
    "    mrr, pAt1, pAt3 = mrrwrapper(qid2c,qid2indexmap,preds_test_probs)\n",
    "    mrrScore.append(mrr)\n",
    "    print(\"MRR:\",mrr)\n",
    "    print(\"MRR Time:%.2f sec\"%(time.time()-stime))\n",
    "    print(\"------------------------------------\")\n",
    "    precisionAt1.append(pAt1)\n",
    "    precisionAt3.append(pAt3)\n",
    "    \n",
    "    #input()\n",
    "print (valAccuracy)\n",
    "print (testAccuracy)\n",
    "print (mrrScore)\n",
    "print (precisionAt1)\n",
    "print (precisionAt3)"
   ]
  },
  {
   "cell_type": "code",
   "execution_count": 14,
   "metadata": {},
   "outputs": [],
   "source": [
    "def accuracyVisualization():\n",
    "    ''' Plots the data points with the centroids\n",
    "    '''\n",
    "    fig = plt.figure()\n",
    "    ax = plt.axes()\n",
    "    ax.plot(n_trainSamples,testAccuracy,label='TestAccuracy vs TrainData',marker='o')\n",
    "    ax.plot(n_trainSamples,valAccuracy,label='ValAccuracy vs TrainData',marker='.')\n",
    "    plt.title(\"Scores vs TrainData\")\n",
    "    plt.legend()\n",
    "    plt.xlabel(\"TrainData\")\n",
    "    plt.ylabel(\"Scores\")\n",
    "    fig.savefig(\"GNB_All_Accuracy.png\")\n",
    "    #plt.show()"
   ]
  },
  {
   "cell_type": "code",
   "execution_count": 15,
   "metadata": {},
   "outputs": [
    {
     "data": {
      "image/png": "[encoded data removed]",
      "text/plain": [
       "<Figure size 432x288 with 1 Axes>"
      ]
     },
     "metadata": {
      "needs_background": "light"
     },
     "output_type": "display_data"
    }
   ],
   "source": [
    "accuracyVisualization()"
   ]
  },
  {
   "cell_type": "code",
   "execution_count": 16,
   "metadata": {},
   "outputs": [],
   "source": [
    "def mrrVisualization():\n",
    "    ''' Plots the data points with the centroids\n",
    "    '''\n",
    "    fig = plt.figure()\n",
    "    ax = plt.axes()\n",
    "    ax.plot(n_trainSamples,mrrScore,label='MRR vs TrainData',marker='x')\n",
    "    plt.title(\"Scores vs TrainData\")\n",
    "    plt.legend()\n",
    "    plt.xlabel(\"TrainData\")\n",
    "    plt.ylabel(\"Scores\")\n",
    "    fig.savefig(\"GNB_All_Mrr.png\")\n",
    "    plt.show()"
   ]
  },
  {
   "cell_type": "code",
   "execution_count": 17,
   "metadata": {},
   "outputs": [
    {
     "data": {
      "image/png": "[encoded data removed]",
      "text/plain": [
       "<Figure size 432x288 with 1 Axes>"
      ]
     },
     "metadata": {
      "needs_background": "light"
     },
     "output_type": "display_data"
    }
   ],
   "source": [
    "mrrVisualization()"
   ]
  },
  {
   "cell_type": "code",
   "execution_count": 18,
   "metadata": {},
   "outputs": [],
   "source": [
    "def precisionVisualization():\n",
    "    ''' Plots the data points with the centroids\n",
    "    '''\n",
    "    fig = plt.figure()\n",
    "    ax = plt.axes()\n",
    "    ax.plot(n_trainSamples,precisionAt1,label='Precision@1 vs TrainData',marker='x')\n",
    "    ax.plot(n_trainSamples,precisionAt3,label='Precision@3 vs TrainData',marker='o')\n",
    "    plt.title(\"Precisions vs TrainData\")\n",
    "    plt.legend()\n",
    "    plt.xlabel(\"TrainData\")\n",
    "    plt.ylabel(\"Precisions\")\n",
    "    fig.savefig(\"GNB_All_Precision.png\")\n",
    "    plt.show()"
   ]
  },
  {
   "cell_type": "code",
   "execution_count": 19,
   "metadata": {},
   "outputs": [
    {
     "data": {
      "image/png": "[encoded data removed]",
      "text/plain": [
       "<Figure size 432x288 with 1 Axes>"
      ]
     },
     "metadata": {
      "needs_background": "light"
     },
     "output_type": "display_data"
    }
   ],
   "source": [
    "precisionVisualization()"
   ]
  },
  {
   "cell_type": "code",
   "execution_count": null,
   "metadata": {},
   "outputs": [],
   "source": []
  }
 ],
 "metadata": {
  "kernelspec": {
   "display_name": "Python 3",
   "language": "python",
   "name": "python3"
  },
  "language_info": {
   "codemirror_mode": {
    "name": "ipython",
    "version": 3
   },
   "file_extension": ".py",
   "mimetype": "text/x-python",
   "name": "python",
   "nbconvert_exporter": "python",
   "pygments_lexer": "ipython3",
   "version": "3.7.3"
  }
 },
 "nbformat": 4,
 "nbformat_minor": 2
}
