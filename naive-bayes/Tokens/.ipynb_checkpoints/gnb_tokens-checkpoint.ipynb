{
 "cells": [
  {
   "cell_type": "code",
   "execution_count": 43,
   "metadata": {},
   "outputs": [],
   "source": [
    "import pandas as pd\n",
    "import numpy as np\n",
    "import matplotlib.pyplot as plt\n",
    "import json\n",
    "import pickle\n",
    "import joblib\n",
    "import time\n",
    "np.random.seed(42)"
   ]
  },
  {
   "cell_type": "code",
   "execution_count": 44,
   "metadata": {},
   "outputs": [],
   "source": [
    "def load_cls(fname):\n",
    "    return np.array(pickle.load(open(fname,\"rb\")))"
   ]
  },
  {
   "cell_type": "code",
   "execution_count": 45,
   "metadata": {},
   "outputs": [],
   "source": [
    "path = \"/scratch/pbanerj6/sml-dataset/\"\n",
    "trainSamples = 75000\n",
    "n_iter = 1000\n",
    "n_trainSamples = [100,500,1000,10000,20000,50000,75000]"
   ]
  },
  {
   "cell_type": "code",
   "execution_count": 46,
   "metadata": {},
   "outputs": [],
   "source": [
    "X_train = load_cls(path+\"X_train_tokens.p\")[:trainSamples]\n",
    "X_val_cls = load_cls(path+\"X_val_tokens.p\")"
   ]
  },
  {
   "cell_type": "code",
   "execution_count": 47,
   "metadata": {},
   "outputs": [
    {
     "name": "stdout",
     "output_type": "stream",
     "text": [
      "(75000,)\n"
     ]
    }
   ],
   "source": [
    "print(X_train.shape)"
   ]
  },
  {
   "cell_type": "code",
   "execution_count": 48,
   "metadata": {},
   "outputs": [],
   "source": [
    "y_train = load_cls(path+\"y_train.p\")[:trainSamples]\n",
    "y_val = load_cls(path+\"y_val.p\")"
   ]
  },
  {
   "cell_type": "code",
   "execution_count": 49,
   "metadata": {},
   "outputs": [],
   "source": [
    "from sklearn.feature_extraction.text import CountVectorizer\n",
    "\n",
    "def my_preprocessor(doc):\n",
    "    return doc\n",
    "\n",
    "# tokenize the doc and lemmatize its tokens\n",
    "def my_tokenizer(doc):\n",
    "    return doc\n",
    "\n",
    "custom_vec = CountVectorizer(preprocessor=my_preprocessor, tokenizer=my_tokenizer)\n",
    "cwm = custom_vec.fit_transform(X_train)\n",
    "tokens = custom_vec.get_feature_names()"
   ]
  },
  {
   "cell_type": "code",
   "execution_count": 50,
   "metadata": {},
   "outputs": [],
   "source": [
    "from sklearn.feature_extraction.text import TfidfVectorizer,TfidfTransformer\n",
    "from sklearn.pipeline import Pipeline\n",
    "from sklearn import svm"
   ]
  },
  {
   "cell_type": "code",
   "execution_count": 51,
   "metadata": {},
   "outputs": [],
   "source": [
    "feature_pipeline = Pipeline([\n",
    "('vect',  CountVectorizer(min_df=.0025, max_df=0.25, ngram_range=(1,3),preprocessor=my_preprocessor, tokenizer=my_tokenizer)),\n",
    "('tfidf', TfidfTransformer()),\n",
    "])"
   ]
  },
  {
   "cell_type": "code",
   "execution_count": 52,
   "metadata": {},
   "outputs": [],
   "source": [
    "X_train_f = feature_pipeline.fit_transform(X_train)\n",
    "X_val_f =feature_pipeline.transform(X_val_cls)"
   ]
  },
  {
   "cell_type": "code",
   "execution_count": 53,
   "metadata": {},
   "outputs": [
    {
     "name": "stdout",
     "output_type": "stream",
     "text": [
      "<class 'scipy.sparse.csr.csr_matrix'>\n",
      "<class 'numpy.matrix'>\n",
      "(75000, 4946)\n",
      "(75000,)\n"
     ]
    }
   ],
   "source": [
    "print(type(X_train_f))\n",
    "X_train_f_np = X_train_f.todense()\n",
    "print(type(X_train_f_np))\n",
    "#y_train = y_train.reshape((y_train.shape[0],1))\n",
    "print(X_train_f_np.shape)\n",
    "print(y_train.shape)"
   ]
  },
  {
   "cell_type": "code",
   "execution_count": 54,
   "metadata": {},
   "outputs": [
    {
     "data": {
      "text/plain": [
       "dict_keys(['priors', 'var_smoothing'])"
      ]
     },
     "execution_count": 54,
     "metadata": {},
     "output_type": "execute_result"
    }
   ],
   "source": [
    "from sklearn.naive_bayes import GaussianNB\n",
    "gnb = GaussianNB()\n",
    "gnb.get_params().keys()"
   ]
  },
  {
   "cell_type": "code",
   "execution_count": 55,
   "metadata": {},
   "outputs": [],
   "source": [
    "model = gnb.fit(X_train_f_np, y_train)"
   ]
  },
  {
   "cell_type": "code",
   "execution_count": 56,
   "metadata": {},
   "outputs": [],
   "source": [
    "X_test = load_cls(path+\"X_test_tokens.p\")\n",
    "y_test = load_cls(path+\"y_test.p\")\n",
    "X_test_f = feature_pipeline.fit_transform(X_test)\n",
    "X_test_f_np = X_test_f.todense()"
   ]
  },
  {
   "cell_type": "code",
   "execution_count": 57,
   "metadata": {},
   "outputs": [
    {
     "name": "stdout",
     "output_type": "stream",
     "text": [
      "(15000, 5662)\n",
      "(15000,)\n"
     ]
    }
   ],
   "source": [
    "print(X_test_f_np.shape)\n",
    "print(y_test.shape)"
   ]
  },
  {
   "cell_type": "code",
   "execution_count": 58,
   "metadata": {},
   "outputs": [],
   "source": [
    "from scipy.stats import rankdata\n",
    "\n",
    "def mrrs(out, labels):\n",
    "#     print(out,labels)\n",
    "    outputs = np.argmax(out,axis=1)\n",
    "    mrr = 0.0 \n",
    "    for label,ranks in zip(labels,out):\n",
    "        ranks = rankdata(ranks*-1)\n",
    "        rank = ranks[label]\n",
    "#         print(rank,ranks)\n",
    "        mrr+=1/rank\n",
    "    return mrr/len(labels)\n",
    "\n",
    "def precision_at(out,labels,prank=1):\n",
    "    count = 0\n",
    "    for label,ranks in zip(labels,out):\n",
    "        ranks = rankdata(ranks*-1)\n",
    "        rank = ranks[label]\n",
    "#         print(rank,ranks)\n",
    "        if rank <= prank:\n",
    "            count+=1\n",
    "    return count/len(labels)\n",
    "\n",
    "def mrrwrapper(qid2c,qid2indexmap,preds_prob):\n",
    "    labels = []\n",
    "    out = []\n",
    "    for qid in qid2c.keys():\n",
    "        scores = []\n",
    "        for ix in qid2indexmap[qid]:\n",
    "            if len(scores) < 6:\n",
    "                scores.append(preds_prob[ix][1])\n",
    "        if len(scores) < 6:\n",
    "            continue\n",
    "        out.append(scores)\n",
    "        labels.append(int(qid2c[qid]))\n",
    "    return mrrs(np.array(out),labels),precision_at(np.array(out),labels,1),precision_at(np.array(out),labels,3)\n",
    "\n",
    "def load_ranking(fname):\n",
    "    return pickle.load(open(path+\"ranking_\"+fname+\".p\",\"rb\"))"
   ]
  },
  {
   "cell_type": "code",
   "execution_count": 59,
   "metadata": {},
   "outputs": [],
   "source": [
    "from sklearn.metrics import accuracy_score"
   ]
  },
  {
   "cell_type": "code",
   "execution_count": 60,
   "metadata": {},
   "outputs": [
    {
     "name": "stdout",
     "output_type": "stream",
     "text": [
      "SampleSize: 100\n",
      "Train Time:0.13 sec\n",
      "Validation Accuracy: 50.58%\n",
      "Validation Time:3.86 sec\n",
      "Test Accuracy: 50.23%\n",
      "Test Time:3.61 sec\n",
      "(0.2948641173641128, 0.012666666666666666, 0.020666666666666667)\n",
      "MRR: 0.2948641173641128\n",
      "MRR Time:2.26 sec\n",
      "------------------------------------\n",
      "SampleSize: 500\n",
      "Train Time:0.21 sec\n",
      "Validation Accuracy: 50.45%\n",
      "Validation Time:4.29 sec\n",
      "Test Accuracy: 50.88%\n",
      "Test Time:4.23 sec\n",
      "(0.3175784992784956, 0.04, 0.08333333333333333)\n",
      "MRR: 0.3175784992784956\n",
      "MRR Time:7.87 sec\n",
      "------------------------------------\n",
      "SampleSize: 1000\n",
      "Train Time:0.54 sec\n",
      "Validation Accuracy: 50.80%\n",
      "Validation Time:5.52 sec\n",
      "Test Accuracy: 51.35%\n",
      "Test Time:5.53 sec\n",
      "(0.3355282828282803, 0.054, 0.16066666666666668)\n",
      "MRR: 0.3355282828282803\n",
      "MRR Time:3.76 sec\n",
      "------------------------------------\n",
      "SampleSize: 10000\n",
      "Train Time:3.65 sec\n",
      "Validation Accuracy: 55.33%\n",
      "Validation Time:3.43 sec\n",
      "Test Accuracy: 54.65%\n",
      "Test Time:3.98 sec\n",
      "(0.4191913419913412, 0.12466666666666666, 0.49533333333333335)\n",
      "MRR: 0.4191913419913412\n",
      "MRR Time:2.25 sec\n",
      "------------------------------------\n",
      "SampleSize: 20000\n",
      "Train Time:7.28 sec\n",
      "Validation Accuracy: 55.85%\n",
      "Validation Time:3.35 sec\n",
      "Test Accuracy: 54.75%\n",
      "Test Time:3.30 sec\n",
      "(0.44675613275613324, 0.16, 0.5553333333333333)\n",
      "MRR: 0.44675613275613324\n",
      "MRR Time:1.83 sec\n",
      "------------------------------------\n",
      "SampleSize: 50000\n",
      "Train Time:17.46 sec\n",
      "Validation Accuracy: 57.69%\n",
      "Validation Time:3.23 sec\n",
      "Test Accuracy: 56.81%\n",
      "Test Time:3.30 sec\n",
      "(0.4546326599326601, 0.14266666666666666, 0.6433333333333333)\n",
      "MRR: 0.4546326599326601\n",
      "MRR Time:1.82 sec\n",
      "------------------------------------\n",
      "SampleSize: 75000\n",
      "Train Time:25.91 sec\n",
      "Validation Accuracy: 58.15%\n",
      "Validation Time:3.24 sec\n",
      "Test Accuracy: 57.27%\n",
      "Test Time:3.23 sec\n",
      "(0.4506448773448774, 0.124, 0.6606666666666666)\n",
      "MRR: 0.4506448773448774\n",
      "MRR Time:2.20 sec\n",
      "------------------------------------\n",
      "[0.5058, 0.5045, 0.508, 0.5533, 0.5585, 0.5769, 0.5815]\n",
      "[0.5023, 0.5088, 0.5135, 0.5465, 0.5475, 0.5681, 0.5727]\n",
      "[0.2948641173641128, 0.3175784992784956, 0.3355282828282803, 0.4191913419913412, 0.44675613275613324, 0.4546326599326601, 0.4506448773448774]\n",
      "[0.012666666666666666, 0.04, 0.054, 0.12466666666666666, 0.16, 0.14266666666666666, 0.124]\n",
      "[0.020666666666666667, 0.08333333333333333, 0.16066666666666668, 0.49533333333333335, 0.5553333333333333, 0.6433333333333333, 0.6606666666666666]\n"
     ]
    }
   ],
   "source": [
    "\n",
    "n_trainSamples = [100,500,1000,10000,20000,50000,75000]\n",
    "\n",
    "valAccuracy = []\n",
    "testAccuracy = []\n",
    "mrrScore = []\n",
    "precisionAt1 = []\n",
    "precisionAt3 = []\n",
    "\n",
    "# For each of training sample sizes\n",
    "for eachTrain in n_trainSamples:\n",
    "\n",
    "    # Choose optimum K from GridSearchCV results\n",
    "    bestModel = GaussianNB()\n",
    "\n",
    "    print(\"SampleSize:\",eachTrain)\n",
    "    \n",
    "    stime=time.time()\n",
    "    X_train_f = feature_pipeline.fit_transform(X_train[:eachTrain])\n",
    "    X_train_f_np = X_train_f.todense()\n",
    "    bestModel.fit(X_train_f_np,y_train[:eachTrain])   \n",
    "    print(\"Train Time:%.2f sec\"%(time.time()-stime))\n",
    "    \n",
    "    stime=time.time()\n",
    "    X_val_f = feature_pipeline.transform(X_val_cls)\n",
    "    X_val_f_np = X_val_f.todense()\n",
    "    preds_val = bestModel.predict(X_val_f_np)\n",
    "    accuracy = round(accuracy_score(y_val, preds_val),4)\n",
    "    valAccuracy.append(accuracy)\n",
    "    print(\"Validation Accuracy: %.2f%%\" % (accuracy * 100.0))\n",
    "    print(\"Validation Time:%.2f sec\"%(time.time()-stime))\n",
    "\n",
    "    stime=time.time()\n",
    "    X_test_f = feature_pipeline.transform(X_test)\n",
    "    X_test_f_np = X_test_f.todense()\n",
    "    preds_test = bestModel.predict(X_test_f_np)\n",
    "    accuracy = round(accuracy_score(y_test, preds_test),4)\n",
    "    testAccuracy.append(accuracy)\n",
    "    print(\"Test Accuracy: %.2f%%\" % (accuracy * 100.0))\n",
    "    print(\"Test Time:%.2f sec\"%(time.time()-stime))\n",
    "    \n",
    "    stime=time.time()\n",
    "    preds_test_probs = bestModel.predict_proba(X_test_f_np)\n",
    "    qid2c,qid2indexmap = load_ranking(\"test\")\n",
    "    print (mrrwrapper(qid2c,qid2indexmap,preds_test_probs))\n",
    "    mrr, pAt1, pAt3 = mrrwrapper(qid2c,qid2indexmap,preds_test_probs)\n",
    "    mrrScore.append(mrr)\n",
    "    print(\"MRR:\",mrr)\n",
    "    print(\"MRR Time:%.2f sec\"%(time.time()-stime))\n",
    "    print(\"------------------------------------\")\n",
    "    precisionAt1.append(pAt1)\n",
    "    precisionAt3.append(pAt3)\n",
    "    \n",
    "print (valAccuracy)\n",
    "print (testAccuracy)\n",
    "print (mrrScore)\n",
    "print (precisionAt1)\n",
    "print (precisionAt3)"
   ]
  },
  {
   "cell_type": "code",
   "execution_count": 61,
   "metadata": {},
   "outputs": [],
   "source": [
    "def accuracyVisualization():\n",
    "    ''' Plots the data points with the centroids\n",
    "    '''\n",
    "    fig = plt.figure()\n",
    "    ax = plt.axes()\n",
    "    ax.plot(n_trainSamples,testAccuracy,label='TestAccuracy vs TrainData',marker='o')\n",
    "    plt.title(\"Scores vs TrainData\")\n",
    "    plt.legend()\n",
    "    plt.xlabel(\"TrainData\")\n",
    "    plt.ylabel(\"Scores\")\n",
    "    fig.savefig(\"GNB_Tokens_Accuracy.png\")\n",
    "    #plt.show()"
   ]
  },
  {
   "cell_type": "code",
   "execution_count": 62,
   "metadata": {},
   "outputs": [
    {
     "data": {
      "image/png": "[encoded data removed]",
      "text/plain": [
       "<Figure size 432x288 with 1 Axes>"
      ]
     },
     "metadata": {
      "needs_background": "light"
     },
     "output_type": "display_data"
    }
   ],
   "source": [
    "accuracyVisualization()"
   ]
  },
  {
   "cell_type": "code",
   "execution_count": 63,
   "metadata": {},
   "outputs": [],
   "source": [
    "def mrrVisualization():\n",
    "    ''' Plots the data points with the centroids\n",
    "    '''\n",
    "    fig = plt.figure()\n",
    "    ax = plt.axes()\n",
    "    ax.plot(n_trainSamples,mrrScore,label='MRR vs TrainData',marker='x')\n",
    "    plt.title(\"Scores vs TrainData\")\n",
    "    plt.legend()\n",
    "    plt.xlabel(\"TrainData\")\n",
    "    plt.ylabel(\"Scores\")\n",
    "    fig.savefig(\"GNB_Tokens_Mrr.png\")\n",
    "    plt.show()"
   ]
  },
  {
   "cell_type": "code",
   "execution_count": 64,
   "metadata": {},
   "outputs": [
    {
     "data": {
      "image/png": "[encoded data removed]",
      "text/plain": [
       "<Figure size 432x288 with 1 Axes>"
      ]
     },
     "metadata": {
      "needs_background": "light"
     },
     "output_type": "display_data"
    }
   ],
   "source": [
    "mrrVisualization()"
   ]
  },
  {
   "cell_type": "code",
   "execution_count": 65,
   "metadata": {},
   "outputs": [],
   "source": [
    "def precisionVisualization():\n",
    "    fig = plt.figure()\n",
    "    ax = plt.axes()\n",
    "    ax.plot(n_trainSamples,precisionAt1,label='Precision@1 vs TrainData',marker='o')\n",
    "    ax.plot(n_trainSamples,precisionAt3,label='Precision@3 vs TrainData',marker='x')\n",
    "    plt.title(\"Precision Scores vs TrainData\")\n",
    "    plt.legend()\n",
    "    plt.xlabel(\"TrainData\")\n",
    "    plt.ylabel(\"Scores\")\n",
    "    fig.savefig(\"GNB_Tokens_Precision.png\")\n",
    "    #plt.show()"
   ]
  },
  {
   "cell_type": "code",
   "execution_count": 66,
   "metadata": {},
   "outputs": [
    {
     "data": {
      "image/png": "[encoded data removed]",
      "text/plain": [
       "<Figure size 432x288 with 1 Axes>"
      ]
     },
     "metadata": {
      "needs_background": "light"
     },
     "output_type": "display_data"
    }
   ],
   "source": [
    "precisionVisualization()"
   ]
  },
  {
   "cell_type": "code",
   "execution_count": null,
   "metadata": {},
   "outputs": [],
   "source": []
  }
 ],
 "metadata": {
  "kernelspec": {
   "display_name": "Python 3",
   "language": "python",
   "name": "python3"
  },
  "language_info": {
   "codemirror_mode": {
    "name": "ipython",
    "version": 3
   },
   "file_extension": ".py",
   "mimetype": "text/x-python",
   "name": "python",
   "nbconvert_exporter": "python",
   "pygments_lexer": "ipython3",
   "version": "3.7.3"
  }
 },
 "nbformat": 4,
 "nbformat_minor": 2
}
