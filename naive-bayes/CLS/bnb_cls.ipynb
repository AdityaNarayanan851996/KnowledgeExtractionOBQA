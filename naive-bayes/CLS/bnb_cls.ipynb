{
 "cells": [
  {
   "cell_type": "code",
   "execution_count": 1,
   "metadata": {},
   "outputs": [],
   "source": [
    "import pandas as pd\n",
    "import numpy as np\n",
    "import matplotlib.pyplot as plt\n",
    "import json\n",
    "import pickle\n",
    "import joblib\n",
    "import time\n",
    "np.random.seed(42)"
   ]
  },
  {
   "cell_type": "code",
   "execution_count": 2,
   "metadata": {},
   "outputs": [],
   "source": [
    "def load_cls(fname):\n",
    "    return np.array(pickle.load(open(fname,\"rb\")))\n"
   ]
  },
  {
   "cell_type": "code",
   "execution_count": 3,
   "metadata": {},
   "outputs": [],
   "source": [
    "path = \"/scratch/pbanerj6/sml-dataset/\"\n",
    "trainSamples = 75000\n",
    "n_iter = 1000\n",
    "n_trainSamples = [100,500,1000,10000,20000,50000,75000]"
   ]
  },
  {
   "cell_type": "code",
   "execution_count": 4,
   "metadata": {},
   "outputs": [],
   "source": [
    "X_train_cls = load_cls(path+\"X_train_cls.p\")[:trainSamples]\n",
    "X_val_cls = load_cls(path+\"X_val_cls.p\")"
   ]
  },
  {
   "cell_type": "code",
   "execution_count": 5,
   "metadata": {},
   "outputs": [
    {
     "name": "stdout",
     "output_type": "stream",
     "text": [
      "[[ 1.423734 -0.114695 -0.154449 ... -0.619615 -1.204887  0.743622]\n",
      " [ 1.484414 -0.629639  1.432113 ... -0.205009  0.136299  0.382122]\n",
      " [ 0.926939 -0.211278 -1.211256 ... -0.825993 -0.566002  1.326438]\n",
      " ...\n",
      " [ 1.031413 -0.999979 -1.151777 ... -0.750491 -1.18601   0.994053]\n",
      " [ 1.031413 -0.999979 -1.151777 ... -0.750491 -1.18601   0.994053]\n",
      " [ 1.031413 -0.999979 -1.151777 ... -0.750491 -1.18601   0.994053]]\n"
     ]
    }
   ],
   "source": [
    "print(X_train_cls)"
   ]
  },
  {
   "cell_type": "code",
   "execution_count": 6,
   "metadata": {},
   "outputs": [],
   "source": [
    "y_train = load_cls(path+\"y_train.p\")[:trainSamples]\n",
    "y_val = load_cls(path+\"y_val.p\")"
   ]
  },
  {
   "cell_type": "code",
   "execution_count": 7,
   "metadata": {},
   "outputs": [],
   "source": [
    "from sklearn.naive_bayes import BernoulliNB\n",
    "bnb = BernoulliNB()"
   ]
  },
  {
   "cell_type": "code",
   "execution_count": 8,
   "metadata": {},
   "outputs": [],
   "source": [
    "model = bnb.fit(X_train_cls, y_train)"
   ]
  },
  {
   "cell_type": "code",
   "execution_count": 9,
   "metadata": {},
   "outputs": [],
   "source": [
    "pickle.dump(model,open(\"bnb_cls\"+str(trainSamples)+\"_\"+str(n_iter)+\".pkl\",'wb'))"
   ]
  },
  {
   "cell_type": "code",
   "execution_count": 10,
   "metadata": {},
   "outputs": [],
   "source": [
    "X_test_cls = load_cls(path+\"X_test_cls.p\")\n",
    "y_test = load_cls(path+\"y_test.p\")"
   ]
  },
  {
   "cell_type": "code",
   "execution_count": 11,
   "metadata": {},
   "outputs": [],
   "source": [
    "from scipy.stats import rankdata\n",
    "\n",
    "def mrrs(out, labels):\n",
    "#     print(out,labels)\n",
    "    outputs = np.argmax(out,axis=1)\n",
    "    mrr = 0.0 \n",
    "    for label,ranks in zip(labels,out):\n",
    "        ranks = rankdata(ranks*-1)\n",
    "        rank = ranks[label]\n",
    "#         print(rank,ranks)\n",
    "        mrr+=1/rank\n",
    "    return mrr/len(labels)\n",
    "\n",
    "def precision_at(out,labels,prank=1):\n",
    "    count = 0\n",
    "    for label,ranks in zip(labels,out):\n",
    "        ranks = rankdata(ranks*-1)\n",
    "        rank = ranks[label]\n",
    "#         print(rank,ranks)\n",
    "        if rank <= prank:\n",
    "            count+=1\n",
    "    return count/len(labels)\n",
    "\n",
    "def mrrwrapper(qid2c,qid2indexmap,preds_prob):\n",
    "    labels = []\n",
    "    out = []\n",
    "    for qid in qid2c.keys():\n",
    "        scores = []\n",
    "        for ix in qid2indexmap[qid]:\n",
    "            if len(scores) < 6:\n",
    "                scores.append(preds_prob[ix][1])\n",
    "        if len(scores) < 6:\n",
    "            continue\n",
    "        out.append(scores)\n",
    "        labels.append(int(qid2c[qid]))\n",
    "    return mrrs(np.array(out),labels),precision_at(np.array(out),labels,1),precision_at(np.array(out),labels,3)\n",
    "\n",
    "def load_ranking(fname):\n",
    "    return pickle.load(open(path+\"ranking_\"+fname+\".p\",\"rb\"))"
   ]
  },
  {
   "cell_type": "code",
   "execution_count": 12,
   "metadata": {},
   "outputs": [],
   "source": [
    "from sklearn.metrics import accuracy_score"
   ]
  },
  {
   "cell_type": "code",
   "execution_count": 13,
   "metadata": {},
   "outputs": [
    {
     "name": "stdout",
     "output_type": "stream",
     "text": [
      "SampleSize: 100\n",
      "Train Time:0.00 sec\n",
      "Validation Accuracy: 50.14%\n",
      "Validation Time:0.19 sec\n",
      "Test Accuracy: 50.05%\n",
      "Test Time:0.17 sec\n",
      "(0.4400666666666677, 0.198, 0.5506666666666666)\n",
      "MRR: 0.4400666666666677\n",
      "MRR Time:0.72 sec\n",
      "------------------------------------\n",
      "SampleSize: 500\n",
      "Train Time:0.01 sec\n",
      "Validation Accuracy: 53.04%\n",
      "Validation Time:0.17 sec\n",
      "Test Accuracy: 52.37%\n",
      "Test Time:0.20 sec\n",
      "(0.45091481481481566, 0.21, 0.5753333333333334)\n",
      "MRR: 0.45091481481481566\n",
      "MRR Time:0.65 sec\n",
      "------------------------------------\n",
      "SampleSize: 1000\n",
      "Train Time:0.02 sec\n",
      "Validation Accuracy: 53.37%\n",
      "Validation Time:0.17 sec\n",
      "Test Accuracy: 53.02%\n",
      "Test Time:0.17 sec\n",
      "(0.4643111111111125, 0.216, 0.6046666666666667)\n",
      "MRR: 0.4643111111111125\n",
      "MRR Time:0.76 sec\n",
      "------------------------------------\n",
      "SampleSize: 10000\n",
      "Train Time:0.11 sec\n",
      "Validation Accuracy: 58.57%\n",
      "Validation Time:0.21 sec\n",
      "Test Accuracy: 59.05%\n",
      "Test Time:0.17 sec\n",
      "(0.522933333333335, 0.2773333333333333, 0.6886666666666666)\n",
      "MRR: 0.522933333333335\n",
      "MRR Time:0.64 sec\n",
      "------------------------------------\n",
      "SampleSize: 20000\n",
      "Train Time:0.26 sec\n",
      "Validation Accuracy: 58.83%\n",
      "Validation Time:0.19 sec\n",
      "Test Accuracy: 58.63%\n",
      "Test Time:0.16 sec\n",
      "(0.5114555555555571, 0.26466666666666666, 0.6746666666666666)\n",
      "MRR: 0.5114555555555571\n",
      "MRR Time:0.65 sec\n",
      "------------------------------------\n",
      "SampleSize: 50000\n",
      "Train Time:0.55 sec\n",
      "Validation Accuracy: 58.21%\n",
      "Validation Time:0.17 sec\n",
      "Test Accuracy: 57.95%\n",
      "Test Time:0.17 sec\n",
      "(0.5151111111111131, 0.2733333333333333, 0.6773333333333333)\n",
      "MRR: 0.5151111111111131\n",
      "MRR Time:0.62 sec\n",
      "------------------------------------\n",
      "SampleSize: 75000\n",
      "Train Time:0.91 sec\n",
      "Validation Accuracy: 58.13%\n",
      "Validation Time:0.15 sec\n",
      "Test Accuracy: 57.97%\n",
      "Test Time:0.15 sec\n",
      "(0.5178222222222236, 0.2786666666666667, 0.6746666666666666)\n",
      "MRR: 0.5178222222222236\n",
      "MRR Time:0.64 sec\n",
      "------------------------------------\n",
      "[0.5014, 0.5304, 0.5337, 0.5857, 0.5883, 0.5821, 0.5813]\n",
      "[0.5005, 0.5237, 0.5302, 0.5905, 0.5863, 0.5795, 0.5797]\n",
      "[0.4400666666666677, 0.45091481481481566, 0.4643111111111125, 0.522933333333335, 0.5114555555555571, 0.5151111111111131, 0.5178222222222236]\n",
      "[0.198, 0.21, 0.216, 0.2773333333333333, 0.26466666666666666, 0.2733333333333333, 0.2786666666666667]\n",
      "[0.5506666666666666, 0.5753333333333334, 0.6046666666666667, 0.6886666666666666, 0.6746666666666666, 0.6773333333333333, 0.6746666666666666]\n"
     ]
    }
   ],
   "source": [
    "valAccuracy = []\n",
    "testAccuracy = []\n",
    "mrrScore = []\n",
    "precisionAt1 = []\n",
    "precisionAt3 = []\n",
    "\n",
    "# For each of training sample sizes\n",
    "for eachTrain in n_trainSamples:\n",
    "    \n",
    "    # Model with best values from grid search\n",
    "    bestModel = BernoulliNB()\n",
    "\n",
    "    print(\"SampleSize:\",eachTrain)\n",
    "    \n",
    "    stime=time.time()\n",
    "    #X_train_f = feature_pipeline.fit_transform(X_train[:eachTrain])\n",
    "    bestModel.fit(X_train_cls[:eachTrain],y_train[:eachTrain])   \n",
    "    print(\"Train Time:%.2f sec\"%(time.time()-stime))\n",
    "    \n",
    "    stime=time.time()\n",
    "    #X_val_f = feature_pipeline.transform(X_val_cls)\n",
    "    preds_val = bestModel.predict(X_val_cls)\n",
    "    accuracy = round(accuracy_score(y_val, preds_val),4)\n",
    "    valAccuracy.append(accuracy)\n",
    "    print(\"Validation Accuracy: %.2f%%\" % (accuracy * 100.0))\n",
    "    print(\"Validation Time:%.2f sec\"%(time.time()-stime))\n",
    "\n",
    "    stime=time.time()\n",
    "    #X_test_f = feature_pipeline.transform(X_test)\n",
    "    preds_test = bestModel.predict(X_test_cls)\n",
    "    accuracy = round(accuracy_score(y_test, preds_test),4)\n",
    "    testAccuracy.append(accuracy)\n",
    "    print(\"Test Accuracy: %.2f%%\" % (accuracy * 100.0))\n",
    "    print(\"Test Time:%.2f sec\"%(time.time()-stime))\n",
    "    \n",
    "    stime=time.time()\n",
    "    preds_test_probs = bestModel.predict_proba(X_test_cls)\n",
    "    qid2c,qid2indexmap = load_ranking(\"test\")\n",
    "    print (mrrwrapper(qid2c,qid2indexmap,preds_test_probs))\n",
    "    mrr, pAt1, pAt3 = mrrwrapper(qid2c,qid2indexmap,preds_test_probs)\n",
    "    mrrScore.append(mrr)\n",
    "    print(\"MRR:\",mrr)\n",
    "    print(\"MRR Time:%.2f sec\"%(time.time()-stime))\n",
    "    print(\"------------------------------------\")\n",
    "    precisionAt1.append(pAt1)\n",
    "    precisionAt3.append(pAt3)\n",
    "    \n",
    "    #input()\n",
    "print (valAccuracy)\n",
    "print (testAccuracy)\n",
    "print (mrrScore)\n",
    "print (precisionAt1)\n",
    "print (precisionAt3)"
   ]
  },
  {
   "cell_type": "code",
   "execution_count": 14,
   "metadata": {},
   "outputs": [],
   "source": [
    "def accuracyVisualization():\n",
    "    ''' Plots the data points with the centroids\n",
    "    '''\n",
    "    fig = plt.figure()\n",
    "    ax = plt.axes()\n",
    "    ax.plot(n_trainSamples,testAccuracy,label='TestAccuracy vs TrainData',marker='o')\n",
    "    ax.plot(n_trainSamples,valAccuracy,label='ValAccuracy vs TrainData',marker='.')\n",
    "    plt.title(\"Scores vs TrainData\")\n",
    "    plt.legend()\n",
    "    plt.xlabel(\"TrainData\")\n",
    "    plt.ylabel(\"Scores\")\n",
    "    fig.savefig(\"BNB_CLS_Accuracy.png\")\n",
    "    #plt.show()"
   ]
  },
  {
   "cell_type": "code",
   "execution_count": 15,
   "metadata": {},
   "outputs": [
    {
     "data": {
      "image/png": "[encoded data removed]",
      "text/plain": [
       "<Figure size 432x288 with 1 Axes>"
      ]
     },
     "metadata": {
      "needs_background": "light"
     },
     "output_type": "display_data"
    }
   ],
   "source": [
    "accuracyVisualization()"
   ]
  },
  {
   "cell_type": "code",
   "execution_count": 16,
   "metadata": {},
   "outputs": [],
   "source": [
    "def mrrVisualization():\n",
    "    ''' Plots the data points with the centroids\n",
    "    '''\n",
    "    fig = plt.figure()\n",
    "    ax = plt.axes()\n",
    "    ax.plot(n_trainSamples,mrrScore,label='MRR vs TrainData',marker='x')\n",
    "    plt.title(\"Scores vs TrainData\")\n",
    "    plt.legend()\n",
    "    plt.xlabel(\"TrainData\")\n",
    "    plt.ylabel(\"Scores\")\n",
    "    fig.savefig(\"BNB_CLS_Mrr.png\")\n",
    "    plt.show()"
   ]
  },
  {
   "cell_type": "code",
   "execution_count": 17,
   "metadata": {},
   "outputs": [
    {
     "data": {
      "image/png": "[encoded data removed]",
      "text/plain": [
       "<Figure size 432x288 with 1 Axes>"
      ]
     },
     "metadata": {
      "needs_background": "light"
     },
     "output_type": "display_data"
    }
   ],
   "source": [
    "mrrVisualization()"
   ]
  },
  {
   "cell_type": "code",
   "execution_count": 18,
   "metadata": {},
   "outputs": [],
   "source": [
    "def precisionVisualization():\n",
    "    ''' Plots the data points with the centroids\n",
    "    '''\n",
    "    fig = plt.figure()\n",
    "    ax = plt.axes()\n",
    "    ax.plot(n_trainSamples,precisionAt1,label='Precision@1 vs TrainData',marker='x')\n",
    "    ax.plot(n_trainSamples,precisionAt3,label='Precision@3 vs TrainData',marker='o')\n",
    "    plt.title(\"Precisions vs TrainData\")\n",
    "    plt.legend()\n",
    "    plt.xlabel(\"TrainData\")\n",
    "    plt.ylabel(\"Precisions\")\n",
    "    fig.savefig(\"BNB_CLS_Precision.png\")\n",
    "    plt.show()"
   ]
  },
  {
   "cell_type": "code",
   "execution_count": 19,
   "metadata": {},
   "outputs": [
    {
     "data": {
      "image/png": "[encoded data removed]",
      "text/plain": [
       "<Figure size 432x288 with 1 Axes>"
      ]
     },
     "metadata": {
      "needs_background": "light"
     },
     "output_type": "display_data"
    }
   ],
   "source": [
    "precisionVisualization()"
   ]
  }
 ],
 "metadata": {
  "kernelspec": {
   "display_name": "Python 3",
   "language": "python",
   "name": "python3"
  },
  "language_info": {
   "codemirror_mode": {
    "name": "ipython",
    "version": 3
   },
   "file_extension": ".py",
   "mimetype": "text/x-python",
   "name": "python",
   "nbconvert_exporter": "python",
   "pygments_lexer": "ipython3",
   "version": "3.7.3"
  }
 },
 "nbformat": 4,
 "nbformat_minor": 2
}
