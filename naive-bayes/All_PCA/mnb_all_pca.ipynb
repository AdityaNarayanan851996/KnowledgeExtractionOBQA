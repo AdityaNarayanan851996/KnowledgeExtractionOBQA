{
 "cells": [
  {
   "cell_type": "code",
   "execution_count": 1,
   "metadata": {},
   "outputs": [],
   "source": [
    "import pandas as pd\n",
    "import numpy as np\n",
    "import matplotlib.pyplot as plt\n",
    "import json\n",
    "import pickle\n",
    "import joblib\n",
    "import time\n",
    "np.random.seed(2)"
   ]
  },
  {
   "cell_type": "code",
   "execution_count": 2,
   "metadata": {},
   "outputs": [],
   "source": [
    "def load_all(fname):\n",
    "    return pickle.load(open(fname,\"rb\"))\n",
    "def load_y(fname):\n",
    "    return np.array(pickle.load(open(fname,\"rb\")))"
   ]
  },
  {
   "cell_type": "code",
   "execution_count": 3,
   "metadata": {},
   "outputs": [],
   "source": [
    "trainSamples = 75000\n",
    "path = \"/scratch/pbanerj6/sml-dataset/\"\n",
    "n_iter = 1000 \n",
    "n_trainSamples = [100,500,1000,10000,20000,50000,75000]"
   ]
  },
  {
   "cell_type": "code",
   "execution_count": 4,
   "metadata": {},
   "outputs": [],
   "source": [
    "X_train_all = load_all(path+\"X_train_all_90.pkl\")[:trainSamples]\n",
    "X_val_all = load_all(path+\"X_val_all_90.pkl\")\n",
    "\n",
    "y_train = load_y(path+\"y_train.p\")[:trainSamples]\n",
    "y_val = load_y(path+\"y_val.p\")"
   ]
  },
  {
   "cell_type": "code",
   "execution_count": 5,
   "metadata": {},
   "outputs": [
    {
     "name": "stdout",
     "output_type": "stream",
     "text": [
      "(6000,)\n",
      "(75000, 6000)\n",
      "[  9.30213571 -30.65635962   2.24770751 ...   0.99585652   0.98546931\n",
      "  -0.19068967]\n",
      "17.55310737780931\n",
      "(6000,)\n",
      "(15000, 6000)\n",
      "[ 1.99361009e+00 -2.76372462e+01  5.95588185e+00 ...  2.79753789e-01\n",
      " -1.65552558e-01  2.11403750e-02]\n",
      "15.609482222685395\n"
     ]
    }
   ],
   "source": [
    "print (X_train_all[0].shape)\n",
    "print (X_train_all.shape)\n",
    "print (X_train_all[0])\n",
    "print (max(X_train_all[0]))\n",
    "print (X_val_all[0].shape)\n",
    "print (X_val_all.shape)\n",
    "print (X_val_all[0])\n",
    "print (max(X_val_all[0]))"
   ]
  },
  {
   "cell_type": "code",
   "execution_count": 9,
   "metadata": {},
   "outputs": [
    {
     "name": "stdout",
     "output_type": "stream",
     "text": [
      "[[0.20429663 0.20527174 0.47801505 ... 0.57352528 0.53383253 0.46005213]\n",
      " [0.01402344 0.58240239 0.41764488 ... 0.50678335 0.44904325 0.4202191 ]\n",
      " [0.00671178 0.51263645 0.30402776 ... 0.5351284  0.45007207 0.53852646]\n",
      " ...\n",
      " [0.03076709 0.4022382  0.32714533 ... 0.33806976 0.446899   0.4524301 ]\n",
      " [0.03076709 0.4022382  0.32714533 ... 0.33806976 0.446899   0.4524301 ]\n",
      " [0.03076709 0.4022382  0.32714533 ... 0.33806976 0.446899   0.4524301 ]]\n"
     ]
    }
   ],
   "source": [
    "from sklearn.preprocessing import MinMaxScaler\n",
    "scaler = MinMaxScaler()\n",
    "scaler.fit(X_train_all)\n",
    "X_train_all = scaler.transform(X_train_all)\n",
    "print(X_train_all)"
   ]
  },
  {
   "cell_type": "code",
   "execution_count": 10,
   "metadata": {},
   "outputs": [
    {
     "data": {
      "text/plain": [
       "dict_keys(['alpha', 'class_prior', 'fit_prior'])"
      ]
     },
     "execution_count": 10,
     "metadata": {},
     "output_type": "execute_result"
    }
   ],
   "source": [
    "from sklearn.naive_bayes import MultinomialNB\n",
    "gnb = MultinomialNB()\n",
    "gnb.get_params().keys()"
   ]
  },
  {
   "cell_type": "code",
   "execution_count": 11,
   "metadata": {},
   "outputs": [],
   "source": [
    "model = gnb.fit(X_train_all, y_train)"
   ]
  },
  {
   "cell_type": "code",
   "execution_count": 13,
   "metadata": {},
   "outputs": [],
   "source": [
    "pickle.dump(model,open(\"MNB_ALL_PCA_\"+str(trainSamples)+\"_\"+str(n_iter)+\".pkl\",'wb'))"
   ]
  },
  {
   "cell_type": "code",
   "execution_count": 18,
   "metadata": {},
   "outputs": [],
   "source": [
    "X_test_all = load_all(path+\"X_test_all_90.pkl\")\n",
    "y_test = load_y(path+\"y_test.p\")"
   ]
  },
  {
   "cell_type": "code",
   "execution_count": 19,
   "metadata": {},
   "outputs": [],
   "source": [
    "from scipy.stats import rankdata\n",
    "\n",
    "def mrrs(out, labels):\n",
    "#     print(out,labels)\n",
    "    outputs = np.argmax(out,axis=1)\n",
    "    mrr = 0.0 \n",
    "    for label,ranks in zip(labels,out):\n",
    "        ranks = rankdata(ranks*-1)\n",
    "        rank = ranks[label]\n",
    "#         print(rank,ranks)\n",
    "        mrr+=1/rank\n",
    "    return mrr/len(labels)\n",
    "\n",
    "def precision_at(out,labels,prank=1):\n",
    "    count = 0\n",
    "    for label,ranks in zip(labels,out):\n",
    "        ranks = rankdata(ranks*-1)\n",
    "        rank = ranks[label]\n",
    "#         print(rank,ranks)\n",
    "        if rank <= prank:\n",
    "            count+=1\n",
    "    return count/len(labels)\n",
    "\n",
    "def mrrwrapper(qid2c,qid2indexmap,preds_prob):\n",
    "    labels = []\n",
    "    out = []\n",
    "    for qid in qid2c.keys():\n",
    "        scores = []\n",
    "        for ix in qid2indexmap[qid]:\n",
    "            if len(scores) < 6:\n",
    "                scores.append(preds_prob[ix][1])\n",
    "        if len(scores) < 6:\n",
    "            continue\n",
    "        out.append(scores)\n",
    "        labels.append(int(qid2c[qid]))\n",
    "    return mrrs(np.array(out),labels),precision_at(np.array(out),labels,1),precision_at(np.array(out),labels,3)\n",
    "\n",
    "def load_ranking(fname):\n",
    "    return pickle.load(open(path+\"ranking_\"+fname+\".p\",\"rb\"))"
   ]
  },
  {
   "cell_type": "code",
   "execution_count": 20,
   "metadata": {},
   "outputs": [],
   "source": [
    "from sklearn.metrics import accuracy_score"
   ]
  },
  {
   "cell_type": "code",
   "execution_count": 21,
   "metadata": {},
   "outputs": [],
   "source": [
    "from sklearn.feature_extraction.text import TfidfVectorizer,TfidfTransformer\n",
    "from sklearn.pipeline import Pipeline\n",
    "\n",
    "feature_pipeline = Pipeline([\n",
    "('vect',  CountVectorizer(min_df=.0025, max_df=0.25, ngram_range=(1,3),preprocessor=my_preprocessor, tokenizer=my_tokenizer)),\n",
    "('tfidf', TfidfTransformer()),\n",
    "])"
   ]
  },
  {
   "cell_type": "code",
   "execution_count": 24,
   "metadata": {},
   "outputs": [
    {
     "name": "stdout",
     "output_type": "stream",
     "text": [
      "SampleSize: 100\n",
      "Train Time:0.00 sec\n",
      "Validation Accuracy: 53.98%\n",
      "Validation Time:0.11 sec\n",
      "Test Accuracy: 53.02%\n",
      "Test Time:0.10 sec\n",
      "(0.45330000000000087, 0.216, 0.5546666666666666)\n",
      "MRR: 0.45330000000000087\n",
      "MRR Time:0.59 sec\n",
      "------------------------------------\n",
      "SampleSize: 500\n",
      "Train Time:0.01 sec\n",
      "Validation Accuracy: 55.23%\n",
      "Validation Time:0.10 sec\n",
      "Test Accuracy: 54.09%\n",
      "Test Time:0.10 sec\n",
      "(0.46002222222222316, 0.21466666666666667, 0.5846666666666667)\n",
      "MRR: 0.46002222222222316\n",
      "MRR Time:0.61 sec\n",
      "------------------------------------\n",
      "SampleSize: 1000\n",
      "Train Time:0.01 sec\n",
      "Validation Accuracy: 55.04%\n",
      "Validation Time:0.09 sec\n",
      "Test Accuracy: 55.11%\n",
      "Test Time:0.09 sec\n",
      "(0.4758444444444455, 0.23533333333333334, 0.61)\n",
      "MRR: 0.4758444444444455\n",
      "MRR Time:0.65 sec\n",
      "------------------------------------\n",
      "SampleSize: 10000\n",
      "Train Time:0.16 sec\n",
      "Validation Accuracy: 54.48%\n",
      "Validation Time:0.11 sec\n",
      "Test Accuracy: 54.30%\n",
      "Test Time:0.10 sec\n",
      "(0.4731523809523818, 0.21, 0.6473333333333333)\n",
      "MRR: 0.4731523809523818\n",
      "MRR Time:0.60 sec\n",
      "------------------------------------\n",
      "SampleSize: 20000\n",
      "Train Time:0.27 sec\n",
      "Validation Accuracy: 54.70%\n",
      "Validation Time:0.11 sec\n",
      "Test Accuracy: 54.23%\n",
      "Test Time:0.12 sec\n",
      "(0.4676428571428581, 0.20066666666666666, 0.642)\n",
      "MRR: 0.4676428571428581\n",
      "MRR Time:0.53 sec\n",
      "------------------------------------\n",
      "SampleSize: 50000\n",
      "Train Time:0.74 sec\n",
      "Validation Accuracy: 54.80%\n",
      "Validation Time:0.16 sec\n",
      "Test Accuracy: 54.46%\n",
      "Test Time:0.10 sec\n",
      "(0.4730206349206359, 0.20866666666666667, 0.64)\n",
      "MRR: 0.4730206349206359\n",
      "MRR Time:0.58 sec\n",
      "------------------------------------\n",
      "SampleSize: 75000\n",
      "Train Time:1.00 sec\n",
      "Validation Accuracy: 54.62%\n",
      "Validation Time:0.13 sec\n",
      "Test Accuracy: 54.49%\n",
      "Test Time:0.10 sec\n",
      "(0.4761777777777788, 0.21133333333333335, 0.6453333333333333)\n",
      "MRR: 0.4761777777777788\n",
      "MRR Time:0.51 sec\n",
      "------------------------------------\n",
      "[0.5398, 0.5523, 0.5504, 0.5448, 0.547, 0.548, 0.5462]\n",
      "[0.5302, 0.5409, 0.5511, 0.543, 0.5423, 0.5446, 0.5449]\n",
      "[0.45330000000000087, 0.46002222222222316, 0.4758444444444455, 0.4731523809523818, 0.4676428571428581, 0.4730206349206359, 0.4761777777777788]\n",
      "[0.216, 0.21466666666666667, 0.23533333333333334, 0.21, 0.20066666666666666, 0.20866666666666667, 0.21133333333333335]\n",
      "[0.5546666666666666, 0.5846666666666667, 0.61, 0.6473333333333333, 0.642, 0.64, 0.6453333333333333]\n"
     ]
    }
   ],
   "source": [
    "valAccuracy = []\n",
    "testAccuracy = []\n",
    "mrrScore = []\n",
    "precisionAt1 = []\n",
    "precisionAt3 = []\n",
    "\n",
    "# For each of training sample sizes\n",
    "for eachTrain in n_trainSamples:\n",
    "    \n",
    "    # Model with best values from grid search\n",
    "    bestModel = MultinomialNB()\n",
    "\n",
    "    print(\"SampleSize:\",eachTrain)\n",
    "    \n",
    "    stime=time.time()\n",
    "    bestModel.fit(X_train_all[:eachTrain],y_train[:eachTrain])   \n",
    "    print(\"Train Time:%.2f sec\"%(time.time()-stime))\n",
    "    \n",
    "    stime=time.time()\n",
    "    preds_val = bestModel.predict(X_val_all)\n",
    "    accuracy = round(accuracy_score(y_val, preds_val),4)\n",
    "    valAccuracy.append(accuracy)\n",
    "    print(\"Validation Accuracy: %.2f%%\" % (accuracy * 100.0))\n",
    "    print(\"Validation Time:%.2f sec\"%(time.time()-stime))\n",
    "\n",
    "    stime=time.time()\n",
    "    preds_test = bestModel.predict(X_test_all)\n",
    "    accuracy = round(accuracy_score(y_test, preds_test),4)\n",
    "    testAccuracy.append(accuracy)\n",
    "    print(\"Test Accuracy: %.2f%%\" % (accuracy * 100.0))\n",
    "    print(\"Test Time:%.2f sec\"%(time.time()-stime))\n",
    "    \n",
    "    stime=time.time()\n",
    "    preds_test_probs = bestModel.predict_proba(X_test_all)\n",
    "    qid2c,qid2indexmap = load_ranking(\"test\")\n",
    "    print (mrrwrapper(qid2c,qid2indexmap,preds_test_probs))\n",
    "    mrr, pAt1, pAt3 = mrrwrapper(qid2c,qid2indexmap,preds_test_probs)\n",
    "    mrrScore.append(mrr)\n",
    "    print(\"MRR:\",mrr)\n",
    "    print(\"MRR Time:%.2f sec\"%(time.time()-stime))\n",
    "    print(\"------------------------------------\")\n",
    "    precisionAt1.append(pAt1)\n",
    "    precisionAt3.append(pAt3)\n",
    "    \n",
    "    #input()\n",
    "print (valAccuracy)\n",
    "print (testAccuracy)\n",
    "print (mrrScore)\n",
    "print (precisionAt1)\n",
    "print (precisionAt3)"
   ]
  },
  {
   "cell_type": "code",
   "execution_count": 25,
   "metadata": {},
   "outputs": [],
   "source": [
    "def accuracyVisualization():\n",
    "    ''' Plots the data points with the centroids\n",
    "    '''\n",
    "    fig = plt.figure()\n",
    "    ax = plt.axes()\n",
    "    ax.plot(n_trainSamples,testAccuracy,label='TestAccuracy vs TrainData',marker='o')\n",
    "    ax.plot(n_trainSamples,valAccuracy,label='ValAccuracy vs TrainData',marker='.')\n",
    "    plt.title(\"Scores vs TrainData\")\n",
    "    plt.legend()\n",
    "    plt.xlabel(\"TrainData\")\n",
    "    plt.ylabel(\"Scores\")\n",
    "    fig.savefig(\"MNB_All_PCA_Accuracy.png\")\n",
    "    #plt.show()"
   ]
  },
  {
   "cell_type": "code",
   "execution_count": 26,
   "metadata": {},
   "outputs": [
    {
     "data": {
      "image/png": "[encoded data removed]",
      "text/plain": [
       "<Figure size 432x288 with 1 Axes>"
      ]
     },
     "metadata": {
      "needs_background": "light"
     },
     "output_type": "display_data"
    }
   ],
   "source": [
    "accuracyVisualization()"
   ]
  },
  {
   "cell_type": "code",
   "execution_count": 27,
   "metadata": {},
   "outputs": [],
   "source": [
    "def mrrVisualization():\n",
    "    ''' Plots the data points with the centroids\n",
    "    '''\n",
    "    fig = plt.figure()\n",
    "    ax = plt.axes()\n",
    "    ax.plot(n_trainSamples,mrrScore,label='MRR vs TrainData',marker='x')\n",
    "    plt.title(\"Scores vs TrainData\")\n",
    "    plt.legend()\n",
    "    plt.xlabel(\"TrainData\")\n",
    "    plt.ylabel(\"Scores\")\n",
    "    fig.savefig(\"MNB_All_PCA_Mrr.png\")\n",
    "    plt.show()"
   ]
  },
  {
   "cell_type": "code",
   "execution_count": 28,
   "metadata": {},
   "outputs": [
    {
     "data": {
      "image/png": "[encoded data removed]",
      "text/plain": [
       "<Figure size 432x288 with 1 Axes>"
      ]
     },
     "metadata": {
      "needs_background": "light"
     },
     "output_type": "display_data"
    }
   ],
   "source": [
    "mrrVisualization()"
   ]
  },
  {
   "cell_type": "code",
   "execution_count": 29,
   "metadata": {},
   "outputs": [],
   "source": [
    "def precisionVisualization():\n",
    "    ''' Plots the data points with the centroids\n",
    "    '''\n",
    "    fig = plt.figure()\n",
    "    ax = plt.axes()\n",
    "    ax.plot(n_trainSamples,precisionAt1,label='Precision@1 vs TrainData',marker='x')\n",
    "    ax.plot(n_trainSamples,precisionAt3,label='Precision@3 vs TrainData',marker='o')\n",
    "    plt.title(\"Precisions vs TrainData\")\n",
    "    plt.legend()\n",
    "    plt.xlabel(\"TrainData\")\n",
    "    plt.ylabel(\"Precisions\")\n",
    "    fig.savefig(\"MNB_All_PCA_Precision.png\")\n",
    "    plt.show()"
   ]
  },
  {
   "cell_type": "code",
   "execution_count": 30,
   "metadata": {},
   "outputs": [
    {
     "data": {
      "image/png": "[encoded data removed]",
      "text/plain": [
       "<Figure size 432x288 with 1 Axes>"
      ]
     },
     "metadata": {
      "needs_background": "light"
     },
     "output_type": "display_data"
    }
   ],
   "source": [
    "precisionVisualization()"
   ]
  },
  {
   "cell_type": "code",
   "execution_count": null,
   "metadata": {},
   "outputs": [],
   "source": []
  }
 ],
 "metadata": {
  "kernelspec": {
   "display_name": "Python 3",
   "language": "python",
   "name": "python3"
  },
  "language_info": {
   "codemirror_mode": {
    "name": "ipython",
    "version": 3
   },
   "file_extension": ".py",
   "mimetype": "text/x-python",
   "name": "python",
   "nbconvert_exporter": "python",
   "pygments_lexer": "ipython3",
   "version": "3.7.3"
  }
 },
 "nbformat": 4,
 "nbformat_minor": 2
}
