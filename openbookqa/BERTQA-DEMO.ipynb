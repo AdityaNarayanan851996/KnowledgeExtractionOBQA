{
 "cells": [
  {
   "cell_type": "code",
   "execution_count": 1,
   "metadata": {},
   "outputs": [],
   "source": [
    "import os\n",
    "import sys\n",
    "\n",
    "sys.path.append(\"/home/pbanerj6/github/OBQA/bert\")\n",
    "\n",
    "from models.bert_qa import BertQA\n",
    "\n",
    "from tqdm import tqdm\n",
    "import argparse\n",
    "import pickle\n",
    "import numpy as np\n",
    "import os\n",
    "import collections\n",
    "import json\n",
    "import operator\n",
    "import torch\n",
    "from random import shuffle\n",
    "import gc\n",
    "gc.enable()\n",
    "\n",
    "Input = collections.namedtuple(\"Input\",\"idx passage a b c d label\")"
   ]
  },
  {
   "cell_type": "code",
   "execution_count": 2,
   "metadata": {},
   "outputs": [],
   "source": [
    "model_dir = \"/scratch/pbanerj6/obqa\"\n",
    "model_dir += \"/bertqa-withir64s-all-35-256/\""
   ]
  },
  {
   "cell_type": "code",
   "execution_count": 3,
   "metadata": {},
   "outputs": [
    {
     "name": "stdout",
     "output_type": "stream",
     "text": [
      "Loading BERT QA Model\n"
     ]
    },
    {
     "name": "stderr",
     "output_type": "stream",
     "text": [
      "04/02/2019 15:52:16 - INFO - pytorch_pretrained_bert.tokenization -   loading vocabulary file https://s3.amazonaws.com/models.huggingface.co/bert/bert-large-cased-vocab.txt from cache at /home/pbanerj6/.pytorch_pretrained_bert/cee054f6aafe5e2cf816d2228704e326446785f940f5451a5b26033516a4ac3d.e13dbb970cb325137104fb2e5f36fe865f27746c6b526f6352861b1980eb80b1\n"
     ]
    },
    {
     "name": "stdout",
     "output_type": "stream",
     "text": [
      "Action: predict\n",
      "Loading Model /scratch/pbanerj6/obqa/bertqa-withir64s-all-35-256/pytorch_model.bin.3\n"
     ]
    },
    {
     "name": "stderr",
     "output_type": "stream",
     "text": [
      "04/02/2019 15:52:21 - INFO - pytorch_pretrained_bert.modeling -   loading archive file https://s3.amazonaws.com/models.huggingface.co/bert/bert-large-cased.tar.gz from cache at /home/pbanerj6/.pytorch_pretrained_bert/7fb0534b83c42daee7d3ddb0ebaa81387925b71665d6ea195c5447f1077454cd.eea60d9ebb03c75bb36302aa9d241d3b7a04bba39c360cf035e8bf8140816233\n",
      "04/02/2019 15:52:21 - INFO - pytorch_pretrained_bert.modeling -   extracting archive file /home/pbanerj6/.pytorch_pretrained_bert/7fb0534b83c42daee7d3ddb0ebaa81387925b71665d6ea195c5447f1077454cd.eea60d9ebb03c75bb36302aa9d241d3b7a04bba39c360cf035e8bf8140816233 to temp dir /tmp/tmp056a_e93\n",
      "04/02/2019 15:52:31 - INFO - pytorch_pretrained_bert.modeling -   Model config {\n",
      "  \"attention_probs_dropout_prob\": 0.1,\n",
      "  \"directionality\": \"bidi\",\n",
      "  \"hidden_act\": \"gelu\",\n",
      "  \"hidden_dropout_prob\": 0.1,\n",
      "  \"hidden_size\": 1024,\n",
      "  \"initializer_range\": 0.02,\n",
      "  \"intermediate_size\": 4096,\n",
      "  \"max_position_embeddings\": 512,\n",
      "  \"num_attention_heads\": 16,\n",
      "  \"num_hidden_layers\": 24,\n",
      "  \"pooler_fc_size\": 768,\n",
      "  \"pooler_num_attention_heads\": 12,\n",
      "  \"pooler_num_fc_layers\": 3,\n",
      "  \"pooler_size_per_head\": 128,\n",
      "  \"pooler_type\": \"first_token_transform\",\n",
      "  \"type_vocab_size\": 2,\n",
      "  \"vocab_size\": 28996\n",
      "}\n",
      "\n"
     ]
    }
   ],
   "source": [
    "binfile = \"pytorch_model.bin.\"+str(3)\n",
    "model =  BertQA( output_dir=model_dir,topk=5,\n",
    "                bert_model=\"bert-large-cased\",do_lower_case=False,\n",
    "                eval_batch_size=64,max_seq_length=128,num_labels=4,action=\"predict\",model=binfile)"
   ]
  },
  {
   "cell_type": "code",
   "execution_count": 136,
   "metadata": {},
   "outputs": [],
   "source": [
    "data = {}\n",
    "\n",
    "premise = \"Beak shape can influence a bird's ability. Beak is related to food. Beak and mate has no relation.\"\n",
    "\n",
    "choices = [\n",
    "     \"to give birth to live young\",\"to mate with it's partner\" , \"to fly to warmer climates\",  \"to chew up certain worms\"\n",
    "]\n",
    "\n",
    "label = 3\n",
    "\n",
    "data[\"1\"]=Input(idx=\"1\",passage=premise,a=choices[0],b=choices[1],c=choices[2],d=choices[3],label=int(label))"
   ]
  },
  {
   "cell_type": "code",
   "execution_count": 137,
   "metadata": {},
   "outputs": [
    {
     "data": {
      "text/plain": [
       "{'1': Input(idx='1', passage=\"Beak shape can influence a bird's ability. Beak is related to food. Beak and mate has no relation.\", a='to give birth to live young', b=\"to mate with it's partner\", c='to fly to warmer climates', d='to chew up certain worms', label=3)}"
      ]
     },
     "execution_count": 137,
     "metadata": {},
     "output_type": "execute_result"
    }
   ],
   "source": [
    "data"
   ]
  },
  {
   "cell_type": "code",
   "execution_count": null,
   "metadata": {},
   "outputs": [],
   "source": []
  },
  {
   "cell_type": "code",
   "execution_count": 138,
   "metadata": {},
   "outputs": [
    {
     "name": "stderr",
     "output_type": "stream",
     "text": [
      "Generating Bert Examples:: 100%|██████████| 1/1 [00:00<00:00, 7449.92it/s]\n",
      "Tokenizing: 1it [00:00, 1220.34it/s]\n",
      "Predicting:: 100%|██████████| 1/1 [00:00<00:00, 17.50it/s]\n",
      "04/02/2019 16:23:00 - INFO - models.bert_qa -   {\"sum_acc\": 1.0, \"max_acc\": 1.0}\n"
     ]
    },
    {
     "name": "stdout",
     "output_type": "stream",
     "text": [
      "Passage Token Lengths Distribution 35 35.0 35.7 35.85 35.97\n",
      "Saving Score Files!!\n"
     ]
    },
    {
     "data": {
      "text/plain": [
       "({'test': {'sum': {}, 'max': {}}},\n",
       " {'1': [0.020511716349607325,\n",
       "   0.9575867149009704,\n",
       "   0.011614545888010308,\n",
       "   0.01028702286141202]},\n",
       " {'1': [0.020511716349607325,\n",
       "   0.9575867149009704,\n",
       "   0.011614545888010308,\n",
       "   0.01028702286141202]})"
      ]
     },
     "execution_count": 138,
     "metadata": {},
     "output_type": "execute_result"
    }
   ],
   "source": [
    "model.predict_single({\"test\":data},\"test-1\")"
   ]
  },
  {
   "cell_type": "code",
   "execution_count": null,
   "metadata": {},
   "outputs": [],
   "source": []
  }
 ],
 "metadata": {
  "kernelspec": {
   "display_name": "Python 3",
   "language": "python",
   "name": "python3"
  },
  "language_info": {
   "codemirror_mode": {
    "name": "ipython",
    "version": 3
   },
   "file_extension": ".py",
   "mimetype": "text/x-python",
   "name": "python",
   "nbconvert_exporter": "python",
   "pygments_lexer": "ipython3",
   "version": "3.6.8"
  }
 },
 "nbformat": 4,
 "nbformat_minor": 2
}
