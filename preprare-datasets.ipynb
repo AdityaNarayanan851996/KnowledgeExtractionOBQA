{
 "cells": [
  {
   "cell_type": "code",
   "execution_count": 2,
   "metadata": {},
   "outputs": [],
   "source": [
    "trainlines = open(\"datasets/msr-med/train.tsv\",\"r\").readlines()\n",
    "vallines = open(\"datasets/msr-med/val.tsv\",\"r\").readlines()\n",
    "testlines = open(\"datasets/msr-med/test.tsv\",\"r\").readlines()\n",
    "trainlines.extend(vallines)\n",
    "trainlines.extend(testlines)"
   ]
  },
  {
   "cell_type": "code",
   "execution_count": 3,
   "metadata": {},
   "outputs": [],
   "source": [
    "def create_binary_dataset(alllines):\n",
    "    trainfile = open(\"datasets/ranking-med/train.tsv\",\"w+\")\n",
    "    valfile = open(\"datasets/ranking-med/val.tsv\",\"w+\")\n",
    "    testfile = open(\"datasets/ranking-med/test.tsv\",\"w+\")\n",
    "    \n",
    "    bertfile = open(\"datasets/bert_file_new.txt\",\"w+\")\n",
    "    \n",
    "    sentence_lengths = []\n",
    "    query_lengths = []\n",
    "    \n",
    "    bert_lines = []\n",
    "    \n",
    "    all_rlines = []\n",
    "    for line in alllines:\n",
    "        line = line.strip().split(\"\\t\")\n",
    "        idx = line[0]\n",
    "        query = line[1]\n",
    "        choices= line[2:-1]\n",
    "        label = line[-1]\n",
    "        correct_choice = choices[int(label)]\n",
    "        \n",
    "        bertfile.write(query+\"\\n\")\n",
    "        \n",
    "        sentence_lengths.append(len(correct_choice.split(\" \")))\n",
    "        query_lengths.append(len(query.split(\" \")))\n",
    "        \n",
    "        wrong_choices = []\n",
    "        for choice in choices:\n",
    "            if choice != correct_choice:\n",
    "                wrong_choices.append(choice)\n",
    "            bertfile.write(choice+\"\\n\")\n",
    "        \n",
    "        bertfile.write(\"\\n\")\n",
    "        \n",
    "        for cidx,choice in enumerate(wrong_choices[0:5]):\n",
    "            nidx=idx+\"-\"+str(cidx)\n",
    "            nlabel = \"0\"\n",
    "            all_rlines.append(nidx+\"\\t\"+query+\"\\t\"+choice+\"\\t\"+nlabel+\"\\n\")\n",
    "        for cidx in range(5,10):\n",
    "            nidx=idx+\"-\"+str(cidx)\n",
    "            nlabel = \"1\"\n",
    "            all_rlines.append(nidx+\"\\t\"+query+\"\\t\"+correct_choice+\"\\t\"+nlabel+\"\\n\")\n",
    "            \n",
    "    total_len  = len(all_rlines)\n",
    "    train_size = int(total_len*0.7)\n",
    "    val_size = int(total_len*0.15)\n",
    "    print(\"Total Size:\",total_len,\"Train:Size\",train_size,\"Val Size\",val_size)\n",
    "    \n",
    "    trainlines = all_rlines[0:train_size]\n",
    "    vallines = all_rlines[train_size:train_size+val_size]\n",
    "    testlines = all_rlines[train_size+val_size:]\n",
    "    \n",
    "    for line in trainlines:\n",
    "        trainfile.write(line)\n",
    "    trainfile.close()\n",
    "    \n",
    "    for line in vallines:\n",
    "        valfile.write(line) \n",
    "    valfile.close()\n",
    "    \n",
    "    for line in testlines:\n",
    "        testfile.write(line) \n",
    "    testfile.close()\n",
    "    \n",
    "    bertfile.close()\n",
    "    \n",
    "    return sentence_lengths,query_lengths"
   ]
  },
  {
   "cell_type": "code",
   "execution_count": 4,
   "metadata": {},
   "outputs": [
    {
     "name": "stdout",
     "output_type": "stream",
     "text": [
      "Total Size: 3341880 Train:Size 2339316 Val Size 501282\n"
     ]
    }
   ],
   "source": [
    "slens,qlens = create_binary_dataset(trainlines)"
   ]
  },
  {
   "cell_type": "code",
   "execution_count": 5,
   "metadata": {},
   "outputs": [],
   "source": [
    "import numpy as np"
   ]
  },
  {
   "cell_type": "code",
   "execution_count": 6,
   "metadata": {},
   "outputs": [
    {
     "data": {
      "text/plain": [
       "(105.0, 10.0)"
      ]
     },
     "execution_count": 6,
     "metadata": {},
     "output_type": "execute_result"
    }
   ],
   "source": [
    "np.percentile(slens,95),np.percentile(qlens,95)"
   ]
  },
  {
   "cell_type": "code",
   "execution_count": 7,
   "metadata": {},
   "outputs": [],
   "source": [
    "a=np.zeros([768])\n",
    "b=np.ones([768])"
   ]
  },
  {
   "cell_type": "code",
   "execution_count": 8,
   "metadata": {},
   "outputs": [],
   "source": [
    "from scipy import stats"
   ]
  },
  {
   "cell_type": "code",
   "execution_count": 9,
   "metadata": {},
   "outputs": [
    {
     "data": {
      "text/plain": [
       "99.98907800399775"
      ]
     },
     "execution_count": 9,
     "metadata": {},
     "output_type": "execute_result"
    }
   ],
   "source": [
    "stats.percentileofscore(qlens,28)"
   ]
  },
  {
   "cell_type": "code",
   "execution_count": 10,
   "metadata": {},
   "outputs": [],
   "source": [
    "import torch"
   ]
  },
  {
   "cell_type": "code",
   "execution_count": 11,
   "metadata": {},
   "outputs": [],
   "source": [
    "a = torch.Tensor(a)\n",
    "b = torch.Tensor(b)"
   ]
  },
  {
   "cell_type": "code",
   "execution_count": 12,
   "metadata": {},
   "outputs": [
    {
     "data": {
      "text/plain": [
       "tensor(1.)"
      ]
     },
     "execution_count": 12,
     "metadata": {},
     "output_type": "execute_result"
    }
   ],
   "source": [
    "b[2]"
   ]
  },
  {
   "cell_type": "code",
   "execution_count": null,
   "metadata": {},
   "outputs": [],
   "source": []
  }
 ],
 "metadata": {
  "kernelspec": {
   "display_name": "Python 3",
   "language": "python",
   "name": "python3"
  },
  "language_info": {
   "codemirror_mode": {
    "name": "ipython",
    "version": 3
   },
   "file_extension": ".py",
   "mimetype": "text/x-python",
   "name": "python",
   "nbconvert_exporter": "python",
   "pygments_lexer": "ipython3",
   "version": "3.6.8"
  }
 },
 "nbformat": 4,
 "nbformat_minor": 2
}
