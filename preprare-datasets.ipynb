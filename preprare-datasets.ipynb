{
 "cells": [
  {
   "cell_type": "code",
   "execution_count": 30,
   "metadata": {},
   "outputs": [],
   "source": [
    "trainlines = open(\"datasets/msr-small/train.tsv\",\"r\").readlines()\n",
    "vallines = open(\"datasets/msr-small/val.csv\",\"r\").readlines()\n",
    "trainlines.extend(vallines)"
   ]
  },
  {
   "cell_type": "code",
   "execution_count": 55,
   "metadata": {},
   "outputs": [],
   "source": [
    "def create_binary_dataset(alllines):\n",
    "    trainfile = open(\"datasets/ranking/train.tsv\",\"w+\")\n",
    "    valfile = open(\"datasets/ranking/val.tsv\",\"w+\")\n",
    "    testfile = open(\"datasets/ranking/test.tsv\",\"w+\")\n",
    "    \n",
    "    bertfile = open(\"datasets/bert_file.txt\",\"w+\")\n",
    "    \n",
    "    sentence_lengths = []\n",
    "    query_lengths = []\n",
    "    \n",
    "    bert_lines = []\n",
    "    \n",
    "    all_rlines = []\n",
    "    for line in alllines:\n",
    "        line = line.strip().split(\"\\t\")\n",
    "        idx = line[0]\n",
    "        query = line[1]\n",
    "        choices= line[2:-1]\n",
    "        label = line[-1]\n",
    "        correct_choice = choices[int(label)]\n",
    "        \n",
    "        bertfile.write(query+\"\\n\")\n",
    "        \n",
    "        sentence_lengths.append(len(correct_choice.split(\" \")))\n",
    "        query_lengths.append(len(query.split(\" \")))\n",
    "        \n",
    "        wrong_choices = []\n",
    "        for choice in choices:\n",
    "            if choice != correct_choice:\n",
    "                wrong_choices.append(choice)\n",
    "            bertfile.write(choice+\"\\n\")\n",
    "        \n",
    "        bertfile.write(\"\\n\")\n",
    "        \n",
    "        for cidx,choice in enumerate(wrong_choices[0:5]):\n",
    "            nidx=idx+\"-\"+str(cidx)\n",
    "            nlabel = \"0\"\n",
    "            all_rlines.append(nidx+\"\\t\"+query+\"\\t\"+choice+\"\\t\"+nlabel+\"\\n\")\n",
    "        for cidx in range(5,10):\n",
    "            nidx=idx+\"-\"+str(cidx)\n",
    "            nlabel = \"1\"\n",
    "            all_rlines.append(nidx+\"\\t\"+query+\"\\t\"+correct_choice+\"\\t\"+nlabel+\"\\n\")\n",
    "            \n",
    "    total_len  = len(all_rlines)\n",
    "    train_size = int(total_len*0.7)\n",
    "    val_size = int(total_len*0.15)\n",
    "    print(\"Total Size:\",total_len,\"Train:Size\",train_size,\"Val Size\",val_size)\n",
    "    \n",
    "    trainlines = all_rlines[0:train_size]\n",
    "    vallines = all_rlines[train_size:train_size+val_size]\n",
    "    testlines = all_rlines[train_size+val_size:]\n",
    "    \n",
    "    for line in trainlines:\n",
    "        trainfile.write(line)\n",
    "    trainfile.close()\n",
    "    \n",
    "    for line in vallines:\n",
    "        valfile.write(line) \n",
    "    valfile.close()\n",
    "    \n",
    "    for line in testlines:\n",
    "        testfile.write(line) \n",
    "    testfile.close()\n",
    "    \n",
    "    bertfile.close()\n",
    "    \n",
    "    return sentence_lengths,query_lengths"
   ]
  },
  {
   "cell_type": "code",
   "execution_count": 56,
   "metadata": {},
   "outputs": [
    {
     "name": "stdout",
     "output_type": "stream",
     "text": [
      "Total Size: 700000 Train:Size 489999 Val Size 105000\n"
     ]
    }
   ],
   "source": [
    "slens,qlens = create_binary_dataset(trainlines)"
   ]
  },
  {
   "cell_type": "code",
   "execution_count": 33,
   "metadata": {},
   "outputs": [],
   "source": [
    "import numpy as np"
   ]
  },
  {
   "cell_type": "code",
   "execution_count": 52,
   "metadata": {},
   "outputs": [
    {
     "data": {
      "text/plain": [
       "(100.0, 10.0)"
      ]
     },
     "execution_count": 52,
     "metadata": {},
     "output_type": "execute_result"
    }
   ],
   "source": [
    "np.percentile(slens,95),np.percentile(qlens,95)"
   ]
  },
  {
   "cell_type": "code",
   "execution_count": 67,
   "metadata": {},
   "outputs": [],
   "source": [
    "a=np.zeros([768])\n",
    "b=np.ones([768])"
   ]
  },
  {
   "cell_type": "code",
   "execution_count": 53,
   "metadata": {},
   "outputs": [],
   "source": [
    "from scipy import stats"
   ]
  },
  {
   "cell_type": "code",
   "execution_count": 54,
   "metadata": {},
   "outputs": [
    {
     "data": {
      "text/plain": [
       "99.98"
      ]
     },
     "execution_count": 54,
     "metadata": {},
     "output_type": "execute_result"
    }
   ],
   "source": [
    "stats.percentileofscore(qlens,28)"
   ]
  },
  {
   "cell_type": "code",
   "execution_count": 61,
   "metadata": {},
   "outputs": [],
   "source": [
    "import torch"
   ]
  },
  {
   "cell_type": "code",
   "execution_count": 68,
   "metadata": {},
   "outputs": [],
   "source": [
    "a = torch.Tensor(a)\n",
    "b = torch.Tensor(b)"
   ]
  },
  {
   "cell_type": "code",
   "execution_count": 71,
   "metadata": {},
   "outputs": [
    {
     "data": {
      "text/plain": [
       "tensor(1.)"
      ]
     },
     "execution_count": 71,
     "metadata": {},
     "output_type": "execute_result"
    }
   ],
   "source": [
    "b[2]"
   ]
  },
  {
   "cell_type": "code",
   "execution_count": null,
   "metadata": {},
   "outputs": [],
   "source": []
  }
 ],
 "metadata": {
  "kernelspec": {
   "display_name": "Python 3",
   "language": "python",
   "name": "python3"
  },
  "language_info": {
   "codemirror_mode": {
    "name": "ipython",
    "version": 3
   },
   "file_extension": ".py",
   "mimetype": "text/x-python",
   "name": "python",
   "nbconvert_exporter": "python",
   "pygments_lexer": "ipython3",
   "version": "3.6.8"
  }
 },
 "nbformat": 4,
 "nbformat_minor": 2
}
