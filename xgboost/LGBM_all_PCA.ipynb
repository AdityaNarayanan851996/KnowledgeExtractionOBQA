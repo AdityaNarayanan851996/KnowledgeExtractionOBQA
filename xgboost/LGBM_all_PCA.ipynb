{
 "cells": [
  {
   "cell_type": "code",
   "execution_count": 1,
   "metadata": {},
   "outputs": [],
   "source": [
    "import pandas as pd\n",
    "import numpy as np\n",
    "import matplotlib.pyplot as plt\n",
    "import json\n",
    "import pickle\n",
    "import joblib\n",
    "import time\n",
    "np.random.seed(2)\n"
   ]
  },
  {
   "cell_type": "code",
   "execution_count": 2,
   "metadata": {},
   "outputs": [],
   "source": [
    "def load_all(fname):\n",
    "    return pickle.load(open(fname,\"rb\"))\n",
    "def load_y(fname):\n",
    "    return np.array(pickle.load(open(fname,\"rb\")))"
   ]
  },
  {
   "cell_type": "code",
   "execution_count": 3,
   "metadata": {},
   "outputs": [],
   "source": [
    "#path = \"D:/SML Dataset/\"\n",
    "path = \"/scratch/pbanerj6/sml-dataset/\"\n",
    "trainSamples = 75000\n",
    "n_iter = 1000 \n",
    "#n_trainSamples = [100,250,500,750,1000,1250,1500]\n",
    "n_trainSamples = [100,500,1000,10000,20000,50000,75000]"
   ]
  },
  {
   "cell_type": "code",
   "execution_count": 4,
   "metadata": {},
   "outputs": [],
   "source": [
    "X_train_all = load_all(path+\"X_train_all_90.pkl\")[:trainSamples]\n",
    "X_val_all = load_all(path+\"X_val_all_90.pkl\")\n",
    "\n",
    "y_train = load_y(path+\"y_train.p\")[:trainSamples]\n",
    "y_val = load_y(path+\"y_val.p\")"
   ]
  },
  {
   "cell_type": "code",
   "execution_count": 5,
   "metadata": {},
   "outputs": [],
   "source": [
    "import lightgbm as lgb"
   ]
  },
  {
   "cell_type": "code",
   "execution_count": 6,
   "metadata": {},
   "outputs": [],
   "source": [
    "from sklearn.model_selection import GridSearchCV\n",
    "parameters = {\n",
    "    'n_estimators': [100,150],\n",
    "    'learning_rate': [0.05,0.1,0.15]\n",
    "}"
   ]
  },
  {
   "cell_type": "code",
   "execution_count": 9,
   "metadata": {},
   "outputs": [],
   "source": [
    "clf = GridSearchCV(lgb.LGBMClassifier(boosting_type='gbdt', objective='binary',  min_child_weight=0.001, min_child_samples=20, colsample_bytree=1.0, n_jobs=-1, importance_type='split'), \n",
    "                      parameters,n_jobs=1, verbose=4, iid=True, cv=5)"
   ]
  },
  {
   "cell_type": "code",
   "execution_count": 10,
   "metadata": {},
   "outputs": [
    {
     "name": "stdout",
     "output_type": "stream",
     "text": [
      "Fitting 5 folds for each of 6 candidates, totalling 30 fits\n",
      "[CV] n_estimators=100, learning_rate=0.05 ............................\n"
     ]
    },
    {
     "name": "stderr",
     "output_type": "stream",
     "text": [
      "[Parallel(n_jobs=1)]: Using backend SequentialBackend with 1 concurrent workers.\n"
     ]
    },
    {
     "name": "stdout",
     "output_type": "stream",
     "text": [
      "[CV]  n_estimators=100, learning_rate=0.05, score=0.7804, total= 1.5min\n",
      "[CV] n_estimators=100, learning_rate=0.05 ............................\n"
     ]
    },
    {
     "name": "stderr",
     "output_type": "stream",
     "text": [
      "[Parallel(n_jobs=1)]: Done   1 out of   1 | elapsed:  1.5min remaining:    0.0s\n"
     ]
    },
    {
     "name": "stdout",
     "output_type": "stream",
     "text": [
      "[CV]  n_estimators=100, learning_rate=0.05, score=0.7754, total= 1.4min\n",
      "[CV] n_estimators=100, learning_rate=0.05 ............................\n"
     ]
    },
    {
     "name": "stderr",
     "output_type": "stream",
     "text": [
      "[Parallel(n_jobs=1)]: Done   2 out of   2 | elapsed:  3.0min remaining:    0.0s\n"
     ]
    },
    {
     "name": "stdout",
     "output_type": "stream",
     "text": [
      "[CV]  n_estimators=100, learning_rate=0.05, score=0.7934666666666667, total= 1.4min\n",
      "[CV] n_estimators=100, learning_rate=0.05 ............................\n"
     ]
    },
    {
     "name": "stderr",
     "output_type": "stream",
     "text": [
      "[Parallel(n_jobs=1)]: Done   3 out of   3 | elapsed:  4.5min remaining:    0.0s\n"
     ]
    },
    {
     "name": "stdout",
     "output_type": "stream",
     "text": [
      "[CV]  n_estimators=100, learning_rate=0.05, score=0.8117333333333333, total= 1.5min\n",
      "[CV] n_estimators=100, learning_rate=0.05 ............................\n",
      "[CV]  n_estimators=100, learning_rate=0.05, score=0.7905333333333333, total= 1.5min\n",
      "[CV] n_estimators=150, learning_rate=0.05 ............................\n",
      "[CV]  n_estimators=150, learning_rate=0.05, score=0.7948, total= 1.9min\n",
      "[CV] n_estimators=150, learning_rate=0.05 ............................\n",
      "[CV]  n_estimators=150, learning_rate=0.05, score=0.791, total= 1.9min\n",
      "[CV] n_estimators=150, learning_rate=0.05 ............................\n",
      "[CV]  n_estimators=150, learning_rate=0.05, score=0.8028, total= 1.8min\n",
      "[CV] n_estimators=150, learning_rate=0.05 ............................\n",
      "[CV]  n_estimators=150, learning_rate=0.05, score=0.8162666666666667, total= 1.8min\n",
      "[CV] n_estimators=150, learning_rate=0.05 ............................\n",
      "[CV]  n_estimators=150, learning_rate=0.05, score=0.8046, total= 1.9min\n",
      "[CV] n_estimators=100, learning_rate=0.1 .............................\n",
      "[CV] . n_estimators=100, learning_rate=0.1, score=0.799, total= 1.5min\n",
      "[CV] n_estimators=100, learning_rate=0.1 .............................\n",
      "[CV] . n_estimators=100, learning_rate=0.1, score=0.802, total= 1.4min\n",
      "[CV] n_estimators=100, learning_rate=0.1 .............................\n",
      "[CV]  n_estimators=100, learning_rate=0.1, score=0.7974, total= 1.4min\n",
      "[CV] n_estimators=100, learning_rate=0.1 .............................\n",
      "[CV]  n_estimators=100, learning_rate=0.1, score=0.8098, total= 1.4min\n",
      "[CV] n_estimators=100, learning_rate=0.1 .............................\n",
      "[CV]  n_estimators=100, learning_rate=0.1, score=0.8093333333333333, total= 1.5min\n",
      "[CV] n_estimators=150, learning_rate=0.1 .............................\n",
      "[CV]  n_estimators=150, learning_rate=0.1, score=0.8023333333333333, total= 1.8min\n",
      "[CV] n_estimators=150, learning_rate=0.1 .............................\n",
      "[CV]  n_estimators=150, learning_rate=0.1, score=0.8028666666666666, total= 1.8min\n",
      "[CV] n_estimators=150, learning_rate=0.1 .............................\n",
      "[CV]  n_estimators=150, learning_rate=0.1, score=0.7996666666666666, total= 1.8min\n",
      "[CV] n_estimators=150, learning_rate=0.1 .............................\n",
      "[CV]  n_estimators=150, learning_rate=0.1, score=0.8072666666666667, total= 1.8min\n",
      "[CV] n_estimators=150, learning_rate=0.1 .............................\n",
      "[CV]  n_estimators=150, learning_rate=0.1, score=0.8108, total= 1.8min\n",
      "[CV] n_estimators=100, learning_rate=0.15 ............................\n",
      "[CV]  n_estimators=100, learning_rate=0.15, score=0.8014666666666667, total= 1.5min\n",
      "[CV] n_estimators=100, learning_rate=0.15 ............................\n",
      "[CV]  n_estimators=100, learning_rate=0.15, score=0.794, total= 1.4min\n",
      "[CV] n_estimators=100, learning_rate=0.15 ............................\n",
      "[CV]  n_estimators=100, learning_rate=0.15, score=0.7985333333333333, total= 1.4min\n",
      "[CV] n_estimators=100, learning_rate=0.15 ............................\n",
      "[CV]  n_estimators=100, learning_rate=0.15, score=0.8015333333333333, total= 1.4min\n",
      "[CV] n_estimators=100, learning_rate=0.15 ............................\n",
      "[CV]  n_estimators=100, learning_rate=0.15, score=0.8124, total= 1.4min\n",
      "[CV] n_estimators=150, learning_rate=0.15 ............................\n",
      "[CV]  n_estimators=150, learning_rate=0.15, score=0.8011333333333334, total= 1.8min\n",
      "[CV] n_estimators=150, learning_rate=0.15 ............................\n",
      "[CV]  n_estimators=150, learning_rate=0.15, score=0.7926, total= 1.8min\n",
      "[CV] n_estimators=150, learning_rate=0.15 ............................\n",
      "[CV]  n_estimators=150, learning_rate=0.15, score=0.7923333333333333, total= 1.8min\n",
      "[CV] n_estimators=150, learning_rate=0.15 ............................\n",
      "[CV]  n_estimators=150, learning_rate=0.15, score=0.7970666666666667, total= 1.8min\n",
      "[CV] n_estimators=150, learning_rate=0.15 ............................\n",
      "[CV]  n_estimators=150, learning_rate=0.15, score=0.8103333333333333, total= 1.8min\n"
     ]
    },
    {
     "name": "stderr",
     "output_type": "stream",
     "text": [
      "[Parallel(n_jobs=1)]: Done  30 out of  30 | elapsed: 49.7min finished\n"
     ]
    },
    {
     "name": "stdout",
     "output_type": "stream",
     "text": [
      "The Total Training Time Taken :  3116.893205165863\n"
     ]
    }
   ],
   "source": [
    "gridtime = time.time()\n",
    "model = clf.fit(X_train_all, y_train)\n",
    "print(\"The Total Training Time Taken : \",time.time() - gridtime)"
   ]
  },
  {
   "cell_type": "code",
   "execution_count": 11,
   "metadata": {},
   "outputs": [
    {
     "data": {
      "text/plain": [
       "0.8045866666666667"
      ]
     },
     "execution_count": 11,
     "metadata": {},
     "output_type": "execute_result"
    }
   ],
   "source": [
    "model.best_score_"
   ]
  },
  {
   "cell_type": "code",
   "execution_count": 12,
   "metadata": {},
   "outputs": [
    {
     "name": "stdout",
     "output_type": "stream",
     "text": [
      "{'n_estimators': 150, 'learning_rate': 0.1}\n",
      "learning_rate: 0.1\n",
      "n_estimators: 150\n"
     ]
    }
   ],
   "source": [
    "print(model.best_params_)\n",
    "for param_name in sorted(parameters.keys()):\n",
    "    print(\"%s: %r\" % (param_name, model.best_params_[param_name]))"
   ]
  },
  {
   "cell_type": "code",
   "execution_count": 13,
   "metadata": {},
   "outputs": [],
   "source": [
    "pickle.dump(model,open(\"LGBMClassifier_all_\"+str(trainSamples)+\"_\"+str(n_iter)+\".pkl\",'wb'))"
   ]
  },
  {
   "cell_type": "code",
   "execution_count": 14,
   "metadata": {},
   "outputs": [],
   "source": [
    "X_test_all = load_all(path+\"X_test_all_90.pkl\")\n",
    "y_test = load_y(path+\"y_test.p\")"
   ]
  },
  {
   "cell_type": "code",
   "execution_count": 15,
   "metadata": {},
   "outputs": [],
   "source": [
    "from scipy.stats import rankdata\n",
    "\n",
    "def mrrs(out, labels):\n",
    "#     print(out,labels)\n",
    "    outputs = np.argmax(out,axis=1)\n",
    "    mrr = 0.0 \n",
    "    for label,ranks in zip(labels,out):\n",
    "        ranks = rankdata(ranks*-1)\n",
    "        rank = ranks[label]\n",
    "#         print(rank,ranks)\n",
    "        mrr+=1/rank\n",
    "    return mrr/len(labels)\n",
    "\n",
    "def precision_at(out,labels,prank=1):\n",
    "    count = 0\n",
    "    for label,ranks in zip(labels,out):\n",
    "        ranks = rankdata(ranks*-1)\n",
    "        rank = ranks[label]\n",
    "#         print(rank,ranks)\n",
    "        if rank <= prank:\n",
    "            count+=1\n",
    "    return count/len(labels)\n",
    "\n",
    "def mrrwrapper(qid2c,qid2indexmap,preds_prob):\n",
    "    labels = []\n",
    "    out = []\n",
    "    for qid in qid2c.keys():\n",
    "        scores = []\n",
    "        for ix in qid2indexmap[qid]:\n",
    "            if len(scores) < 6:\n",
    "                scores.append(preds_prob[ix][1])\n",
    "        if len(scores) < 6:\n",
    "            continue\n",
    "        out.append(scores)\n",
    "        labels.append(int(qid2c[qid]))\n",
    "    return mrrs(np.array(out),labels),precision_at(np.array(out),labels,1),precision_at(np.array(out),labels,3)\n",
    "\n",
    "def load_ranking(fname):\n",
    "    return pickle.load(open(path+\"ranking_\"+fname+\".p\",\"rb\"))"
   ]
  },
  {
   "cell_type": "code",
   "execution_count": 16,
   "metadata": {},
   "outputs": [],
   "source": [
    "from sklearn.metrics import accuracy_score"
   ]
  },
  {
   "cell_type": "code",
   "execution_count": 17,
   "metadata": {},
   "outputs": [
    {
     "name": "stdout",
     "output_type": "stream",
     "text": [
      "SampleSize: 100\n",
      "Train Time:0.45 sec\n",
      "Validation Accuracy: 50.07%\n",
      "Validation Time:0.11 sec\n",
      "Test Accuracy: 50.03%\n",
      "Test Time:0.10 sec\n",
      "(0.418381481481482, 0.17466666666666666, 0.5146666666666667)\n",
      "MRR: 0.418381481481482\n",
      "MRR Time:0.84 sec\n",
      "SampleSize: 500\n",
      "Train Time:6.52 sec\n",
      "Validation Accuracy: 49.97%\n",
      "Validation Time:0.10 sec\n",
      "Test Accuracy: 50.02%\n",
      "Test Time:0.12 sec\n",
      "(0.4177238095238094, 0.176, 0.5113333333333333)\n",
      "MRR: 0.4177238095238094\n",
      "MRR Time:0.58 sec\n",
      "SampleSize: 1000\n",
      "Train Time:19.36 sec\n",
      "Validation Accuracy: 49.93%\n",
      "Validation Time:0.11 sec\n",
      "Test Accuracy: 50.03%\n",
      "Test Time:0.11 sec\n",
      "(0.41894444444444495, 0.17666666666666667, 0.5206666666666667)\n",
      "MRR: 0.41894444444444495\n",
      "MRR Time:0.58 sec\n",
      "SampleSize: 10000\n",
      "Train Time:44.24 sec\n",
      "Validation Accuracy: 50.19%\n",
      "Validation Time:0.11 sec\n",
      "Test Accuracy: 50.06%\n",
      "Test Time:0.33 sec\n",
      "(0.4445545454545463, 0.20666666666666667, 0.56)\n",
      "MRR: 0.4445545454545463\n",
      "MRR Time:0.95 sec\n",
      "SampleSize: 20000\n",
      "Train Time:56.48 sec\n",
      "Validation Accuracy: 50.95%\n",
      "Validation Time:0.10 sec\n",
      "Test Accuracy: 50.49%\n",
      "Test Time:0.12 sec\n",
      "(0.4683037037037045, 0.23133333333333334, 0.5913333333333334)\n",
      "MRR: 0.4683037037037045\n",
      "MRR Time:0.58 sec\n",
      "SampleSize: 50000\n",
      "Train Time:96.19 sec\n",
      "Validation Accuracy: 52.99%\n",
      "Validation Time:0.10 sec\n",
      "Test Accuracy: 52.07%\n",
      "Test Time:0.14 sec\n",
      "(0.47366565656565696, 0.24733333333333332, 0.5826666666666667)\n",
      "MRR: 0.47366565656565696\n",
      "MRR Time:0.60 sec\n",
      "SampleSize: 75000\n",
      "Train Time:127.38 sec\n",
      "Validation Accuracy: 53.43%\n",
      "Validation Time:0.13 sec\n",
      "Test Accuracy: 53.19%\n",
      "Test Time:0.14 sec\n",
      "(0.4964878787878791, 0.2713333333333333, 0.6086666666666667)\n",
      "MRR: 0.4964878787878791\n",
      "MRR Time:0.58 sec\n",
      "[0.5007, 0.4997, 0.4993, 0.5019, 0.5095, 0.5299, 0.5343]\n",
      "[0.5003, 0.5002, 0.5003, 0.5006, 0.5049, 0.5207, 0.5319]\n",
      "[0.418381481481482, 0.4177238095238094, 0.41894444444444495, 0.4445545454545463, 0.4683037037037045, 0.47366565656565696, 0.4964878787878791]\n",
      "[0.17466666666666666, 0.176, 0.17666666666666667, 0.20666666666666667, 0.23133333333333334, 0.24733333333333332, 0.2713333333333333]\n",
      "[0.5146666666666667, 0.5113333333333333, 0.5206666666666667, 0.56, 0.5913333333333334, 0.5826666666666667, 0.6086666666666667]\n"
     ]
    }
   ],
   "source": [
    "valAccuracy = []\n",
    "testAccuracy = []\n",
    "mrrScore = []\n",
    "precisionAt1 = []\n",
    "precisionAt3 = []\n",
    "\n",
    "# For each of training sample sizes\n",
    "for eachTrain in n_trainSamples:\n",
    "    \n",
    "    # Model with best values from grid search\n",
    "    bestModel = lgb.LGBMClassifier(boosting_type='gbdt', n_estimators=model.best_params_['n_estimators'], \n",
    "                                   learning_rate=model.best_params_['learning_rate'], objective='binary',  \n",
    "                                   min_child_weight=0.001, min_child_samples=20, colsample_bytree=1.0, n_jobs=-1, \n",
    "                                   silent=True, importance_type='split')\n",
    "\n",
    "    print(\"SampleSize:\",eachTrain)\n",
    "    \n",
    "    stime=time.time()\n",
    "    bestModel.fit(X_train_all[:eachTrain],y_train[:eachTrain])   \n",
    "    print(\"Train Time:%.2f sec\"%(time.time()-stime))\n",
    "    \n",
    "    stime=time.time()\n",
    "    preds_val = bestModel.predict(X_val_all)\n",
    "    accuracy = round(accuracy_score(y_val, preds_val),4)\n",
    "    valAccuracy.append(accuracy)\n",
    "    print(\"Validation Accuracy: %.2f%%\" % (accuracy * 100.0))\n",
    "    print(\"Validation Time:%.2f sec\"%(time.time()-stime))\n",
    "\n",
    "    stime=time.time()\n",
    "    preds_test = bestModel.predict(X_test_all)\n",
    "    accuracy = round(accuracy_score(y_test, preds_test),4)\n",
    "    testAccuracy.append(accuracy)\n",
    "    print(\"Test Accuracy: %.2f%%\" % (accuracy * 100.0))\n",
    "    print(\"Test Time:%.2f sec\"%(time.time()-stime))\n",
    "    \n",
    "    stime=time.time()\n",
    "    preds_test_probs = bestModel.predict_proba(X_test_all)\n",
    "    qid2c,qid2indexmap = load_ranking(\"test\")\n",
    "    print (mrrwrapper(qid2c,qid2indexmap,preds_test_probs))\n",
    "    mrr, pAt1, pAt3 = mrrwrapper(qid2c,qid2indexmap,preds_test_probs)\n",
    "    mrrScore.append(mrr)\n",
    "    print(\"MRR:\",mrr)\n",
    "    print(\"MRR Time:%.2f sec\"%(time.time()-stime))\n",
    "    \n",
    "    precisionAt1.append(pAt1)\n",
    "    precisionAt3.append(pAt3)\n",
    "    \n",
    "    #input()\n",
    "print (valAccuracy)\n",
    "print (testAccuracy)\n",
    "print (mrrScore)\n",
    "print (precisionAt1)\n",
    "print (precisionAt3)"
   ]
  },
  {
   "cell_type": "code",
   "execution_count": 18,
   "metadata": {},
   "outputs": [],
   "source": [
    "def accuracyVisualization():\n",
    "    ''' Plots the data points with the centroids\n",
    "    '''\n",
    "    fig = plt.figure()\n",
    "    ax = plt.axes()\n",
    "    ax.plot(n_trainSamples,testAccuracy,label='TestAccuracy vs TrainData',marker='o')\n",
    "    ax.plot(n_trainSamples,valAccuracy,label='ValAccuracy vs TrainData',marker='.')\n",
    "    plt.title(\"Scores vs TrainData\")\n",
    "    plt.legend()\n",
    "    plt.xlabel(\"TrainData\")\n",
    "    plt.ylabel(\"Scores\")\n",
    "    fig.savefig(\"LGBMClassifier_Accuracy_all.png\")\n",
    "    #plt.show()"
   ]
  },
  {
   "cell_type": "code",
   "execution_count": 19,
   "metadata": {},
   "outputs": [
    {
     "data": {
      "image/png": "[encoded data removed]",
      "text/plain": [
       "<Figure size 432x288 with 1 Axes>"
      ]
     },
     "metadata": {
      "needs_background": "light"
     },
     "output_type": "display_data"
    }
   ],
   "source": [
    "accuracyVisualization()"
   ]
  },
  {
   "cell_type": "code",
   "execution_count": 20,
   "metadata": {},
   "outputs": [],
   "source": [
    "def mrrVisualization():\n",
    "    ''' Plots the data points with the centroids\n",
    "    '''\n",
    "    fig = plt.figure()\n",
    "    ax = plt.axes()\n",
    "    ax.plot(n_trainSamples,mrrScore,label='MRR vs TrainData',marker='x')\n",
    "    plt.title(\"Scores vs TrainData\")\n",
    "    plt.legend()\n",
    "    plt.xlabel(\"TrainData\")\n",
    "    plt.ylabel(\"Scores\")\n",
    "    fig.savefig(\"LGBMClassifier_Mrr_all.png\")\n",
    "    plt.show()"
   ]
  },
  {
   "cell_type": "code",
   "execution_count": 21,
   "metadata": {},
   "outputs": [
    {
     "data": {
      "image/png": "[encoded data removed]",
      "text/plain": [
       "<Figure size 432x288 with 1 Axes>"
      ]
     },
     "metadata": {
      "needs_background": "light"
     },
     "output_type": "display_data"
    }
   ],
   "source": [
    "mrrVisualization()"
   ]
  },
  {
   "cell_type": "code",
   "execution_count": 22,
   "metadata": {},
   "outputs": [],
   "source": [
    "#Precision @1 and Precision @2 Visualizations\n",
    "def precisionVisualization():\n",
    "    ''' Plots the data points with the centroids\n",
    "    '''\n",
    "    fig = plt.figure()\n",
    "    ax = plt.axes()\n",
    "    ax.plot(n_trainSamples,precisionAt1,label='Precision@1 vs TrainData',marker='x')\n",
    "    ax.plot(n_trainSamples,precisionAt3,label='Precision@3 vs TrainData',marker='o')\n",
    "    plt.title(\"Precision Scores vs TrainData\")\n",
    "    plt.legend()\n",
    "    plt.xlabel(\"TrainData\")\n",
    "    plt.ylabel(\"Scores\")\n",
    "    fig.savefig(\"LGBM_Precision_all.png\")\n",
    "    plt.show()"
   ]
  },
  {
   "cell_type": "code",
   "execution_count": 23,
   "metadata": {},
   "outputs": [
    {
     "data": {
      "image/png": "[encoded data removed]",
      "text/plain": [
       "<Figure size 432x288 with 1 Axes>"
      ]
     },
     "metadata": {
      "needs_background": "light"
     },
     "output_type": "display_data"
    }
   ],
   "source": [
    "precisionVisualization()"
   ]
  },
  {
   "cell_type": "code",
   "execution_count": null,
   "metadata": {},
   "outputs": [],
   "source": []
  }
 ],
 "metadata": {
  "kernelspec": {
   "display_name": "Python 3",
   "language": "python",
   "name": "python3"
  },
  "language_info": {
   "codemirror_mode": {
    "name": "ipython",
    "version": 3
   },
   "file_extension": ".py",
   "mimetype": "text/x-python",
   "name": "python",
   "nbconvert_exporter": "python",
   "pygments_lexer": "ipython3",
   "version": "3.7.1"
  }
 },
 "nbformat": 4,
 "nbformat_minor": 2
}
