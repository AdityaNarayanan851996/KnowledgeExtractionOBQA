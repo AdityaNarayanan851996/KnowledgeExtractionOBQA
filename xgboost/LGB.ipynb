{
 "cells": [
  {
   "cell_type": "code",
   "execution_count": 1,
   "metadata": {},
   "outputs": [],
   "source": [
    "import xgboost as xbg\n",
    "import pandas as pd\n",
    "import numpy as np\n",
    "import matplotlib.pyplot as plt\n",
    "import json\n",
    "import pickle\n",
    "import joblib\n",
    "\n",
    "%matplotlib inline"
   ]
  },
  {
   "cell_type": "code",
   "execution_count": 6,
   "metadata": {},
   "outputs": [],
   "source": [
    "def load_cls(fname):\n",
    "    return np.array(pickle.load(open(fname,\"rb\")))\n",
    "\n",
    "X_train_cls = load_cls(\"/scratch/pbanerj6/sml-dataset/X_train_cls.p\")\n",
    "X_val_cls = load_cls(\"/scratch/pbanerj6/sml-dataset/X_val_cls.p\")\n",
    "X_test_cls = load_cls(\"/scratch/pbanerj6/sml-dataset/X_test_cls.p\")"
   ]
  },
  {
   "cell_type": "code",
   "execution_count": 7,
   "metadata": {},
   "outputs": [],
   "source": [
    "y_train = load_cls(\"/scratch/pbanerj6/sml-dataset/y_train.p\")\n",
    "y_val = load_cls(\"/scratch/pbanerj6/sml-dataset/y_val.p\")\n",
    "y_test = load_cls(\"/scratch/pbanerj6/sml-dataset/y_test.p\")"
   ]
  },
  {
   "cell_type": "code",
   "execution_count": 59,
   "metadata": {},
   "outputs": [],
   "source": [
    "import lightgbm as lgb"
   ]
  },
  {
   "cell_type": "code",
   "execution_count": 60,
   "metadata": {},
   "outputs": [],
   "source": [
    "parameters = {\n",
    "    'application': 'binary',\n",
    "    'objective': 'binary',\n",
    "    'metric': 'auc',\n",
    "    'is_unbalance': 'false',\n",
    "    'boosting': 'gbdt',\n",
    "    'num_leaves': 31,\n",
    "    'feature_fraction': 0.5,\n",
    "    'bagging_fraction': 0.5,\n",
    "    'bagging_freq': 20,\n",
    "    'learning_rate': 0.05,\n",
    "    'verbose': 0\n",
    "}"
   ]
  },
  {
   "cell_type": "code",
   "execution_count": 58,
   "metadata": {},
   "outputs": [],
   "source": [
    "gbm = lgb.LGBMClassifier(boosting_type='gbdt', num_leaves=31, max_depth=-1, learning_rate=0.1, n_estimators=100, subsample_for_bin=200000, objective=None, class_weight=None, min_split_gain=0.0, min_child_weight=0.001, min_child_samples=20, subsample=1.0, subsample_freq=0, colsample_bytree=1.0, reg_alpha=0.0, reg_lambda=0.0, random_state=None, n_jobs=-1, silent=True, importance_type='split',)"
   ]
  },
  {
   "cell_type": "code",
   "execution_count": 61,
   "metadata": {},
   "outputs": [
    {
     "name": "stdout",
     "output_type": "stream",
     "text": [
      "[1]\tvalid_0's binary_logloss: 0.688172\n",
      "[2]\tvalid_0's binary_logloss: 0.683606\n",
      "[3]\tvalid_0's binary_logloss: 0.679724\n",
      "[4]\tvalid_0's binary_logloss: 0.675845\n",
      "[5]\tvalid_0's binary_logloss: 0.671828\n",
      "[6]\tvalid_0's binary_logloss: 0.668754\n",
      "[7]\tvalid_0's binary_logloss: 0.666468\n",
      "[8]\tvalid_0's binary_logloss: 0.664212\n",
      "[9]\tvalid_0's binary_logloss: 0.661609\n",
      "[10]\tvalid_0's binary_logloss: 0.660017\n",
      "[11]\tvalid_0's binary_logloss: 0.658774\n",
      "[12]\tvalid_0's binary_logloss: 0.656809\n",
      "[13]\tvalid_0's binary_logloss: 0.655337\n",
      "[14]\tvalid_0's binary_logloss: 0.653875\n",
      "[15]\tvalid_0's binary_logloss: 0.652792\n",
      "[16]\tvalid_0's binary_logloss: 0.651982\n",
      "[17]\tvalid_0's binary_logloss: 0.650973\n",
      "[18]\tvalid_0's binary_logloss: 0.650083\n",
      "[19]\tvalid_0's binary_logloss: 0.649052\n",
      "[20]\tvalid_0's binary_logloss: 0.647904\n",
      "[21]\tvalid_0's binary_logloss: 0.646804\n",
      "[22]\tvalid_0's binary_logloss: 0.645404\n",
      "[23]\tvalid_0's binary_logloss: 0.644785\n",
      "[24]\tvalid_0's binary_logloss: 0.64432\n",
      "[25]\tvalid_0's binary_logloss: 0.643422\n",
      "[26]\tvalid_0's binary_logloss: 0.642719\n",
      "[27]\tvalid_0's binary_logloss: 0.642485\n",
      "[28]\tvalid_0's binary_logloss: 0.642161\n",
      "[29]\tvalid_0's binary_logloss: 0.641915\n",
      "[30]\tvalid_0's binary_logloss: 0.641788\n",
      "[31]\tvalid_0's binary_logloss: 0.641554\n",
      "[32]\tvalid_0's binary_logloss: 0.641034\n",
      "[33]\tvalid_0's binary_logloss: 0.64081\n",
      "[34]\tvalid_0's binary_logloss: 0.640368\n",
      "[35]\tvalid_0's binary_logloss: 0.639952\n",
      "[36]\tvalid_0's binary_logloss: 0.639823\n",
      "[37]\tvalid_0's binary_logloss: 0.63926\n",
      "[38]\tvalid_0's binary_logloss: 0.639042\n",
      "[39]\tvalid_0's binary_logloss: 0.639073\n",
      "[40]\tvalid_0's binary_logloss: 0.639248\n",
      "[41]\tvalid_0's binary_logloss: 0.639373\n",
      "[42]\tvalid_0's binary_logloss: 0.639182\n",
      "[43]\tvalid_0's binary_logloss: 0.639191\n",
      "[44]\tvalid_0's binary_logloss: 0.639308\n",
      "[45]\tvalid_0's binary_logloss: 0.639187\n",
      "[46]\tvalid_0's binary_logloss: 0.638698\n",
      "[47]\tvalid_0's binary_logloss: 0.63858\n",
      "[48]\tvalid_0's binary_logloss: 0.638968\n",
      "[49]\tvalid_0's binary_logloss: 0.639204\n",
      "[50]\tvalid_0's binary_logloss: 0.639527\n",
      "[51]\tvalid_0's binary_logloss: 0.639276\n",
      "[52]\tvalid_0's binary_logloss: 0.639198\n",
      "[53]\tvalid_0's binary_logloss: 0.639125\n",
      "[54]\tvalid_0's binary_logloss: 0.639044\n",
      "[55]\tvalid_0's binary_logloss: 0.63936\n",
      "[56]\tvalid_0's binary_logloss: 0.63924\n",
      "[57]\tvalid_0's binary_logloss: 0.639734\n",
      "[58]\tvalid_0's binary_logloss: 0.639532\n",
      "[59]\tvalid_0's binary_logloss: 0.639627\n",
      "[60]\tvalid_0's binary_logloss: 0.639339\n",
      "[61]\tvalid_0's binary_logloss: 0.639599\n",
      "[62]\tvalid_0's binary_logloss: 0.639796\n",
      "[63]\tvalid_0's binary_logloss: 0.639786\n",
      "[64]\tvalid_0's binary_logloss: 0.640013\n",
      "[65]\tvalid_0's binary_logloss: 0.640012\n",
      "[66]\tvalid_0's binary_logloss: 0.639866\n",
      "[67]\tvalid_0's binary_logloss: 0.639943\n",
      "[68]\tvalid_0's binary_logloss: 0.640692\n",
      "[69]\tvalid_0's binary_logloss: 0.640705\n",
      "[70]\tvalid_0's binary_logloss: 0.640334\n",
      "[71]\tvalid_0's binary_logloss: 0.640354\n",
      "[72]\tvalid_0's binary_logloss: 0.640727\n",
      "[73]\tvalid_0's binary_logloss: 0.640818\n",
      "[74]\tvalid_0's binary_logloss: 0.640925\n",
      "[75]\tvalid_0's binary_logloss: 0.641116\n",
      "[76]\tvalid_0's binary_logloss: 0.641255\n",
      "[77]\tvalid_0's binary_logloss: 0.641238\n",
      "[78]\tvalid_0's binary_logloss: 0.641389\n",
      "[79]\tvalid_0's binary_logloss: 0.641262\n",
      "[80]\tvalid_0's binary_logloss: 0.641184\n",
      "[81]\tvalid_0's binary_logloss: 0.640828\n",
      "[82]\tvalid_0's binary_logloss: 0.641011\n",
      "[83]\tvalid_0's binary_logloss: 0.641444\n",
      "[84]\tvalid_0's binary_logloss: 0.641556\n",
      "[85]\tvalid_0's binary_logloss: 0.642292\n",
      "[86]\tvalid_0's binary_logloss: 0.642568\n",
      "[87]\tvalid_0's binary_logloss: 0.642728\n",
      "[88]\tvalid_0's binary_logloss: 0.642837\n",
      "[89]\tvalid_0's binary_logloss: 0.642958\n",
      "[90]\tvalid_0's binary_logloss: 0.642853\n",
      "[91]\tvalid_0's binary_logloss: 0.642746\n",
      "[92]\tvalid_0's binary_logloss: 0.642974\n",
      "[93]\tvalid_0's binary_logloss: 0.643329\n",
      "[94]\tvalid_0's binary_logloss: 0.643003\n",
      "[95]\tvalid_0's binary_logloss: 0.6434\n",
      "[96]\tvalid_0's binary_logloss: 0.64364\n",
      "[97]\tvalid_0's binary_logloss: 0.644047\n",
      "[98]\tvalid_0's binary_logloss: 0.643944\n",
      "[99]\tvalid_0's binary_logloss: 0.643969\n",
      "[100]\tvalid_0's binary_logloss: 0.64372\n"
     ]
    },
    {
     "data": {
      "text/plain": [
       "LGBMClassifier(boosting_type='gbdt', class_weight=None, colsample_bytree=1.0,\n",
       "        importance_type='split', learning_rate=0.1, max_depth=-1,\n",
       "        min_child_samples=20, min_child_weight=0.001, min_split_gain=0.0,\n",
       "        n_estimators=100, n_jobs=-1, num_leaves=31, objective=None,\n",
       "        random_state=None, reg_alpha=0.0, reg_lambda=0.0, silent=True,\n",
       "        subsample=1.0, subsample_for_bin=200000, subsample_freq=0)"
      ]
     },
     "execution_count": 61,
     "metadata": {},
     "output_type": "execute_result"
    }
   ],
   "source": [
    "gbm.fit(X_train_cls,y_train,eval_set=[(X_val_cls,y_val)])"
   ]
  },
  {
   "cell_type": "code",
   "execution_count": 62,
   "metadata": {},
   "outputs": [],
   "source": [
    "y_pred = gbm.predict(X_test_cls)"
   ]
  },
  {
   "cell_type": "code",
   "execution_count": 63,
   "metadata": {},
   "outputs": [],
   "source": [
    "from sklearn.metrics import accuracy_score"
   ]
  },
  {
   "cell_type": "code",
   "execution_count": 64,
   "metadata": {},
   "outputs": [
    {
     "data": {
      "text/plain": [
       "1"
      ]
     },
     "execution_count": 64,
     "metadata": {},
     "output_type": "execute_result"
    }
   ],
   "source": [
    "y_pred[1000]"
   ]
  },
  {
   "cell_type": "code",
   "execution_count": 65,
   "metadata": {},
   "outputs": [
    {
     "name": "stdout",
     "output_type": "stream",
     "text": [
      "Accuracy: 61.79%\n"
     ]
    }
   ],
   "source": [
    "accuracy = accuracy_score(y_val, y_pred)\n",
    "print(\"Accuracy: %.2f%%\" % (accuracy * 100.0))"
   ]
  },
  {
   "cell_type": "code",
   "execution_count": null,
   "metadata": {},
   "outputs": [],
   "source": []
  },
  {
   "cell_type": "code",
   "execution_count": 67,
   "metadata": {},
   "outputs": [
    {
     "name": "stdout",
     "output_type": "stream",
     "text": [
      "Accuracy: 61.79%\n"
     ]
    }
   ],
   "source": [
    "preds_test = gbm.predict(X_test_cls)\n",
    "accuracy = accuracy_score(y_test, preds_test)\n",
    "print(\"Accuracy: %.2f%%\" % (accuracy * 100.0))"
   ]
  },
  {
   "cell_type": "code",
   "execution_count": 68,
   "metadata": {},
   "outputs": [
    {
     "data": {
      "text/plain": [
       "768"
      ]
     },
     "execution_count": 68,
     "metadata": {},
     "output_type": "execute_result"
    }
   ],
   "source": [
    "X_test_cls[0].shape[0]"
   ]
  },
  {
   "cell_type": "code",
   "execution_count": 73,
   "metadata": {},
   "outputs": [],
   "source": [
    "from scipy.stats import rankdata\n",
    "\n",
    "def mrrs(out, labels):\n",
    "#     print(out,labels)\n",
    "    outputs = np.argmax(out,axis=1)\n",
    "    mrr = 0.0 \n",
    "    for label,ranks in zip(labels,out):\n",
    "        ranks = rankdata(ranks*-1)\n",
    "        rank = ranks[label]\n",
    "#         print(rank,ranks)\n",
    "        mrr+=1/rank\n",
    "    return mrr/len(labels)\n",
    "\n",
    "def mrrwrapper(qid2c,qid2indexmap,preds_prob):\n",
    "    labels = []\n",
    "    out = []\n",
    "    for qid in qid2c.keys():\n",
    "        scores = []\n",
    "        for ix in qid2indexmap[qid]:\n",
    "            if len(scores) < 6:\n",
    "                scores.append(preds_prob[ix][1])\n",
    "        if len(scores) < 6:\n",
    "            continue\n",
    "        out.append(scores)\n",
    "        labels.append(int(qid2c[qid]))\n",
    "    return mrrs(np.array(out),labels)\n",
    "\n",
    "def load_ranking(fname):\n",
    "    return pickle.load(open(\"/scratch/pbanerj6/sml-dataset/ranking_\"+fname+\".p\",\"rb\"))"
   ]
  },
  {
   "cell_type": "code",
   "execution_count": 74,
   "metadata": {},
   "outputs": [],
   "source": [
    "preds_test_probs = gbm.predict_proba(X_test_cls)"
   ]
  },
  {
   "cell_type": "code",
   "execution_count": 75,
   "metadata": {},
   "outputs": [],
   "source": [
    "qid2c,qid2indexmap = load_ranking(\"test\")"
   ]
  },
  {
   "cell_type": "code",
   "execution_count": 76,
   "metadata": {},
   "outputs": [
    {
     "data": {
      "text/plain": [
       "0.5735777777777804"
      ]
     },
     "execution_count": 76,
     "metadata": {},
     "output_type": "execute_result"
    }
   ],
   "source": [
    "mrrwrapper(qid2c,qid2indexmap,preds_test_probs)"
   ]
  },
  {
   "cell_type": "code",
   "execution_count": null,
   "metadata": {},
   "outputs": [],
   "source": []
  },
  {
   "cell_type": "code",
   "execution_count": null,
   "metadata": {},
   "outputs": [],
   "source": []
  }
 ],
 "metadata": {
  "kernelspec": {
   "display_name": "Python 3",
   "language": "python",
   "name": "python3"
  },
  "language_info": {
   "codemirror_mode": {
    "name": "ipython",
    "version": 3
   },
   "file_extension": ".py",
   "mimetype": "text/x-python",
   "name": "python",
   "nbconvert_exporter": "python",
   "pygments_lexer": "ipython3",
   "version": "3.6.8"
  }
 },
 "nbformat": 4,
 "nbformat_minor": 2
}
