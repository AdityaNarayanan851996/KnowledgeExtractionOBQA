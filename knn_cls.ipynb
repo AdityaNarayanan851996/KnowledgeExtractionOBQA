{
 "cells": [
  {
   "cell_type": "code",
   "execution_count": 1,
   "metadata": {},
   "outputs": [],
   "source": [
    "import pandas as pd\n",
    "import numpy as np\n",
    "import matplotlib.pyplot as plt\n",
    "import json\n",
    "import pickle\n",
    "import joblib\n",
    "import time\n",
    "np.random.seed(42)"
   ]
  },
  {
   "cell_type": "code",
   "execution_count": 2,
   "metadata": {},
   "outputs": [],
   "source": [
    "path = \"/scratch/pbanerj6/sml-dataset/\"\n",
    "trainSamples = 50000\n",
    "n_iter = 1000\n",
    "n_trainSamples = [100,500,1000,10000,20000,50000,75000]"
   ]
  },
  {
   "cell_type": "code",
   "execution_count": 4,
   "metadata": {},
   "outputs": [],
   "source": [
    "def load_all(fname):\n",
    "    return pickle.load(open(fname,\"rb\"))\n",
    "\n",
    "#X_train_all = load_all(path+\"X_train_all_90.pkl\")\n",
    "#X_val_all = load_all(path+\"X_val_all_90.pkl\")\n",
    "\n",
    "X_train_all = load_all(path+\"X_train_cls.p\")\n",
    "X_val_all = load_all(path+\"X_val_cls.p\")\n"
   ]
  },
  {
   "cell_type": "code",
   "execution_count": 7,
   "metadata": {},
   "outputs": [],
   "source": [
    "def load_y(fname):\n",
    "    return np.array(pickle.load(open(fname,\"rb\")))\n",
    "\n",
    "y_train = load_y(path+\"y_train.p\")\n",
    "y_val = load_y(path+\"y_val.p\")\n"
   ]
  },
  {
   "cell_type": "code",
   "execution_count": 6,
   "metadata": {},
   "outputs": [
    {
     "ename": "TypeError",
     "evalue": "list indices must be integers or slices, not tuple",
     "output_type": "error",
     "traceback": [
      "\u001b[0;31m---------------------------------------------------------------------------\u001b[0m",
      "\u001b[0;31mTypeError\u001b[0m                                 Traceback (most recent call last)",
      "\u001b[0;32m<ipython-input-6-57da50e3cfc7>\u001b[0m in \u001b[0;36m<module>\u001b[0;34m\u001b[0m\n\u001b[1;32m      1\u001b[0m \u001b[0;31m# truncate train data\u001b[0m\u001b[0;34m\u001b[0m\u001b[0;34m\u001b[0m\u001b[0;34m\u001b[0m\u001b[0m\n\u001b[1;32m      2\u001b[0m \u001b[0;34m\u001b[0m\u001b[0m\n\u001b[0;32m----> 3\u001b[0;31m \u001b[0mX_train_all\u001b[0m \u001b[0;34m=\u001b[0m \u001b[0mX_train_all\u001b[0m\u001b[0;34m[\u001b[0m\u001b[0;36m0\u001b[0m\u001b[0;34m:\u001b[0m\u001b[0mtrainSamples\u001b[0m\u001b[0;34m,\u001b[0m\u001b[0;34m:\u001b[0m\u001b[0;34m]\u001b[0m\u001b[0;34m\u001b[0m\u001b[0;34m\u001b[0m\u001b[0m\n\u001b[0m\u001b[1;32m      4\u001b[0m \u001b[0my_train\u001b[0m \u001b[0;34m=\u001b[0m \u001b[0my_train\u001b[0m\u001b[0;34m[\u001b[0m\u001b[0;36m0\u001b[0m\u001b[0;34m:\u001b[0m\u001b[0mtrainSamples\u001b[0m\u001b[0;34m]\u001b[0m\u001b[0;34m\u001b[0m\u001b[0;34m\u001b[0m\u001b[0m\n",
      "\u001b[0;31mTypeError\u001b[0m: list indices must be integers or slices, not tuple"
     ]
    }
   ],
   "source": [
    "# truncate train data\n",
    "\n",
    "#X_train_all = X_train_all[0:trainSamples,:]\n",
    "#y_train = y_train[0:trainSamples]\n",
    "\n",
    "# unable to truncate .p\n"
   ]
  },
  {
   "cell_type": "code",
   "execution_count": 23,
   "metadata": {},
   "outputs": [
    {
     "name": "stdout",
     "output_type": "stream",
     "text": [
      "(50000, 6000)\n",
      "(50000,)\n",
      "(15000, 6000)\n",
      "(15000,)\n"
     ]
    }
   ],
   "source": [
    "#print (X_train_all[0].shape)\n",
    "print (X_train_all.shape)\n",
    "print (y_train.shape)\n",
    "#print (X_train_all[0])\n",
    "#print (max(X_train_all[0]))\n",
    "#print (X_val_all[0].shape)\n",
    "print (X_val_all.shape)\n",
    "print (y_val.shape)\n",
    "#print (X_val_all[0])\n",
    "#print (max(X_val_all[0]))"
   ]
  },
  {
   "cell_type": "code",
   "execution_count": 8,
   "metadata": {},
   "outputs": [],
   "source": [
    "from sklearn.model_selection import GridSearchCV\n",
    "from sklearn.neighbors import KNeighborsClassifier\n",
    "\n",
    "# cv=3 [1, 99, 949, 1999, 2499] done\n",
    "\n",
    "parameters = {\n",
    "     'n_neighbors':[ 349, 649, 1499]\n",
    " }"
   ]
  },
  {
   "cell_type": "code",
   "execution_count": 9,
   "metadata": {},
   "outputs": [],
   "source": [
    "#gs_clf = GridSearchCV(svm.SVC(verbose=True,probability=True,cache_size=7000,max_iter=n_iter,gamma='auto',kernel='linear'), \n",
    "#                      parameters, cv=3, iid=True, n_jobs=10, verbose=2)\n",
    "knn = KNeighborsClassifier()\n",
    "\n",
    "gs_clf = GridSearchCV(knn, parameters, cv = 3, n_jobs=-1, verbose=50)\n"
   ]
  },
  {
   "cell_type": "code",
   "execution_count": 10,
   "metadata": {},
   "outputs": [
    {
     "name": "stdout",
     "output_type": "stream",
     "text": [
      "Fitting 3 folds for each of 5 candidates, totalling 15 fits\n",
      "[Parallel(n_jobs=-1)]: Using backend LokyBackend with 20 concurrent workers.\n",
      "[Parallel(n_jobs=-1)]: Done   1 tasks      | elapsed: 29.9min\n",
      "[Parallel(n_jobs=-1)]: Done   2 out of  15 | elapsed: 30.2min remaining: 196.2min\n",
      "[Parallel(n_jobs=-1)]: Done   3 out of  15 | elapsed: 30.3min remaining: 121.0min\n",
      "[Parallel(n_jobs=-1)]: Done   4 out of  15 | elapsed: 89.5min remaining: 246.1min\n",
      "[Parallel(n_jobs=-1)]: Done   5 out of  15 | elapsed: 90.5min remaining: 181.0min\n",
      "[Parallel(n_jobs=-1)]: Done   6 out of  15 | elapsed: 91.1min remaining: 136.7min\n",
      "[Parallel(n_jobs=-1)]: Done   7 out of  15 | elapsed: 91.4min remaining: 104.4min\n",
      "[Parallel(n_jobs=-1)]: Done   8 out of  15 | elapsed: 91.6min remaining: 80.2min\n",
      "[Parallel(n_jobs=-1)]: Done   9 out of  15 | elapsed: 92.0min remaining: 61.4min\n",
      "[Parallel(n_jobs=-1)]: Done  10 out of  15 | elapsed: 92.5min remaining: 46.3min\n",
      "[Parallel(n_jobs=-1)]: Done  11 out of  15 | elapsed: 92.9min remaining: 33.8min\n",
      "[Parallel(n_jobs=-1)]: Done  12 out of  15 | elapsed: 93.2min remaining: 23.3min\n",
      "[Parallel(n_jobs=-1)]: Done  13 out of  15 | elapsed: 93.7min remaining: 14.4min\n",
      "[Parallel(n_jobs=-1)]: Done  15 out of  15 | elapsed: 94.3min remaining:    0.0s\n",
      "[Parallel(n_jobs=-1)]: Done  15 out of  15 | elapsed: 94.3min finished\n",
      "GridSearchTime: 5663.952265501022\n"
     ]
    }
   ],
   "source": [
    "stime=time.time()\n",
    "model = gs_clf.fit(X_train_all, y_train)\n",
    "print (\"GridSearchTime:\",time.time()-stime)"
   ]
  },
  {
   "cell_type": "code",
   "execution_count": 11,
   "metadata": {},
   "outputs": [
    {
     "name": "stdout",
     "output_type": "stream",
     "text": [
      "{'mean_fit_time': array([2.6051681 , 2.5518597 , 2.73342721, 2.7007672 , 2.8228058 ]), 'std_fit_time': array([0.27597555, 0.05592565, 0.10466123, 0.03584274, 0.06059338]), 'mean_score_time': array([1780.74853746, 1830.39350263, 1838.15652966, 1842.83658727,\n",
      "       1858.19457634]), 'std_score_time': array([ 9.30119871, 19.78534149,  5.06216943,  7.04101885, 17.07271257]), 'param_n_neighbors': masked_array(data=[1, 99, 949, 1999, 2499],\n",
      "             mask=[False, False, False, False, False],\n",
      "       fill_value='?',\n",
      "            dtype=object), 'params': [{'n_neighbors': 1}, {'n_neighbors': 99}, {'n_neighbors': 949}, {'n_neighbors': 1999}, {'n_neighbors': 2499}], 'split0_test_score': array([0.55984, 0.63892, 0.6272 , 0.61872, 0.6218 ]), 'split1_test_score': array([0.55672, 0.6532 , 0.64232, 0.63688, 0.636  ]), 'split2_test_score': array([0.54996, 0.66344, 0.66084, 0.64752, 0.64868]), 'mean_test_score': array([0.55550667, 0.65185333, 0.64345333, 0.63437333, 0.63549333]), 'std_test_score': array([0.00412373, 0.01005544, 0.01375683, 0.0118904 , 0.01097956]), 'rank_test_score': array([5, 1, 2, 4, 3], dtype=int32), 'split0_train_score': array([0.9996 , 0.67132, 0.65056, 0.64408, 0.6405 ]), 'split1_train_score': array([0.99974, 0.67002, 0.65454, 0.64396, 0.64098]), 'split2_train_score': array([0.99982, 0.66592, 0.64332, 0.6292 , 0.62802]), 'mean_train_score': array([0.99972   , 0.66908667, 0.64947333, 0.63908   , 0.6365    ]), 'std_train_score': array([9.09212113e-05, 2.30120741e-03, 4.64454758e-03, 6.98638676e-03,\n",
      "       5.99946664e-03])}\n",
      "0.6518533333333333\n",
      "{'n_neighbors': 99}\n",
      "KNeighborsClassifier(algorithm='auto', leaf_size=30, metric='minkowski',\n",
      "           metric_params=None, n_jobs=None, n_neighbors=99, p=2,\n",
      "           weights='uniform')\n"
     ]
    }
   ],
   "source": [
    "print (model.cv_results_)\n",
    "\n",
    "print (model.best_score_)\n",
    "print (model.best_params_)\n",
    "print (model.best_estimator_)"
   ]
  },
  {
   "cell_type": "code",
   "execution_count": 17,
   "metadata": {},
   "outputs": [],
   "source": [
    "def GridSearchCV_result_temp():\n",
    "    k_vector= [1, 99, 949, 1999, 2499]\n",
    "    accuracy_vector= [0.55550667, 0.65185333, 0.64345333, 0.63437333, 0.63549333]\n",
    "        \n",
    "        \n",
    "    fig = plt.figure()\n",
    "    ax = plt.axes()\n",
    "    ax.plot(k_vector,accuracy_vector,label='Accuracy vs k',marker='o')\n",
    "    \n",
    "    plt.title(\"Accuracy vs K\")\n",
    "    plt.legend()\n",
    "    plt.xlabel(\"k\")\n",
    "    plt.ylabel(\"Accuracy\")\n",
    "    fig.savefig(\"knn_k_vs_Acc_plot_CLS.png\")\n",
    "    print(\"Best accuracy= %.4f\"%max(accuracy_vector))\n",
    "    #print(accuracy_vector.index(max(accuracy_vector)))\n",
    "    print(\"For k= %d\"%k_vector[accuracy_vector.index(max(accuracy_vector))])"
   ]
  },
  {
   "cell_type": "code",
   "execution_count": 18,
   "metadata": {},
   "outputs": [
    {
     "name": "stdout",
     "output_type": "stream",
     "text": [
      "Best accuracy= 0.6519\n",
      "For k= 99\n"
     ]
    },
    {
     "data": {
      "image/png": "[encoded data removed]",
      "text/plain": [
       "<Figure size 432x288 with 1 Axes>"
      ]
     },
     "metadata": {
      "needs_background": "light"
     },
     "output_type": "display_data"
    }
   ],
   "source": [
    "GridSearchCV_result_temp()\n"
   ]
  },
  {
   "cell_type": "code",
   "execution_count": 19,
   "metadata": {},
   "outputs": [],
   "source": [
    "#pickle.dump(model,open(\"SVM_All_Linear_\"+str(trainSamples)+\"_\"+str(n_iter)+\".pkl\",'wb'))\n",
    "pickle.dump(model,open(\"knn_cls_1_99_949_1999_2499\"+str(trainSamples)+\".pkl\",'wb'))"
   ]
  },
  {
   "cell_type": "code",
   "execution_count": 20,
   "metadata": {},
   "outputs": [],
   "source": [
    "\n",
    "def GridSearchCV_result():\n",
    "    \n",
    "    k_vector= [1, 99, 949, 1999, 2499]\n",
    "    accuracy_vector= [0.53372, 0.54562, 0.51532, 0.50126, 0.50004]\n",
    "        \n",
    "        \n",
    "    fig = plt.figure()\n",
    "    ax = plt.axes()\n",
    "    ax.plot(k_vector,accuracy_vector,label='Accuracy vs k',marker='o')\n",
    "    \n",
    "    plt.title(\"Accuracy vs K\")\n",
    "    plt.legend()\n",
    "    plt.xlabel(\"k\")\n",
    "    plt.ylabel(\"Accuracy\")\n",
    "    #fig.savefig(\"knn_k_vs_Acc_plot.png\")\n",
    "    print(\"Best accuracy= %.4f\"%max(accuracy_vector))\n",
    "    #print(accuracy_vector.index(max(accuracy_vector)))\n",
    "    print(\"For k= %d\"%k_vector[accuracy_vector.index(max(accuracy_vector))])"
   ]
  },
  {
   "cell_type": "code",
   "execution_count": 16,
   "metadata": {},
   "outputs": [
    {
     "name": "stdout",
     "output_type": "stream",
     "text": [
      "Best accuracy= 0.5456\n",
      "For k= 99\n"
     ]
    },
    {
     "data": {
      "image/png": "[encoded data removed]",
      "text/plain": [
       "<Figure size 432x288 with 1 Axes>"
      ]
     },
     "metadata": {
      "needs_background": "light"
     },
     "output_type": "display_data"
    }
   ],
   "source": [
    "GridSearchCV_result()"
   ]
  },
  {
   "cell_type": "code",
   "execution_count": 21,
   "metadata": {},
   "outputs": [],
   "source": [
    "#X_test_all = load_all(path+\"X_test_all_90.pkl\")\n",
    "#y_test = load_y(path+\"y_test.p\")\n",
    "\n",
    "X_test_all = load_all(path+\"X_test_cls.p\")\n",
    "y_test = load_y(path+\"y_test.p\")"
   ]
  },
  {
   "cell_type": "code",
   "execution_count": 22,
   "metadata": {},
   "outputs": [],
   "source": [
    "from scipy.stats import rankdata\n",
    "\n",
    "def mrrs(out, labels):\n",
    "#     print(out,labels)\n",
    "    outputs = np.argmax(out,axis=1)\n",
    "    mrr = 0.0 \n",
    "    for label,ranks in zip(labels,out):\n",
    "        ranks = rankdata(ranks*-1)\n",
    "        rank = ranks[label]\n",
    "#         print(rank,ranks)\n",
    "        mrr+=1/rank\n",
    "    return mrr/len(labels)\n",
    "\n",
    "def precision_at(out,labels,prank=1):\n",
    "    count = 0\n",
    "    for label,ranks in zip(labels,out):\n",
    "        ranks = rankdata(ranks*-1)\n",
    "        rank = ranks[label]\n",
    "#         print(rank,ranks)\n",
    "        if rank <= prank:\n",
    "            count+=1\n",
    "    return count/len(labels)\n",
    "\n",
    "def mrrwrapper(qid2c,qid2indexmap,preds_prob):\n",
    "    labels = []\n",
    "    out = []\n",
    "    for qid in qid2c.keys():\n",
    "        scores = []\n",
    "        for ix in qid2indexmap[qid]:\n",
    "            if len(scores) < 6:\n",
    "                scores.append(preds_prob[ix][1])\n",
    "        if len(scores) < 6:\n",
    "            continue\n",
    "        out.append(scores)\n",
    "        labels.append(int(qid2c[qid]))\n",
    "    return mrrs(np.array(out),labels),precision_at(np.array(out),labels,1),precision_at(np.array(out),labels,3)\n",
    "\n",
    "def load_ranking(fname):\n",
    "    return pickle.load(open(path+\"ranking_\"+fname+\".p\",\"rb\"))"
   ]
  },
  {
   "cell_type": "code",
   "execution_count": 23,
   "metadata": {},
   "outputs": [],
   "source": [
    "from sklearn.metrics import accuracy_score"
   ]
  },
  {
   "cell_type": "code",
   "execution_count": 24,
   "metadata": {},
   "outputs": [
    {
     "name": "stdout",
     "output_type": "stream",
     "text": [
      "SampleSize: 10000\n",
      "Train Time:0.41 sec\n",
      "Validation Accuracy: 59.16%\n",
      "Validation Time:35.50 sec\n",
      "Test Accuracy: 58.93%\n",
      "Test Time:35.21 sec\n",
      "(0.5043854737854735, 0.24133333333333334, 0.6533333333333333)\n",
      "MRR: 0.5043854737854735\n",
      "MRR Time:35.31 sec\n",
      "------------------------------------\n",
      "SampleSize: 20000\n",
      "Train Time:0.92 sec\n",
      "Validation Accuracy: 60.57%\n",
      "Validation Time:68.82 sec\n",
      "Test Accuracy: 59.21%\n",
      "Test Time:68.98 sec\n",
      "(0.5118359788359793, 0.25266666666666665, 0.6726666666666666)\n",
      "MRR: 0.5118359788359793\n",
      "MRR Time:69.29 sec\n",
      "------------------------------------\n",
      "SampleSize: 50000\n",
      "Train Time:2.38 sec\n",
      "Validation Accuracy: 60.53%\n",
      "Validation Time:158.74 sec\n",
      "Test Accuracy: 59.88%\n",
      "Test Time:158.74 sec\n",
      "(0.5363150553150561, 0.2813333333333333, 0.6846666666666666)\n",
      "MRR: 0.5363150553150561\n",
      "MRR Time:158.88 sec\n",
      "------------------------------------\n",
      "SampleSize: 75000\n",
      "Train Time:4.08 sec\n",
      "Validation Accuracy: 61.97%\n",
      "Validation Time:259.14 sec\n",
      "Test Accuracy: 60.87%\n",
      "Test Time:260.13 sec\n",
      "(0.5473740740740753, 0.3, 0.698)\n",
      "MRR: 0.5473740740740753\n",
      "MRR Time:260.75 sec\n",
      "------------------------------------\n",
      "Val accuracy:\n",
      "[0.5916, 0.6057, 0.6053, 0.6197]\n",
      "Test accuracy:\n",
      "[0.5893, 0.5921, 0.5988, 0.6087]\n",
      "MRR score:\n",
      "[0.5043854737854735, 0.5118359788359793, 0.5363150553150561, 0.5473740740740753]\n",
      "precision At1:\n",
      "[0.24133333333333334, 0.25266666666666665, 0.2813333333333333, 0.3]\n",
      "precision At3:\n",
      "[0.6533333333333333, 0.6726666666666666, 0.6846666666666666, 0.698]\n"
     ]
    }
   ],
   "source": [
    "valAccuracy = []\n",
    "testAccuracy = []\n",
    "mrrScore = []\n",
    "precisionAt1 = []\n",
    "precisionAt3 = []\n",
    "\n",
    "# redefine n_trainSamples[] and remove low values\n",
    "n_trainSamples = [10000,20000,50000,75000]\n",
    "\n",
    "# For each of training sample sizes\n",
    "for eachTrain in n_trainSamples:\n",
    "    \n",
    "     # Choose optimum K from GridSearchCV results\n",
    "    bestModel = KNeighborsClassifier(n_neighbors= model.best_params_['n_neighbors'],  algorithm='auto',n_jobs=-1)\n",
    "\n",
    "\n",
    "    print(\"SampleSize:\",eachTrain)\n",
    "    \n",
    "    stime=time.time()\n",
    "    bestModel.fit(X_train_all[:eachTrain],y_train[:eachTrain])   \n",
    "    print(\"Train Time:%.2f sec\"%(time.time()-stime))\n",
    "    \n",
    "    stime=time.time()\n",
    "    preds_val = bestModel.predict(X_val_all)\n",
    "    accuracy = round(accuracy_score(y_val, preds_val),4)\n",
    "    valAccuracy.append(accuracy)\n",
    "    print(\"Validation Accuracy: %.2f%%\" % (accuracy * 100.0))\n",
    "    print(\"Validation Time:%.2f sec\"%(time.time()-stime))\n",
    "\n",
    "    stime=time.time()\n",
    "    preds_test = bestModel.predict(X_test_all)\n",
    "    accuracy = round(accuracy_score(y_test, preds_test),4)\n",
    "    testAccuracy.append(accuracy)\n",
    "    print(\"Test Accuracy: %.2f%%\" % (accuracy * 100.0))\n",
    "    print(\"Test Time:%.2f sec\"%(time.time()-stime))\n",
    "    \n",
    "    stime=time.time()\n",
    "    preds_test_probs = bestModel.predict_proba(X_test_all)\n",
    "    qid2c,qid2indexmap = load_ranking(\"test\")\n",
    "    print (mrrwrapper(qid2c,qid2indexmap,preds_test_probs))\n",
    "    mrr, pAt1, pAt3 = mrrwrapper(qid2c,qid2indexmap,preds_test_probs)\n",
    "    mrrScore.append(mrr)\n",
    "    print(\"MRR:\",mrr)\n",
    "    print(\"MRR Time:%.2f sec\"%(time.time()-stime))\n",
    "    print(\"------------------------------------\")\n",
    "    precisionAt1.append(pAt1)\n",
    "    precisionAt3.append(pAt3)\n",
    "    \n",
    "\n",
    "print (\"Val accuracy:\")\n",
    "print (valAccuracy)\n",
    "print (\"Test accuracy:\")\n",
    "print (testAccuracy)\n",
    "print (\"MRR score:\")\n",
    "print (mrrScore)\n",
    "print (\"precision At1:\")\n",
    "print (precisionAt1)\n",
    "print (\"precision At3:\")\n",
    "print (precisionAt3)"
   ]
  },
  {
   "cell_type": "code",
   "execution_count": 25,
   "metadata": {},
   "outputs": [],
   "source": [
    "def accuracyVisualization():\n",
    "    ''' Plots the data points with the centroids\n",
    "    '''\n",
    "    fig = plt.figure()\n",
    "    ax = plt.axes()\n",
    "    ax.plot(n_trainSamples,testAccuracy,label='TestAccuracy vs TrainData',marker='o')\n",
    "    ax.plot(n_trainSamples,valAccuracy,label='ValAccuracy vs TrainData',marker='x')\n",
    "    plt.title(\"Accuracy vs TrainData size\")\n",
    "    plt.legend()\n",
    "    plt.xlabel(\"TrainData size\")\n",
    "    plt.ylabel(\"Accuracy\")\n",
    "    fig.savefig(\"knn99_cls_Accuracy.png\")\n",
    "    #plt.show()"
   ]
  },
  {
   "cell_type": "code",
   "execution_count": 26,
   "metadata": {},
   "outputs": [
    {
     "data": {
      "image/png": "[encoded data removed]",
      "text/plain": [
       "<Figure size 432x288 with 1 Axes>"
      ]
     },
     "metadata": {
      "needs_background": "light"
     },
     "output_type": "display_data"
    }
   ],
   "source": [
    "accuracyVisualization()"
   ]
  },
  {
   "cell_type": "code",
   "execution_count": 27,
   "metadata": {},
   "outputs": [],
   "source": [
    "def mrrVisualization():\n",
    "    ''' Plots the data points with the centroids\n",
    "    '''\n",
    "    fig = plt.figure()\n",
    "    ax = plt.axes()\n",
    "    ax.plot(n_trainSamples,mrrScore,label='MRR vs TrainData',marker='x')\n",
    "    plt.title(\"MRR vs TrainData size\")\n",
    "    plt.legend()\n",
    "    plt.xlabel(\"TrainData size\")\n",
    "    plt.ylabel(\"MRR\")\n",
    "    fig.savefig(\"knn99_cls_Mrr.png\")\n",
    "    #plt.show()"
   ]
  },
  {
   "cell_type": "code",
   "execution_count": 28,
   "metadata": {},
   "outputs": [
    {
     "data": {
      "image/png": "[encoded data removed]",
      "text/plain": [
       "<Figure size 432x288 with 1 Axes>"
      ]
     },
     "metadata": {
      "needs_background": "light"
     },
     "output_type": "display_data"
    }
   ],
   "source": [
    "mrrVisualization()"
   ]
  },
  {
   "cell_type": "code",
   "execution_count": 29,
   "metadata": {},
   "outputs": [],
   "source": [
    "def precisionVisualization():\n",
    "    fig = plt.figure()\n",
    "    ax = plt.axes()\n",
    "    ax.plot(n_trainSamples,precisionAt1,label='Precision@1 vs TrainData',marker='o')\n",
    "    ax.plot(n_trainSamples,precisionAt3,label='Precision@3 vs TrainData',marker='x')\n",
    "    plt.title(\"Precision vs TrainData size\")\n",
    "    plt.legend()\n",
    "    plt.xlabel(\"TrainData size\")\n",
    "    plt.ylabel(\"Precision\")\n",
    "    fig.savefig(\"knn99_cls_Precision.png\")\n",
    "    #plt.show()"
   ]
  },
  {
   "cell_type": "code",
   "execution_count": 30,
   "metadata": {},
   "outputs": [
    {
     "data": {
      "image/png": "[encoded data removed]",
      "text/plain": [
       "<Figure size 432x288 with 1 Axes>"
      ]
     },
     "metadata": {
      "needs_background": "light"
     },
     "output_type": "display_data"
    }
   ],
   "source": [
    "precisionVisualization()"
   ]
  },
  {
   "cell_type": "code",
   "execution_count": null,
   "metadata": {},
   "outputs": [],
   "source": []
  }
 ],
 "metadata": {
  "kernelspec": {
   "display_name": "Python 3",
   "language": "python",
   "name": "python3"
  },
  "language_info": {
   "codemirror_mode": {
    "name": "ipython",
    "version": 3
   },
   "file_extension": ".py",
   "mimetype": "text/x-python",
   "name": "python",
   "nbconvert_exporter": "python",
   "pygments_lexer": "ipython3",
   "version": "3.6.8"
  }
 },
 "nbformat": 4,
 "nbformat_minor": 2
}
