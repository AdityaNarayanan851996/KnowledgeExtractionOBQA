{
 "cells": [
  {
   "cell_type": "code",
   "execution_count": 2,
   "metadata": {},
   "outputs": [],
   "source": [
    "import numpy as np\n",
    "import json\n",
    "from tqdm import tqdm"
   ]
  },
  {
   "cell_type": "code",
   "execution_count": 2,
   "metadata": {},
   "outputs": [],
   "source": [
    "def generate_X(fname):\n",
    "    only_cls_X = []\n",
    "    tokens_X = [] \n",
    "    max_len = 768*33\n",
    "    all_X = None\n",
    "    batch = []\n",
    "    with open(fname) as fp:\n",
    "        for ix,embline in tqdm(enumerate(fp)):\n",
    "            f1 = json.loads(embline)[\"features\"]\n",
    "            cls_token_emb = np.array(f1[0][\"embs\"])\n",
    "#           tokens = []\n",
    "#           tokens.append(f1[0][\"token\"])\n",
    "#           only_cls_X.append(cls_token_emb)\n",
    "            prev = []\n",
    "            for i in range(1,len(f1)):\n",
    "                emb = np.array(f1[i][\"embs\"])\n",
    "                if len(prev) < 3:\n",
    "                    prev.append(emb)\n",
    "                else:\n",
    "                    prev.append(emb)\n",
    "                    emb = sum(prev)\n",
    "                    cls_token_emb = np.concatenate([cls_token_emb,emb])\n",
    "                    prev=[]\n",
    "#                 tokens.append(f1[i][\"token\"])\n",
    "            if len(prev)>0:\n",
    "                prev = sum(prev)\n",
    "                cls_token_emb = np.concatenate([cls_token_emb,prev])\n",
    "            row = cls_token_emb\n",
    "            curr_len = row.shape[0]\n",
    "            \n",
    "            if ix < 5:\n",
    "                print(curr_len)\n",
    "\n",
    "            pad_len = max_len-curr_len\n",
    "            row = np.pad(row, pad_width=(0,pad_len), mode='constant', constant_values=0)\n",
    "            batch.append(row)\n",
    "            \n",
    "        \n",
    "            if len(batch) == 37500:\n",
    "                if all_X is None:\n",
    "                    all_X = np.array(batch)\n",
    "                    batch = []\n",
    "                else:\n",
    "                    all_X = np.vstack([all_X,np.array(batch)])\n",
    "                    batch = []\n",
    "        if len(batch)!=0:\n",
    "            if all_X is None:\n",
    "                    all_X = np.array(batch)\n",
    "            else:\n",
    "                all_X = np.vstack([all_X,np.array(batch)])\n",
    "                    \n",
    "#           tokens_X.append(tokens)\n",
    "    return tokens_X,only_cls_X,all_X"
   ]
  },
  {
   "cell_type": "code",
   "execution_count": 3,
   "metadata": {},
   "outputs": [
    {
     "name": "stderr",
     "output_type": "stream",
     "text": [
      "16it [00:00, 65.43it/s]"
     ]
    },
    {
     "name": "stdout",
     "output_type": "stream",
     "text": [
      "18432\n",
      "10752\n",
      "11520\n",
      "9984\n",
      "11520\n"
     ]
    },
    {
     "name": "stderr",
     "output_type": "stream",
     "text": [
      "75000it [13:44,  1.19s/it]\n"
     ]
    }
   ],
   "source": [
    "X_trains = generate_X(\"../datasets/ranking/small/train-bert-embds.jsonl\")\n",
    "# X_vals = generate_X(\"../datasets/ranking/small/val-bert-embds.jsonl\")\n",
    "# X_tests = generate_X(\"../datasets/ranking/small/test-bert-embds.jsonl\")"
   ]
  },
  {
   "cell_type": "code",
   "execution_count": null,
   "metadata": {},
   "outputs": [],
   "source": [
    "def generate_y(fname):\n",
    "    y = []\n",
    "    with open(fname) as fp:\n",
    "        for tsvline in tqdm(fp):\n",
    "            label = int(tsvline.strip().split(\"\\t\")[-1])\n",
    "            y.append(label)\n",
    "    return y"
   ]
  },
  {
   "cell_type": "code",
   "execution_count": 5,
   "metadata": {},
   "outputs": [],
   "source": [
    "y_train = generate_y(\"../datasets/ranking/small/train.tsv\")\n",
    "y_val = generate_y(\"../datasets/ranking/small/val.tsv\")\n",
    "y_test = generate_y(\"../datasets/ranking/small/test.tsv\")"
   ]
  },
  {
   "cell_type": "code",
   "execution_count": 6,
   "metadata": {},
   "outputs": [],
   "source": []
  },
  {
   "cell_type": "code",
   "execution_count": 5,
   "metadata": {},
   "outputs": [],
   "source": [
    "fname = \"train\""
   ]
  },
  {
   "cell_type": "code",
   "execution_count": 3,
   "metadata": {},
   "outputs": [],
   "source": [
    "import pickle\n",
    "import joblib\n",
    "\n",
    "def write_to_disk(xall,fname):\n",
    "    joblib.dump(xall[-1], \"X_\"+fname+\"_all.jblib\")\n",
    "    \n",
    "def write_to_diskp(xall,y,fname):\n",
    "    pickle.dump( y, open( \"y_\"+fname+\".p\", \"wb\" ) )\n",
    "    pickle.dump( xall[0], open( \"X_\"+fname+\"_tokens.p\", \"wb\" ) )\n",
    "    pickle.dump( xall[1], open( \"X_\"+fname+\"_cls.p\", \"wb\" ) )"
   ]
  },
  {
   "cell_type": "code",
   "execution_count": 5,
   "metadata": {},
   "outputs": [],
   "source": [
    "write_to_disk(X_trains,\"train\")"
   ]
  },
  {
   "cell_type": "code",
   "execution_count": 17,
   "metadata": {},
   "outputs": [],
   "source": [
    "write_to_disk(X_vals,\"val\")\n",
    "write_to_disk(X_tests,\"test\")"
   ]
  },
  {
   "cell_type": "code",
   "execution_count": null,
   "metadata": {},
   "outputs": [],
   "source": []
  },
  {
   "cell_type": "code",
   "execution_count": null,
   "metadata": {},
   "outputs": [],
   "source": []
  },
  {
   "cell_type": "code",
   "execution_count": 6,
   "metadata": {},
   "outputs": [
    {
     "data": {
      "text/plain": [
       "array([2., 2., 2., 2., 2., 2., 2., 2., 2., 2.])"
      ]
     },
     "execution_count": 6,
     "metadata": {},
     "output_type": "execute_result"
    }
   ],
   "source": [
    "a = np.ones(10)\n",
    "b = np.ones(10)\n",
    "sum([a,b])"
   ]
  },
  {
   "cell_type": "code",
   "execution_count": null,
   "metadata": {},
   "outputs": [],
   "source": []
  },
  {
   "cell_type": "code",
   "execution_count": null,
   "metadata": {},
   "outputs": [],
   "source": []
  },
  {
   "cell_type": "code",
   "execution_count": null,
   "metadata": {},
   "outputs": [],
   "source": [
    "#  qid -> list_of_index , qid -> correct_index"
   ]
  },
  {
   "cell_type": "code",
   "execution_count": 6,
   "metadata": {},
   "outputs": [],
   "source": [
    "def generate_qid_map(fname):\n",
    "    qid_to_list_of_index = {}\n",
    "    qid_to_correct = {}\n",
    "    with open(fname) as fp:\n",
    "        for ix,line in tqdm(enumerate(fp)):\n",
    "            line = line.strip().split(\"\\t\")\n",
    "            qidx = line[0]\n",
    "            label = int(line[-1])\n",
    "            qid = qidx.split(\"-\")[0]\n",
    "            if qid not in qid_to_list_of_index:\n",
    "                qid_to_list_of_index[qid]=[]\n",
    "            if qid not in qid_to_correct and label == 1:\n",
    "                qid_to_correct[qid]=qidx.split(\"-\")[1]\n",
    "            if ix not in qid_to_list_of_index[qid]:\n",
    "                qid_to_list_of_index[qid].append(ix)\n",
    "    return qid_to_correct,qid_to_list_of_index"
   ]
  },
  {
   "cell_type": "code",
   "execution_count": 7,
   "metadata": {},
   "outputs": [
    {
     "name": "stderr",
     "output_type": "stream",
     "text": [
      "15000it [00:00, 348281.20it/s]\n"
     ]
    }
   ],
   "source": [
    "pickle.dump( generate_qid_map(\"../datasets/ranking/small/test.tsv\"), open( \"ranking_test.p\", \"wb\" ) )"
   ]
  },
  {
   "cell_type": "code",
   "execution_count": 8,
   "metadata": {},
   "outputs": [
    {
     "name": "stderr",
     "output_type": "stream",
     "text": [
      "15000it [00:00, 332680.61it/s]\n"
     ]
    }
   ],
   "source": [
    "pickle.dump( generate_qid_map(\"../datasets/ranking/small/val.tsv\"), open( \"ranking_val.p\", \"wb\" ) )"
   ]
  },
  {
   "cell_type": "code",
   "execution_count": null,
   "metadata": {},
   "outputs": [],
   "source": []
  },
  {
   "cell_type": "code",
   "execution_count": null,
   "metadata": {},
   "outputs": [],
   "source": []
  },
  {
   "cell_type": "code",
   "execution_count": null,
   "metadata": {},
   "outputs": [],
   "source": []
  },
  {
   "cell_type": "code",
   "execution_count": null,
   "metadata": {},
   "outputs": [],
   "source": []
  },
  {
   "cell_type": "code",
   "execution_count": null,
   "metadata": {},
   "outputs": [],
   "source": []
  },
  {
   "cell_type": "code",
   "execution_count": null,
   "metadata": {},
   "outputs": [],
   "source": []
  }
 ],
 "metadata": {
  "kernelspec": {
   "display_name": "Python 3",
   "language": "python",
   "name": "python3"
  },
  "language_info": {
   "codemirror_mode": {
    "name": "ipython",
    "version": 3
   },
   "file_extension": ".py",
   "mimetype": "text/x-python",
   "name": "python",
   "nbconvert_exporter": "python",
   "pygments_lexer": "ipython3",
   "version": "3.6.8"
  }
 },
 "nbformat": 4,
 "nbformat_minor": 2
}
