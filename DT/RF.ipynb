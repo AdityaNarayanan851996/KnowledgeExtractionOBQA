{
 "cells": [
  {
   "cell_type": "code",
   "execution_count": 1,
   "metadata": {},
   "outputs": [],
   "source": [
    "import xgboost as xbg\n",
    "import pandas as pd\n",
    "import numpy as np\n",
    "import matplotlib.pyplot as plt\n",
    "import json\n",
    "import pickle\n",
    "import joblib\n",
    "\n",
    "%matplotlib inline"
   ]
  },
  {
   "cell_type": "code",
   "execution_count": 2,
   "metadata": {},
   "outputs": [],
   "source": [
    "def load_cls(fname):\n",
    "    return np.array(pickle.load(open(fname,\"rb\")))\n",
    "path = \"/scratch/pbanerj6/sml-dataset/\"\n",
    "trainSamples = 75000\n",
    "n_trainSamples = [100,500,1000,10000,20000,50000,75000]"
   ]
  },
  {
   "cell_type": "code",
   "execution_count": 3,
   "metadata": {},
   "outputs": [],
   "source": [
    "X_train_cls = load_cls(path+\"X_train_cls.p\")[:trainSamples]\n",
    "X_val_cls = load_cls(path+\"X_val_cls.p\")"
   ]
  },
  {
   "cell_type": "code",
   "execution_count": 4,
   "metadata": {},
   "outputs": [
    {
     "name": "stdout",
     "output_type": "stream",
     "text": [
      "75000\n"
     ]
    }
   ],
   "source": [
    "print(len(X_train_cls))"
   ]
  },
  {
   "cell_type": "code",
   "execution_count": 5,
   "metadata": {},
   "outputs": [],
   "source": [
    "y_train = load_cls(path+\"y_train.p\")[:trainSamples]\n",
    "y_val = load_cls(path+\"y_val.p\")"
   ]
  },
  {
   "cell_type": "code",
   "execution_count": 6,
   "metadata": {},
   "outputs": [
    {
     "name": "stderr",
     "output_type": "stream",
     "text": [
      "/packages/7x/anaconda3/5.3.0/lib/python3.7/site-packages/sklearn/ensemble/weight_boosting.py:29: DeprecationWarning: numpy.core.umath_tests is an internal NumPy module and should not be imported. It will be removed in a future NumPy release.\n",
      "  from numpy.core.umath_tests import inner1d\n"
     ]
    }
   ],
   "source": [
    "from xgboost import XGBClassifier\n",
    "from  sklearn.ensemble import RandomForestClassifier\n",
    "\n",
    "#model = XGBClassifier(n_jobs=-1,verbosity=2)\n",
    "\n",
    "# cross_val_score(model, X_train_cls, y_train, cv=10)\n",
    "# print(cross_val_score)"
   ]
  },
  {
   "cell_type": "code",
   "execution_count": 7,
   "metadata": {},
   "outputs": [],
   "source": [
    "#model.fit(X_train_cls,y_train,verbose=True,eval_set=[(X_val_cls,y_val)])"
   ]
  },
  {
   "cell_type": "code",
   "execution_count": 8,
   "metadata": {},
   "outputs": [],
   "source": [
    "model1 = RandomForestClassifier(random_state=0)"
   ]
  },
  {
   "cell_type": "code",
   "execution_count": 9,
   "metadata": {},
   "outputs": [],
   "source": [
    "from sklearn.model_selection import GridSearchCV\n",
    "parameters = {'min_samples_split': range(5, 30, 5), \n",
    "              'max_depth': range(1, 20, 2),\n",
    "             # 'criterion':['gini','entropy'],\n",
    "             \n",
    "              # 'max_features':['auto','log2','None'],\n",
    "               #'presort':['False','True']\n",
    "             }"
   ]
  },
  {
   "cell_type": "code",
   "execution_count": 10,
   "metadata": {},
   "outputs": [
    {
     "data": {
      "text/plain": [
       "dict_keys(['bootstrap', 'class_weight', 'criterion', 'max_depth', 'max_features', 'max_leaf_nodes', 'min_impurity_decrease', 'min_impurity_split', 'min_samples_leaf', 'min_samples_split', 'min_weight_fraction_leaf', 'n_estimators', 'n_jobs', 'oob_score', 'random_state', 'verbose', 'warm_start'])"
      ]
     },
     "execution_count": 10,
     "metadata": {},
     "output_type": "execute_result"
    }
   ],
   "source": [
    "model1.get_params().keys()"
   ]
  },
  {
   "cell_type": "code",
   "execution_count": 11,
   "metadata": {},
   "outputs": [],
   "source": [
    "gs_clf = GridSearchCV(model1,parameters, cv=5, n_jobs=-1, verbose=1)"
   ]
  },
  {
   "cell_type": "code",
   "execution_count": 12,
   "metadata": {},
   "outputs": [
    {
     "name": "stdout",
     "output_type": "stream",
     "text": [
      "Fitting 5 folds for each of 50 candidates, totalling 250 fits\n"
     ]
    },
    {
     "name": "stderr",
     "output_type": "stream",
     "text": [
      "[Parallel(n_jobs=-1)]: Done 144 tasks      | elapsed:  2.4min\n",
      "[Parallel(n_jobs=-1)]: Done 250 out of 250 | elapsed:  4.3min finished\n"
     ]
    }
   ],
   "source": [
    "model = gs_clf.fit(X_train_cls, y_train)"
   ]
  },
  {
   "cell_type": "code",
   "execution_count": 13,
   "metadata": {},
   "outputs": [
    {
     "data": {
      "text/plain": [
       "0.6326266666666667"
      ]
     },
     "execution_count": 13,
     "metadata": {},
     "output_type": "execute_result"
    }
   ],
   "source": [
    "model.best_score_"
   ]
  },
  {
   "cell_type": "code",
   "execution_count": 14,
   "metadata": {},
   "outputs": [
    {
     "name": "stdout",
     "output_type": "stream",
     "text": [
      "{'max_depth': 7, 'min_samples_split': 10}\n",
      "max_depth: 7\n",
      "min_samples_split: 10\n"
     ]
    }
   ],
   "source": [
    "print(model.best_params_)\n",
    "for param_name in sorted(parameters.keys()):\n",
    "    print(\"%s: %r\" % (param_name, model.best_params_[param_name]))"
   ]
  },
  {
   "cell_type": "code",
   "execution_count": 15,
   "metadata": {},
   "outputs": [],
   "source": [
    "pickle.dump(model,open(\"RF_\"+str(trainSamples)+\"_.pkl\",'wb'))"
   ]
  },
  {
   "cell_type": "code",
   "execution_count": 16,
   "metadata": {},
   "outputs": [],
   "source": [
    "from sklearn.metrics import accuracy_score"
   ]
  },
  {
   "cell_type": "code",
   "execution_count": 17,
   "metadata": {},
   "outputs": [],
   "source": [
    "# preds_val = model.predict(X_val_cls)"
   ]
  },
  {
   "cell_type": "code",
   "execution_count": 19,
   "metadata": {},
   "outputs": [],
   "source": [
    "# accuracy = accuracy_score(y_val, preds_val)\n",
    "# print(\"Accuracy: %.2f%%\" % (accuracy * 100.0))"
   ]
  },
  {
   "cell_type": "code",
   "execution_count": 20,
   "metadata": {},
   "outputs": [],
   "source": [
    "X_test_cls = load_cls(path+\"X_test_cls.p\")\n",
    "y_test = load_cls(path+\"y_test.p\")"
   ]
  },
  {
   "cell_type": "code",
   "execution_count": 21,
   "metadata": {},
   "outputs": [
    {
     "name": "stdout",
     "output_type": "stream",
     "text": [
      "Accuracy: 59.58%\n"
     ]
    }
   ],
   "source": [
    "preds_test = model.predict(X_test_cls)\n",
    "accuracy = accuracy_score(y_test, preds_test)\n",
    "print(\"Accuracy: %.2f%%\" % (accuracy * 100.0))"
   ]
  },
  {
   "cell_type": "code",
   "execution_count": 22,
   "metadata": {},
   "outputs": [
    {
     "data": {
      "text/plain": [
       "768"
      ]
     },
     "execution_count": 22,
     "metadata": {},
     "output_type": "execute_result"
    }
   ],
   "source": [
    "X_test_cls[0].shape[0]"
   ]
  },
  {
   "cell_type": "code",
   "execution_count": 23,
   "metadata": {},
   "outputs": [],
   "source": [
    "from scipy.stats import rankdata\n",
    "\n",
    "def mrrs(out, labels):\n",
    "#     print(out,labels)\n",
    "    outputs = np.argmax(out,axis=1)\n",
    "    mrr = 0.0 \n",
    "    for label,ranks in zip(labels,out):\n",
    "        ranks = rankdata(ranks*-1)\n",
    "        rank = ranks[label]\n",
    "#         print(rank,ranks)\n",
    "        mrr+=1/rank\n",
    "    return mrr/len(labels)\n",
    "\n",
    "def precision_at(out,labels,prank=1):\n",
    "    count = 0\n",
    "    for label,ranks in zip(labels,out):\n",
    "        ranks = rankdata(ranks*-1)\n",
    "        rank = ranks[label]\n",
    "#         print(rank,ranks)\n",
    "        if rank <= prank:\n",
    "            count+=1\n",
    "    return count/len(labels)\n",
    "\n",
    "def mrrwrapper(qid2c,qid2indexmap,preds_prob):\n",
    "    labels = []\n",
    "    out = []\n",
    "    for qid in qid2c.keys():\n",
    "        scores = []\n",
    "        for ix in qid2indexmap[qid]:\n",
    "            if len(scores) < 6:\n",
    "                scores.append(preds_prob[ix][1])\n",
    "        if len(scores) < 6:\n",
    "            continue\n",
    "        out.append(scores)\n",
    "        labels.append(int(qid2c[qid]))\n",
    "    return mrrs(np.array(out),labels),precision_at(np.array(out),labels,1),precision_at(np.array(out),labels,3)\n",
    "\n",
    "def load_ranking(fname):\n",
    "    return pickle.load(open(\"/scratch/pbanerj6/sml-dataset/ranking_\"+fname+\".p\",\"rb\"))"
   ]
  },
  {
   "cell_type": "code",
   "execution_count": 24,
   "metadata": {},
   "outputs": [
    {
     "name": "stdout",
     "output_type": "stream",
     "text": [
      "SampleSize: 100\n",
      "Train Time:0.03 sec\n",
      "Validation Accuracy: 50.86%\n",
      "Validation Time:0.07 sec\n",
      "Test Accuracy: 51.47%\n",
      "Test Time:0.04 sec\n",
      "MRR: (0.4254884559884557, 0.16266666666666665, 0.52)\n",
      "MRR Time:0.32 sec\n",
      "SampleSize: 500\n",
      "Train Time:0.05 sec\n",
      "Validation Accuracy: 50.53%\n",
      "Validation Time:0.05 sec\n",
      "Test Accuracy: 51.05%\n",
      "Test Time:0.05 sec\n",
      "MRR: (0.4412291486291489, 0.19933333333333333, 0.556)\n",
      "MRR Time:0.29 sec\n",
      "SampleSize: 1000\n",
      "Train Time:0.08 sec\n",
      "Validation Accuracy: 50.97%\n",
      "Validation Time:0.04 sec\n",
      "Test Accuracy: 51.09%\n",
      "Test Time:0.04 sec\n",
      "MRR: (0.44806031746031777, 0.214, 0.5366666666666666)\n",
      "MRR Time:0.26 sec\n",
      "SampleSize: 10000\n",
      "Train Time:1.00 sec\n",
      "Validation Accuracy: 55.16%\n",
      "Validation Time:0.07 sec\n",
      "Test Accuracy: 54.19%\n",
      "Test Time:0.06 sec\n",
      "MRR: (0.4857904761904773, 0.23933333333333334, 0.6313333333333333)\n",
      "MRR Time:0.27 sec\n",
      "SampleSize: 20000\n",
      "Train Time:2.81 sec\n",
      "Validation Accuracy: 58.29%\n",
      "Validation Time:0.05 sec\n",
      "Test Accuracy: 59.54%\n",
      "Test Time:0.05 sec\n",
      "MRR: (0.5164238095238113, 0.2806666666666667, 0.6706666666666666)\n",
      "MRR Time:0.32 sec\n",
      "SampleSize: 50000\n",
      "Train Time:7.31 sec\n",
      "Validation Accuracy: 59.35%\n",
      "Validation Time:0.04 sec\n",
      "Test Accuracy: 58.71%\n",
      "Test Time:0.05 sec\n",
      "MRR: (0.5307666666666685, 0.29133333333333333, 0.6953333333333334)\n",
      "MRR Time:0.33 sec\n",
      "SampleSize: 75000\n",
      "Train Time:10.34 sec\n",
      "Validation Accuracy: 59.03%\n",
      "Validation Time:0.05 sec\n",
      "Test Accuracy: 59.21%\n",
      "Test Time:0.05 sec\n",
      "MRR: (0.5292222222222241, 0.2906666666666667, 0.6973333333333334)\n",
      "MRR Time:0.33 sec\n",
      "[0.5086, 0.5053, 0.5097, 0.5516, 0.5829, 0.5935, 0.5903]\n",
      "[0.5147, 0.5105, 0.5109, 0.5419, 0.5954, 0.5871, 0.5921]\n",
      "[(0.4254884559884557, 0.16266666666666665, 0.52), (0.4412291486291489, 0.19933333333333333, 0.556), (0.44806031746031777, 0.214, 0.5366666666666666), (0.4857904761904773, 0.23933333333333334, 0.6313333333333333), (0.5164238095238113, 0.2806666666666667, 0.6706666666666666), (0.5307666666666685, 0.29133333333333333, 0.6953333333333334), (0.5292222222222241, 0.2906666666666667, 0.6973333333333334)]\n"
     ]
    }
   ],
   "source": [
    "valAccuracy = []\n",
    "testAccuracy = []\n",
    "mrrScore = []\n",
    "from sklearn.metrics import accuracy_score\n",
    "import time\n",
    "# For each of training sample sizes\n",
    "for eachTrain in n_trainSamples:\n",
    "    \n",
    "    # Model with best values from grid search\n",
    "    bestModel = RandomForestClassifier(min_samples_split=model.best_params_['min_samples_split'],\n",
    "                                       max_depth=model.best_params_['max_depth'],\n",
    "                                       #criterion=model.best_params_['criterion'],\n",
    "                                    )\n",
    "\n",
    "    print(\"SampleSize:\",eachTrain)\n",
    "    \n",
    "    stime=time.time()\n",
    "    X_train_f = (X_train_cls[:eachTrain])\n",
    "    bestModel.fit(X_train_f,y_train[:eachTrain])   \n",
    "    print(\"Train Time:%.2f sec\"%(time.time()-stime))\n",
    "    \n",
    "    stime=time.time()\n",
    "    X_val_f = (X_val_cls)\n",
    "    preds_val = bestModel.predict(X_val_f)\n",
    "    accuracy = round(accuracy_score(y_val, preds_val),4)\n",
    "    valAccuracy.append(accuracy)\n",
    "    print(\"Validation Accuracy: %.2f%%\" % (accuracy * 100.0))\n",
    "    print(\"Validation Time:%.2f sec\"%(time.time()-stime))\n",
    "\n",
    "    stime=time.time()\n",
    "    X_test_f = (X_test_cls)\n",
    "    preds_test = bestModel.predict(X_test_f)\n",
    "    accuracy = round(accuracy_score(y_test, preds_test),4)\n",
    "    testAccuracy.append(accuracy)\n",
    "    print(\"Test Accuracy: %.2f%%\" % (accuracy * 100.0))\n",
    "    print(\"Test Time:%.2f sec\"%(time.time()-stime))\n",
    "    \n",
    "    stime=time.time()\n",
    "    preds_test_probs = bestModel.predict_proba(X_test_f)\n",
    "    qid2c,qid2indexmap = load_ranking(\"test\")\n",
    "    mrr = mrrwrapper(qid2c,qid2indexmap,preds_test_probs)\n",
    "    mrrScore.append(mrr)\n",
    "    print(\"MRR:\",mrr)\n",
    "    print(\"MRR Time:%.2f sec\"%(time.time()-stime))\n",
    "    \n",
    "    #input()\n",
    "print (valAccuracy)\n",
    "print (testAccuracy)\n",
    "print (mrrScore)"
   ]
  },
  {
   "cell_type": "code",
   "execution_count": 25,
   "metadata": {},
   "outputs": [],
   "source": [
    "def accuracyVisualization():\n",
    "    ''' Plots the data points with the centroids\n",
    "    '''\n",
    "    fig = plt.figure()\n",
    "    ax = plt.axes()\n",
    "    ax.plot(n_trainSamples,testAccuracy,label='TestAccuracy vs TrainData',marker='o')\n",
    "    ax.plot(n_trainSamples,valAccuracy,label='ValAccuracy vs TrainData',marker='.')\n",
    "    plt.title(\"Scores vs TrainData\")\n",
    "    plt.legend()\n",
    "    plt.xlabel(\"TrainData\")\n",
    "    plt.ylabel(\"Scores\")\n",
    "    fig.savefig(\"RF_Accuracy.png\")\n",
    "    #plt.show()"
   ]
  },
  {
   "cell_type": "code",
   "execution_count": 26,
   "metadata": {},
   "outputs": [
    {
     "data": {
      "image/png": "[encoded data removed]",
      "text/plain": [
       "<Figure size 432x288 with 1 Axes>"
      ]
     },
     "metadata": {
      "needs_background": "light"
     },
     "output_type": "display_data"
    }
   ],
   "source": [
    "accuracyVisualization()"
   ]
  },
  {
   "cell_type": "code",
   "execution_count": 27,
   "metadata": {},
   "outputs": [],
   "source": [
    "def mrrVisualization():\n",
    "    ''' Plots the data points with the centroids\n",
    "    '''\n",
    "    fig = plt.figure()\n",
    "    ax = plt.axes()\n",
    "    ax.plot(n_trainSamples,mrrScore,label='MRR vs TrainData',marker='x')\n",
    "    plt.title(\"Scores vs TrainData\")\n",
    "    plt.legend()\n",
    "    plt.xlabel(\"TrainData\")\n",
    "    plt.ylabel(\"Scores\")\n",
    "    fig.savefig(\"RF_Mrr.png\")\n",
    "    plt.show()"
   ]
  },
  {
   "cell_type": "code",
   "execution_count": 28,
   "metadata": {},
   "outputs": [
    {
     "data": {
      "image/png": "[encoded data removed]",
      "text/plain": [
       "<Figure size 432x288 with 1 Axes>"
      ]
     },
     "metadata": {
      "needs_background": "light"
     },
     "output_type": "display_data"
    }
   ],
   "source": [
    "mrrVisualization()"
   ]
  },
  {
   "cell_type": "code",
   "execution_count": 29,
   "metadata": {},
   "outputs": [],
   "source": [
    "preds_test_probs = model.predict_proba(X_test_cls)"
   ]
  },
  {
   "cell_type": "code",
   "execution_count": 30,
   "metadata": {},
   "outputs": [],
   "source": [
    "qid2c,qid2indexmap = load_ranking(\"test\")"
   ]
  },
  {
   "cell_type": "code",
   "execution_count": 31,
   "metadata": {},
   "outputs": [
    {
     "data": {
      "text/plain": [
       "(0.5250222222222243, 0.284, 0.6913333333333334)"
      ]
     },
     "execution_count": 31,
     "metadata": {},
     "output_type": "execute_result"
    }
   ],
   "source": [
    "mrrwrapper(qid2c,qid2indexmap,preds_test_probs)"
   ]
  },
  {
   "cell_type": "code",
   "execution_count": 32,
   "metadata": {},
   "outputs": [
    {
     "data": {
      "text/plain": [
       "array([[0.58452434, 0.41547566],\n",
       "       [0.65606026, 0.34393974],\n",
       "       [0.54782169, 0.45217831],\n",
       "       ...,\n",
       "       [0.51820918, 0.48179082],\n",
       "       [0.51820918, 0.48179082],\n",
       "       [0.51820918, 0.48179082]])"
      ]
     },
     "execution_count": 32,
     "metadata": {},
     "output_type": "execute_result"
    }
   ],
   "source": [
    "preds_test_probs"
   ]
  },
  {
   "cell_type": "code",
   "execution_count": null,
   "metadata": {},
   "outputs": [],
   "source": []
  }
 ],
 "metadata": {
  "kernelspec": {
   "display_name": "Python 3",
   "language": "python",
   "name": "python3"
  },
  "language_info": {
   "codemirror_mode": {
    "name": "ipython",
    "version": 3
   },
   "file_extension": ".py",
   "mimetype": "text/x-python",
   "name": "python",
   "nbconvert_exporter": "python",
   "pygments_lexer": "ipython3",
   "version": "3.7.1"
  }
 },
 "nbformat": 4,
 "nbformat_minor": 2
}
