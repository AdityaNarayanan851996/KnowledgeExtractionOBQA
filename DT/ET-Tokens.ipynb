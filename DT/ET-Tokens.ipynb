{
 "cells": [
  {
   "cell_type": "code",
   "execution_count": 1,
   "metadata": {},
   "outputs": [],
   "source": [
    "import xgboost as xbg\n",
    "import pandas as pd\n",
    "import numpy as np\n",
    "import matplotlib.pyplot as plt\n",
    "import json\n",
    "import pickle\n",
    "import joblib\n",
    "\n",
    "%matplotlib inline"
   ]
  },
  {
   "cell_type": "code",
   "execution_count": 2,
   "metadata": {},
   "outputs": [],
   "source": [
    "def load_cls(fname):\n",
    "    return np.array(pickle.load(open(fname,\"rb\")))"
   ]
  },
  {
   "cell_type": "code",
   "execution_count": 3,
   "metadata": {},
   "outputs": [],
   "source": [
    "path = \"/scratch/pbanerj6/sml-dataset/\"\n",
    "trainSamples = 75000\n",
    "n_trainSamples = [100,500,1000,10000,20000,50000,75000]\n",
    "\n",
    "X_train = load_cls(path+\"X_train_tokens.p\")[:trainSamples]\n",
    "X_val_cls = load_cls(path+\"X_val_tokens.p\")"
   ]
  },
  {
   "cell_type": "code",
   "execution_count": 4,
   "metadata": {},
   "outputs": [],
   "source": [
    "y_train = load_cls(path+\"y_train.p\")[:trainSamples]\n",
    "y_val = load_cls(path+\"y_val.p\")"
   ]
  },
  {
   "cell_type": "code",
   "execution_count": 5,
   "metadata": {},
   "outputs": [
    {
     "name": "stdout",
     "output_type": "stream",
     "text": [
      "75000\n"
     ]
    }
   ],
   "source": [
    "print(len(X_train))"
   ]
  },
  {
   "cell_type": "code",
   "execution_count": 12,
   "metadata": {},
   "outputs": [],
   "source": [
    "from sklearn.feature_extraction.text import CountVectorizer\n",
    "\n",
    "def my_preprocessor(doc):\n",
    "    return doc\n",
    "\n",
    "# tokenize the doc and lemmatize its tokens\n",
    "def my_tokenizer(doc):\n",
    "    return doc\n",
    "\n",
    "custom_vec = CountVectorizer(preprocessor=my_preprocessor, tokenizer=my_tokenizer)\n",
    "cwm = custom_vec.fit_transform(X_train)\n",
    "tokens = custom_vec.get_feature_names()"
   ]
  },
  {
   "cell_type": "code",
   "execution_count": 13,
   "metadata": {},
   "outputs": [],
   "source": [
    "from sklearn.feature_extraction.text import TfidfVectorizer,TfidfTransformer\n",
    "from sklearn.pipeline import Pipeline\n",
    "from sklearn.tree import ExtraTreeClassifier\n"
   ]
  },
  {
   "cell_type": "code",
   "execution_count": 14,
   "metadata": {},
   "outputs": [],
   "source": [
    "feature_pipeline = Pipeline([\n",
    "('vect',  CountVectorizer(min_df=.0025, max_df=0.25, ngram_range=(1,3),preprocessor=my_preprocessor, tokenizer=my_tokenizer)),\n",
    "('tfidf', TfidfTransformer()),\n",
    "])"
   ]
  },
  {
   "cell_type": "code",
   "execution_count": 15,
   "metadata": {},
   "outputs": [],
   "source": [
    "X_train_f = feature_pipeline.fit_transform(X_train)\n",
    "X_val_f =feature_pipeline.transform(X_val_cls)"
   ]
  },
  {
   "cell_type": "code",
   "execution_count": 16,
   "metadata": {},
   "outputs": [],
   "source": [
    "#model = XGBClassifier(n_jobs=-1,verbosity=2,n_estimators=300)\n",
    "#model.fit(X_train_f,y_train,verbose=True,eval_set=[(X_val_f,y_val)])\n",
    "\n",
    "model1 = ExtraTreeClassifier(random_state=0)\n",
    "# model.fit(X_train_f,y_train)"
   ]
  },
  {
   "cell_type": "code",
   "execution_count": 17,
   "metadata": {},
   "outputs": [],
   "source": [
    "from sklearn.model_selection import GridSearchCV\n",
    "parameters = {'min_samples_split': range(5, 30, 5), \n",
    "              'max_depth': range(1, 40, 2),\n",
    "          #    'criterion':['gini','entropy'],\n",
    "         #      'splitter':['best','random'],\n",
    "              # 'max_features':['auto','log2','None'],\n",
    "               #'presort':['False','True']\n",
    "             }"
   ]
  },
  {
   "cell_type": "code",
   "execution_count": 18,
   "metadata": {},
   "outputs": [
    {
     "data": {
      "text/plain": [
       "dict_keys(['class_weight', 'criterion', 'max_depth', 'max_features', 'max_leaf_nodes', 'min_impurity_decrease', 'min_impurity_split', 'min_samples_leaf', 'min_samples_split', 'min_weight_fraction_leaf', 'random_state', 'splitter'])"
      ]
     },
     "execution_count": 18,
     "metadata": {},
     "output_type": "execute_result"
    }
   ],
   "source": [
    "model1.get_params().keys()"
   ]
  },
  {
   "cell_type": "code",
   "execution_count": 19,
   "metadata": {},
   "outputs": [],
   "source": [
    "gs_clf = GridSearchCV(model1,parameters, cv=3, n_jobs=-1, verbose=1)"
   ]
  },
  {
   "cell_type": "code",
   "execution_count": 20,
   "metadata": {},
   "outputs": [
    {
     "name": "stdout",
     "output_type": "stream",
     "text": [
      "Fitting 3 folds for each of 100 candidates, totalling 300 fits\n"
     ]
    },
    {
     "name": "stderr",
     "output_type": "stream",
     "text": [
      "[Parallel(n_jobs=-1)]: Done 144 tasks      | elapsed:   35.9s\n",
      "[Parallel(n_jobs=-1)]: Done 300 out of 300 | elapsed:  1.3min finished\n"
     ]
    }
   ],
   "source": [
    "model = gs_clf.fit(X_train_f, y_train)"
   ]
  },
  {
   "cell_type": "code",
   "execution_count": 21,
   "metadata": {},
   "outputs": [
    {
     "data": {
      "text/plain": [
       "0.54856"
      ]
     },
     "execution_count": 21,
     "metadata": {},
     "output_type": "execute_result"
    }
   ],
   "source": [
    "model.best_score_"
   ]
  },
  {
   "cell_type": "code",
   "execution_count": 22,
   "metadata": {},
   "outputs": [
    {
     "name": "stdout",
     "output_type": "stream",
     "text": [
      "{'max_depth': 39, 'min_samples_split': 10}\n",
      "max_depth: 39\n",
      "min_samples_split: 10\n"
     ]
    }
   ],
   "source": [
    "print(model.best_params_)\n",
    "for param_name in sorted(parameters.keys()):\n",
    "    print(\"%s: %r\" % (param_name, model.best_params_[param_name]))"
   ]
  },
  {
   "cell_type": "code",
   "execution_count": 23,
   "metadata": {},
   "outputs": [],
   "source": [
    "pickle.dump(model,open(\"ET_Tokens_\"+str(trainSamples)+\"_.pkl\",'wb'))"
   ]
  },
  {
   "cell_type": "code",
   "execution_count": 24,
   "metadata": {},
   "outputs": [],
   "source": [
    "# from sklearn.metrics import accuracy_score\n",
    "# preds_val = model.predict(X_val_f)\n",
    "# accuracy = accuracy_score(y_val, preds_val)\n",
    "# print(\"Accuracy: %.2f%%\" % (accuracy * 100.0))"
   ]
  },
  {
   "cell_type": "code",
   "execution_count": 25,
   "metadata": {},
   "outputs": [],
   "source": [
    "X_test = load_cls(path+\"X_test_tokens.p\")\n",
    "y_test = load_cls(path+\"y_test.p\")"
   ]
  },
  {
   "cell_type": "code",
   "execution_count": 26,
   "metadata": {},
   "outputs": [],
   "source": [
    "X_test_f =feature_pipeline.transform(X_test)"
   ]
  },
  {
   "cell_type": "code",
   "execution_count": 27,
   "metadata": {},
   "outputs": [],
   "source": [
    "# preds_test = model.predict(X_test_f)\n",
    "# accuracy = accuracy_score(y_test, preds_test)\n",
    "# print(\"Accuracy: %.2f%%\" % (accuracy * 100.0))"
   ]
  },
  {
   "cell_type": "code",
   "execution_count": 34,
   "metadata": {},
   "outputs": [],
   "source": [
    "from scipy.stats import rankdata\n",
    "\n",
    "def mrrs(out, labels):\n",
    "#     print(out,labels)\n",
    "    outputs = np.argmax(out,axis=1)\n",
    "    mrr = 0.0 \n",
    "    for label,ranks in zip(labels,out):\n",
    "        ranks = rankdata(ranks*-1)\n",
    "        rank = ranks[label]\n",
    "#         print(rank,ranks)\n",
    "        mrr+=1/rank\n",
    "    return mrr/len(labels)\n",
    "\n",
    "def precision_at(out,labels,prank=1):\n",
    "    count = 0\n",
    "    for label,ranks in zip(labels,out):\n",
    "        ranks = rankdata(ranks*-1)\n",
    "        rank = ranks[label]\n",
    "#         print(rank,ranks)\n",
    "        if rank <= prank:\n",
    "            count+=1\n",
    "    return count/len(labels)\n",
    "\n",
    "def mrrwrapper(qid2c,qid2indexmap,preds_prob):\n",
    "    labels = []\n",
    "    out = []\n",
    "    for qid in qid2c.keys():\n",
    "        scores = []\n",
    "        for ix in qid2indexmap[qid]:\n",
    "            if len(scores) < 6:\n",
    "                scores.append(preds_prob[ix][1])\n",
    "        if len(scores) < 6:\n",
    "            continue\n",
    "        out.append(scores)\n",
    "        labels.append(int(qid2c[qid]))\n",
    "    return mrrs(np.array(out),labels),precision_at(np.array(out),labels,1),precision_at(np.array(out),labels,3)\n",
    "\n",
    "def load_ranking(fname):\n",
    "    return pickle.load(open(\"/scratch/pbanerj6/sml-dataset/ranking_\"+fname+\".p\",\"rb\"))"
   ]
  },
  {
   "cell_type": "code",
   "execution_count": 35,
   "metadata": {},
   "outputs": [
    {
     "name": "stdout",
     "output_type": "stream",
     "text": [
      "SampleSize: 100\n",
      "Train Time:0.46 sec\n",
      "Validation Accuracy: 50.44%\n",
      "Validation Time:2.65 sec\n",
      "Test Accuracy: 50.01%\n",
      "Test Time:2.94 sec\n",
      "MRR: (0.31500663780663496, 0.03933333333333333, 0.07933333333333334)\n",
      "MRR Time:0.27 sec\n",
      "SampleSize: 500\n",
      "Train Time:0.28 sec\n",
      "Validation Accuracy: 50.40%\n",
      "Validation Time:2.66 sec\n",
      "Test Accuracy: 50.63%\n",
      "Test Time:2.45 sec\n",
      "MRR: (0.31911491101490735, 0.05, 0.07333333333333333)\n",
      "MRR Time:0.46 sec\n",
      "SampleSize: 1000\n",
      "Train Time:0.34 sec\n",
      "Validation Accuracy: 50.68%\n",
      "Validation Time:2.57 sec\n",
      "Test Accuracy: 50.68%\n",
      "Test Time:2.64 sec\n",
      "MRR: (0.3447943722943697, 0.056, 0.43733333333333335)\n",
      "MRR Time:0.46 sec\n",
      "SampleSize: 10000\n",
      "Train Time:4.44 sec\n",
      "Validation Accuracy: 53.93%\n",
      "Validation Time:2.61 sec\n",
      "Test Accuracy: 53.21%\n",
      "Test Time:2.60 sec\n",
      "MRR: (0.3668585377585358, 0.064, 0.51)\n",
      "MRR Time:0.26 sec\n",
      "SampleSize: 20000\n",
      "Train Time:8.26 sec\n",
      "Validation Accuracy: 53.65%\n",
      "Validation Time:2.39 sec\n",
      "Test Accuracy: 54.41%\n",
      "Test Time:2.55 sec\n",
      "MRR: (0.4225957190957182, 0.14266666666666666, 0.51)\n",
      "MRR Time:0.26 sec\n",
      "SampleSize: 50000\n",
      "Train Time:21.03 sec\n",
      "Validation Accuracy: 54.31%\n",
      "Validation Time:2.90 sec\n",
      "Test Accuracy: 53.04%\n",
      "Test Time:3.27 sec\n",
      "MRR: (0.4012901875901865, 0.12533333333333332, 0.4666666666666667)\n",
      "MRR Time:0.61 sec\n",
      "SampleSize: 75000\n",
      "Train Time:30.28 sec\n",
      "Validation Accuracy: 53.25%\n",
      "Validation Time:2.93 sec\n",
      "Test Accuracy: 52.59%\n",
      "Test Time:2.78 sec\n",
      "MRR: (0.39411875901875804, 0.11933333333333333, 0.4866666666666667)\n",
      "MRR Time:0.42 sec\n",
      "[0.5044, 0.504, 0.5068, 0.5393, 0.5365, 0.5431, 0.5325]\n",
      "[0.5001, 0.5063, 0.5068, 0.5321, 0.5441, 0.5304, 0.5259]\n",
      "[(0.31500663780663496, 0.03933333333333333, 0.07933333333333334), (0.31911491101490735, 0.05, 0.07333333333333333), (0.3447943722943697, 0.056, 0.43733333333333335), (0.3668585377585358, 0.064, 0.51), (0.4225957190957182, 0.14266666666666666, 0.51), (0.4012901875901865, 0.12533333333333332, 0.4666666666666667), (0.39411875901875804, 0.11933333333333333, 0.4866666666666667)]\n"
     ]
    }
   ],
   "source": [
    "valAccuracy = []\n",
    "testAccuracy = []\n",
    "mrrScore = []\n",
    "from sklearn.metrics import accuracy_score\n",
    "import time\n",
    "# For each of training sample sizes\n",
    "for eachTrain in n_trainSamples:\n",
    "    \n",
    "    # Model with best values from grid search\n",
    "    bestModel = ExtraTreeClassifier(min_samples_split=model.best_params_['min_samples_split'],\n",
    "                                       max_depth=model.best_params_['max_depth'],\n",
    "                                       #criterion=model.best_params_['criterion'],\n",
    "                                       #splitter=model.best_params_['splitter']\n",
    "                                   )\n",
    "\n",
    "    print(\"SampleSize:\",eachTrain)\n",
    "    \n",
    "    stime=time.time()\n",
    "    X_train_f = feature_pipeline.fit_transform(X_train[:eachTrain])\n",
    "    bestModel.fit(X_train_f,y_train[:eachTrain])   \n",
    "    print(\"Train Time:%.2f sec\"%(time.time()-stime))\n",
    "    \n",
    "    stime=time.time()\n",
    "    X_val_f = feature_pipeline.transform(X_val_cls)\n",
    "    preds_val = bestModel.predict(X_val_f)\n",
    "    accuracy = round(accuracy_score(y_val, preds_val),4)\n",
    "    valAccuracy.append(accuracy)\n",
    "    print(\"Validation Accuracy: %.2f%%\" % (accuracy * 100.0))\n",
    "    print(\"Validation Time:%.2f sec\"%(time.time()-stime))\n",
    "\n",
    "    stime=time.time()\n",
    "    X_test_f = feature_pipeline.transform(X_test)\n",
    "    preds_test = bestModel.predict(X_test_f)\n",
    "    accuracy = round(accuracy_score(y_test, preds_test),4)\n",
    "    testAccuracy.append(accuracy)\n",
    "    print(\"Test Accuracy: %.2f%%\" % (accuracy * 100.0))\n",
    "    print(\"Test Time:%.2f sec\"%(time.time()-stime))\n",
    "    \n",
    "    stime=time.time()\n",
    "    preds_test_probs = bestModel.predict_proba(X_test_f)\n",
    "    qid2c,qid2indexmap = load_ranking(\"test\")\n",
    "    mrr = mrrwrapper(qid2c,qid2indexmap,preds_test_probs)\n",
    "    mrrScore.append(mrr)\n",
    "    print(\"MRR:\",mrr)\n",
    "    print(\"MRR Time:%.2f sec\"%(time.time()-stime))\n",
    "    \n",
    "    #input()\n",
    "print (valAccuracy)\n",
    "print (testAccuracy)\n",
    "print (mrrScore)"
   ]
  },
  {
   "cell_type": "code",
   "execution_count": 44,
   "metadata": {},
   "outputs": [],
   "source": [
    "def accuracyVisualization():\n",
    "    ''' Plots the data points with the centroids\n",
    "    '''\n",
    "    fig = plt.figure()\n",
    "    ax = plt.axes()\n",
    "    ax.plot(n_trainSamples,testAccuracy,label='TestAccuracy vs TrainData',marker='o')\n",
    "    ax.plot(n_trainSamples,valAccuracy,label='ValAccuracy vs TrainData',marker='.')\n",
    "    plt.title(\"Scores vs TrainData\")\n",
    "    plt.legend()\n",
    "    plt.xlabel(\"TrainData\")\n",
    "    plt.ylabel(\"Scores\")\n",
    "    fig.savefig(\"ET_Tokens_Accuracy.png\")\n",
    "    #plt.show()"
   ]
  },
  {
   "cell_type": "code",
   "execution_count": 45,
   "metadata": {},
   "outputs": [
    {
     "data": {
      "image/png": "[encoded data removed]",
      "text/plain": [
       "<Figure size 432x288 with 1 Axes>"
      ]
     },
     "metadata": {
      "needs_background": "light"
     },
     "output_type": "display_data"
    }
   ],
   "source": [
    "accuracyVisualization()"
   ]
  },
  {
   "cell_type": "code",
   "execution_count": 46,
   "metadata": {},
   "outputs": [],
   "source": [
    "def mrrVisualization():\n",
    "    ''' Plots the data points with the centroids\n",
    "    '''\n",
    "    fig = plt.figure()\n",
    "    ax = plt.axes()\n",
    "    ax.plot(n_trainSamples,mrrScore,label='MRR vs TrainData',marker='x')\n",
    "    plt.title(\"Scores vs TrainData\")\n",
    "    plt.legend()\n",
    "    plt.xlabel(\"TrainData\")\n",
    "    plt.ylabel(\"Scores\")\n",
    "    fig.savefig(\"ET_Tokens_Mrr.png\")\n",
    "    plt.show()"
   ]
  },
  {
   "cell_type": "code",
   "execution_count": 47,
   "metadata": {},
   "outputs": [
    {
     "data": {
      "image/png": "[encoded data removed]",
      "text/plain": [
       "<Figure size 432x288 with 1 Axes>"
      ]
     },
     "metadata": {
      "needs_background": "light"
     },
     "output_type": "display_data"
    }
   ],
   "source": [
    "mrrVisualization()"
   ]
  },
  {
   "cell_type": "code",
   "execution_count": 48,
   "metadata": {},
   "outputs": [],
   "source": [
    "preds_test_probs = model.predict_proba(X_test_f)"
   ]
  },
  {
   "cell_type": "code",
   "execution_count": 49,
   "metadata": {},
   "outputs": [],
   "source": [
    "qid2c,qid2indexmap = load_ranking(\"test\")"
   ]
  },
  {
   "cell_type": "code",
   "execution_count": 50,
   "metadata": {},
   "outputs": [
    {
     "data": {
      "text/plain": [
       "(0.3671667628667609, 0.08533333333333333, 0.45066666666666666)"
      ]
     },
     "execution_count": 50,
     "metadata": {},
     "output_type": "execute_result"
    }
   ],
   "source": [
    "mrrwrapper(qid2c,qid2indexmap,preds_test_probs)"
   ]
  },
  {
   "cell_type": "code",
   "execution_count": 51,
   "metadata": {},
   "outputs": [
    {
     "data": {
      "text/plain": [
       "array([[0.49903867, 0.50096133],\n",
       "       [0.49903867, 0.50096133],\n",
       "       [1.        , 0.        ],\n",
       "       ...,\n",
       "       [0.49903867, 0.50096133],\n",
       "       [0.49903867, 0.50096133],\n",
       "       [0.49903867, 0.50096133]])"
      ]
     },
     "execution_count": 51,
     "metadata": {},
     "output_type": "execute_result"
    }
   ],
   "source": [
    "preds_test_probs"
   ]
  },
  {
   "cell_type": "code",
   "execution_count": null,
   "metadata": {},
   "outputs": [],
   "source": []
  }
 ],
 "metadata": {
  "kernelspec": {
   "display_name": "Python 3",
   "language": "python",
   "name": "python3"
  },
  "language_info": {
   "codemirror_mode": {
    "name": "ipython",
    "version": 3
   },
   "file_extension": ".py",
   "mimetype": "text/x-python",
   "name": "python",
   "nbconvert_exporter": "python",
   "pygments_lexer": "ipython3",
   "version": "3.7.1"
  }
 },
 "nbformat": 4,
 "nbformat_minor": 2
}
