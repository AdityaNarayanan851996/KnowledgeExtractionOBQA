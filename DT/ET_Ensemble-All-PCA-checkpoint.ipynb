{
 "cells": [
  {
   "cell_type": "code",
   "execution_count": 1,
   "metadata": {},
   "outputs": [],
   "source": [
    "import xgboost as xbg\n",
    "import pandas as pd\n",
    "import numpy as np\n",
    "import matplotlib.pyplot as plt\n",
    "import json\n",
    "import pickle\n",
    "import joblib\n",
    "from tqdm import tqdm\n",
    "\n",
    "%matplotlib inline"
   ]
  },
  {
   "cell_type": "code",
   "execution_count": 2,
   "metadata": {},
   "outputs": [],
   "source": [
    "def load_all(fname):\n",
    "    return pickle.load(open(fname,\"rb\"))\n",
    "path1 = \"/scratch/kkpal/sml-dataset/\"\n",
    "path2 = \"/scratch/pbanerj6/sml-dataset/\"\n",
    "trainSamples = 75000\n",
    "\n",
    "n_trainSamples = [100,500,1000,10000,20000,50000,75000]\n",
    "X_train_all = load_all(path1+\"X_train_all_90.pkl\")\n",
    "X_val_all = load_all(path1+\"X_val_all_90.pkl\")"
   ]
  },
  {
   "cell_type": "code",
   "execution_count": 3,
   "metadata": {},
   "outputs": [],
   "source": [
    "def load_y(fname):\n",
    "    return np.array(pickle.load(open(fname,\"rb\")))\n",
    "\n",
    "y_train = load_y(path2+\"y_train.p\")\n",
    "y_val = load_y(path2+\"y_val.p\")"
   ]
  },
  {
   "cell_type": "code",
   "execution_count": 4,
   "metadata": {},
   "outputs": [
    {
     "name": "stderr",
     "output_type": "stream",
     "text": [
      "/packages/7x/anaconda3/5.3.0/lib/python3.7/site-packages/sklearn/ensemble/weight_boosting.py:29: DeprecationWarning: numpy.core.umath_tests is an internal NumPy module and should not be imported. It will be removed in a future NumPy release.\n",
      "  from numpy.core.umath_tests import inner1d\n"
     ]
    }
   ],
   "source": [
    "from sklearn.ensemble import ExtraTreesClassifier\n",
    "model1 = ExtraTreesClassifier(random_state=0)\n",
    "#model.fit(X_train_all,y_train)\n",
    "#model = XGBClassifier(n_jobs=-1,verbosity=2,n_estimators=100)"
   ]
  },
  {
   "cell_type": "code",
   "execution_count": 5,
   "metadata": {},
   "outputs": [],
   "source": [
    "#model.fit(X_train_all,y_train,verbose=True,eval_set=[(X_val_all,y_val)])"
   ]
  },
  {
   "cell_type": "code",
   "execution_count": 6,
   "metadata": {},
   "outputs": [],
   "source": [
    "from sklearn.model_selection import GridSearchCV\n",
    "parameters = {'min_samples_split': range(5, 20, 5), \n",
    "              'max_depth': range(1, 20, 5),\n",
    "           #   'criterion':['gini','entropy'],\n",
    "               \n",
    "              # 'max_features':['auto','log2','None'],\n",
    "               #'presort':['False','True']\n",
    "             }\n",
    "    "
   ]
  },
  {
   "cell_type": "code",
   "execution_count": 7,
   "metadata": {},
   "outputs": [
    {
     "data": {
      "text/plain": [
       "dict_keys(['bootstrap', 'class_weight', 'criterion', 'max_depth', 'max_features', 'max_leaf_nodes', 'min_impurity_decrease', 'min_impurity_split', 'min_samples_leaf', 'min_samples_split', 'min_weight_fraction_leaf', 'n_estimators', 'n_jobs', 'oob_score', 'random_state', 'verbose', 'warm_start'])"
      ]
     },
     "execution_count": 7,
     "metadata": {},
     "output_type": "execute_result"
    }
   ],
   "source": [
    "model1.get_params().keys()"
   ]
  },
  {
   "cell_type": "code",
   "execution_count": 8,
   "metadata": {},
   "outputs": [],
   "source": [
    "gs_clf = GridSearchCV(model1,parameters, cv=5, n_jobs=1, verbose=2)"
   ]
  },
  {
   "cell_type": "code",
   "execution_count": 9,
   "metadata": {},
   "outputs": [
    {
     "name": "stdout",
     "output_type": "stream",
     "text": [
      "Fitting 5 folds for each of 12 candidates, totalling 60 fits\n",
      "[CV] max_depth=1, min_samples_split=5 ................................\n",
      "[CV] ................. max_depth=1, min_samples_split=5, total=   3.0s\n",
      "[CV] max_depth=1, min_samples_split=5 ................................\n"
     ]
    },
    {
     "name": "stderr",
     "output_type": "stream",
     "text": [
      "[Parallel(n_jobs=1)]: Done   1 out of   1 | elapsed:    4.0s remaining:    0.0s\n"
     ]
    },
    {
     "name": "stdout",
     "output_type": "stream",
     "text": [
      "[CV] ................. max_depth=1, min_samples_split=5, total=   2.9s\n",
      "[CV] max_depth=1, min_samples_split=5 ................................\n",
      "[CV] ................. max_depth=1, min_samples_split=5, total=   2.9s\n",
      "[CV] max_depth=1, min_samples_split=5 ................................\n",
      "[CV] ................. max_depth=1, min_samples_split=5, total=   2.9s\n",
      "[CV] max_depth=1, min_samples_split=5 ................................\n",
      "[CV] ................. max_depth=1, min_samples_split=5, total=   2.9s\n",
      "[CV] max_depth=1, min_samples_split=10 ...............................\n",
      "[CV] ................ max_depth=1, min_samples_split=10, total=   2.9s\n",
      "[CV] max_depth=1, min_samples_split=10 ...............................\n",
      "[CV] ................ max_depth=1, min_samples_split=10, total=   2.9s\n",
      "[CV] max_depth=1, min_samples_split=10 ...............................\n",
      "[CV] ................ max_depth=1, min_samples_split=10, total=   2.9s\n",
      "[CV] max_depth=1, min_samples_split=10 ...............................\n",
      "[CV] ................ max_depth=1, min_samples_split=10, total=   2.9s\n",
      "[CV] max_depth=1, min_samples_split=10 ...............................\n",
      "[CV] ................ max_depth=1, min_samples_split=10, total=   2.9s\n",
      "[CV] max_depth=1, min_samples_split=15 ...............................\n",
      "[CV] ................ max_depth=1, min_samples_split=15, total=   3.1s\n",
      "[CV] max_depth=1, min_samples_split=15 ...............................\n",
      "[CV] ................ max_depth=1, min_samples_split=15, total=   3.0s\n",
      "[CV] max_depth=1, min_samples_split=15 ...............................\n",
      "[CV] ................ max_depth=1, min_samples_split=15, total=   2.9s\n",
      "[CV] max_depth=1, min_samples_split=15 ...............................\n",
      "[CV] ................ max_depth=1, min_samples_split=15, total=   2.9s\n",
      "[CV] max_depth=1, min_samples_split=15 ...............................\n",
      "[CV] ................ max_depth=1, min_samples_split=15, total=   3.0s\n",
      "[CV] max_depth=6, min_samples_split=5 ................................\n",
      "[CV] ................. max_depth=6, min_samples_split=5, total=   6.0s\n",
      "[CV] max_depth=6, min_samples_split=5 ................................\n",
      "[CV] ................. max_depth=6, min_samples_split=5, total=   6.0s\n",
      "[CV] max_depth=6, min_samples_split=5 ................................\n",
      "[CV] ................. max_depth=6, min_samples_split=5, total=   6.1s\n",
      "[CV] max_depth=6, min_samples_split=5 ................................\n",
      "[CV] ................. max_depth=6, min_samples_split=5, total=   6.0s\n",
      "[CV] max_depth=6, min_samples_split=5 ................................\n",
      "[CV] ................. max_depth=6, min_samples_split=5, total=   6.0s\n",
      "[CV] max_depth=6, min_samples_split=10 ...............................\n",
      "[CV] ................ max_depth=6, min_samples_split=10, total=   6.0s\n",
      "[CV] max_depth=6, min_samples_split=10 ...............................\n",
      "[CV] ................ max_depth=6, min_samples_split=10, total=   6.0s\n",
      "[CV] max_depth=6, min_samples_split=10 ...............................\n",
      "[CV] ................ max_depth=6, min_samples_split=10, total=   6.0s\n",
      "[CV] max_depth=6, min_samples_split=10 ...............................\n",
      "[CV] ................ max_depth=6, min_samples_split=10, total=   6.1s\n",
      "[CV] max_depth=6, min_samples_split=10 ...............................\n",
      "[CV] ................ max_depth=6, min_samples_split=10, total=   6.0s\n",
      "[CV] max_depth=6, min_samples_split=15 ...............................\n",
      "[CV] ................ max_depth=6, min_samples_split=15, total=   6.0s\n",
      "[CV] max_depth=6, min_samples_split=15 ...............................\n",
      "[CV] ................ max_depth=6, min_samples_split=15, total=   6.0s\n",
      "[CV] max_depth=6, min_samples_split=15 ...............................\n",
      "[CV] ................ max_depth=6, min_samples_split=15, total=   6.0s\n",
      "[CV] max_depth=6, min_samples_split=15 ...............................\n",
      "[CV] ................ max_depth=6, min_samples_split=15, total=   6.0s\n",
      "[CV] max_depth=6, min_samples_split=15 ...............................\n",
      "[CV] ................ max_depth=6, min_samples_split=15, total=   6.0s\n",
      "[CV] max_depth=11, min_samples_split=5 ...............................\n",
      "[CV] ................ max_depth=11, min_samples_split=5, total=   9.0s\n",
      "[CV] max_depth=11, min_samples_split=5 ...............................\n",
      "[CV] ................ max_depth=11, min_samples_split=5, total=   9.0s\n",
      "[CV] max_depth=11, min_samples_split=5 ...............................\n",
      "[CV] ................ max_depth=11, min_samples_split=5, total=   9.0s\n",
      "[CV] max_depth=11, min_samples_split=5 ...............................\n",
      "[CV] ................ max_depth=11, min_samples_split=5, total=   9.0s\n",
      "[CV] max_depth=11, min_samples_split=5 ...............................\n",
      "[CV] ................ max_depth=11, min_samples_split=5, total=   9.0s\n",
      "[CV] max_depth=11, min_samples_split=10 ..............................\n",
      "[CV] ............... max_depth=11, min_samples_split=10, total=   9.0s\n",
      "[CV] max_depth=11, min_samples_split=10 ..............................\n",
      "[CV] ............... max_depth=11, min_samples_split=10, total=   9.0s\n",
      "[CV] max_depth=11, min_samples_split=10 ..............................\n",
      "[CV] ............... max_depth=11, min_samples_split=10, total=   9.0s\n",
      "[CV] max_depth=11, min_samples_split=10 ..............................\n",
      "[CV] ............... max_depth=11, min_samples_split=10, total=   9.0s\n",
      "[CV] max_depth=11, min_samples_split=10 ..............................\n",
      "[CV] ............... max_depth=11, min_samples_split=10, total=   9.0s\n",
      "[CV] max_depth=11, min_samples_split=15 ..............................\n",
      "[CV] ............... max_depth=11, min_samples_split=15, total=   9.0s\n",
      "[CV] max_depth=11, min_samples_split=15 ..............................\n",
      "[CV] ............... max_depth=11, min_samples_split=15, total=   9.0s\n",
      "[CV] max_depth=11, min_samples_split=15 ..............................\n",
      "[CV] ............... max_depth=11, min_samples_split=15, total=   9.0s\n",
      "[CV] max_depth=11, min_samples_split=15 ..............................\n",
      "[CV] ............... max_depth=11, min_samples_split=15, total=   9.0s\n",
      "[CV] max_depth=11, min_samples_split=15 ..............................\n",
      "[CV] ............... max_depth=11, min_samples_split=15, total=   9.0s\n",
      "[CV] max_depth=16, min_samples_split=5 ...............................\n",
      "[CV] ................ max_depth=16, min_samples_split=5, total=  11.7s\n",
      "[CV] max_depth=16, min_samples_split=5 ...............................\n",
      "[CV] ................ max_depth=16, min_samples_split=5, total=  11.7s\n",
      "[CV] max_depth=16, min_samples_split=5 ...............................\n",
      "[CV] ................ max_depth=16, min_samples_split=5, total=  11.6s\n",
      "[CV] max_depth=16, min_samples_split=5 ...............................\n",
      "[CV] ................ max_depth=16, min_samples_split=5, total=  11.7s\n",
      "[CV] max_depth=16, min_samples_split=5 ...............................\n",
      "[CV] ................ max_depth=16, min_samples_split=5, total=  11.7s\n",
      "[CV] max_depth=16, min_samples_split=10 ..............................\n",
      "[CV] ............... max_depth=16, min_samples_split=10, total=  11.7s\n",
      "[CV] max_depth=16, min_samples_split=10 ..............................\n",
      "[CV] ............... max_depth=16, min_samples_split=10, total=  11.7s\n",
      "[CV] max_depth=16, min_samples_split=10 ..............................\n",
      "[CV] ............... max_depth=16, min_samples_split=10, total=  11.7s\n",
      "[CV] max_depth=16, min_samples_split=10 ..............................\n",
      "[CV] ............... max_depth=16, min_samples_split=10, total=  11.6s\n",
      "[CV] max_depth=16, min_samples_split=10 ..............................\n",
      "[CV] ............... max_depth=16, min_samples_split=10, total=  11.7s\n",
      "[CV] max_depth=16, min_samples_split=15 ..............................\n",
      "[CV] ............... max_depth=16, min_samples_split=15, total=  11.7s\n",
      "[CV] max_depth=16, min_samples_split=15 ..............................\n",
      "[CV] ............... max_depth=16, min_samples_split=15, total=  11.7s\n",
      "[CV] max_depth=16, min_samples_split=15 ..............................\n",
      "[CV] ............... max_depth=16, min_samples_split=15, total=  11.7s\n",
      "[CV] max_depth=16, min_samples_split=15 ..............................\n",
      "[CV] ............... max_depth=16, min_samples_split=15, total=  11.7s\n",
      "[CV] max_depth=16, min_samples_split=15 ..............................\n",
      "[CV] ............... max_depth=16, min_samples_split=15, total=  11.7s\n"
     ]
    },
    {
     "name": "stderr",
     "output_type": "stream",
     "text": [
      "[Parallel(n_jobs=1)]: Done  60 out of  60 | elapsed:  8.4min finished\n"
     ]
    }
   ],
   "source": [
    "#if __name__ == '__main__':    \n",
    "model = gs_clf.fit(X_train_all, y_train)"
   ]
  },
  {
   "cell_type": "code",
   "execution_count": null,
   "metadata": {},
   "outputs": [],
   "source": []
  },
  {
   "cell_type": "code",
   "execution_count": 10,
   "metadata": {},
   "outputs": [
    {
     "name": "stdout",
     "output_type": "stream",
     "text": [
      "{'max_depth': 11, 'min_samples_split': 15}\n",
      "max_depth: 11\n",
      "min_samples_split: 15\n"
     ]
    }
   ],
   "source": [
    "print(model.best_params_)\n",
    "for param_name in sorted(parameters.keys()):\n",
    "    print(\"%s: %r\" % (param_name, model.best_params_[param_name]))"
   ]
  },
  {
   "cell_type": "code",
   "execution_count": 11,
   "metadata": {},
   "outputs": [],
   "source": [
    "pickle.dump(model,open(\"ET_Ensemble_All_PCA_\"+str(trainSamples)+\"_.pkl\",'wb'))"
   ]
  },
  {
   "cell_type": "code",
   "execution_count": 12,
   "metadata": {},
   "outputs": [
    {
     "name": "stdout",
     "output_type": "stream",
     "text": [
      "Accuracy: 50.03%\n"
     ]
    }
   ],
   "source": [
    "from sklearn.metrics import accuracy_score\n",
    "preds_val = model.predict(X_val_all)\n",
    "accuracy = accuracy_score(y_val, preds_val)\n",
    "print(\"Accuracy: %.2f%%\" % (accuracy * 100.0))"
   ]
  },
  {
   "cell_type": "code",
   "execution_count": 13,
   "metadata": {},
   "outputs": [],
   "source": [
    "X_test_all = load_all(path1+\"X_test_all_90.pkl\")\n",
    "y_test = load_y(\"/scratch/pbanerj6/sml-dataset/y_test.p\")"
   ]
  },
  {
   "cell_type": "code",
   "execution_count": 14,
   "metadata": {},
   "outputs": [],
   "source": [
    "preds_test_probs = model.predict_proba(X_test_all)"
   ]
  },
  {
   "cell_type": "code",
   "execution_count": 15,
   "metadata": {},
   "outputs": [
    {
     "data": {
      "text/plain": [
       "array([[0.53292379, 0.46707621],\n",
       "       [0.51920712, 0.48079288],\n",
       "       [0.50996913, 0.49003087],\n",
       "       ...,\n",
       "       [0.54474612, 0.45525388],\n",
       "       [0.54474612, 0.45525388],\n",
       "       [0.54474612, 0.45525388]])"
      ]
     },
     "execution_count": 15,
     "metadata": {},
     "output_type": "execute_result"
    }
   ],
   "source": [
    "preds_test_probs"
   ]
  },
  {
   "cell_type": "code",
   "execution_count": 16,
   "metadata": {},
   "outputs": [],
   "source": [
    "from scipy.stats import rankdata\n",
    "\n",
    "def mrrs(out, labels):\n",
    "#     print(out,labels)\n",
    "    outputs = np.argmax(out,axis=1)\n",
    "    mrr = 0.0 \n",
    "    for label,ranks in zip(labels,out):\n",
    "        ranks = rankdata(ranks*-1)\n",
    "        rank = ranks[label]\n",
    "#         print(rank,ranks)\n",
    "        mrr+=1/rank\n",
    "    return mrr/len(labels)\n",
    "\n",
    "def precision_at(out,labels,prank=1):\n",
    "    count = 0\n",
    "    for label,ranks in zip(labels,out):\n",
    "        ranks = rankdata(ranks*-1)\n",
    "        rank = ranks[label]\n",
    "#         print(rank,ranks)\n",
    "        if rank <= prank:\n",
    "            count+=1\n",
    "    return count/len(labels)\n",
    "\n",
    "def mrrwrapper(qid2c,qid2indexmap,preds_prob):\n",
    "    labels = []\n",
    "    out = []\n",
    "    for qid in qid2c.keys():\n",
    "        scores = []\n",
    "        for ix in qid2indexmap[qid]:\n",
    "            if len(scores) < 6:\n",
    "                scores.append(preds_prob[ix][1])\n",
    "        if len(scores) < 6:\n",
    "            continue\n",
    "        out.append(scores)\n",
    "        labels.append(int(qid2c[qid]))\n",
    "    return mrrs(np.array(out),labels),precision_at(np.array(out),labels,1),precision_at(np.array(out),labels,3)\n",
    "\n",
    "def load_ranking(fname):\n",
    "    return pickle.load(open(\"/scratch/pbanerj6/sml-dataset/ranking_\"+fname+\".p\",\"rb\"))"
   ]
  },
  {
   "cell_type": "code",
   "execution_count": 17,
   "metadata": {},
   "outputs": [
    {
     "name": "stdout",
     "output_type": "stream",
     "text": [
      "SampleSize: 100\n",
      "Train Time:0.03 sec\n",
      "Validation Accuracy: 49.95%\n",
      "Validation Time:0.23 sec\n",
      "Test Accuracy: 50.08%\n",
      "Test Time:0.23 sec\n",
      "MRR: (0.40061159211159075, 0.14333333333333334, 0.48333333333333334)\n",
      "MRR Time:0.45 sec\n",
      "SampleSize: 500\n",
      "Train Time:0.03 sec\n",
      "Validation Accuracy: 49.98%\n",
      "Validation Time:0.21 sec\n",
      "Test Accuracy: 49.88%\n",
      "Test Time:0.21 sec\n",
      "MRR: (0.4162504088504093, 0.17533333333333334, 0.5013333333333333)\n",
      "MRR Time:0.44 sec\n",
      "SampleSize: 1000\n",
      "Train Time:0.06 sec\n",
      "Validation Accuracy: 50.12%\n",
      "Validation Time:0.21 sec\n",
      "Test Accuracy: 49.74%\n",
      "Test Time:0.22 sec\n",
      "MRR: (0.4006904761904758, 0.16, 0.48533333333333334)\n",
      "MRR Time:0.44 sec\n",
      "SampleSize: 10000\n",
      "Train Time:1.05 sec\n",
      "Validation Accuracy: 50.13%\n",
      "Validation Time:0.21 sec\n",
      "Test Accuracy: 50.37%\n",
      "Test Time:0.21 sec\n",
      "MRR: (0.40264814814814753, 0.16133333333333333, 0.488)\n",
      "MRR Time:0.44 sec\n",
      "SampleSize: 20000\n",
      "Train Time:2.17 sec\n",
      "Validation Accuracy: 51.09%\n",
      "Validation Time:0.21 sec\n",
      "Test Accuracy: 50.36%\n",
      "Test Time:0.22 sec\n",
      "MRR: (0.3995122174122171, 0.16, 0.48)\n",
      "MRR Time:0.44 sec\n",
      "SampleSize: 50000\n",
      "Train Time:5.67 sec\n",
      "Validation Accuracy: 51.02%\n",
      "Validation Time:0.21 sec\n",
      "Test Accuracy: 50.97%\n",
      "Test Time:0.22 sec\n",
      "MRR: (0.40481712361712335, 0.164, 0.48533333333333334)\n",
      "MRR Time:0.44 sec\n",
      "SampleSize: 75000\n",
      "Train Time:8.54 sec\n",
      "Validation Accuracy: 50.53%\n",
      "Validation Time:0.21 sec\n",
      "Test Accuracy: 50.21%\n",
      "Test Time:0.22 sec\n",
      "MRR: (0.40951861471861456, 0.16133333333333333, 0.506)\n",
      "MRR Time:0.44 sec\n",
      "[0.4995, 0.4998, 0.5012, 0.5013, 0.5109, 0.5102, 0.5053]\n",
      "[0.5008, 0.4988, 0.4974, 0.5037, 0.5036, 0.5097, 0.5021]\n",
      "[(0.40061159211159075, 0.14333333333333334, 0.48333333333333334), (0.4162504088504093, 0.17533333333333334, 0.5013333333333333), (0.4006904761904758, 0.16, 0.48533333333333334), (0.40264814814814753, 0.16133333333333333, 0.488), (0.3995122174122171, 0.16, 0.48), (0.40481712361712335, 0.164, 0.48533333333333334), (0.40951861471861456, 0.16133333333333333, 0.506)]\n"
     ]
    }
   ],
   "source": [
    "valAccuracy = []\n",
    "testAccuracy = []\n",
    "mrrScore = []\n",
    "from sklearn.metrics import accuracy_score\n",
    "import time\n",
    "# For each of training sample sizes\n",
    "for eachTrain in n_trainSamples:\n",
    "    \n",
    "    # Model with best values from grid search\n",
    "    bestModel = ExtraTreesClassifier(min_samples_split=model.best_params_['min_samples_split'],\n",
    "                                       max_depth=model.best_params_['max_depth'],\n",
    "                                      # criterion=model.best_params_['criterion'],\n",
    "                                      \n",
    "                                      )\n",
    "\n",
    "    print(\"SampleSize:\",eachTrain)\n",
    "    \n",
    "    stime=time.time()\n",
    "    X_train_f = (X_train_all[:eachTrain])\n",
    "    bestModel.fit(X_train_f,y_train[:eachTrain])   \n",
    "    print(\"Train Time:%.2f sec\"%(time.time()-stime))\n",
    "    \n",
    "    stime=time.time()\n",
    "    X_val_f = (X_val_all)\n",
    "    preds_val = bestModel.predict(X_val_f)\n",
    "    accuracy = round(accuracy_score(y_val, preds_val),4)\n",
    "    valAccuracy.append(accuracy)\n",
    "    print(\"Validation Accuracy: %.2f%%\" % (accuracy * 100.0))\n",
    "    print(\"Validation Time:%.2f sec\"%(time.time()-stime))\n",
    "\n",
    "    stime=time.time()\n",
    "    X_test_f = (X_test_all)\n",
    "    preds_test = bestModel.predict(X_test_f)\n",
    "    accuracy = round(accuracy_score(y_test, preds_test),4)\n",
    "    testAccuracy.append(accuracy)\n",
    "    print(\"Test Accuracy: %.2f%%\" % (accuracy * 100.0))\n",
    "    print(\"Test Time:%.2f sec\"%(time.time()-stime))\n",
    "    \n",
    "    stime=time.time()\n",
    "    preds_test_probs = bestModel.predict_proba(X_test_f)\n",
    "    qid2c,qid2indexmap = load_ranking(\"test\")\n",
    "    mrr = mrrwrapper(qid2c,qid2indexmap,preds_test_probs)\n",
    "    mrrScore.append(mrr)\n",
    "    print(\"MRR:\",mrr)\n",
    "    print(\"MRR Time:%.2f sec\"%(time.time()-stime))\n",
    "    \n",
    "    #input()\n",
    "print (valAccuracy)\n",
    "print (testAccuracy)\n",
    "print (mrrScore)"
   ]
  },
  {
   "cell_type": "code",
   "execution_count": 18,
   "metadata": {},
   "outputs": [],
   "source": [
    "def accuracyVisualization():\n",
    "    ''' Plots the data points with the centroids\n",
    "    '''\n",
    "    fig = plt.figure()\n",
    "    ax = plt.axes()\n",
    "    ax.plot(n_trainSamples,testAccuracy,label='TestAccuracy vs TrainData',marker='o')\n",
    "    ax.plot(n_trainSamples,valAccuracy,label='ValAccuracy vs TrainData',marker='.')\n",
    "    plt.title(\"Scores vs TrainData\")\n",
    "    plt.legend()\n",
    "    plt.xlabel(\"TrainData\")\n",
    "    plt.ylabel(\"Scores\")\n",
    "    fig.savefig(\"ET_Ensemble_All_PCA_Accuracy.png\")\n",
    "    #plt.show()"
   ]
  },
  {
   "cell_type": "code",
   "execution_count": 19,
   "metadata": {},
   "outputs": [
    {
     "data": {
      "image/png": "[encoded data removed]",
      "text/plain": [
       "<Figure size 432x288 with 1 Axes>"
      ]
     },
     "metadata": {
      "needs_background": "light"
     },
     "output_type": "display_data"
    }
   ],
   "source": [
    "accuracyVisualization()"
   ]
  },
  {
   "cell_type": "code",
   "execution_count": 20,
   "metadata": {},
   "outputs": [],
   "source": [
    "def mrrVisualization():\n",
    "    ''' Plots the data points with the centroids\n",
    "    '''\n",
    "    fig = plt.figure()\n",
    "    ax = plt.axes()\n",
    "    ax.plot(n_trainSamples,mrrScore,label='MRR vs TrainData',marker='x')\n",
    "    plt.title(\"Scores vs TrainData\")\n",
    "    plt.legend()\n",
    "    plt.xlabel(\"TrainData\")\n",
    "    plt.ylabel(\"Scores\")\n",
    "    fig.savefig(\"ET_Ensemble_All_PCA_Mrr.png\")\n",
    "    plt.show()"
   ]
  },
  {
   "cell_type": "code",
   "execution_count": 21,
   "metadata": {},
   "outputs": [
    {
     "data": {
      "image/png": "[encoded data removed]",
      "text/plain": [
       "<Figure size 432x288 with 1 Axes>"
      ]
     },
     "metadata": {
      "needs_background": "light"
     },
     "output_type": "display_data"
    }
   ],
   "source": [
    "mrrVisualization()"
   ]
  },
  {
   "cell_type": "code",
   "execution_count": 22,
   "metadata": {},
   "outputs": [],
   "source": [
    "from sklearn.metrics import accuracy_score"
   ]
  },
  {
   "cell_type": "code",
   "execution_count": 23,
   "metadata": {},
   "outputs": [],
   "source": [
    "preds_val = model.predict(X_val_all)"
   ]
  },
  {
   "cell_type": "code",
   "execution_count": 24,
   "metadata": {},
   "outputs": [
    {
     "name": "stdout",
     "output_type": "stream",
     "text": [
      "Accuracy: 50.03%\n"
     ]
    }
   ],
   "source": [
    "accuracy = accuracy_score(y_val, preds_val)\n",
    "print(\"Accuracy: %.2f%%\" % (accuracy * 100.0))"
   ]
  },
  {
   "cell_type": "code",
   "execution_count": 25,
   "metadata": {},
   "outputs": [],
   "source": [
    "X_test_all = load_all(path1+\"X_test_all_90.pkl\")\n",
    "y_test = load_y(path2+\"y_test.p\")"
   ]
  },
  {
   "cell_type": "code",
   "execution_count": 26,
   "metadata": {},
   "outputs": [
    {
     "name": "stdout",
     "output_type": "stream",
     "text": [
      "Accuracy: 49.29%\n"
     ]
    }
   ],
   "source": [
    "preds_test = model.predict(X_test_all)\n",
    "accuracy = accuracy_score(y_test, preds_test)\n",
    "print(\"Accuracy: %.2f%%\" % (accuracy * 100.0))"
   ]
  },
  {
   "cell_type": "code",
   "execution_count": 27,
   "metadata": {},
   "outputs": [],
   "source": [
    "preds_test_probs = model.predict_proba(X_test_all)"
   ]
  },
  {
   "cell_type": "code",
   "execution_count": 28,
   "metadata": {},
   "outputs": [
    {
     "data": {
      "text/plain": [
       "array([[0.53292379, 0.46707621],\n",
       "       [0.51920712, 0.48079288],\n",
       "       [0.50996913, 0.49003087],\n",
       "       ...,\n",
       "       [0.54474612, 0.45525388],\n",
       "       [0.54474612, 0.45525388],\n",
       "       [0.54474612, 0.45525388]])"
      ]
     },
     "execution_count": 28,
     "metadata": {},
     "output_type": "execute_result"
    }
   ],
   "source": [
    "preds_test_probs"
   ]
  },
  {
   "cell_type": "code",
   "execution_count": 29,
   "metadata": {},
   "outputs": [],
   "source": [
    "def load_ranking(fname):\n",
    "    return pickle.load(open(path2+\"ranking_\"+fname+\".p\",\"rb\"))"
   ]
  },
  {
   "cell_type": "code",
   "execution_count": 30,
   "metadata": {},
   "outputs": [],
   "source": [
    "qid2c,qid2indexmap = load_ranking(\"test\")"
   ]
  },
  {
   "cell_type": "code",
   "execution_count": 31,
   "metadata": {},
   "outputs": [
    {
     "data": {
      "text/plain": [
       "(0.3951854256854256, 0.162, 0.4553333333333333)"
      ]
     },
     "execution_count": 31,
     "metadata": {},
     "output_type": "execute_result"
    }
   ],
   "source": [
    "mrrwrapper(qid2c,qid2indexmap,preds_test_probs)"
   ]
  },
  {
   "cell_type": "code",
   "execution_count": 32,
   "metadata": {},
   "outputs": [
    {
     "data": {
      "text/plain": [
       "array([[0.53292379, 0.46707621],\n",
       "       [0.51920712, 0.48079288],\n",
       "       [0.50996913, 0.49003087],\n",
       "       ...,\n",
       "       [0.54474612, 0.45525388],\n",
       "       [0.54474612, 0.45525388],\n",
       "       [0.54474612, 0.45525388]])"
      ]
     },
     "execution_count": 32,
     "metadata": {},
     "output_type": "execute_result"
    }
   ],
   "source": [
    "preds_test_probs"
   ]
  },
  {
   "cell_type": "code",
   "execution_count": null,
   "metadata": {},
   "outputs": [],
   "source": []
  },
  {
   "cell_type": "code",
   "execution_count": 33,
   "metadata": {},
   "outputs": [],
   "source": [
    "#mrrScore =[(0.43575257335257256, 0.19533333333333333, 0.5133333333333333), (0.4290810485810491, 0.184, 0.5393333333333333), (0.4212756613756615, 0.184, 0.5133333333333333), (0.4751979797979803, 0.236, 0.606), (0.48568518518518633, 0.25066666666666665, 0.6026666666666667), (0.49994444444444675, 0.26066666666666666, 0.6486666666666666), (0.5080313131313139, 0.26866666666666666, 0.6526666666666666)]\n",
    "n_trainSamples = [100,500,1000,10000,20000,50000,75000]\n",
    "mrr = []\n",
    "p1 = []\n",
    "p3 = []\n",
    "\n",
    "for itm in mrrScore:\n",
    "    mrr.append(itm[0])\n",
    "    p1.append(itm[1])\n",
    "    p3.append(itm[2])"
   ]
  },
  {
   "cell_type": "code",
   "execution_count": 34,
   "metadata": {},
   "outputs": [],
   "source": [
    "def mrrVisualization():\n",
    "    ''' Plots the data points with the centroids\n",
    "    '''\n",
    "    fig = plt.figure()\n",
    "    ax = plt.axes()\n",
    "    ax.plot(n_trainSamples,mrr,label='MRR vs TrainData',marker='x')\n",
    "    plt.title(\"Scores vs TrainData\")\n",
    "    plt.legend()\n",
    "    plt.xlabel(\"TrainData\")\n",
    "    plt.ylabel(\"Scores\")\n",
    "    fig.savefig(\"ET_All_PCA_MrrScore.png\")\n",
    "    plt.show()"
   ]
  },
  {
   "cell_type": "code",
   "execution_count": 35,
   "metadata": {},
   "outputs": [
    {
     "data": {
      "image/png": "[encoded data removed]",
      "text/plain": [
       "<Figure size 432x288 with 1 Axes>"
      ]
     },
     "metadata": {
      "needs_background": "light"
     },
     "output_type": "display_data"
    }
   ],
   "source": [
    "mrrVisualization()"
   ]
  },
  {
   "cell_type": "code",
   "execution_count": 36,
   "metadata": {},
   "outputs": [],
   "source": [
    "def prVisualization():\n",
    "    ''' Plots the data points with the centroids\n",
    "    '''\n",
    "    fig = plt.figure()\n",
    "    ax = plt.axes()\n",
    "    ax.plot(n_trainSamples,p1,label='Precision@1 vs TrainData',marker='x')\n",
    "    ax.plot(n_trainSamples,p3,label='Precision@3 vs TrainData',marker='.')\n",
    "    plt.title(\"Precision Scores vs TrainData\")\n",
    "    plt.legend()\n",
    "    plt.xlabel(\"TrainData\")\n",
    "    plt.ylabel(\"Scores\")\n",
    "    fig.savefig(\"ET_All_PCA_Precision.png\")\n",
    "    plt.show()"
   ]
  },
  {
   "cell_type": "code",
   "execution_count": 37,
   "metadata": {},
   "outputs": [
    {
     "data": {
      "image/png": "[encoded data removed]",
      "text/plain": [
       "<Figure size 432x288 with 1 Axes>"
      ]
     },
     "metadata": {
      "needs_background": "light"
     },
     "output_type": "display_data"
    }
   ],
   "source": [
    "prVisualization()"
   ]
  },
  {
   "cell_type": "code",
   "execution_count": null,
   "metadata": {},
   "outputs": [],
   "source": []
  },
  {
   "cell_type": "code",
   "execution_count": null,
   "metadata": {},
   "outputs": [],
   "source": []
  },
  {
   "cell_type": "code",
   "execution_count": null,
   "metadata": {},
   "outputs": [],
   "source": []
  }
 ],
 "metadata": {
  "kernelspec": {
   "display_name": "Python 3",
   "language": "python",
   "name": "python3"
  },
  "language_info": {
   "codemirror_mode": {
    "name": "ipython",
    "version": 3
   },
   "file_extension": ".py",
   "mimetype": "text/x-python",
   "name": "python",
   "nbconvert_exporter": "python",
   "pygments_lexer": "ipython3",
   "version": "3.7.1"
  }
 },
 "nbformat": 4,
 "nbformat_minor": 2
}
