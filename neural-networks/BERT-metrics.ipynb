{
 "cells": [
  {
   "cell_type": "code",
   "execution_count": 29,
   "metadata": {},
   "outputs": [],
   "source": [
    "import numpy as np\n",
    "from scipy.stats import rankdata\n",
    "from scipy.special import softmax\n",
    "import pandas as pd\n",
    "import numpy as np\n",
    "import matplotlib.pyplot as plt\n",
    "import json\n",
    "import pickle\n",
    "from scipy.stats import rankdata\n",
    "\n",
    "def mrrs(out, labels):\n",
    "#     print(out,labels)\n",
    "    outputs = np.argmax(out,axis=1)\n",
    "    mrr = 0.0 \n",
    "    last = [0,0,0,0,0,0,0]\n",
    "    for label,ranks in zip(labels,out):\n",
    "        ranks = rankdata(ranks*-1)\n",
    "        rank = ranks[label]\n",
    "#         print(rank,ranks)\n",
    "        last[int(rank)]+=1\n",
    "        mrr+=1/rank\n",
    "    print(\"Total @ Last:\",last)\n",
    "    return mrr/len(labels)\n",
    "\n",
    "def precision_at(out,labels,prank=1):\n",
    "    count = 0\n",
    "    for label,ranks in zip(labels,out):\n",
    "        ranks = rankdata(ranks*-1)\n",
    "        rank = ranks[label]\n",
    "#         print(rank,ranks)\n",
    "        if rank <= prank:\n",
    "            count+=1\n",
    "    return count/len(labels)\n",
    "\n",
    "def mrrwrapper(qid2c,qid2indexmap,preds_prob):\n",
    "    labels = []\n",
    "    out = []\n",
    "    for qid in qid2c.keys():\n",
    "        scores = []\n",
    "        for ix in qid2indexmap[qid]:\n",
    "            if len(scores) < 6:\n",
    "                scores.append(preds_prob[ix][1])\n",
    "        if len(scores) < 6:\n",
    "            continue\n",
    "        out.append(scores)\n",
    "        labels.append(int(qid2c[qid]))\n",
    "    return mrrs(np.array(out),labels),precision_at(np.array(out),labels,1),precision_at(np.array(out),labels,3)\n",
    "\n",
    "def mrrVisualization(n_trainSamples,mrrScore):\n",
    "    ''' Plots the data points with the centroids\n",
    "    '''\n",
    "    fig = plt.figure()\n",
    "    ax = plt.axes()\n",
    "    ax.plot(n_trainSamples,mrrScore,label='MRR vs TrainData',marker='x')\n",
    "    plt.title(\"Scores vs TrainData\")\n",
    "    plt.legend()\n",
    "    plt.xlabel(\"TrainData\")\n",
    "    plt.ylabel(\"Scores\")\n",
    "    fig.savefig(\"NN_Tokens_Linear_Mrr.png\")\n",
    "    plt.show()\n",
    "    \n",
    "\n",
    "def precisionVisualization(n_trainSamples,precisionAt1,precisionAt3):\n",
    "    ''' Plots the data points with the centroids\n",
    "    '''\n",
    "    fig = plt.figure()\n",
    "    ax = plt.axes()\n",
    "    ax.plot(n_trainSamples,precisionAt1,label='Precision@1 vs TrainData',marker='x')\n",
    "    ax.plot(n_trainSamples,precisionAt3,label='Precision@3 vs TrainData',marker='o')\n",
    "    plt.title(\"Precisions vs TrainData\")\n",
    "    plt.legend()\n",
    "    plt.xlabel(\"TrainData\")\n",
    "    plt.ylabel(\"Precisions\")\n",
    "    fig.savefig(\"NN_Tokens_Linear_Precision.png\")\n",
    "    plt.show()\n",
    "\n",
    "def load_ranking(fname):\n",
    "    return pickle.load(open(\"/scratch/pbanerj6/sml-dataset/ranking_\"+fname+\".p\",\"rb\"))\n",
    "\n",
    "def accuracyVisualization(n_trainSamples,valAccuracy,testAccuracy):\n",
    "    ''' Plots the data points with the centroids\n",
    "    '''\n",
    "    fig = plt.figure()\n",
    "    ax = plt.axes()\n",
    "    ax.plot(n_trainSamples,testAccuracy,label='TestAccuracy vs TrainData',marker='o')\n",
    "    ax.plot(n_trainSamples,valAccuracy,label='ValAccuracy vs TrainData',marker='.')\n",
    "    plt.title(\"Scores vs TrainData\")\n",
    "    plt.legend()\n",
    "    plt.xlabel(\"TrainData\")\n",
    "    plt.ylabel(\"Scores\")\n",
    "    fig.savefig(\"NN_Tokens_Linear_Accuracy.png\")\n",
    "    #plt.show()\n",
    "\n",
    "qid2c,qid2indexmap = load_ranking(\"test\")"
   ]
  },
  {
   "cell_type": "code",
   "execution_count": 31,
   "metadata": {},
   "outputs": [
    {
     "name": "stdout",
     "output_type": "stream",
     "text": [
      "Model: sml-class-bert-simple-base-1e5-r1-small-128\n",
      "Total @ Last: [0, 766, 320, 195, 104, 72, 43]\n",
      "Val\t (0.692088888888891, 0.51, 0.854)\n",
      "Total @ Last: [0, 719, 348, 192, 142, 63, 36]\n",
      "Test\t (0.6740349206349232, 0.47933333333333333, 0.8386666666666667)\n",
      "Model: sml-class-bert-large-1e5-r1-small-128\n",
      "Total @ Last: [0, 748, 362, 175, 103, 67, 45]\n",
      "Val\t (0.6890682539682561, 0.498, 0.856)\n",
      "Total @ Last: [0, 730, 357, 204, 113, 61, 35]\n",
      "Test\t (0.681633333333336, 0.486, 0.8606666666666667)\n",
      "Model: sml-class-bert-simple-1e5-r1-small-128\n",
      "Total @ Last: [0, 756, 319, 167, 108, 80, 70]\n",
      "Val\t (0.6836481481481497, 0.5033333333333333, 0.828)\n",
      "Total @ Last: [0, 724, 310, 190, 120, 88, 68]\n",
      "Test\t (0.6674925925925951, 0.4826666666666667, 0.816)\n",
      "Model: sml-class-bert-simple-large-1e5-r1-small-128\n",
      "Total @ Last: [0, 806, 306, 173, 104, 68, 43]\n",
      "Val\t (0.7085111111111126, 0.536, 0.8566666666666667)\n",
      "Total @ Last: [0, 767, 313, 179, 112, 75, 54]\n",
      "Test\t (0.689888888888891, 0.5106666666666667, 0.8393333333333334)\n",
      "Model: sml-class-bert-cnn-5e6-r1-small-128\n",
      "Total @ Last: [0, 745, 343, 203, 99, 67, 43]\n",
      "Val\t (0.6860682539682552, 0.496, 0.86)\n",
      "Total @ Last: [0, 691, 361, 222, 120, 73, 33]\n",
      "Test\t (0.6637015873015902, 0.46066666666666667, 0.8486666666666667)\n",
      "Model: sml-class-bert-large-cnn-1e5-r1-small-128\n",
      "Total @ Last: [0, 787, 341, 179, 93, 59, 41]\n",
      "Val\t (0.7057444444444458, 0.524, 0.8713333333333333)\n",
      "Total @ Last: [0, 750, 366, 169, 121, 55, 39]\n",
      "Test\t (0.6911666666666686, 0.49933333333333335, 0.8566666666666667)\n"
     ]
    }
   ],
   "source": [
    "filename = \"/scratch/pbanerj6/sml-class-bert-simple-base-1e5-r1-small-128/test.tsv-score.tsv\"\n",
    "\n",
    "valnames = [\"/scratch/pbanerj6/sml-class-bert-simple-base-1e5-r1-small-128/val.tsv-score.tsv\",\n",
    "           \"/scratch/pbanerj6/sml-class-bert-large-1e5-r1-small-128/val.tsv-score.tsv\",\n",
    "            \"/scratch/pbanerj6/sml-class-bert-simple-1e5-r1-small-128/val.tsv-score.tsv\",\n",
    "            \"/scratch/pbanerj6/sml-class-bert-simple-large-1e5-r1-small-128/val.tsv-score.tsv\",\n",
    "            \"/scratch/pbanerj6/sml-class-bert-cnn-5e6-r1-small-128/val.tsv-score.tsv\",\n",
    "            \"/scratch/pbanerj6/sml-class-bert-large-cnn-1e5-r1-small-128/val.tsv-score.tsv\",\n",
    "           ]\n",
    "\n",
    "testnames = [\"/scratch/pbanerj6/sml-class-bert-simple-base-1e5-r1-small-128/test.tsv-score.tsv\",\n",
    "           \"/scratch/pbanerj6/sml-class-bert-large-1e5-r1-small-128/test.tsv-score.tsv\",\n",
    "            \"/scratch/pbanerj6/sml-class-bert-simple-1e5-r1-small-128/test.tsv-score.tsv\",\n",
    "            \"/scratch/pbanerj6/sml-class-bert-simple-large-1e5-r1-small-128/test.tsv-score.tsv\",\n",
    "            \"/scratch/pbanerj6/sml-class-bert-cnn-5e6-r1-small-128/test.tsv-score.tsv\",\n",
    "            \"/scratch/pbanerj6/sml-class-bert-large-cnn-1e5-r1-small-128/test.tsv-score.tsv\",\n",
    "           ]\n",
    "\n",
    "def get_mrr(filename,qid2c,qid2indexmap):\n",
    "    with open(filename,\"r\") as fd:\n",
    "        lines = fd.readlines()\n",
    "        preds = []\n",
    "        for line in lines:\n",
    "            line = line.strip().split(\"\\t\")\n",
    "            pred = [0,float(line[-1])]\n",
    "            preds.append(pred)\n",
    "        return mrrwrapper(qid2c=qid2c,qid2indexmap=qid2indexmap,preds_prob=preds)\n",
    "\n",
    "\n",
    "for filename1,filename2 in zip(valnames,testnames):\n",
    "    print(\"Model:\",filename1.split(\"/\")[3])\n",
    "    qid2c,qid2indexmap = load_ranking(\"val\")\n",
    "    print(\"Val\\t\",get_mrr(filename1,qid2c,qid2indexmap),)\n",
    "    qid2c,qid2indexmap = load_ranking(\"test\")\n",
    "    print(\"Test\\t\",get_mrr(filename2,qid2c,qid2indexmap))"
   ]
  },
  {
   "cell_type": "code",
   "execution_count": 34,
   "metadata": {},
   "outputs": [
    {
     "name": "stdout",
     "output_type": "stream",
     "text": [
      "Model: sml-class-bert-2e6-r1-med\n",
      "Total @ Last: [0, 28342, 11046, 5482, 2894, 1553, 811]\n",
      "Val\t (0.7352362713358449, 0.5650734120651133, 0.8950486753909991)\n",
      "Total @ Last: [0, 28794, 10824, 5277, 2878, 1565, 790]\n",
      "Test\t (0.7405171016166736, 0.5739506862432173, 0.8955872965209065)\n",
      "Model: sml-class-bert-large-v2-5e6-full\n",
      "Total @ Last: [0, 29267, 10890, 5176, 2630, 1428, 737]\n",
      "Val\t (0.7480311355311282, 0.5835062240663901, 0.904304979253112)\n",
      "Total @ Last: [0, 29597, 10742, 5008, 2670, 1379, 732]\n",
      "Test\t (0.7519528261618383, 0.5899696776252793, 0.9046042132141717)\n"
     ]
    }
   ],
   "source": [
    "med_val = [\"/scratch/pbanerj6/sml-class-bert-2e6-r1-med/val.tsv-score.tsv\",\"/scratch/pbanerj6/sml-class-bert-large-v2-5e6-full/val.tsv-score.tsv\"]\n",
    "med_test = [\"/scratch/pbanerj6/sml-class-bert-2e6-r1-med/test.tsv-score.tsv\",\"/scratch/pbanerj6/sml-class-bert-large-v2-5e6-full/test.tsv-score.tsv\"]\n",
    "for filename1,filename2 in zip(med_val,med_test):\n",
    "    print(\"Model:\",filename1.split(\"/\")[3])\n",
    "    qid2c,qid2indexmap = pickle.load(open(\"../xgboost/ranking_val_med.p\",\"rb\"))\n",
    "    print(\"Val\\t\",get_mrr(filename1,qid2c,qid2indexmap))\n",
    "    qid2c,qid2indexmap = pickle.load(open(\"../xgboost/ranking_test_med.p\",\"rb\"))\n",
    "    print(\"Test\\t\",get_mrr(filename2,qid2c,qid2indexmap))"
   ]
  },
  {
   "cell_type": "code",
   "execution_count": null,
   "metadata": {},
   "outputs": [],
   "source": []
  },
  {
   "cell_type": "code",
   "execution_count": 35,
   "metadata": {},
   "outputs": [],
   "source": [
    "\n",
    "# sml-class-bert-1e5-r1-small-128/eval_results.txt:eval_accuracy_2_Test = 0.7072666666666667  -- CNN - Done\n",
    "# sml-class-bert-1e5-r1-small-128/eval_results.txt:eval_accuracy_2_Val = 0.7148666666666667 -- CNN - Done\n",
    "\n",
    "# sml-class-bert-large-1e5-r1-small-128/eval_results.txt:eval_accuracy_1_Test = 0.7211333333333333 -- SEQCLASS - Done\n",
    "# sml-class-bert-large-1e5-r1-small-128/eval_results.txt:eval_accuracy_1_Val = 0.7240666666666666 -- SEQCLASS\n",
    "\n",
    "\n",
    "# sml-class-bert-2e6-r1-med/eval_results.txt:eval_accuracy_4_Test = 0.7545613048144557 - SEQCLASS  - Done\n",
    "# sml-class-bert-2e6-r1-med/eval_results.txt:eval_accuracy_4_Val = 0.7510662660937356 -  SEQCLASS  - Done\n",
    "\n",
    "\n",
    "# sml-class-bert-cnn-5e6-r1-small-128/eval_results.txt:eval_accuracy_4_Test = 0.7078 -- CNN \n",
    "# sml-class-bert-cnn-5e6-r1-small-128/eval_results.txt:eval_accuracy_4_Val = 0.7088 -- CNN \n",
    "\n",
    "# sml-class-bert-large-cnn-1e5-r1-small-128/eval_results.txt:eval_accuracy_2_Test = 0.7110666666666666\n",
    "# sml-class-bert-large-cnn-1e5-r1-small-128/eval_results.txt:eval_accuracy_2_Val = 0.7258\n",
    "\n",
    "\n",
    "\n",
    "# /scratch/pbanerj6/sml-class-bert-simple-large-1e5-r1-small-128     eval_accuracy_1_Test = 0.7131333333333333\n",
    "# /scratch/pbanerj6/sml-class-bert-simple-large-1e5-r1-small-128     eval_accuracy_1_Val = 0.7310666666666666\n",
    "\n",
    "# /scratch/pbanerj6/sml-class-bert-simple-1e5-r1-small-128     eval_accuracy_2_Test = 0.7076\n",
    "# /scratch/pbanerj6/sml-class-bert-simple-1e5-r1-small-128     eval_accuracy_2_Val = 0.7110666666666666\n",
    "\n",
    "\n",
    "\n",
    "\n",
    "# Type\t\t\tBase \tLarge\n",
    "# Models\n",
    "\n",
    "# Simple \t\t\tDone \tDone \n",
    "# SeqClass        \t\tDone \n",
    "# CNN \t\t\tDone\tDone \n",
    "\n",
    "# python run_scorer.py --data_dir ../datasets/ranking/small --fname val.tsv --bert_model bert-base-cased --task_name obqa --output_dir /scratch/pbanerj6/sml-class-bert-cnn-5e6-r1-small-128 --modeltype cnn2\n",
    "# python run_scorer.py --data_dir ../datasets/ranking/small --fname test.tsv --bert_model bert-base-cased --task_name obqa --output_dir /scratch/pbanerj6/sml-class-bert-cnn-5e6-r1-small-128 --modeltype cnn2\n",
    "\n",
    "\n",
    "# python run_scorer.py --data_dir ../datasets/ranking/small --fname val.tsv --bert_model bert-large-cased --task_name obqa --output_dir /scratch/pbanerj6/sml-class-bert-large-cnn-1e5-r1-small-128 --modeltype cnn\n",
    "# python run_scorer.py --data_dir ../datasets/ranking/small --fname test.tsv --bert_model bert-large-cased --task_name obqa --output_dir /scratch/pbanerj6/sml-class-bert-large-cnn-1e5-r1-small-128 --modeltype cnn\n",
    "\n",
    "# python run_scorer.py --data_dir ../datasets/ranking/small --fname val.tsv --bert_model bert-base-cased --task_name obqa --output_dir /scratch/pbanerj6/sml-class-bert-simple-1e5-r1-small-128 --modeltype simple\n",
    "# python run_scorer.py --data_dir ../datasets/ranking/small --fname test.tsv --bert_model bert-base-cased --task_name obqa --output_dir /scratch/pbanerj6/sml-class-bert-simple-1e5-r1-small-128 --modeltype simple\n",
    "\n",
    "# python run_scorer.py --data_dir ../datasets/ranking/small --fname val.tsv --bert_model bert-large-cased --task_name obqa --output_dir /scratch/pbanerj6/sml-class-bert-simple-large-1e5-r1-small-128  --modeltype simple\n",
    "# python run_scorer.py --data_dir ../datasets/ranking/small --fname test.tsv --bert_model bert-large-cased --task_name obqa --output_dir /scratch/pbanerj6/sml-class-bert-simple-large-1e5-r1-small-128  --modeltype simple\n",
    "\n",
    "\n",
    "# python run_scorer.py --data_dir ../datasets/ranking-med/ --fname test.tsv --bert_model bert-large-cased --task_name obqa --output_dir /scratch/pbanerj6/sml-class-bert-large-v2-5e6-full --modeltype seqclass\n",
    "\n"
   ]
  },
  {
   "cell_type": "code",
   "execution_count": 36,
   "metadata": {},
   "outputs": [],
   "source": [
    "import torch"
   ]
  },
  {
   "cell_type": "code",
   "execution_count": 37,
   "metadata": {},
   "outputs": [],
   "source": [
    "a = torch.ones([4,5])"
   ]
  },
  {
   "cell_type": "code",
   "execution_count": 38,
   "metadata": {},
   "outputs": [
    {
     "data": {
      "text/plain": [
       "tensor([[1., 1., 1., 1., 1.],\n",
       "        [1., 1., 1., 1., 1.],\n",
       "        [1., 1., 1., 1., 1.],\n",
       "        [1., 1., 1., 1., 1.]])"
      ]
     },
     "execution_count": 38,
     "metadata": {},
     "output_type": "execute_result"
    }
   ],
   "source": [
    "a"
   ]
  },
  {
   "cell_type": "code",
   "execution_count": 39,
   "metadata": {},
   "outputs": [],
   "source": [
    "b = torch.ones(4,3)"
   ]
  },
  {
   "cell_type": "code",
   "execution_count": 40,
   "metadata": {},
   "outputs": [
    {
     "data": {
      "text/plain": [
       "tensor([[1., 1., 1.],\n",
       "        [1., 1., 1.],\n",
       "        [1., 1., 1.],\n",
       "        [1., 1., 1.]])"
      ]
     },
     "execution_count": 40,
     "metadata": {},
     "output_type": "execute_result"
    }
   ],
   "source": [
    "b"
   ]
  },
  {
   "cell_type": "code",
   "execution_count": 41,
   "metadata": {},
   "outputs": [],
   "source": [
    "c =  torch.zeros([4,2])"
   ]
  },
  {
   "cell_type": "code",
   "execution_count": 51,
   "metadata": {},
   "outputs": [
    {
     "data": {
      "text/plain": [
       "tensor([[1., 1., 1., 0., 0.],\n",
       "        [1., 1., 1., 0., 0.],\n",
       "        [1., 1., 1., 0., 0.],\n",
       "        [1., 1., 1., 0., 0.]])"
      ]
     },
     "execution_count": 51,
     "metadata": {},
     "output_type": "execute_result"
    }
   ],
   "source": [
    "a*torch.cat([b,c],1)"
   ]
  },
  {
   "cell_type": "code",
   "execution_count": null,
   "metadata": {},
   "outputs": [],
   "source": []
  }
 ],
 "metadata": {
  "kernelspec": {
   "display_name": "Python 3",
   "language": "python",
   "name": "python3"
  },
  "language_info": {
   "codemirror_mode": {
    "name": "ipython",
    "version": 3
   },
   "file_extension": ".py",
   "mimetype": "text/x-python",
   "name": "python",
   "nbconvert_exporter": "python",
   "pygments_lexer": "ipython3",
   "version": "3.6.8"
  }
 },
 "nbformat": 4,
 "nbformat_minor": 2
}
