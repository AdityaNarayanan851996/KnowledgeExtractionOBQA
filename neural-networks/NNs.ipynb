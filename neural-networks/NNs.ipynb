{
 "cells": [
  {
   "cell_type": "code",
   "execution_count": 1,
   "metadata": {},
   "outputs": [],
   "source": [
    "import xgboost as xbg\n",
    "import pandas as pd\n",
    "import numpy as np\n",
    "import matplotlib.pyplot as plt\n",
    "import json\n",
    "import pickle\n",
    "import joblib\n",
    "\n",
    "%matplotlib inline\n",
    "\n",
    "def load_p(fname):\n",
    "    return np.array(pickle.load(open(fname,\"rb\")))"
   ]
  },
  {
   "cell_type": "code",
   "execution_count": 2,
   "metadata": {},
   "outputs": [],
   "source": [
    "X_train = load_p(\"/scratch/pbanerj6/sml-dataset/X_train_cls.p\")\n",
    "X_val = load_p(\"/scratch/pbanerj6/sml-dataset/X_val_cls.p\")\n",
    "X_test = load_p(\"/scratch/pbanerj6/sml-dataset/X_test_cls.p\")"
   ]
  },
  {
   "cell_type": "code",
   "execution_count": 7,
   "metadata": {},
   "outputs": [],
   "source": [
    "y_train = load_p(\"/scratch/pbanerj6/sml-dataset/y_train.p\")\n",
    "y_val = load_p(\"/scratch/pbanerj6/sml-dataset/y_val.p\")\n",
    "y_test = load_p(\"/scratch/pbanerj6/sml-dataset/y_test.p\")"
   ]
  },
  {
   "cell_type": "code",
   "execution_count": 38,
   "metadata": {},
   "outputs": [],
   "source": [
    "import torch\n",
    "from torch import nn, optim\n",
    "from torch.optim import lr_scheduler\n",
    "from torch.autograd import Variable\n",
    "from torch.utils.data import Dataset, DataLoader\n",
    "import torch.nn.functional as F\n",
    "from tqdm import tqdm\n",
    "import os"
   ]
  },
  {
   "cell_type": "code",
   "execution_count": 5,
   "metadata": {},
   "outputs": [],
   "source": [
    "class MyDataset(Dataset):\n",
    "    def __init__(self, data, target, transform=None):\n",
    "        self.data = torch.from_numpy(data).float()\n",
    "        self.target = torch.from_numpy(target).long()\n",
    "        self.transform = transform\n",
    "        \n",
    "    def __getitem__(self, index):\n",
    "        x = self.data[index]\n",
    "        y = self.target[index]\n",
    "        \n",
    "        if self.transform:\n",
    "            x = self.transform(x)\n",
    "        \n",
    "        return x, y\n",
    "    \n",
    "    def __len__(self):\n",
    "        return len(self.data)"
   ]
  },
  {
   "cell_type": "code",
   "execution_count": 8,
   "metadata": {},
   "outputs": [],
   "source": [
    "train_dataset = MyDataset(X_train,y_train)\n",
    "val_dataset = MyDataset(X_val,y_val)\n",
    "test_dataset = MyDataset(X_test,y_test)"
   ]
  },
  {
   "cell_type": "code",
   "execution_count": 36,
   "metadata": {},
   "outputs": [],
   "source": [
    "train_loader = DataLoader(\n",
    "    train_dataset,\n",
    "    batch_size=64,\n",
    "    shuffle=True,\n",
    "    num_workers=20,\n",
    "    pin_memory=torch.cuda.is_available()\n",
    ")\n",
    "\n",
    "val_loader = DataLoader(\n",
    "    val_dataset,\n",
    "    batch_size=64,\n",
    "    shuffle=True,\n",
    "    num_workers=20,\n",
    "    pin_memory=torch.cuda.is_available()\n",
    ")"
   ]
  },
  {
   "cell_type": "code",
   "execution_count": 28,
   "metadata": {},
   "outputs": [],
   "source": [
    "# N is batch size; D_in is input dimension;\n",
    "# H is hidden dimension; D_out is output dimension.\n",
    "N, D_in, H, D_out = 64, 768, 100, 2"
   ]
  },
  {
   "cell_type": "code",
   "execution_count": 44,
   "metadata": {},
   "outputs": [],
   "source": [
    "model = torch.nn.Sequential(\n",
    "    torch.nn.Linear(D_in, H),\n",
    "    torch.nn.ReLU(),\n",
    "    torch.nn.Linear(H, D_out),\n",
    ")\n",
    "loss_fn = nn.CrossEntropyLoss()\n"
   ]
  },
  {
   "cell_type": "code",
   "execution_count": 45,
   "metadata": {},
   "outputs": [],
   "source": [
    "def accuracy(out, labels):\n",
    "    outputs = np.argmax(out, axis=1)\n",
    "    return np.sum(outputs == labels)"
   ]
  },
  {
   "cell_type": "code",
   "execution_count": 46,
   "metadata": {},
   "outputs": [
    {
     "name": "stderr",
     "output_type": "stream",
     "text": [
      "\n",
      "\n",
      "\n",
      "\n",
      "Epoch:   0%|          | 0/100 [00:00<?, ?it/s]\u001b[A\u001b[A\u001b[A\u001b[A\n",
      "\n",
      "\n",
      "\n",
      "Epoch:   1%|          | 1/100 [00:06<10:05,  6.12s/it]\u001b[A\u001b[A\u001b[A\u001b[A"
     ]
    },
    {
     "name": "stdout",
     "output_type": "stream",
     "text": [
      "Saving Best Model!!\n",
      "Epoch: 0 Loss: 3.0374531435205583 Train Accuracy: 0.6661066666666666 Val Accuracy: 0.6308666666666667\n"
     ]
    },
    {
     "name": "stderr",
     "output_type": "stream",
     "text": [
      "\n",
      "\n",
      "\n",
      "\n",
      "Epoch:   2%|▏         | 2/100 [00:12<10:06,  6.19s/it]\u001b[A\u001b[A\u001b[A\u001b[A"
     ]
    },
    {
     "name": "stdout",
     "output_type": "stream",
     "text": [
      "Saving Best Model!!\n",
      "Epoch: 1 Loss: 2.8943424049844135 Train Accuracy: 0.69176 Val Accuracy: 0.6354666666666666\n"
     ]
    },
    {
     "name": "stderr",
     "output_type": "stream",
     "text": [
      "\n",
      "\n",
      "\n",
      "\n",
      "Epoch:   3%|▎         | 3/100 [00:18<10:04,  6.23s/it]\u001b[A\u001b[A\u001b[A\u001b[A"
     ]
    },
    {
     "name": "stdout",
     "output_type": "stream",
     "text": [
      "Saving Best Model!!\n",
      "Epoch: 2 Loss: 2.8238755752431586 Train Accuracy: 0.7038933333333334 Val Accuracy: 0.6417333333333334\n"
     ]
    },
    {
     "name": "stderr",
     "output_type": "stream",
     "text": [
      "\n",
      "\n",
      "\n",
      "\n",
      "Epoch:   4%|▍         | 4/100 [00:25<10:01,  6.26s/it]\u001b[A\u001b[A\u001b[A\u001b[A"
     ]
    },
    {
     "name": "stdout",
     "output_type": "stream",
     "text": [
      "Saving Best Model!!\n",
      "Epoch: 3 Loss: 2.7748367848548483 Train Accuracy: 0.71164 Val Accuracy: 0.6422\n"
     ]
    },
    {
     "name": "stderr",
     "output_type": "stream",
     "text": [
      "\n",
      "\n",
      "\n",
      "\n",
      "Epoch:   5%|▌         | 5/100 [00:31<09:58,  6.30s/it]\u001b[A\u001b[A\u001b[A\u001b[A"
     ]
    },
    {
     "name": "stdout",
     "output_type": "stream",
     "text": [
      "Saving Best Model!!\n",
      "Epoch: 4 Loss: 2.7284936917589064 Train Accuracy: 0.7178533333333333 Val Accuracy: 0.6466666666666666\n"
     ]
    },
    {
     "name": "stderr",
     "output_type": "stream",
     "text": [
      "\n",
      "\n",
      "\n",
      "\n",
      "Epoch:   6%|▌         | 6/100 [00:37<09:53,  6.31s/it]\u001b[A\u001b[A\u001b[A\u001b[A"
     ]
    },
    {
     "name": "stdout",
     "output_type": "stream",
     "text": [
      "Saving Best Model!!\n",
      "Epoch: 5 Loss: 2.6911727192554067 Train Accuracy: 0.7235466666666667 Val Accuracy: 0.6491333333333333\n"
     ]
    },
    {
     "name": "stderr",
     "output_type": "stream",
     "text": [
      "\n",
      "\n",
      "\n",
      "\n",
      "Epoch:   7%|▋         | 7/100 [00:44<09:48,  6.33s/it]\u001b[A\u001b[A\u001b[A\u001b[A"
     ]
    },
    {
     "name": "stdout",
     "output_type": "stream",
     "text": [
      "Epoch: 6 Loss: 2.651421767219584 Train Accuracy: 0.7290266666666667 Val Accuracy: 0.6484\n"
     ]
    },
    {
     "name": "stderr",
     "output_type": "stream",
     "text": [
      "\n",
      "\n",
      "\n",
      "\n",
      "Epoch:   8%|▊         | 8/100 [00:50<09:43,  6.35s/it]\u001b[A\u001b[A\u001b[A\u001b[A"
     ]
    },
    {
     "name": "stdout",
     "output_type": "stream",
     "text": [
      "Epoch: 7 Loss: 2.6127709174409826 Train Accuracy: 0.73604 Val Accuracy: 0.6462\n"
     ]
    },
    {
     "name": "stderr",
     "output_type": "stream",
     "text": [
      "\n",
      "\n",
      "\n",
      "\n",
      "Epoch:   9%|▉         | 9/100 [00:57<09:38,  6.36s/it]\u001b[A\u001b[A\u001b[A\u001b[A"
     ]
    },
    {
     "name": "stdout",
     "output_type": "stream",
     "text": [
      "Epoch: 8 Loss: 2.5818602658332663 Train Accuracy: 0.7399333333333333 Val Accuracy: 0.6465333333333333\n"
     ]
    },
    {
     "name": "stderr",
     "output_type": "stream",
     "text": [
      "\n",
      "\n",
      "\n",
      "\n",
      "Epoch:  10%|█         | 10/100 [01:03<09:33,  6.38s/it]\u001b[A\u001b[A\u001b[A\u001b[A"
     ]
    },
    {
     "name": "stdout",
     "output_type": "stream",
     "text": [
      "Epoch: 9 Loss: 2.549862065594247 Train Accuracy: 0.7448 Val Accuracy: 0.6469333333333334\n"
     ]
    },
    {
     "name": "stderr",
     "output_type": "stream",
     "text": [
      "\n",
      "\n",
      "\n",
      "\n",
      "Epoch:  11%|█         | 11/100 [01:09<09:27,  6.38s/it]\u001b[A\u001b[A\u001b[A\u001b[A"
     ]
    },
    {
     "name": "stdout",
     "output_type": "stream",
     "text": [
      "Epoch: 10 Loss: 2.5151162000412635 Train Accuracy: 0.7500133333333333 Val Accuracy: 0.6342666666666666\n"
     ]
    },
    {
     "name": "stderr",
     "output_type": "stream",
     "text": [
      "\n",
      "\n",
      "\n",
      "\n",
      "Epoch:  12%|█▏        | 12/100 [01:16<09:20,  6.37s/it]\u001b[A\u001b[A\u001b[A\u001b[A"
     ]
    },
    {
     "name": "stdout",
     "output_type": "stream",
     "text": [
      "Saving Best Model!!\n",
      "Epoch: 11 Loss: 2.484058116851969 Train Accuracy: 0.7552666666666666 Val Accuracy: 0.6528\n"
     ]
    },
    {
     "name": "stderr",
     "output_type": "stream",
     "text": [
      "\n",
      "\n",
      "\n",
      "\n",
      "Epoch:  13%|█▎        | 13/100 [01:22<09:13,  6.36s/it]\u001b[A\u001b[A\u001b[A\u001b[A"
     ]
    },
    {
     "name": "stdout",
     "output_type": "stream",
     "text": [
      "Epoch: 12 Loss: 2.450418405837201 Train Accuracy: 0.7598666666666667 Val Accuracy: 0.648\n"
     ]
    },
    {
     "name": "stderr",
     "output_type": "stream",
     "text": [
      "\n",
      "\n",
      "\n",
      "\n",
      "Epoch:  14%|█▍        | 14/100 [01:28<09:08,  6.38s/it]\u001b[A\u001b[A\u001b[A\u001b[A"
     ]
    },
    {
     "name": "stdout",
     "output_type": "stream",
     "text": [
      "Epoch: 13 Loss: 2.4258130823044066 Train Accuracy: 0.7638 Val Accuracy: 0.6495333333333333\n"
     ]
    },
    {
     "name": "stderr",
     "output_type": "stream",
     "text": [
      "\n",
      "\n",
      "\n",
      "\n",
      "Epoch:  15%|█▌        | 15/100 [01:35<09:05,  6.41s/it]\u001b[A\u001b[A\u001b[A\u001b[A"
     ]
    },
    {
     "name": "stdout",
     "output_type": "stream",
     "text": [
      "Epoch: 14 Loss: 2.3912981623030722 Train Accuracy: 0.7695466666666667 Val Accuracy: 0.6463333333333333\n"
     ]
    },
    {
     "name": "stderr",
     "output_type": "stream",
     "text": [
      "\n",
      "\n",
      "\n",
      "\n",
      "Epoch:  16%|█▌        | 16/100 [01:41<08:58,  6.41s/it]\u001b[A\u001b[A\u001b[A\u001b[A"
     ]
    },
    {
     "name": "stdout",
     "output_type": "stream",
     "text": [
      "Epoch: 15 Loss: 2.3614929432564593 Train Accuracy: 0.7712 Val Accuracy: 0.652\n"
     ]
    },
    {
     "name": "stderr",
     "output_type": "stream",
     "text": [
      "\n",
      "\n",
      "\n",
      "\n",
      "Epoch:  17%|█▋        | 17/100 [01:48<08:54,  6.43s/it]\u001b[A\u001b[A\u001b[A\u001b[A"
     ]
    },
    {
     "name": "stdout",
     "output_type": "stream",
     "text": [
      "Epoch: 16 Loss: 2.3364090257502617 Train Accuracy: 0.77648 Val Accuracy: 0.6494\n"
     ]
    },
    {
     "name": "stderr",
     "output_type": "stream",
     "text": [
      "\n",
      "\n",
      "\n",
      "\n",
      "Epoch:  18%|█▊        | 18/100 [01:54<08:50,  6.47s/it]\u001b[A\u001b[A\u001b[A\u001b[A"
     ]
    },
    {
     "name": "stdout",
     "output_type": "stream",
     "text": [
      "Epoch: 17 Loss: 2.299413210660853 Train Accuracy: 0.78188 Val Accuracy: 0.6260666666666667\n"
     ]
    },
    {
     "name": "stderr",
     "output_type": "stream",
     "text": [
      "\n",
      "\n",
      "\n",
      "\n",
      "Epoch:  19%|█▉        | 19/100 [02:01<08:46,  6.50s/it]\u001b[A\u001b[A\u001b[A\u001b[A"
     ]
    },
    {
     "name": "stdout",
     "output_type": "stream",
     "text": [
      "Epoch: 18 Loss: 2.27184642984512 Train Accuracy: 0.7859333333333334 Val Accuracy: 0.6463333333333333\n"
     ]
    },
    {
     "name": "stderr",
     "output_type": "stream",
     "text": [
      "\n",
      "\n",
      "\n",
      "\n",
      "Epoch:  20%|██        | 20/100 [02:08<08:41,  6.52s/it]\u001b[A\u001b[A\u001b[A\u001b[A"
     ]
    },
    {
     "name": "stdout",
     "output_type": "stream",
     "text": [
      "Epoch: 19 Loss: 2.2428841673313302 Train Accuracy: 0.7899066666666666 Val Accuracy: 0.6410666666666667\n"
     ]
    },
    {
     "name": "stderr",
     "output_type": "stream",
     "text": [
      "\n",
      "\n",
      "\n",
      "\n",
      "Epoch:  21%|██        | 21/100 [02:14<08:39,  6.58s/it]\u001b[A\u001b[A\u001b[A\u001b[A"
     ]
    },
    {
     "name": "stdout",
     "output_type": "stream",
     "text": [
      "Epoch: 20 Loss: 2.210780473719252 Train Accuracy: 0.7945866666666667 Val Accuracy: 0.6456666666666667\n"
     ]
    },
    {
     "name": "stderr",
     "output_type": "stream",
     "text": [
      "\n",
      "\n",
      "\n",
      "\n",
      "Epoch:  22%|██▏       | 22/100 [02:21<08:35,  6.61s/it]\u001b[A\u001b[A\u001b[A\u001b[A"
     ]
    },
    {
     "name": "stdout",
     "output_type": "stream",
     "text": [
      "Epoch: 21 Loss: 2.18314991504588 Train Accuracy: 0.79848 Val Accuracy: 0.6492\n"
     ]
    },
    {
     "name": "stderr",
     "output_type": "stream",
     "text": [
      "\n",
      "\n",
      "\n",
      "\n",
      "Epoch:  23%|██▎       | 23/100 [02:28<08:32,  6.65s/it]\u001b[A\u001b[A\u001b[A\u001b[A"
     ]
    },
    {
     "name": "stdout",
     "output_type": "stream",
     "text": [
      "Epoch: 22 Loss: 2.1525408451861523 Train Accuracy: 0.8029066666666667 Val Accuracy: 0.6441333333333333\n"
     ]
    },
    {
     "name": "stderr",
     "output_type": "stream",
     "text": [
      "\n",
      "\n",
      "\n",
      "\n",
      "Epoch:  24%|██▍       | 24/100 [02:34<08:24,  6.64s/it]\u001b[A\u001b[A\u001b[A\u001b[A"
     ]
    },
    {
     "name": "stdout",
     "output_type": "stream",
     "text": [
      "Epoch: 23 Loss: 2.1237802666552525 Train Accuracy: 0.8052666666666667 Val Accuracy: 0.6501333333333333\n"
     ]
    },
    {
     "name": "stderr",
     "output_type": "stream",
     "text": [
      "\n",
      "\n",
      "\n",
      "\n",
      "Epoch:  25%|██▌       | 25/100 [02:41<08:19,  6.66s/it]\u001b[A\u001b[A\u001b[A\u001b[A"
     ]
    },
    {
     "name": "stdout",
     "output_type": "stream",
     "text": [
      "Epoch: 24 Loss: 2.095063101991694 Train Accuracy: 0.8105066666666667 Val Accuracy: 0.6375333333333333\n"
     ]
    },
    {
     "name": "stderr",
     "output_type": "stream",
     "text": [
      "\n",
      "\n",
      "\n",
      "\n",
      "Epoch:  26%|██▌       | 26/100 [02:48<08:12,  6.66s/it]\u001b[A\u001b[A\u001b[A\u001b[A"
     ]
    },
    {
     "name": "stdout",
     "output_type": "stream",
     "text": [
      "Epoch: 25 Loss: 2.0622087647306158 Train Accuracy: 0.8145333333333333 Val Accuracy: 0.6309333333333333\n"
     ]
    },
    {
     "name": "stderr",
     "output_type": "stream",
     "text": [
      "\n",
      "\n",
      "\n",
      "\n",
      "Epoch:  27%|██▋       | 27/100 [02:54<08:06,  6.67s/it]\u001b[A\u001b[A\u001b[A\u001b[A"
     ]
    },
    {
     "name": "stdout",
     "output_type": "stream",
     "text": [
      "Epoch: 26 Loss: 2.0360078594786057 Train Accuracy: 0.8179733333333333 Val Accuracy: 0.6516666666666666\n"
     ]
    },
    {
     "name": "stderr",
     "output_type": "stream",
     "text": [
      "\n",
      "\n",
      "\n",
      "\n",
      "Epoch:  28%|██▊       | 28/100 [03:01<08:02,  6.70s/it]\u001b[A\u001b[A\u001b[A\u001b[A"
     ]
    },
    {
     "name": "stdout",
     "output_type": "stream",
     "text": [
      "Epoch: 27 Loss: 2.004934127153234 Train Accuracy: 0.8229333333333333 Val Accuracy: 0.6484666666666666\n"
     ]
    },
    {
     "name": "stderr",
     "output_type": "stream",
     "text": [
      "\n",
      "\n",
      "\n",
      "\n",
      "Epoch:  29%|██▉       | 29/100 [03:08<07:55,  6.70s/it]\u001b[A\u001b[A\u001b[A\u001b[A"
     ]
    },
    {
     "name": "stdout",
     "output_type": "stream",
     "text": [
      "Epoch: 28 Loss: 1.9750343447035932 Train Accuracy: 0.8254533333333334 Val Accuracy: 0.6331333333333333\n"
     ]
    },
    {
     "name": "stderr",
     "output_type": "stream",
     "text": [
      "\n",
      "\n",
      "\n",
      "\n",
      "Epoch:  30%|███       | 30/100 [03:14<07:47,  6.68s/it]\u001b[A\u001b[A\u001b[A\u001b[A"
     ]
    },
    {
     "name": "stdout",
     "output_type": "stream",
     "text": [
      "Epoch: 29 Loss: 1.9451167130089821 Train Accuracy: 0.83032 Val Accuracy: 0.6379333333333334\n"
     ]
    },
    {
     "name": "stderr",
     "output_type": "stream",
     "text": [
      "\n",
      "\n",
      "\n",
      "\n",
      "Epoch:  31%|███       | 31/100 [03:21<07:40,  6.67s/it]\u001b[A\u001b[A\u001b[A\u001b[A"
     ]
    },
    {
     "name": "stdout",
     "output_type": "stream",
     "text": [
      "Epoch: 30 Loss: 1.918594585644438 Train Accuracy: 0.8346533333333334 Val Accuracy: 0.6406\n",
      "Validation Accuracy Did Not Improve After 0 Epochs. Stopping.\n"
     ]
    }
   ],
   "source": [
    "learning_rate = 1e-4\n",
    "optimizer = torch.optim.Adam(model.parameters(), lr=learning_rate)\n",
    "\n",
    "patience = 20\n",
    "\n",
    "max_val_acc = 0.0\n",
    "for t in tqdm(range(100),desc=\"Epoch\"):\n",
    "    model.train()\n",
    "    total_loss = 0.0\n",
    "    tmp_acc = 0.0\n",
    "    steps = 0\n",
    "    nb_eval_examples = 0\n",
    "    for batch_idx, (x, y) in enumerate(train_loader):\n",
    "        steps+=1\n",
    "        logits = model(x)\n",
    "        loss = loss_fn(logits, y)\n",
    "        logits = logits.detach().cpu().numpy()\n",
    "        label_ids = y.to('cpu').numpy()\n",
    "        tmp_acc += accuracy(logits, label_ids)\n",
    "        # Compute and print loss.\n",
    "        \n",
    "        total_loss += loss.item()\n",
    "        # Before the backward pass, use the optimizer object to zero all of the\n",
    "        # gradients for the variables it will update (which are the learnable\n",
    "        # weights of the model). This is because by default, gradients are\n",
    "        # accumulated in buffers( i.e, not overwritten) whenever .backward()\n",
    "        # is called. Checkout docs of torch.autograd.backward for more details.\n",
    "        optimizer.zero_grad()\n",
    "\n",
    "        # Backward pass: compute gradient of the loss with respect to model\n",
    "        # parameters\n",
    "        loss.backward()\n",
    "\n",
    "        # Calling the step function on an Optimizer makes an update to its\n",
    "        # parameters\n",
    "        optimizer.step()\n",
    "        nb_eval_examples += x.size(0)\n",
    "    \n",
    "    model.eval()\n",
    "    val_acc = 0.0\n",
    "    steps = 0\n",
    "    nb_val_examples = 0\n",
    "    for batch_idx, (x, y) in enumerate(val_loader):\n",
    "        steps+=1\n",
    "        logits = model(x)\n",
    "        logits = logits.detach().cpu().numpy()\n",
    "        label_ids = y.to('cpu').numpy()\n",
    "        val_acc += accuracy(logits, label_ids)\n",
    "        nb_val_examples += x.size(0)\n",
    "    \n",
    "    if max_val_acc < val_acc/nb_val_examples:\n",
    "        patience = 20\n",
    "        print(\"Saving Best Model!!\")\n",
    "        max_val_acc = val_acc/nb_val_examples\n",
    "        model_to_save = model.module if hasattr(model, 'module') else model  # Only save the model it-self\n",
    "        output_model_file = os.path.join(\"/scratch/pbanerj6/sml-nn-v1\", \"best_model.bin\")\n",
    "        torch.save(model_to_save.state_dict(), output_model_file)\n",
    "    else:\n",
    "        patience-=1\n",
    "        \n",
    "    if patience == 0:\n",
    "        print(\"Validation Accuracy Did Not Improve After\", patience, \"Epochs. Stopping.\")\n",
    "        break\n",
    "    \n",
    "    \n",
    "    print(\"Epoch:\",t,\"Loss:\",total_loss/steps,\"Train Accuracy:\",(tmp_acc/nb_eval_examples),\"Val Accuracy:\",(val_acc/nb_val_examples))\n"
   ]
  },
  {
   "cell_type": "code",
   "execution_count": 47,
   "metadata": {},
   "outputs": [
    {
     "data": {
      "text/plain": [
       "Sequential(\n",
       "  (0): Linear(in_features=768, out_features=100, bias=True)\n",
       "  (1): ReLU()\n",
       "  (2): Linear(in_features=100, out_features=2, bias=True)\n",
       ")"
      ]
     },
     "execution_count": 47,
     "metadata": {},
     "output_type": "execute_result"
    }
   ],
   "source": [
    "model = torch.nn.Sequential(\n",
    "    torch.nn.Linear(D_in, H),\n",
    "    torch.nn.ReLU(),\n",
    "    torch.nn.Linear(H, D_out),\n",
    ")\n",
    "output_model_file = os.path.join(\"/scratch/pbanerj6/sml-nn-v1\", \"best_model.bin\")\n",
    "model.load_state_dict(torch.load(output_model_file))\n",
    "model.eval()"
   ]
  },
  {
   "cell_type": "code",
   "execution_count": 56,
   "metadata": {},
   "outputs": [
    {
     "name": "stdout",
     "output_type": "stream",
     "text": [
      "[[0.36931092 0.4086804  0.2969394  0.0818483  0.16670115 0.18603277]\n",
      " [0.456922   0.6600688  0.07702929 0.7353013  0.8406557  0.64199984]\n",
      " [0.45062605 0.3171125  0.23331673 0.25553235 0.8806134  0.75682116]\n",
      " ...\n",
      " [0.01513177 0.16570406 0.02787823 0.05568737 0.21851334 0.12771149]\n",
      " [0.7124999  0.78986394 0.79848343 0.4941654  0.5839576  0.6593364 ]\n",
      " [0.31009448 0.6777135  0.50702024 0.6136262  0.7772534  0.5065988 ]]\n",
      "Test Accuracy: 0.6520666666666667 MRR: 0.5982222222222253\n"
     ]
    }
   ],
   "source": [
    "from scipy.stats import rankdata\n",
    "from scipy.special import softmax\n",
    "\n",
    "def mrrs(out, labels):\n",
    "    print(out)\n",
    "    outputs = np.argmax(out,axis=1)\n",
    "    mrr = 0.0 \n",
    "    for label,ranks in zip(labels,out):\n",
    "        ranks = rankdata(ranks*-1)\n",
    "        rank = ranks[label]\n",
    "        mrr+=1/rank\n",
    "    return mrr/len(labels)\n",
    "\n",
    "def mrrwrapper(qid2c,qid2indexmap,preds_prob):\n",
    "    labels = []\n",
    "    out = []\n",
    "    for qid in qid2c.keys():\n",
    "        scores = []\n",
    "        for ix in qid2indexmap[qid]:\n",
    "            if len(scores) < 6:\n",
    "                scores.append(preds_prob[ix][1])\n",
    "        if len(scores) < 6:\n",
    "            continue\n",
    "        out.append(scores)\n",
    "        labels.append(int(qid2c[qid]))\n",
    "    return mrrs(np.array(out),labels)\n",
    "\n",
    "def load_ranking(fname):\n",
    "    return pickle.load(open(\"/scratch/pbanerj6/sml-dataset/ranking_\"+fname+\".p\",\"rb\"))\n",
    "\n",
    "qid2c,qid2indexmap = load_ranking(\"test\")\n",
    "\n",
    "model.eval()\n",
    "val_acc = 0.0\n",
    "steps = 0\n",
    "nb_val_examples = 0\n",
    "\n",
    "test_loader = DataLoader(\n",
    "    test_dataset,\n",
    "    batch_size=64,\n",
    "    shuffle=False,\n",
    "    num_workers=20,\n",
    "    pin_memory=torch.cuda.is_available()\n",
    ")\n",
    "\n",
    "all_preds = []\n",
    "\n",
    "for batch_idx, (x, y) in enumerate(test_loader):\n",
    "    logits = model(x)\n",
    "    logits = logits.detach().cpu().numpy()\n",
    "    \n",
    "    for pred in logits:\n",
    "        all_preds.append(softmax(pred))\n",
    "    \n",
    "    label_ids = y.to('cpu').numpy()\n",
    "    val_acc += accuracy(logits, label_ids)\n",
    "    nb_val_examples += x.size(0)\n",
    "    \n",
    "mrr = mrrwrapper(qid2c,qid2indexmap,all_preds)\n",
    "print(\"Test Accuracy:\",(val_acc/nb_val_examples),\"MRR:\",(mrr))"
   ]
  },
  {
   "cell_type": "code",
   "execution_count": null,
   "metadata": {},
   "outputs": [],
   "source": []
  },
  {
   "cell_type": "code",
   "execution_count": null,
   "metadata": {},
   "outputs": [],
   "source": []
  }
 ],
 "metadata": {
  "kernelspec": {
   "display_name": "Python 3",
   "language": "python",
   "name": "python3"
  },
  "language_info": {
   "codemirror_mode": {
    "name": "ipython",
    "version": 3
   },
   "file_extension": ".py",
   "mimetype": "text/x-python",
   "name": "python",
   "nbconvert_exporter": "python",
   "pygments_lexer": "ipython3",
   "version": "3.6.8"
  }
 },
 "nbformat": 4,
 "nbformat_minor": 2
}
