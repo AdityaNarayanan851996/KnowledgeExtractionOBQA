{
 "cells": [
  {
   "cell_type": "code",
   "execution_count": 48,
   "metadata": {},
   "outputs": [],
   "source": [
    "import xgboost as xbg\n",
    "import pandas as pd\n",
    "import numpy as np\n",
    "import matplotlib.pyplot as plt\n",
    "import json\n",
    "import pickle\n",
    "import joblib\n",
    "\n",
    "%matplotlib inline\n",
    "\n",
    "def load_p(fname):\n",
    "    return np.array(pickle.load(open(fname,\"rb\")))"
   ]
  },
  {
   "cell_type": "code",
   "execution_count": 49,
   "metadata": {},
   "outputs": [],
   "source": [
    "X_train_cls = load_p(\"/scratch/pbanerj6/sml-dataset/X_train_cls.p\")\n",
    "X_val_cls = load_p(\"/scratch/pbanerj6/sml-dataset/X_val_cls.p\")\n",
    "X_test_cls = load_p(\"/scratch/pbanerj6/sml-dataset/X_test_cls.p\")\n",
    "X_train_all = load_p(\"/scratch/pbanerj6/sml-dataset/X_train_all_90.pkl\")\n",
    "X_val_all = load_p(\"/scratch/pbanerj6/sml-dataset/X_val_all_90.pkl\")\n",
    "X_test_all = load_p(\"/scratch/pbanerj6/sml-dataset/X_test_all_90.pkl\")\n",
    "\n",
    "X_train = np.concatenate([X_train_cls,X_train_all],axis=1)\n",
    "X_val = np.concatenate([X_val_cls,X_val_all],axis=1)\n",
    "X_test = np.concatenate([X_test_cls,X_test_all],axis=1)"
   ]
  },
  {
   "cell_type": "code",
   "execution_count": 50,
   "metadata": {},
   "outputs": [],
   "source": [
    "y_train = load_p(\"/scratch/pbanerj6/sml-dataset/y_train.p\")\n",
    "y_val = load_p(\"/scratch/pbanerj6/sml-dataset/y_val.p\")\n",
    "y_test = load_p(\"/scratch/pbanerj6/sml-dataset/y_test.p\")"
   ]
  },
  {
   "cell_type": "code",
   "execution_count": 51,
   "metadata": {},
   "outputs": [],
   "source": [
    "import torch\n",
    "from torch import nn, optim\n",
    "from torch.optim import lr_scheduler\n",
    "from torch.autograd import Variable\n",
    "from torch.utils.data import Dataset, DataLoader\n",
    "import torch.nn.functional as F\n",
    "from tqdm import tqdm\n",
    "import os"
   ]
  },
  {
   "cell_type": "code",
   "execution_count": 52,
   "metadata": {},
   "outputs": [],
   "source": [
    "class MyDataset(Dataset):\n",
    "    def __init__(self, data, target, transform=None):\n",
    "        self.data = torch.from_numpy(data).float()\n",
    "        self.target = torch.from_numpy(target).long()\n",
    "        self.transform = transform\n",
    "        \n",
    "    def __getitem__(self, index):\n",
    "        x = self.data[index]\n",
    "        y = self.target[index]\n",
    "        \n",
    "        if self.transform:\n",
    "            x = self.transform(x)\n",
    "        \n",
    "        return x, y\n",
    "    \n",
    "    def __len__(self):\n",
    "        return len(self.data)"
   ]
  },
  {
   "cell_type": "code",
   "execution_count": 53,
   "metadata": {},
   "outputs": [],
   "source": [
    "train_dataset = MyDataset(X_train,y_train)\n",
    "val_dataset = MyDataset(X_val,y_val)\n",
    "test_dataset = MyDataset(X_test,y_test)"
   ]
  },
  {
   "cell_type": "code",
   "execution_count": 54,
   "metadata": {},
   "outputs": [],
   "source": [
    "train_loader = DataLoader(\n",
    "    train_dataset,\n",
    "    batch_size=64,\n",
    "    shuffle=True,\n",
    "    num_workers=1,\n",
    "    pin_memory=True\n",
    ")\n",
    "\n",
    "val_loader = DataLoader(\n",
    "    val_dataset,\n",
    "    batch_size=64,\n",
    "    shuffle=True,\n",
    "    num_workers=1,\n",
    "    pin_memory=True\n",
    ")"
   ]
  },
  {
   "cell_type": "code",
   "execution_count": 68,
   "metadata": {},
   "outputs": [],
   "source": [
    "# N is batch size; D_in is input dimension;\n",
    "# H is hidden dimension; D_out is output dimension.\n",
    "# N, D_in, H, D_out = 64, 768, 200, 2\n",
    "N , D_in, H1, H2, D_out = 32, 6768, 500, 100, 2"
   ]
  },
  {
   "cell_type": "code",
   "execution_count": 69,
   "metadata": {},
   "outputs": [],
   "source": [
    "# model = torch.nn.Sequential(\n",
    "#     torch.nn.Linear(D_in, H),\n",
    "#     torch.nn.ReLU(),\n",
    "#     torch.nn.Linear(H, D_out),\n",
    "# )\n",
    "\n",
    "model = torch.nn.Sequential(\n",
    "    torch.nn.Linear(D_in, H1),\n",
    "    torch.nn.ReLU(),\n",
    "    torch.nn.Linear(H1, H2),\n",
    "    torch.nn.ReLU(),\n",
    "    torch.nn.Linear(H2, D_out),\n",
    ")\n",
    "\n",
    "model.to('cuda')\n",
    "model = torch.nn.DataParallel(model) \n",
    "\n",
    "loss_fn = nn.CrossEntropyLoss()\n"
   ]
  },
  {
   "cell_type": "code",
   "execution_count": 70,
   "metadata": {},
   "outputs": [],
   "source": [
    "def accuracy(out, labels):\n",
    "    outputs = np.argmax(out, axis=1)\n",
    "    return np.sum(outputs == labels)"
   ]
  },
  {
   "cell_type": "code",
   "execution_count": 71,
   "metadata": {},
   "outputs": [
    {
     "name": "stderr",
     "output_type": "stream",
     "text": [
      "\n",
      "\n",
      "\n",
      "\n",
      "\n",
      "Epoch:   0%|          | 0/100 [00:00<?, ?it/s]\u001b[A\u001b[A\u001b[A\u001b[A\u001b[A\n",
      "\n",
      "\n",
      "\n",
      "\n",
      "Epoch:   1%|          | 1/100 [00:09<15:54,  9.64s/it]\u001b[A\u001b[A\u001b[A\u001b[A\u001b[A"
     ]
    },
    {
     "name": "stdout",
     "output_type": "stream",
     "text": [
      "Saving Best Model!!\n",
      "Epoch: 0 Loss: 3.3673906042220745 Train Accuracy: 0.59124 Val Accuracy: 0.5886666666666667\n"
     ]
    },
    {
     "name": "stderr",
     "output_type": "stream",
     "text": [
      "\n",
      "\n",
      "\n",
      "\n",
      "\n",
      "Epoch:   2%|▏         | 2/100 [00:19<15:42,  9.62s/it]\u001b[A\u001b[A\u001b[A\u001b[A\u001b[A"
     ]
    },
    {
     "name": "stdout",
     "output_type": "stream",
     "text": [
      "Saving Best Model!!\n",
      "Epoch: 1 Loss: 3.206304282330452 Train Accuracy: 0.6668533333333333 Val Accuracy: 0.6149333333333333\n"
     ]
    },
    {
     "name": "stderr",
     "output_type": "stream",
     "text": [
      "\n",
      "\n",
      "\n",
      "\n",
      "\n",
      "Epoch:   3%|▎         | 3/100 [00:28<15:33,  9.62s/it]\u001b[A\u001b[A\u001b[A\u001b[A\u001b[A"
     ]
    },
    {
     "name": "stdout",
     "output_type": "stream",
     "text": [
      "Saving Best Model!!\n",
      "Epoch: 2 Loss: 3.0506264544547874 Train Accuracy: 0.6996266666666666 Val Accuracy: 0.6272\n"
     ]
    },
    {
     "name": "stderr",
     "output_type": "stream",
     "text": [
      "\n",
      "\n",
      "\n",
      "\n",
      "\n",
      "Epoch:   4%|▍         | 4/100 [00:38<15:27,  9.66s/it]\u001b[A\u001b[A\u001b[A\u001b[A\u001b[A"
     ]
    },
    {
     "name": "stdout",
     "output_type": "stream",
     "text": [
      "Saving Best Model!!\n",
      "Epoch: 3 Loss: 2.904498940325798 Train Accuracy: 0.72408 Val Accuracy: 0.6356\n"
     ]
    },
    {
     "name": "stderr",
     "output_type": "stream",
     "text": [
      "\n",
      "\n",
      "\n",
      "\n",
      "\n",
      "Epoch:   5%|▌         | 5/100 [00:48<15:17,  9.65s/it]\u001b[A\u001b[A\u001b[A\u001b[A\u001b[A"
     ]
    },
    {
     "name": "stdout",
     "output_type": "stream",
     "text": [
      "Saving Best Model!!\n",
      "Epoch: 4 Loss: 2.7719053877160906 Train Accuracy: 0.7410266666666666 Val Accuracy: 0.6425333333333333\n"
     ]
    },
    {
     "name": "stderr",
     "output_type": "stream",
     "text": [
      "\n",
      "\n",
      "\n",
      "\n",
      "\n",
      "Epoch:   6%|▌         | 6/100 [00:57<15:06,  9.64s/it]\u001b[A\u001b[A\u001b[A\u001b[A\u001b[A"
     ]
    },
    {
     "name": "stdout",
     "output_type": "stream",
     "text": [
      "Saving Best Model!!\n",
      "Epoch: 5 Loss: 2.653440824468085 Train Accuracy: 0.7554933333333334 Val Accuracy: 0.6452666666666667\n"
     ]
    },
    {
     "name": "stderr",
     "output_type": "stream",
     "text": [
      "\n",
      "\n",
      "\n",
      "\n",
      "\n",
      "Epoch:   7%|▋         | 7/100 [01:07<14:57,  9.65s/it]\u001b[A\u001b[A\u001b[A\u001b[A\u001b[A"
     ]
    },
    {
     "name": "stdout",
     "output_type": "stream",
     "text": [
      "Saving Best Model!!\n",
      "Epoch: 6 Loss: 2.548600087267287 Train Accuracy: 0.7685466666666667 Val Accuracy: 0.6505333333333333\n"
     ]
    },
    {
     "name": "stderr",
     "output_type": "stream",
     "text": [
      "\n",
      "\n",
      "\n",
      "\n",
      "\n",
      "Epoch:   8%|▊         | 8/100 [01:17<14:48,  9.65s/it]\u001b[A\u001b[A\u001b[A\u001b[A\u001b[A"
     ]
    },
    {
     "name": "stdout",
     "output_type": "stream",
     "text": [
      "Saving Best Model!!\n",
      "Epoch: 7 Loss: 2.4535364029255318 Train Accuracy: 0.7804933333333334 Val Accuracy: 0.6528\n"
     ]
    },
    {
     "name": "stderr",
     "output_type": "stream",
     "text": [
      "\n",
      "\n",
      "\n",
      "\n",
      "\n",
      "Epoch:   9%|▉         | 9/100 [01:26<14:37,  9.65s/it]\u001b[A\u001b[A\u001b[A\u001b[A\u001b[A"
     ]
    },
    {
     "name": "stdout",
     "output_type": "stream",
     "text": [
      "Saving Best Model!!\n",
      "Epoch: 8 Loss: 2.365719279837101 Train Accuracy: 0.79164 Val Accuracy: 0.6544\n",
      "Saving Best Model!!\n"
     ]
    },
    {
     "name": "stderr",
     "output_type": "stream",
     "text": [
      "\n",
      "\n",
      "\n",
      "\n",
      "\n",
      "Epoch:  10%|█         | 10/100 [01:45<18:28, 12.32s/it]\u001b[A\u001b[A\u001b[A\u001b[A\u001b[A"
     ]
    },
    {
     "name": "stdout",
     "output_type": "stream",
     "text": [
      "Epoch: 9 Loss: 2.283501288231383 Train Accuracy: 0.8024533333333334 Val Accuracy: 0.6552\n"
     ]
    },
    {
     "name": "stderr",
     "output_type": "stream",
     "text": [
      "\n",
      "\n",
      "\n",
      "\n",
      "\n",
      "Epoch:  11%|█         | 11/100 [01:55<17:05, 11.52s/it]\u001b[A\u001b[A\u001b[A\u001b[A\u001b[A"
     ]
    },
    {
     "name": "stdout",
     "output_type": "stream",
     "text": [
      "Saving Best Model!!\n",
      "Epoch: 10 Loss: 2.205965602144282 Train Accuracy: 0.8129333333333333 Val Accuracy: 0.6612666666666667\n"
     ]
    },
    {
     "name": "stderr",
     "output_type": "stream",
     "text": [
      "\n",
      "\n",
      "\n",
      "\n",
      "\n",
      "Epoch:  12%|█▏        | 12/100 [02:04<16:09, 11.01s/it]\u001b[A\u001b[A\u001b[A\u001b[A\u001b[A"
     ]
    },
    {
     "name": "stdout",
     "output_type": "stream",
     "text": [
      "Epoch: 11 Loss: 2.1319657995345747 Train Accuracy: 0.8223066666666666 Val Accuracy: 0.6586666666666666\n"
     ]
    },
    {
     "name": "stderr",
     "output_type": "stream",
     "text": [
      "\n",
      "\n",
      "\n",
      "\n",
      "\n",
      "Epoch:  13%|█▎        | 13/100 [02:14<15:23, 10.61s/it]\u001b[A\u001b[A\u001b[A\u001b[A\u001b[A"
     ]
    },
    {
     "name": "stdout",
     "output_type": "stream",
     "text": [
      "Epoch: 12 Loss: 2.0607481611535903 Train Accuracy: 0.832 Val Accuracy: 0.6598\n"
     ]
    },
    {
     "name": "stderr",
     "output_type": "stream",
     "text": [
      "\n",
      "\n",
      "\n",
      "\n",
      "\n",
      "Epoch:  14%|█▍        | 14/100 [02:23<14:43, 10.27s/it]\u001b[A\u001b[A\u001b[A\u001b[A\u001b[A"
     ]
    },
    {
     "name": "stdout",
     "output_type": "stream",
     "text": [
      "Epoch: 13 Loss: 1.992646172706117 Train Accuracy: 0.8398533333333333 Val Accuracy: 0.6609333333333334\n"
     ]
    },
    {
     "name": "stderr",
     "output_type": "stream",
     "text": [
      "\n",
      "\n",
      "\n",
      "\n",
      "\n",
      "Epoch:  15%|█▌        | 15/100 [02:34<14:40, 10.36s/it]\u001b[A\u001b[A\u001b[A\u001b[A\u001b[A"
     ]
    },
    {
     "name": "stdout",
     "output_type": "stream",
     "text": [
      "Epoch: 14 Loss: 1.92705532642121 Train Accuracy: 0.8471066666666667 Val Accuracy: 0.6609333333333334\n"
     ]
    },
    {
     "name": "stderr",
     "output_type": "stream",
     "text": [
      "\n",
      "\n",
      "\n",
      "\n",
      "\n",
      "Epoch:  16%|█▌        | 16/100 [02:44<14:26, 10.32s/it]\u001b[A\u001b[A\u001b[A\u001b[A\u001b[A"
     ]
    },
    {
     "name": "stdout",
     "output_type": "stream",
     "text": [
      "Epoch: 15 Loss: 1.863314494680851 Train Accuracy: 0.8546533333333334 Val Accuracy: 0.6548\n"
     ]
    },
    {
     "name": "stderr",
     "output_type": "stream",
     "text": [
      "\n",
      "\n",
      "\n",
      "\n",
      "\n",
      "Epoch:  17%|█▋        | 17/100 [02:55<14:15, 10.31s/it]\u001b[A\u001b[A\u001b[A\u001b[A\u001b[A"
     ]
    },
    {
     "name": "stdout",
     "output_type": "stream",
     "text": [
      "Epoch: 16 Loss: 1.8017122309258644 Train Accuracy: 0.8619466666666666 Val Accuracy: 0.6556666666666666\n"
     ]
    },
    {
     "name": "stderr",
     "output_type": "stream",
     "text": [
      "\n",
      "\n",
      "\n",
      "\n",
      "\n",
      "Epoch:  18%|█▊        | 18/100 [03:05<14:07, 10.34s/it]\u001b[A\u001b[A\u001b[A\u001b[A\u001b[A"
     ]
    },
    {
     "name": "stdout",
     "output_type": "stream",
     "text": [
      "Epoch: 17 Loss: 1.7421497101479388 Train Accuracy: 0.8679066666666667 Val Accuracy: 0.6512666666666667\n"
     ]
    },
    {
     "name": "stderr",
     "output_type": "stream",
     "text": [
      "\n",
      "\n",
      "\n",
      "\n",
      "\n",
      "Epoch:  19%|█▉        | 19/100 [03:16<14:05, 10.44s/it]\u001b[A\u001b[A\u001b[A\u001b[A\u001b[A"
     ]
    },
    {
     "name": "stdout",
     "output_type": "stream",
     "text": [
      "Epoch: 18 Loss: 1.6838941208859708 Train Accuracy: 0.87376 Val Accuracy: 0.6500666666666667\n"
     ]
    },
    {
     "name": "stderr",
     "output_type": "stream",
     "text": [
      "\n",
      "\n",
      "\n",
      "\n",
      "\n",
      "Epoch:  20%|██        | 20/100 [03:26<13:57, 10.47s/it]\u001b[A\u001b[A\u001b[A\u001b[A\u001b[A"
     ]
    },
    {
     "name": "stdout",
     "output_type": "stream",
     "text": [
      "Epoch: 19 Loss: 1.6272846627742685 Train Accuracy: 0.8802533333333333 Val Accuracy: 0.6488666666666667\n"
     ]
    },
    {
     "name": "stderr",
     "output_type": "stream",
     "text": [
      "\n",
      "\n",
      "\n",
      "\n",
      "\n",
      "Epoch:  21%|██        | 21/100 [03:37<13:51, 10.52s/it]\u001b[A\u001b[A\u001b[A\u001b[A\u001b[A"
     ]
    },
    {
     "name": "stdout",
     "output_type": "stream",
     "text": [
      "Epoch: 20 Loss: 1.5721344643450799 Train Accuracy: 0.8858266666666667 Val Accuracy: 0.6440666666666667\n"
     ]
    },
    {
     "name": "stderr",
     "output_type": "stream",
     "text": [
      "\n",
      "\n",
      "\n",
      "\n",
      "\n",
      "Epoch:  22%|██▏       | 22/100 [03:48<13:52, 10.67s/it]\u001b[A\u001b[A\u001b[A\u001b[A\u001b[A"
     ]
    },
    {
     "name": "stdout",
     "output_type": "stream",
     "text": [
      "Epoch: 21 Loss: 1.5180016050947474 Train Accuracy: 0.8920533333333334 Val Accuracy: 0.6454666666666666\n"
     ]
    },
    {
     "name": "stderr",
     "output_type": "stream",
     "text": [
      "\n",
      "\n",
      "\n",
      "\n",
      "\n",
      "Epoch:  23%|██▎       | 23/100 [03:58<13:29, 10.52s/it]\u001b[A\u001b[A\u001b[A\u001b[A\u001b[A"
     ]
    },
    {
     "name": "stdout",
     "output_type": "stream",
     "text": [
      "Epoch: 22 Loss: 1.4654466994265292 Train Accuracy: 0.8967333333333334 Val Accuracy: 0.6464666666666666\n"
     ]
    },
    {
     "name": "stderr",
     "output_type": "stream",
     "text": [
      "\n",
      "\n",
      "\n",
      "\n",
      "\n",
      "Epoch:  24%|██▍       | 24/100 [04:09<13:22, 10.56s/it]\u001b[A\u001b[A\u001b[A\u001b[A\u001b[A"
     ]
    },
    {
     "name": "stdout",
     "output_type": "stream",
     "text": [
      "Epoch: 23 Loss: 1.4141362616356383 Train Accuracy: 0.9025333333333333 Val Accuracy: 0.6418\n"
     ]
    },
    {
     "name": "stderr",
     "output_type": "stream",
     "text": [
      "\n",
      "\n",
      "\n",
      "\n",
      "\n",
      "Epoch:  25%|██▌       | 25/100 [04:19<13:10, 10.54s/it]\u001b[A\u001b[A\u001b[A\u001b[A\u001b[A"
     ]
    },
    {
     "name": "stdout",
     "output_type": "stream",
     "text": [
      "Epoch: 24 Loss: 1.363835760887633 Train Accuracy: 0.9077333333333333 Val Accuracy: 0.6407333333333334\n"
     ]
    },
    {
     "name": "stderr",
     "output_type": "stream",
     "text": [
      "\n",
      "\n",
      "\n",
      "\n",
      "\n",
      "Epoch:  26%|██▌       | 26/100 [04:30<13:02, 10.58s/it]\u001b[A\u001b[A\u001b[A\u001b[A\u001b[A"
     ]
    },
    {
     "name": "stdout",
     "output_type": "stream",
     "text": [
      "Epoch: 25 Loss: 1.3142022315492021 Train Accuracy: 0.9128933333333333 Val Accuracy: 0.6397333333333334\n"
     ]
    },
    {
     "name": "stderr",
     "output_type": "stream",
     "text": [
      "\n",
      "\n",
      "\n",
      "\n",
      "\n",
      "Epoch:  27%|██▋       | 27/100 [04:41<12:56, 10.64s/it]\u001b[A\u001b[A\u001b[A\u001b[A\u001b[A"
     ]
    },
    {
     "name": "stdout",
     "output_type": "stream",
     "text": [
      "Epoch: 26 Loss: 1.2650773718001995 Train Accuracy: 0.9184533333333333 Val Accuracy: 0.64\n"
     ]
    },
    {
     "name": "stderr",
     "output_type": "stream",
     "text": [
      "\n",
      "\n",
      "\n",
      "\n",
      "\n",
      "Epoch:  28%|██▊       | 28/100 [04:51<12:48, 10.67s/it]\u001b[A\u001b[A\u001b[A\u001b[A\u001b[A"
     ]
    },
    {
     "name": "stdout",
     "output_type": "stream",
     "text": [
      "Epoch: 27 Loss: 1.2171439962184176 Train Accuracy: 0.9241333333333334 Val Accuracy: 0.6370666666666667\n"
     ]
    },
    {
     "name": "stderr",
     "output_type": "stream",
     "text": [
      "\n",
      "\n",
      "\n",
      "\n",
      "\n",
      "Epoch:  29%|██▉       | 29/100 [05:02<12:39, 10.70s/it]\u001b[A\u001b[A\u001b[A\u001b[A\u001b[A"
     ]
    },
    {
     "name": "stdout",
     "output_type": "stream",
     "text": [
      "Epoch: 28 Loss: 1.1698026616522605 Train Accuracy: 0.9285466666666666 Val Accuracy: 0.6310666666666667\n"
     ]
    },
    {
     "name": "stderr",
     "output_type": "stream",
     "text": [
      "\n",
      "\n",
      "\n",
      "\n",
      "\n",
      "Epoch:  30%|███       | 30/100 [05:13<12:28, 10.70s/it]\u001b[A\u001b[A\u001b[A\u001b[A\u001b[A"
     ]
    },
    {
     "name": "stdout",
     "output_type": "stream",
     "text": [
      "Epoch: 29 Loss: 1.1232398499833776 Train Accuracy: 0.9333466666666667 Val Accuracy: 0.6308\n",
      "Validation Accuracy Did Not Improve After 0 Epochs. Stopping.\n"
     ]
    }
   ],
   "source": [
    "learning_rate = 1e-6\n",
    "optimizer = torch.optim.Adam(model.parameters(), lr=learning_rate)\n",
    "\n",
    "patience = 20\n",
    "\n",
    "max_val_acc = 0.0\n",
    "for t in tqdm(range(100),desc=\"Epoch\"):\n",
    "    model.train()\n",
    "    total_loss = 0.0\n",
    "    tmp_acc = 0.0\n",
    "    steps = 0\n",
    "    nb_eval_examples = 0\n",
    "    for batch_idx, (x, y) in enumerate(train_loader):\n",
    "        steps+=1\n",
    "        x=x.to('cuda')\n",
    "        y=y.to('cuda')\n",
    "        logits = model(x)\n",
    "        loss = loss_fn(logits, y)\n",
    "        logits = logits.detach().cpu().numpy()\n",
    "        label_ids = y.to('cpu').numpy()\n",
    "        tmp_acc += accuracy(logits, label_ids)\n",
    "        # Compute and print loss.\n",
    "        \n",
    "        total_loss += loss.mean()\n",
    "        # Before the backward pass, use the optimizer object to zero all of the\n",
    "        # gradients for the variables it will update (which are the learnable\n",
    "        # weights of the model). This is because by default, gradients are\n",
    "        # accumulated in buffers( i.e, not overwritten) whenever .backward()\n",
    "        # is called. Checkout docs of torch.autograd.backward for more details.\n",
    "        optimizer.zero_grad()\n",
    "\n",
    "        # Backward pass: compute gradient of the loss with respect to model\n",
    "        # parameters\n",
    "        loss.backward()\n",
    "\n",
    "        # Calling the step function on an Optimizer makes an update to its\n",
    "        # parameters\n",
    "        optimizer.step()\n",
    "        nb_eval_examples += x.size(0)\n",
    "    \n",
    "    model.eval()\n",
    "    val_acc = 0.0\n",
    "    steps = 0\n",
    "    nb_val_examples = 0\n",
    "    for batch_idx, (x, y) in enumerate(val_loader):\n",
    "        steps+=1\n",
    "        logits = model(x)\n",
    "        x=x.to('cuda')\n",
    "        y=y.to('cuda')\n",
    "        logits = logits.detach().cpu().numpy()\n",
    "        label_ids = y.to('cpu').numpy()\n",
    "        val_acc += accuracy(logits, label_ids)\n",
    "        nb_val_examples += x.size(0)\n",
    "    \n",
    "    if max_val_acc < val_acc/nb_val_examples:\n",
    "        patience = 20\n",
    "        print(\"Saving Best Model!!\")\n",
    "        max_val_acc = val_acc/nb_val_examples\n",
    "        model_to_save = model.module if hasattr(model, 'module') else model  # Only save the model it-self\n",
    "        output_model_file = os.path.join(\"/scratch/pbanerj6/sml-nn-v1\", \"best_model.bin\")\n",
    "        torch.save(model_to_save.state_dict(), output_model_file)\n",
    "    else:\n",
    "        patience-=1\n",
    "        \n",
    "    if patience == 0:\n",
    "        print(\"Validation Accuracy Did Not Improve After\", patience, \"Epochs. Stopping.\")\n",
    "        break\n",
    "    \n",
    "    \n",
    "    print(\"Epoch:\",t,\"Loss:\",total_loss.item()/steps,\"Train Accuracy:\",(tmp_acc/nb_eval_examples),\"Val Accuracy:\",(val_acc/nb_val_examples))\n"
   ]
  },
  {
   "cell_type": "code",
   "execution_count": 72,
   "metadata": {},
   "outputs": [
    {
     "data": {
      "text/plain": [
       "Sequential(\n",
       "  (0): Linear(in_features=6768, out_features=500, bias=True)\n",
       "  (1): ReLU()\n",
       "  (2): Linear(in_features=500, out_features=100, bias=True)\n",
       "  (3): ReLU()\n",
       "  (4): Linear(in_features=100, out_features=2, bias=True)\n",
       ")"
      ]
     },
     "execution_count": 72,
     "metadata": {},
     "output_type": "execute_result"
    }
   ],
   "source": [
    "# model = torch.nn.Sequential(\n",
    "#     torch.nn.Linear(D_in, H),\n",
    "#     torch.nn.ReLU(),\n",
    "#     torch.nn.Linear(H, D_out),\n",
    "# )\n",
    "\n",
    "model = torch.nn.Sequential(\n",
    "    torch.nn.Linear(D_in, H1),\n",
    "    torch.nn.ReLU(),\n",
    "    torch.nn.Linear(H1, H2),\n",
    "    torch.nn.ReLU(),\n",
    "    torch.nn.Linear(H2, D_out),\n",
    ")\n",
    "output_model_file = os.path.join(\"/scratch/pbanerj6/sml-nn-v1\", \"best_model.bin\")\n",
    "model.load_state_dict(torch.load(output_model_file))\n",
    "model.eval()"
   ]
  },
  {
   "cell_type": "code",
   "execution_count": 73,
   "metadata": {},
   "outputs": [
    {
     "name": "stdout",
     "output_type": "stream",
     "text": [
      "Test Accuracy: 0.6488 MRR: (0.6115571428571458, 0.3873333333333333, 0.8013333333333333)\n"
     ]
    }
   ],
   "source": [
    "from scipy.stats import rankdata\n",
    "from scipy.special import softmax\n",
    "\n",
    "def mrrs(out, labels):\n",
    "#     print(out,labels)\n",
    "    outputs = np.argmax(out,axis=1)\n",
    "    mrr = 0.0 \n",
    "    for label,ranks in zip(labels,out):\n",
    "        ranks = rankdata(ranks*-1)\n",
    "        rank = ranks[label]\n",
    "#         print(rank,ranks)\n",
    "        mrr+=1/rank\n",
    "    return mrr/len(labels)\n",
    "\n",
    "def precision_at(out,labels,prank=1):\n",
    "    count = 0\n",
    "    for label,ranks in zip(labels,out):\n",
    "        ranks = rankdata(ranks*-1)\n",
    "        rank = ranks[label]\n",
    "#         print(rank,ranks)\n",
    "        if rank <= prank:\n",
    "            count+=1\n",
    "    return count/len(labels)\n",
    "\n",
    "def mrrwrapper(qid2c,qid2indexmap,preds_prob):\n",
    "    labels = []\n",
    "    out = []\n",
    "    for qid in qid2c.keys():\n",
    "        scores = []\n",
    "        for ix in qid2indexmap[qid]:\n",
    "            if len(scores) < 6:\n",
    "                scores.append(preds_prob[ix][1])\n",
    "        if len(scores) < 6:\n",
    "            continue\n",
    "        out.append(scores)\n",
    "        labels.append(int(qid2c[qid]))\n",
    "    return mrrs(np.array(out),labels),precision_at(np.array(out),labels,1),precision_at(np.array(out),labels,3)\n",
    "\n",
    "def load_ranking(fname):\n",
    "    return pickle.load(open(\"/scratch/pbanerj6/sml-dataset/ranking_\"+fname+\".p\",\"rb\"))\n",
    "\n",
    "qid2c,qid2indexmap = load_ranking(\"test\")\n",
    "\n",
    "model.to('cuda')\n",
    "model = torch.nn.DataParallel(model) \n",
    "model.eval()\n",
    "val_acc = 0.0\n",
    "steps = 0\n",
    "nb_val_examples = 0\n",
    "\n",
    "test_loader = DataLoader(\n",
    "    test_dataset,\n",
    "    batch_size=64,\n",
    "    shuffle=False,\n",
    "    num_workers=1,\n",
    "    pin_memory=1\n",
    ")\n",
    "\n",
    "all_preds = []\n",
    "\n",
    "for batch_idx, (x, y) in enumerate(test_loader):\n",
    "    x=x.to('cuda')\n",
    "    y=y.to('cuda')\n",
    "    logits = model(x)\n",
    "    logits = logits.detach().cpu().numpy()\n",
    "    \n",
    "    for pred in logits:\n",
    "        all_preds.append(softmax(pred))\n",
    "    \n",
    "    label_ids = y.to('cpu').numpy()\n",
    "    val_acc += accuracy(logits, label_ids)\n",
    "    nb_val_examples += x.size(0)\n",
    "    \n",
    "mrr = mrrwrapper(qid2c,qid2indexmap,all_preds)\n",
    "print(\"Test Accuracy:\",(val_acc/nb_val_examples),\"MRR:\",(mrr))"
   ]
  },
  {
   "cell_type": "code",
   "execution_count": 40,
   "metadata": {},
   "outputs": [],
   "source": [
    "# 100 : Test Accuracy: 0.6601333333333333 MRR: (0.6016777777777803, 0.38, 0.7846666666666666)\n",
    "# 200 : Test Accuracy: 0.6572 MRR: (0.6074333333333362, 0.38666666666666666, 0.7813333333333333)\n",
    "# 200-100 : Test Accuracy: 0.6604666666666666 MRR: (0.6049000000000025, 0.38333333333333336, 0.7853333333333333)\n",
    "# 300-100 : Test Accuracy: 0.6583333333333333 MRR: (0.6061682539682567, 0.38666666666666666, 0.772)\n",
    "\n",
    "# Both\n",
    "# 300-100 , Test Accuracy: 0.6492666666666667 MRR: (0.6176015873015903, 0.398, 0.8046666666666666)\n",
    "# 500-100, Test Accuracy: 0.6488 MRR: (0.6115571428571458, 0.3873333333333333, 0.8013333333333333) "
   ]
  },
  {
   "cell_type": "code",
   "execution_count": 41,
   "metadata": {},
   "outputs": [
    {
     "data": {
      "text/plain": [
       "(75000, 768)"
      ]
     },
     "execution_count": 41,
     "metadata": {},
     "output_type": "execute_result"
    }
   ],
   "source": [
    "X_train.shape"
   ]
  },
  {
   "cell_type": "code",
   "execution_count": 2,
   "metadata": {},
   "outputs": [],
   "source": [
    "import torch"
   ]
  },
  {
   "cell_type": "code",
   "execution_count": 5,
   "metadata": {},
   "outputs": [],
   "source": [
    "a = torch.ones([100,100])\n",
    "b = torch.ones([100,100])"
   ]
  },
  {
   "cell_type": "code",
   "execution_count": 11,
   "metadata": {},
   "outputs": [
    {
     "data": {
      "text/plain": [
       "torch.Size([100, 200])"
      ]
     },
     "execution_count": 11,
     "metadata": {},
     "output_type": "execute_result"
    }
   ],
   "source": [
    "torch.cat([a,b],1).size()"
   ]
  },
  {
   "cell_type": "code",
   "execution_count": null,
   "metadata": {},
   "outputs": [],
   "source": []
  }
 ],
 "metadata": {
  "kernelspec": {
   "display_name": "Python 3",
   "language": "python",
   "name": "python3"
  },
  "language_info": {
   "codemirror_mode": {
    "name": "ipython",
    "version": 3
   },
   "file_extension": ".py",
   "mimetype": "text/x-python",
   "name": "python",
   "nbconvert_exporter": "python",
   "pygments_lexer": "ipython3",
   "version": "3.6.8"
  }
 },
 "nbformat": 4,
 "nbformat_minor": 2
}
